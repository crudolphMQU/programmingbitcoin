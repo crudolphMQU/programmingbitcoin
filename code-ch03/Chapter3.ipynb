{
 "cells": [
  {
   "cell_type": "markdown",
   "metadata": {},
   "source": [
    "# 📘 Chapter 3 – Finite Fields and Elliptic Curves\n",
    "\n",
    "**What this chapter covers:**\n",
    "\n",
    "- Finite field arithmetic $( \\mathbb{F}_p )$\n",
    "- Elliptic curve points over finite fields\n",
    "- Implementing the `FieldElement` class\n",
    "- Point addition and doubling\n",
    "- The point at infinity\n",
    "\n",
    "**What you'll learn:**\n",
    "\n",
    "- How to check if a point lies on a curve\n",
    "- How to add and double points on elliptic curves\n",
    "- Foundations of elliptic curve cryptography\n"
   ]
  },
  {
   "cell_type": "markdown",
   "metadata": {
    "id": "TrlX6aSZj40H"
   },
   "source": [
    "# Imports"
   ]
  },
  {
   "cell_type": "code",
   "execution_count": 7,
   "metadata": {
    "id": "uWPPUVlui2n3"
   },
   "outputs": [],
   "source": [
    "############## PLEASE RUN THIS CELL FIRST! ###################\n",
    "\n",
    "# import everything and define a test runner function\n",
    "from importlib import reload\n",
    "from helper import run\n",
    "import ecc\n",
    "import helper\n",
    "\n",
    "from ecc import FieldElement, Point"
   ]
  },
  {
   "cell_type": "markdown",
   "metadata": {
    "id": "ERltDSjQ3ZTK"
   },
   "source": [
    "# Elliptic Curve Cryptography"
   ]
  },
  {
   "cell_type": "markdown",
   "metadata": {
    "id": "kGn_cA1O3bgZ"
   },
   "source": [
    "We learned finite fields and elliptic curves.\n",
    "\n",
    "We're going to build the fundamentals needed to sign and verify messages, the heart of Bitcoin"
   ]
  },
  {
   "cell_type": "markdown",
   "metadata": {
    "id": "arukjms63t8M"
   },
   "source": [
    "# 📘 Properties of Real Numbers\n",
    "\n",
    "---\n",
    "\n",
    "## 🔢 1. Closure Properties\n",
    "\n",
    "Real numbers are **closed** under addition and multiplication:\n",
    "\n",
    "- **Addition**: If $a, b \\in \\mathbb{R}$, then $a + b \\in \\mathbb{R}$  \n",
    "  Example: $2.5 + 3.1 = 5.6$\n",
    "\n",
    "- **Multiplication**: If $a, b \\in \\mathbb{R}$, then $ab \\in \\mathbb{R}$  \n",
    "  Example: $2 \\cdot (-4) = -8$\n",
    "\n",
    "---\n",
    "\n",
    "## 🔄 2. Commutative Properties\n",
    "\n",
    "Changing the order does not change the result:\n",
    "\n",
    "- **Addition**: $a + b = b + a$  \n",
    "  Example: $3 + 7 = 7 + 3$\n",
    "\n",
    "- **Multiplication**: $ab = ba$  \n",
    "  Example: $5 \\cdot 2 = 2 \\cdot 5$\n",
    "\n",
    "---\n",
    "\n",
    "## 🔁 3. Associative Properties\n",
    "\n",
    "Changing grouping does not change the result:\n",
    "\n",
    "- **Addition**: $(a + b) + c = a + (b + c)$  \n",
    "  Example: $(1 + 2) + 3 = 1 + (2 + 3)$\n",
    "\n",
    "- **Multiplication**: $(ab)c = a(bc)$  \n",
    "  Example: $(2 \\cdot 3) \\cdot 4 = 2 \\cdot (3 \\cdot 4)$\n",
    "\n",
    "---\n",
    "\n",
    "## 🔢 4. Distributive Property\n",
    "\n",
    "Links multiplication and addition:\n",
    "\n",
    "$$\n",
    "a(b + c) = ab + ac\n",
    "$$\n",
    "\n",
    "Example:  \n",
    "$$\n",
    "2(3 + 4) = 2 \\cdot 3 + 2 \\cdot 4 = 6 + 8 = 14\n",
    "$$\n",
    "\n",
    "---\n",
    "\n",
    "## 🔁 5. Identity Properties\n",
    "\n",
    "Identity elements do not change the value:\n",
    "\n",
    "- **Additive Identity**: $a + 0 = a$\n",
    "\n",
    "(Identity = 0)\n",
    "\n",
    "- **Multiplicative Identity**: $a \\cdot 1 = a$\n",
    "\n",
    "(Identity = 1)\n",
    "\n",
    "---\n",
    "\n",
    "## 🔄 6. Inverse Properties\n",
    "\n",
    "Every number has an inverse:\n",
    "\n",
    "- **Additive Inverse**: $a + (-a) = 0$\n",
    "\n",
    "- **Multiplicative Inverse**:  \n",
    "  $a \\cdot \\frac{1}{a} = 1$, for $a \\ne 0$\n",
    "\n",
    "---\n",
    "\n",
    "## 🌐 7. Order Properties\n",
    "\n",
    "The set of real numbers $ \\mathbb{R} $ is **ordered**:\n",
    "\n",
    "- For any $a, b \\in \\mathbb{R}$, exactly one is true:  \n",
    "  $a < b$, $a = b$, or $a > b$\n",
    "\n",
    "- If $a < b$, then $a + c < b + c$\n",
    "\n",
    "- If $a < b$ and $c > 0$, then $ac < bc$\n",
    "\n",
    "---\n",
    "\n",
    "Point addition equations we saw previously can be used over any field."
   ]
  },
  {
   "cell_type": "markdown",
   "metadata": {
    "id": "XI4vKLzR6QyY"
   },
   "source": [
    "**Elliptic curves over finite fields.**\n",
    "\n",
    "Point (17,64)\n",
    "\n",
    "$y^2 = x^3 +7 $ over $ F_{103}$\n",
    "\n",
    "$y^2 = 64^2 \\% 103 = 79$\n",
    "\n",
    "$x^3 + 7 = (17^3 +7)\\%103 = 79$\n",
    "\n",
    "Using finite field math we've found the point is on the curve."
   ]
  },
  {
   "cell_type": "markdown",
   "metadata": {
    "id": "L5aFbqkri2n4"
   },
   "source": [
    "### Exercise 1"
   ]
  },
  {
   "cell_type": "markdown",
   "metadata": {
    "id": "oPrdP_8R-O7F"
   },
   "source": [
    "Note, the elliptic curve equation of general form:\n",
    "\n",
    "$y^2 = x^3 + ax +b$"
   ]
  },
  {
   "cell_type": "markdown",
   "metadata": {
    "id": "es9hnx3bj9Nq"
   },
   "source": [
    "Evaluate whether these points are on the curve \\\\(y^{2}\\\\)=\\\\(x^{3}\\\\)+7 over \\\\(F_{223}\\\\)\n",
    "\n",
    "Where a = 0, b = 7\n",
    "\n",
    "(192,105), (17,56), (200,119), (1,193), (42,99)"
   ]
  },
  {
   "cell_type": "code",
   "execution_count": 8,
   "metadata": {
    "colab": {
     "base_uri": "https://localhost:8080/"
    },
    "id": "iv7sw3I3i2n5",
    "outputId": "ef04b745-bf4f-4ac2-f972-1c9f6f4cebb8"
   },
   "outputs": [
    {
     "data": {
      "text/plain": [
       "True"
      ]
     },
     "execution_count": 8,
     "metadata": {},
     "output_type": "execute_result"
    }
   ],
   "source": [
    "# Exercise 1\n",
    "\n",
    "prime = 223\n",
    "a = FieldElement(0, prime)\n",
    "b = FieldElement(7, prime)\n",
    "\n",
    "# (192,105), (17,56), (200,119), (1,193), (42,99)\n",
    "\n",
    "x = FieldElement(192, 223)\n",
    "y = FieldElement(105, 223)\n",
    "y**2 == x**3 + b"
   ]
  },
  {
   "cell_type": "markdown",
   "metadata": {
    "id": "a0Yydq9UyjRu"
   },
   "source": [
    "We can automate this by creating a function using vibe coding\n"
   ]
  },
  {
   "cell_type": "code",
   "execution_count": 9,
   "metadata": {
    "id": "154QoxYFymW-"
   },
   "outputs": [],
   "source": [
    "def on_curve(x,y):\n",
    "  return y**2 == x**3 + b"
   ]
  },
  {
   "cell_type": "code",
   "execution_count": 10,
   "metadata": {
    "id": "ItCdiwTCy_9P"
   },
   "outputs": [],
   "source": [
    "x1, y1 = FieldElement(192, prime), FieldElement(105, prime)\n",
    "x2, y2 = FieldElement(17, prime), FieldElement(56, prime)\n",
    "x3, y3 = FieldElement(200, prime), FieldElement(119, prime)\n",
    "x4, y4 = FieldElement(1, prime), FieldElement(193, prime)\n",
    "x5, y5 = FieldElement(42, prime), FieldElement(99, prime)"
   ]
  },
  {
   "cell_type": "code",
   "execution_count": 11,
   "metadata": {
    "colab": {
     "base_uri": "https://localhost:8080/"
    },
    "id": "Q-6tU9cXzNyP",
    "outputId": "36c01901-f622-42ed-c076-1d534cee8270"
   },
   "outputs": [
    {
     "name": "stdout",
     "output_type": "stream",
     "text": [
      "Point P1: (FieldElement_223(192), FieldElement_223(105)) → on curve? True\n",
      "Point P2: (FieldElement_223(17), FieldElement_223(56)) → on curve? True\n",
      "Point P3: (FieldElement_223(200), FieldElement_223(119)) → on curve? False\n",
      "Point P4: (FieldElement_223(1), FieldElement_223(193)) → on curve? True\n",
      "Point P5: (FieldElement_223(42), FieldElement_223(99)) → on curve? False\n"
     ]
    }
   ],
   "source": [
    "print(f\"Point P1: ({x1}, {y1}) → on curve? {on_curve(x1, y1)}\")\n",
    "print(f\"Point P2: ({x2}, {y2}) → on curve? {on_curve(x2, y2)}\")\n",
    "print(f\"Point P3: ({x3}, {y3}) → on curve? {on_curve(x3, y3)}\")\n",
    "print(f\"Point P4: ({x4}, {y4}) → on curve? {on_curve(x4, y4)}\")\n",
    "print(f\"Point P5: ({x5}, {y5}) → on curve? {on_curve(x5, y5)}\")"
   ]
  },
  {
   "cell_type": "code",
   "execution_count": 12,
   "metadata": {
    "colab": {
     "base_uri": "https://localhost:8080/"
    },
    "id": "7DV8mD45GzH4",
    "outputId": "86be7d9c-0f4c-401e-8946-9da48dd986f6"
   },
   "outputs": [
    {
     "name": "stdout",
     "output_type": "stream",
     "text": [
      "Point P1: (FieldElement_223(192), FieldElement_223(105)) → on curve? True\n",
      "Point P2: (FieldElement_223(17), FieldElement_223(56)) → on curve? True\n",
      "Point P3: (FieldElement_223(200), FieldElement_223(119)) → on curve? False\n",
      "Point P4: (FieldElement_223(1), FieldElement_223(193)) → on curve? True\n",
      "Point P5: (FieldElement_223(42), FieldElement_223(99)) → on curve? False\n"
     ]
    }
   ],
   "source": [
    "def on_curve(x, y):\n",
    "    return y**2 == x**3 + b\n",
    "\n",
    "# Define points\n",
    "points = [\n",
    "    (FieldElement(192, prime), FieldElement(105, prime)),\n",
    "    (FieldElement(17, prime), FieldElement(56, prime)),\n",
    "    (FieldElement(200, prime), FieldElement(119, prime)),\n",
    "    (FieldElement(1, prime), FieldElement(193, prime)),\n",
    "    (FieldElement(42, prime), FieldElement(99, prime))\n",
    "]\n",
    "\n",
    "# Loop through and check\n",
    "for i, (x, y) in enumerate(points, start=1):\n",
    "    print(f\"Point P{i}: ({x}, {y}) → on curve? {on_curve(x, y)}\")\n"
   ]
  },
  {
   "cell_type": "markdown",
   "metadata": {
    "id": "GLMi7e7qHBq6"
   },
   "source": [
    "Elliptic curve points over a finite field"
   ]
  },
  {
   "cell_type": "code",
   "execution_count": 13,
   "metadata": {
    "colab": {
     "base_uri": "https://localhost:8080/"
    },
    "id": "vK2kuowUi2n5",
    "outputId": "5dbd889e-e08a-4849-b2b6-b44aed325a6c"
   },
   "outputs": [
    {
     "name": "stdout",
     "output_type": "stream",
     "text": [
      "Point(192,105)_0_7 FieldElement(223)\n"
     ]
    }
   ],
   "source": [
    "from ecc import FieldElement, Point\n",
    "a = FieldElement(num=0, prime=223)\n",
    "b = FieldElement(num=7, prime=223)\n",
    "x = FieldElement(num=192, prime=223)\n",
    "y = FieldElement(num=105, prime=223)\n",
    "p1 = Point(x, y, a, b)\n",
    "print(p1)"
   ]
  },
  {
   "cell_type": "markdown",
   "metadata": {
    "id": "7Sp0LkyeH6e4"
   },
   "source": [
    "We use the *Finite field* defined methods (arithmetic operators) for the same equations  to construct elliptic curve cryptography library.\n",
    "\n",
    "Checking our work with a testsuite:"
   ]
  },
  {
   "cell_type": "code",
   "execution_count": 14,
   "metadata": {
    "colab": {
     "base_uri": "https://localhost:8080/"
    },
    "id": "P4gLPBWfItaX",
    "outputId": "41b425b9-cb0c-492a-cebe-b6fcf42f8701"
   },
   "outputs": [
    {
     "name": "stderr",
     "output_type": "stream",
     "text": [
      ".\n",
      "----------------------------------------------------------------------\n",
      "Ran 1 test in 0.002s\n",
      "\n",
      "OK\n"
     ]
    }
   ],
   "source": [
    "import ecc\n",
    "from helper import run\n",
    "reload(ecc)\n",
    "run(ecc.ECCTest('test_on_curve'))"
   ]
  },
  {
   "cell_type": "markdown",
   "metadata": {
    "id": "l5QiilcqJPtB"
   },
   "source": [
    "This test used the FieldElement objects in the *Point* class for initialisation, making sure all the methods we've defined in the `ecc` file have done their job correctly."
   ]
  },
  {
   "cell_type": "markdown",
   "metadata": {
    "id": "QAISL426JnBz"
   },
   "source": [
    "**Point addition over Finite Fields.**\n",
    "\n",
    "Line over a finite field looks different to what we expect (fig 3-3).\n",
    "\n",
    "All elliptic curve equations work over finite fields, so, point addition also works over finite fields.\n",
    "\n",
    "As a result, we can initialise the *Point* class with *FieldElement* Objects, seen below:"
   ]
  },
  {
   "cell_type": "code",
   "execution_count": 15,
   "metadata": {
    "colab": {
     "base_uri": "https://localhost:8080/"
    },
    "id": "xJZoFT_di2n5",
    "outputId": "3cb7e9df-0767-4c23-e2e3-f9431fceb4b8"
   },
   "outputs": [
    {
     "name": "stdout",
     "output_type": "stream",
     "text": [
      "Point(170,142)_0_7 FieldElement(223)\n"
     ]
    }
   ],
   "source": [
    "from ecc import FieldElement, Point\n",
    "prime = 223\n",
    "a = FieldElement(num=0, prime=prime)\n",
    "b = FieldElement(num=7, prime=prime)\n",
    "x1 = FieldElement(num=192, prime=prime)\n",
    "y1 = FieldElement(num=105, prime=prime)\n",
    "x2 = FieldElement(num=17, prime=prime)\n",
    "y2 = FieldElement(num=56, prime=prime)\n",
    "p1 = Point(x1, y1, a, b) # the Point class being initialised by Fieldelements, x1,y1...\n",
    "p2 = Point(x2, y2, a, b)\n",
    "print(p1+p2)"
   ]
  },
  {
   "cell_type": "markdown",
   "metadata": {
    "id": "quFPxdwmi2n5"
   },
   "source": [
    "### Exercise 2"
   ]
  },
  {
   "cell_type": "markdown",
   "metadata": {
    "id": "dpKBLGEhj_4-"
   },
   "source": [
    "\n",
    "\n",
    "For the curve \\\\(y^{2}\\\\)=\\\\(x^{3}\\\\)+7 over \\\\(F_{223}\\\\), find:\n",
    "\n",
    "* (170,142) + (60,139)\n",
    "* (47,71) + (17,56)\n",
    "* (143,98) + (76,66)"
   ]
  },
  {
   "cell_type": "code",
   "execution_count": 16,
   "metadata": {
    "id": "L1Yssrjci2n6"
   },
   "outputs": [],
   "source": [
    "# Exercise 2\n",
    "from ecc import FieldElement, Point\n",
    "\n",
    "prime = 223\n",
    "a = FieldElement(0, prime)\n",
    "b = FieldElement(7, prime)\n",
    "\n",
    "# (170,142) + (60,139)\n",
    "# (47,71) + (17,56)\n",
    "# (143,98) + (76,66)\n",
    "\n",
    "x1, y1 = FieldElement(170, prime), FieldElement(142, prime)\n",
    "x2, y2 = FieldElement(60, prime), FieldElement(139, prime)\n",
    "x3, y3 = FieldElement(47, prime), FieldElement(71, prime)\n",
    "x4, y4 = FieldElement(17, prime), FieldElement(56, prime)\n",
    "x5, y5 = FieldElement(143, prime), FieldElement(98, prime)\n",
    "x6, y6 = FieldElement(76, prime), FieldElement(66, prime)"
   ]
  },
  {
   "cell_type": "markdown",
   "metadata": {
    "id": "OXZKYKz_LWoo"
   },
   "source": [
    "Note, a field element is an integer between 0 (inclusive) and the base of the finite field (exclusive).\n",
    "\n",
    "A point is not on the curve over a finite field if its coordinates (x,y), although valid field elements, do not satisfy the curve equation when evaluated modulo the prime."
   ]
  },
  {
   "cell_type": "code",
   "execution_count": 17,
   "metadata": {
    "id": "OHoIVH7WMOV5"
   },
   "outputs": [],
   "source": [
    "def on_curve(x, y, a, b):\n",
    "    return y**2 == x**3 + b"
   ]
  },
  {
   "cell_type": "code",
   "execution_count": 18,
   "metadata": {
    "colab": {
     "base_uri": "https://localhost:8080/"
    },
    "id": "Px9dm3qBMXhp",
    "outputId": "8196ae8b-70a5-4756-de06-97b1b79afe84"
   },
   "outputs": [
    {
     "name": "stdout",
     "output_type": "stream",
     "text": [
      "Point(220,181)_0_7 FieldElement(223)\n",
      "Point(215,68)_0_7 FieldElement(223)\n",
      "Point(47,71)_0_7 FieldElement(223)\n"
     ]
    }
   ],
   "source": [
    "p1 = Point(x1, y1, a, b)\n",
    "p2 = Point(x2, y2, a, b)\n",
    "p3 = Point(x3, y3, a, b)\n",
    "p4 = Point(x4, y4, a, b)\n",
    "p5 = Point(x5, y5, a, b)\n",
    "p6 = Point(x6, y6, a, b)\n",
    "\n",
    "print(p1+p2)\n",
    "print(p3+p4)\n",
    "print(p5+p6)"
   ]
  },
  {
   "cell_type": "markdown",
   "metadata": {
    "id": "0r-3UWUKi2n6"
   },
   "source": [
    "### Exercise 3"
   ]
  },
  {
   "cell_type": "markdown",
   "metadata": {
    "id": "g71RCVl2kC0w"
   },
   "source": [
    "Extend `ECCTest` to test for the additions from the previous exercise. Call this `test_add`.\n",
    "\n",
    "**Make [this test](/edit/code-ch03/ecc.py) pass: `ecc.py:ECCTest:test_add`**"
   ]
  },
  {
   "cell_type": "code",
   "execution_count": 19,
   "metadata": {
    "colab": {
     "base_uri": "https://localhost:8080/"
    },
    "id": "ynNgY416o7B0",
    "outputId": "6b4b958c-6894-4b99-a07f-1ae817bbc3cd"
   },
   "outputs": [
    {
     "name": "stdout",
     "output_type": "stream",
     "text": [
      "True\n"
     ]
    }
   ],
   "source": [
    "x1, y1, x2, y2, x3, y3 = FieldElement(192, prime), FieldElement(105, prime), FieldElement(17, prime), FieldElement(56, prime), FieldElement(170, prime), FieldElement(142, prime)\n",
    "\n",
    "p1 = Point(x1, y1, a, b)\n",
    "p2 = Point(x2, y2, a, b)\n",
    "p3 = Point(x3, y3, a, b)\n",
    "print(p1+p2==p3)"
   ]
  },
  {
   "cell_type": "code",
   "execution_count": 20,
   "metadata": {
    "id": "in-H0_dqpr1J"
   },
   "outputs": [],
   "source": [
    "additions = (\n",
    "            # (x1, y1, x2, y2, x3, y3)\n",
    "            (192, 105, 17, 56, 170, 142),\n",
    "            (47, 71, 117, 141, 60, 139),\n",
    "            (143, 98, 76, 66, 47, 71),\n",
    "        )"
   ]
  },
  {
   "cell_type": "code",
   "execution_count": 21,
   "metadata": {
    "colab": {
     "base_uri": "https://localhost:8080/"
    },
    "id": "nwreuiEvpvVu",
    "outputId": "f5c83fcf-b5d9-4bf2-a651-ec64c0061a95"
   },
   "outputs": [
    {
     "name": "stdout",
     "output_type": "stream",
     "text": [
      "True\n",
      "True\n",
      "True\n"
     ]
    }
   ],
   "source": [
    "for x1, y1, x2, y2, x3, y3 in additions:\n",
    "    p1 = Point(FieldElement(x1, prime), FieldElement(y1, prime), a, b)\n",
    "    p2 = Point(FieldElement(x2, prime), FieldElement(y2, prime), a, b)\n",
    "    p3 = Point(FieldElement(x3, prime), FieldElement(y3, prime), a, b)\n",
    "    print(p1+p2==p3)"
   ]
  },
  {
   "cell_type": "code",
   "execution_count": 22,
   "metadata": {
    "colab": {
     "base_uri": "https://localhost:8080/"
    },
    "id": "tAV6-Y4ji2n7",
    "outputId": "8eac87de-fed5-42bd-d090-8c74d95b8d99"
   },
   "outputs": [
    {
     "name": "stderr",
     "output_type": "stream",
     "text": [
      ".\n",
      "----------------------------------------------------------------------\n",
      "Ran 1 test in 0.012s\n",
      "\n",
      "OK\n"
     ]
    }
   ],
   "source": [
    "# Exercise 3\n",
    "\n",
    "reload(ecc)\n",
    "run(ecc.ECCTest(\"test_add\"))"
   ]
  },
  {
   "cell_type": "markdown",
   "metadata": {
    "id": "GMfwe9m9i2n7"
   },
   "source": [
    "### Exercise 4"
   ]
  },
  {
   "cell_type": "markdown",
   "metadata": {
    "id": "YYVeTvMC5lpY"
   },
   "source": [
    "**Scalar Multiplication for elliptic curves**\n",
    "\n",
    "We can now add points, now we introduce new notation for adding a point to itself, using scalar multiplication.\n",
    "\n",
    "Opposite of scalar multiplication, point division, is also called *the discrete log problem*; it is the basis of elliptic curve cryptography.\n",
    "\n",
    "Scalar multiplication of a certain multiple approaches zero.\n",
    "\n",
    "A finite cyclic group when the multiple is finite.\n",
    "\n",
    "Scalar multiplication is easy to do in one direction, but difficult in the other direction, this is what we need for elliptic curve cryptography.\n",
    "\n",
    "**Discrete Log Problem**\n",
    "\n",
    "we've used point 'addition', but we can also say point 'operation'. This operator is denoted by the dot ($\\cdot$):\n",
    "\n",
    "$P_1 \\cdot P_2 = P_3$\n",
    "\n",
    "\n",
    "Performing many multiplication is same as exponentiation. 'Point multiplication' becomes scalar exponentiation.\n",
    "\n",
    "$P^7 = Q$\n",
    "\n",
    "Reversing this operation is the discrete log problem:\n",
    "\n",
    "$\\log_PQ = 7$\n",
    "\n",
    "The LHS has no known formula to provide the answer generally.\n",
    "\n",
    "___"
   ]
  },
  {
   "cell_type": "markdown",
   "metadata": {
    "id": "NImN5_drkEmA"
   },
   "source": [
    "\n",
    "\n",
    "For the curve \\\\(y^{2}\\\\)=\\\\(x^{3}\\\\)+7 over \\\\(F_{223}\\\\), find:\n",
    "\n",
    "* 2⋅(192,105)\n",
    "* 2⋅(143,98)\n",
    "* 2⋅(47,71)\n",
    "* 4⋅(47,71)\n",
    "* 8⋅(47,71)\n",
    "* 21⋅(47,71)"
   ]
  },
  {
   "cell_type": "code",
   "execution_count": 23,
   "metadata": {
    "id": "B0Ec85zhi2n8"
   },
   "outputs": [],
   "source": [
    "# Exercise 4\n",
    "from ecc import FieldElement, Point\n",
    "\n",
    "prime = 223\n",
    "a = FieldElement(0, prime)\n",
    "b = FieldElement(7, prime)\n",
    "\n",
    "# 2*(192, 105)\n",
    "# 2*(143, 98)\n",
    "# 2*(47, 71)\n",
    "# 4*(47, 71)\n",
    "# 8*(47, 71)\n",
    "# 21*(47, 71)\n",
    "\n",
    "# create a product variable\n",
    "# add the point to the product n times\n",
    "# print the product"
   ]
  },
  {
   "cell_type": "code",
   "execution_count": 24,
   "metadata": {
    "id": "qf3LwOI25pXs"
   },
   "outputs": [],
   "source": [
    "x1, y1 = FieldElement(192, prime), FieldElement(105, prime)\n",
    "x2, y2 = FieldElement(143, prime), FieldElement(98, prime)\n",
    "x3, y3 = FieldElement(47, prime), FieldElement(71, prime)"
   ]
  },
  {
   "cell_type": "code",
   "execution_count": 25,
   "metadata": {
    "id": "9_UHWdFA7wOy"
   },
   "outputs": [],
   "source": [
    "p1 = Point(x1, y1, a, b)\n",
    "p2 = Point(x2, y2, a, b)\n",
    "p3 = Point(x3, y3, a, b)"
   ]
  },
  {
   "cell_type": "code",
   "execution_count": 26,
   "metadata": {
    "colab": {
     "base_uri": "https://localhost:8080/"
    },
    "id": "JVrQAGAB7-cA",
    "outputId": "f2f7188d-4ed8-41a0-b277-b428890e1778"
   },
   "outputs": [
    {
     "data": {
      "text/plain": [
       "True"
      ]
     },
     "execution_count": 26,
     "metadata": {},
     "output_type": "execute_result"
    }
   ],
   "source": [
    "p1+p1 == 2*p1"
   ]
  },
  {
   "cell_type": "code",
   "execution_count": 27,
   "metadata": {
    "colab": {
     "base_uri": "https://localhost:8080/"
    },
    "id": "mcis9R4U8PO6",
    "outputId": "4ac2afdb-cb73-4992-b56b-b0d2628dfb22"
   },
   "outputs": [
    {
     "data": {
      "text/plain": [
       "Point(49,71)_0_7 FieldElement(223)"
      ]
     },
     "execution_count": 27,
     "metadata": {},
     "output_type": "execute_result"
    }
   ],
   "source": [
    "p1+p1"
   ]
  },
  {
   "cell_type": "code",
   "execution_count": 28,
   "metadata": {
    "colab": {
     "base_uri": "https://localhost:8080/"
    },
    "id": "K6qaSuAc8VZL",
    "outputId": "f4b47204-3a3f-4719-9bab-248a5b81f869"
   },
   "outputs": [
    {
     "name": "stdout",
     "output_type": "stream",
     "text": [
      "Point(64,168)_0_7 FieldElement(223)\n",
      "Point(36,111)_0_7 FieldElement(223)\n",
      "Point(194,51)_0_7 FieldElement(223)\n",
      "Point(116,55)_0_7 FieldElement(223)\n",
      "Point(infinity)\n"
     ]
    }
   ],
   "source": [
    "print(2*p2)\n",
    "print(2*p3)\n",
    "print(4*p3)\n",
    "print(8*p3)\n",
    "print(21*p3)"
   ]
  },
  {
   "cell_type": "markdown",
   "metadata": {
    "id": "RW3zI142-rNs"
   },
   "source": [
    "If we investigate the resulting points from the incremental multiples, we won't see any pattern in the result.\n",
    "\n",
    "**Assymmetric problem** is easy to do in one direction but difficult in the other.\n",
    "\n",
    "We can calcuate the following easily,\n",
    "\n",
    "$12 \\cdot (47, 71)$\n",
    "\n",
    "However, using the result of this, performing the reverse is difficult when solving for s and when we have a large *group*:\n",
    "\n",
    "$s \\cdot (47,71) = (194, 172)$"
   ]
  },
  {
   "cell_type": "code",
   "execution_count": 29,
   "metadata": {
    "colab": {
     "base_uri": "https://localhost:8080/"
    },
    "id": "B3xcg92ei2n8",
    "outputId": "f478f58d-4e31-47e6-d6f3-fe3af3237bbf"
   },
   "outputs": [
    {
     "name": "stdout",
     "output_type": "stream",
     "text": [
      "1*(47,71)=(47,71)\n",
      "2*(47,71)=(36,111)\n",
      "3*(47,71)=(15,137)\n",
      "4*(47,71)=(194,51)\n",
      "5*(47,71)=(126,96)\n",
      "6*(47,71)=(139,137)\n",
      "7*(47,71)=(92,47)\n",
      "8*(47,71)=(116,55)\n",
      "9*(47,71)=(69,86)\n",
      "10*(47,71)=(154,150)\n",
      "11*(47,71)=(154,73)\n",
      "12*(47,71)=(69,137)\n",
      "13*(47,71)=(116,168)\n",
      "14*(47,71)=(92,176)\n",
      "15*(47,71)=(139,86)\n",
      "16*(47,71)=(126,127)\n",
      "17*(47,71)=(194,172)\n",
      "18*(47,71)=(15,86)\n",
      "19*(47,71)=(36,112)\n",
      "20*(47,71)=(47,152)\n"
     ]
    }
   ],
   "source": [
    "from ecc import FieldElement, Point\n",
    "prime = 223\n",
    "a = FieldElement(0, prime)\n",
    "b = FieldElement(7, prime)\n",
    "x = FieldElement(47, prime)\n",
    "y = FieldElement(71, prime)\n",
    "p = Point(x, y, a, b)\n",
    "for s in range(1,21):\n",
    "    result = s*p\n",
    "    print('{}*(47,71)=({},{})'.format(s,result.x.num,result.y.num))"
   ]
  },
  {
   "cell_type": "markdown",
   "metadata": {
    "id": "rSrDKJ-Yi2n8"
   },
   "source": [
    "### Exercise 5"
   ]
  },
  {
   "cell_type": "markdown",
   "metadata": {
    "id": "vSNCgioGkGfP"
   },
   "source": [
    "\n",
    "\n",
    "For the curve \\\\(y^{2}\\\\)=\\\\(x^{3}\\\\)+7 over \\\\(F_{223}\\\\), find the order of the group generated by (15,86)"
   ]
  },
  {
   "cell_type": "code",
   "execution_count": 30,
   "metadata": {
    "id": "j2Q77Wkxi2n8"
   },
   "outputs": [],
   "source": [
    "# Exercise 5\n",
    "\n",
    "prime = 223\n",
    "a = FieldElement(0, prime)\n",
    "b = FieldElement(7, prime)\n",
    "x = FieldElement(15, prime)\n",
    "y = FieldElement(86, prime)\n",
    "p = Point(x, y, a, b)\n",
    "inf = Point(None, None, a, b)\n",
    "#\n",
    "# create a product variable\n",
    "# create a counter variable\n",
    "# loop until the product is the point at infinity\n",
    "# add the point to the product and increment counter\n",
    "# print the counter when exited from loop"
   ]
  },
  {
   "cell_type": "code",
   "execution_count": 31,
   "metadata": {
    "colab": {
     "base_uri": "https://localhost:8080/"
    },
    "id": "lHbtclanFO3M",
    "outputId": "807e6739-2799-4ce1-8245-2641ff834155"
   },
   "outputs": [
    {
     "name": "stdout",
     "output_type": "stream",
     "text": [
      "order of the group is 7\n"
     ]
    }
   ],
   "source": [
    "counter = 1\n",
    "\n",
    "while counter*p != inf:\n",
    "    counter += 1\n",
    "print(f'order of the group is {counter}')"
   ]
  },
  {
   "cell_type": "code",
   "execution_count": 32,
   "metadata": {
    "colab": {
     "base_uri": "https://localhost:8080/"
    },
    "id": "IJOkxUmXF19o",
    "outputId": "e1b98d1c-5ae5-454b-a619-ee67c1df1a84"
   },
   "outputs": [
    {
     "data": {
      "text/plain": [
       "Point(infinity)"
      ]
     },
     "execution_count": 32,
     "metadata": {},
     "output_type": "execute_result"
    }
   ],
   "source": [
    "counter*p"
   ]
  },
  {
   "cell_type": "markdown",
   "metadata": {
    "id": "k__Ky-lU2tvV"
   },
   "source": [
    "**Coding scalar multiplication**\n",
    "\n",
    "looping through large coefficients can take a long time. We can use the technique *binary expansion*.\n",
    "\n",
    "For example: 1 trillion is 40 bits in binary, so we only have to loop 40 times.The counter in the loop will be in 2."
   ]
  },
  {
   "cell_type": "markdown",
   "metadata": {
    "id": "pFBsNm326BIA"
   },
   "source": [
    "**Defining the Curve for Bitcoin**\n",
    "\n",
    "Security of elliptic curve cryptography depends on the computer not being able to go through an appreciable fraction of the group.\n",
    "\n",
    "The security relies on the difficulty to solve the *discrete log problem*.\n",
    "\n",
    "**The elliptic curve for public key cryptography is defined:**\n",
    "\n",
    "- *a*, *b* of the elliptic curve is specified.\n",
    "\n",
    "- the prime of the finie field is specified.\n",
    "\n",
    "- *x*, *y* coordinates of the generator point ,*G* are specified.\n",
    "\n",
    "- The order, *n*, of the group generated by G is specified.\n",
    "\n",
    "Bitcoin uses the cryptographyic curve **secp256k1**. These are the parameters:\n",
    "\n",
    "$a=0, b=7$\n",
    "\n",
    "$p=2^{256} - 2^{32} - 977$\n",
    "\n",
    "$G_x = 0x79BE667EF9DCBBAC55A06295CE870B07029BFCDB2DCE28D959F2815B16F81798$\n",
    "\n",
    "$g_y = 0x483ADA7726A3C4655DA4FBFC0E1108A8FD17B448A68554199C47D08FFB10D4B8$\n",
    "\n",
    "The `0x` tells python that the number is hexadecimal.\n",
    "\n",
    "$n = 0xFFFFFFFFFFFFFFFFFFFFFFFFFFFFFFFEBAAEDCE6AF48A03BBFD25E8CD0364141$\n",
    "\n",
    "____\n",
    "\n",
    "The number $2^{256}$ is huge, but it can still be stored in 32 bytes (little data), and so private keys can be stored relatively easy."
   ]
  },
  {
   "cell_type": "markdown",
   "metadata": {
    "id": "iT_8G3NG-RIm"
   },
   "source": [
    "Check if the point G is on the secp256k1 curve:"
   ]
  },
  {
   "cell_type": "code",
   "execution_count": 33,
   "metadata": {
    "colab": {
     "base_uri": "https://localhost:8080/"
    },
    "id": "aiscaWWmi2n9",
    "outputId": "0a5a5156-a193-4187-ac96-8b59c0210362"
   },
   "outputs": [
    {
     "name": "stdout",
     "output_type": "stream",
     "text": [
      "True\n"
     ]
    }
   ],
   "source": [
    "gx = 0x79be667ef9dcbbac55a06295ce870b07029bfcdb2dce28d959f2815b16f81798\n",
    "gy = 0x483ada7726a3c4655da4fbfc0e1108a8fd17b448a68554199c47d08ffb10d4b8\n",
    "p = 2**256 - 2**32 - 977\n",
    "print(gy**2 % p == (gx**3 + 7) % p)"
   ]
  },
  {
   "cell_type": "markdown",
   "metadata": {
    "id": "Zf3n8Z0C-epM"
   },
   "source": [
    "Checking if the Generator point, *G*, has order *n*"
   ]
  },
  {
   "cell_type": "code",
   "execution_count": 34,
   "metadata": {
    "colab": {
     "base_uri": "https://localhost:8080/"
    },
    "id": "3YDRC3Mwi2n9",
    "outputId": "8fd5108d-bb09-42fb-82a7-4e7b2183ea1c"
   },
   "outputs": [
    {
     "name": "stdout",
     "output_type": "stream",
     "text": [
      "Point(infinity)\n"
     ]
    }
   ],
   "source": [
    "from ecc import FieldElement, Point\n",
    "gx = 0x79be667ef9dcbbac55a06295ce870b07029bfcdb2dce28d959f2815b16f81798\n",
    "gy = 0x483ada7726a3c4655da4fbfc0e1108a8fd17b448a68554199c47d08ffb10d4b8\n",
    "p = 2**256 - 2**32 - 977\n",
    "n = 0xfffffffffffffffffffffffffffffffebaaedce6af48a03bbfd25e8cd0364141\n",
    "x = FieldElement(gx, p)\n",
    "y = FieldElement(gy, p)\n",
    "seven = FieldElement(7, p)\n",
    "zero = FieldElement(0, p)\n",
    "G = Point(x, y, zero, seven)\n",
    "print(n*G)"
   ]
  },
  {
   "cell_type": "markdown",
   "metadata": {
    "id": "YFAQKSXEZzgt"
   },
   "source": [
    "Multiplying the base point *G* by the order of the group *𝑛* results in the point at infinity. As scalar multiples of *G* increase and eventually each *n*, the resulting point \"wraps around\" and returns to the identity element of the group — the point at infinity."
   ]
  },
  {
   "cell_type": "code",
   "execution_count": 35,
   "metadata": {
    "colab": {
     "base_uri": "https://localhost:8080/"
    },
    "id": "ucUwBelsi2n9",
    "outputId": "e8b3df4c-314a-44f2-8739-00f3bfaa81b2"
   },
   "outputs": [
    {
     "name": "stdout",
     "output_type": "stream",
     "text": [
      "S256Point(infinity)\n"
     ]
    }
   ],
   "source": [
    "from ecc import G, N\n",
    "print(N*G)"
   ]
  },
  {
   "cell_type": "markdown",
   "metadata": {
    "id": "3rDQsnvU_qGI"
   },
   "source": [
    "**Signing and Verification**\n",
    "\n",
    "10 people want to verify you can hit their target to prove youre a good archer. Difference between Shooting 10 separately chosen targets versus 10 people watching you shoot one target, they may think yuo are good at hitting that one target rather than hitting any target at that range.\n",
    "\n",
    "If we inscribe the arrow as we shoot for the target we want to hit, the observers will see the inscription and see that it hits the target, veriying we are good archers.\n",
    "\n",
    "So, when we do bitcoin transactions, we want to prove our possession of the bitcoin with a secret number. We want to prove we know the secret without revealing the secret.\n",
    "\n",
    "**Inscribing the target**\n",
    "\n",
    "The secret is *e* satisfying the following:\n",
    "\n",
    "$eG= p$\n",
    "\n",
    "*P* is the public key and *e* is the private key.\n",
    "\n",
    "The target, $R$, is a random number ,*k*:\n",
    "\n",
    "$kG = R$\n",
    "\n",
    "We only care about $R_x$ or $r$.\n",
    "\n",
    "The following is equivalent to the *discrete log problem*\n",
    "\n",
    "$uG +vP = kG$\n",
    "\n",
    "$k$ is chosen randomly.\n",
    "\n",
    "$u$ & $v$ can be chosen by the signer,\n",
    "\n",
    "$G$ and $P$ are known.\n",
    "\n",
    "$\\therefore uG +vP = kG \\rightarrow vP = (k - u)G$\n",
    "\n",
    "$P = ((k-u)/v)G$\n",
    "\n",
    "If we know $e$,\n",
    "\n",
    "$eG = ((k-u )/v)G$ or\n",
    "\n",
    "$e =(k-u)/v$\n",
    "\n",
    "**What does it mean that $u,v$ are chosen by the signer?**\n",
    "____\n",
    "\n",
    "**Inscribing the arrow tip**\n",
    "\n",
    "The *signature hash*, *z*, is incorporated into our $uG + vP$.\n",
    "\n",
    "$u = z/s$,\n",
    "\n",
    "$v = r/s$\n",
    "\n",
    "To find *s*,\n",
    "\n",
    "$uG + vP = R = kG$\n",
    "\n",
    "$uG + veG = kG$\n",
    "\n",
    "$u + ve = k$\n",
    "\n",
    "$z/s + re/s = k$\n",
    "\n",
    "$(z+ re)/s =k $\n",
    "\n",
    "$s = (z+re)/k$\n",
    "\n",
    " If $R_x$ equals $r$, the signature is valid."
   ]
  },
  {
   "cell_type": "code",
   "execution_count": 37,
   "metadata": {
    "colab": {
     "base_uri": "https://localhost:8080/"
    },
    "id": "Kkl5Sp_Di2n9",
    "outputId": "56b63f80-df0b-446a-ba2e-263dd08f71b1"
   },
   "outputs": [
    {
     "name": "stdout",
     "output_type": "stream",
     "text": [
      "True\n"
     ]
    }
   ],
   "source": [
    "from ecc import S256Point, G, N\n",
    "z = 0xbc62d4b80d9e36da29c16c5d4d9f11731f36052c72401a76c23c0fb5a9b74423 #hash of 'the thing being signed'\n",
    "r = 0x37206a0610995c58074999cb9767b87af4c4978db68c06e8e6e81d282047a7c6 #signature\n",
    "s = 0x8ca63759c1157ebeaec0d03cecca119fc9a75bf8e6d0fa65c841c8e2738cdaec #signature\n",
    "px = 0x04519fac3d910ca7e7138f7013706f619fa8f033e6ec6e09370ea38cee6a7574 #x coordinate of public key\n",
    "py = 0x82b51eab8c27c66e26c858a079bcdf4f1ada34cec420cafc7eac1a42216fb6c4 #y coordinate of public key\n",
    "point = S256Point(px, py)\n",
    "s_inv = pow(s, N-2, N) #using 'fermat's little theorem' for 1/s since n is prime.\n",
    "\n",
    "u = z*s_inv % N\n",
    "v = r*s_inv % N\n",
    "print((u*G + v*point).x.num == r)"
   ]
  },
  {
   "cell_type": "markdown",
   "metadata": {
    "id": "P-rtEeNNi2n9"
   },
   "source": [
    "### Exercise 6"
   ]
  },
  {
   "cell_type": "markdown",
   "metadata": {
    "id": "k8iSTvz-kKmP"
   },
   "source": [
    "\n",
    "\n",
    "Verify whether these signatures are valid:\n",
    "\n",
    "```\n",
    "P = (0x887387e452b8eacc4acfde10d9aaf7f6d9a0f975aabb10d006e4da568744d06c,\n",
    "0x61de6d95231cd89026e286df3b6ae4a894a3378e393e93a0f45b666329a0ae34)\n",
    "\n",
    "# signature 1\n",
    "z = 0xec208baa0fc1c19f708a9ca96fdeff3ac3f230bb4a7ba4aede4942ad003c0f60\n",
    "r = 0xac8d1c87e51d0d441be8b3dd5b05c8795b48875dffe00b7ffcfac23010d3a395\n",
    "s = 0x68342ceff8935ededd102dd876ffd6ba72d6a427a3edb13d26eb0781cb423c4\n",
    "\n",
    "# signature 2\n",
    "z = 0x7c076ff316692a3d7eb3c3bb0f8b1488cf72e1afcd929e29307032997a838a3d\n",
    "r = 0xeff69ef2b1bd93a66ed5219add4fb51e11a840f404876325a1e8ffe0529a2c\n",
    "s = 0xc7207fee197d27c618aea621406f6bf5ef6fca38681d82b2f06fddbdce6feab6\n",
    "```"
   ]
  },
  {
   "cell_type": "code",
   "execution_count": 38,
   "metadata": {
    "colab": {
     "base_uri": "https://localhost:8080/"
    },
    "id": "bkEKxdzFi2n9",
    "outputId": "0d0db94e-219e-445c-b409-7d245f05c6a3"
   },
   "outputs": [
    {
     "name": "stdout",
     "output_type": "stream",
     "text": [
      "True\n",
      "True\n"
     ]
    }
   ],
   "source": [
    "# Exercise 6\n",
    "from ecc import S256Point, G, N\n",
    "point = S256Point(\n",
    "    0x887387e452b8eacc4acfde10d9aaf7f6d9a0f975aabb10d006e4da568744d06c,\n",
    "    0x61de6d95231cd89026e286df3b6ae4a894a3378e393e93a0f45b666329a0ae34)\n",
    "\n",
    "# signature 1\n",
    "z = 0xec208baa0fc1c19f708a9ca96fdeff3ac3f230bb4a7ba4aede4942ad003c0f60\n",
    "r = 0xac8d1c87e51d0d441be8b3dd5b05c8795b48875dffe00b7ffcfac23010d3a395\n",
    "s = 0x68342ceff8935ededd102dd876ffd6ba72d6a427a3edb13d26eb0781cb423c4\n",
    "\n",
    "s_inv = pow(s, N-2, N)\n",
    "u = z * s_inv % N\n",
    "v = r * s_inv % N\n",
    "\n",
    "print((u*G + v*point).x.num == r)\n",
    "\n",
    "from ecc import S256Point, G, N\n",
    "# signature 2\n",
    "z = 0x7c076ff316692a3d7eb3c3bb0f8b1488cf72e1afcd929e29307032997a838a3d\n",
    "r = 0xeff69ef2b1bd93a66ed5219add4fb51e11a840f404876325a1e8ffe0529a2c\n",
    "s = 0xc7207fee197d27c618aea621406f6bf5ef6fca38681d82b2f06fddbdce6feab6\n",
    "\n",
    "s_inv = pow(s, N-2, N)\n",
    "u = z * s_inv % N\n",
    "v = r * s_inv % N\n",
    "\n",
    "print((u*G + v*point).x.num == r)"
   ]
  },
  {
   "cell_type": "markdown",
   "metadata": {
    "id": "0eI7MRptPt6-"
   },
   "source": [
    "Using the public key that is a point on the `secp256k1` curve and a signature hash, *z*, we can verify whether the signature is valid."
   ]
  },
  {
   "cell_type": "code",
   "execution_count": 39,
   "metadata": {
    "colab": {
     "base_uri": "https://localhost:8080/"
    },
    "id": "wNGlrFx_i2n9",
    "outputId": "e234bafd-65bc-4bce-8097-f81acd3bf95b"
   },
   "outputs": [
    {
     "name": "stdout",
     "output_type": "stream",
     "text": [
      "S256Point(028d003eab2e428d11983f3e97c3fa0addf3b42740df0d211795ffb3be2f6c52, 0ae987b9ec6ea159c78cb2a937ed89096fb218d9e7594f02b547526d8cd309e2)\n",
      "0x231c6f3d980a6b0fb7152f85cee7eb52bf92433d9919b9c5218cb08e79cce78\n",
      "0x2b698a0f0a4041b77e63488ad48c23e8e8838dd1fb7520408b121697b782ef22\n",
      "0xbb14e602ef9e3f872e25fad328466b34e6734b7a0fcd58b1eb635447ffae8cb9\n"
     ]
    }
   ],
   "source": [
    "from ecc import S256Point, G, N\n",
    "from helper import hash256\n",
    "e = int.from_bytes(hash256(b'my secret'), 'big')\n",
    "z = int.from_bytes(hash256(b'my message'), 'big')\n",
    "k = 1234567890\n",
    "r = (k*G).x.num\n",
    "k_inv = pow(k, N-2, N)\n",
    "s = (z+r*e) * k_inv % N\n",
    "point = e*G\n",
    "print(point)\n",
    "\n",
    "print(hex(z))\n",
    "\n",
    "print(hex(r))\n",
    "\n",
    "print(hex(s))"
   ]
  },
  {
   "cell_type": "code",
   "execution_count": 40,
   "metadata": {
    "colab": {
     "base_uri": "https://localhost:8080/"
    },
    "id": "Vcq5kDpVVmWt",
    "outputId": "19c6f2d9-b1d1-402b-e9ce-0542edc245a7"
   },
   "outputs": [
    {
     "name": "stdout",
     "output_type": "stream",
     "text": [
      "True\n"
     ]
    }
   ],
   "source": [
    "from ecc import Signature\n",
    "sig = Signature(r, s)\n",
    "\n",
    "print(point.verify(z, sig))"
   ]
  },
  {
   "cell_type": "markdown",
   "metadata": {
    "id": "-n_lFpsqi2n9"
   },
   "source": [
    "### Exercise 7"
   ]
  },
  {
   "cell_type": "markdown",
   "metadata": {
    "id": "VnIo1N6hkMnq"
   },
   "source": [
    "\n",
    "\n",
    "Sign the following message with the secret\n",
    "\n",
    "```\n",
    "e = 12345\n",
    "z = int.from_bytes(hash256('Programming Bitcoin!'), 'big')\n",
    "```"
   ]
  },
  {
   "cell_type": "code",
   "execution_count": 41,
   "metadata": {
    "colab": {
     "base_uri": "https://localhost:8080/"
    },
    "id": "u75sWKOci2n-",
    "outputId": "c7d2099e-b0f0-4404-ab91-32e714110f45"
   },
   "outputs": [
    {
     "name": "stdout",
     "output_type": "stream",
     "text": [
      "S256Point(f01d6b9018ab421dd410404cb869072065522bf85734008f105cf385a023a80f, 0eba29d0f0c5408ed681984dc525982abefccd9f7ff01dd26da4999cf3f6a295)\n",
      "0x969f6056aa26f7d2795fd013fe88868d09c9f6aed96965016e1936ae47060d48\n",
      "0xc8d496763d19d315a13642511222571788300dc48f72307e1eca1083db54448d\n",
      "0x56faae456034221e1443a6cea95e238491bf7af3fd72884432c3d25a4689f0ed\n"
     ]
    }
   ],
   "source": [
    "# Exercise 7\n",
    "from ecc import S256Point, G, N\n",
    "from helper import hash256\n",
    "# Exercise 7\n",
    "\n",
    "e = 12345\n",
    "z = int.from_bytes(hash256(b'Programming Bitcoin!'), 'big')\n",
    "\n",
    "# choose a random k\n",
    "# calculate r (kG's x-coordinate)\n",
    "# calculate s ((z+re)/k)\n",
    "# print the point, z, r and s\n",
    "\n",
    "k = 39485673409\n",
    "r = (k*G).x.num\n",
    "k_inv = pow(k, N-2, N)\n",
    "s = (z+r*e) * k_inv % N\n",
    "point = e*G\n",
    "print(point)\n",
    "\n",
    "print(hex(z))\n",
    "\n",
    "print(hex(r))\n",
    "\n",
    "print(hex(s))"
   ]
  },
  {
   "cell_type": "code",
   "execution_count": 42,
   "metadata": {
    "colab": {
     "base_uri": "https://localhost:8080/"
    },
    "id": "5OPEsMZzXVMW",
    "outputId": "1a3286be-e7b5-4606-a2e5-822ca0f4c046"
   },
   "outputs": [
    {
     "name": "stdout",
     "output_type": "stream",
     "text": [
      "True\n"
     ]
    }
   ],
   "source": [
    "from ecc import Signature\n",
    "sig = Signature(r, s)\n",
    "\n",
    "print(point.verify(z, sig))"
   ]
  },
  {
   "cell_type": "markdown",
   "metadata": {
    "id": "DEHIOn7M91e7"
   },
   "source": [
    "With our private key *e*, we've hashed (or encoded) the message 'programming bitcoin' using SHA256 to produce a hash message, *z*.\n",
    "\n",
    "Next we choose a random *k* (nonce or ephemeral key), this is unique and secret for every signature. **what makes it unique? how is it chosen?**\n",
    "\n",
    "We use known secp256k1 elliptic curve values being the *generator point* or *base point*, *G*, and the order of the generator point, *N*, to find the x coordinate of the point $k\\cdot G$.\n",
    "\n",
    "Next we calculate the modular inverse of *k* modulo the curve order *N* and we can now find the signature component *s* using the ECDSA formula derived previously.\n",
    "\n",
    "Finally we can output the public key $e\\cdot G$, the message hash *z*, and the signature components *r* and *s*.\n",
    "\n",
    "The signature components can be verified using the public key and message hash via reconstructing the point and equating them, done in the `verify` method."
   ]
  }
 ],
 "metadata": {
  "colab": {
   "include_colab_link": true,
   "provenance": []
  },
  "kernelspec": {
   "display_name": "Python 3 (ipykernel)",
   "language": "python",
   "name": "python3"
  },
  "language_info": {
   "codemirror_mode": {
    "name": "ipython",
    "version": 3
   },
   "file_extension": ".py",
   "mimetype": "text/x-python",
   "name": "python",
   "nbconvert_exporter": "python",
   "pygments_lexer": "ipython3",
   "version": "3.11.13"
  }
 },
 "nbformat": 4,
 "nbformat_minor": 4
}
