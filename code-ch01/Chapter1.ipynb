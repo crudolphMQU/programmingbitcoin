{
 "cells": [
  {
   "cell_type": "markdown",
   "metadata": {
    "colab_type": "text",
    "id": "view-in-github"
   },
   "source": [
    "<a href=\"https://colab.research.google.com/github/crudolphMQU/programmingbitcoin/blob/master/code-ch01/Chapter1.ipynb\" target=\"_parent\"><img src=\"https://colab.research.google.com/assets/colab-badge.svg\" alt=\"Open In Colab\"/></a>"
   ]
  },
  {
   "cell_type": "markdown",
   "metadata": {
    "id": "3C-rNwRFR-9S"
   },
   "source": [
    "### Imports"
   ]
  },
  {
   "cell_type": "code",
   "execution_count": 2,
   "metadata": {
    "id": "fgmImaoMmnY3"
   },
   "outputs": [],
   "source": [
    "############## PLEASE RUN THIS CELL FIRST! ###################\n",
    "\n",
    "# import everything and define a test runner function\n",
    "from importlib import reload\n",
    "import ecc\n",
    "import helper\n",
    "from helper import run\n",
    "\n",
    "from ecc import FieldElement"
   ]
  },
  {
   "cell_type": "code",
   "execution_count": 3,
   "metadata": {
    "colab": {
     "base_uri": "https://localhost:8080/"
    },
    "id": "PHnJYpftmnY4",
    "outputId": "d98695fc-d300-4e0d-c988-16aa925efd1f"
   },
   "outputs": [
    {
     "name": "stdout",
     "output_type": "stream",
     "text": [
      "False\n",
      "True\n"
     ]
    }
   ],
   "source": [
    "a = FieldElement(7, 13)\n",
    "b = FieldElement(6, 13)\n",
    "print(a == b)\n",
    "print(a == a)"
   ]
  },
  {
   "cell_type": "markdown",
   "metadata": {
    "id": "yMKBgEIumnY5"
   },
   "source": [
    "### Exercise 1"
   ]
  },
  {
   "cell_type": "markdown",
   "metadata": {
    "id": "4MKcsg-1g6Ra"
   },
   "source": [
    "\n",
    "Write the corresponding method `__ne__` which checks if two `FieldElement` objects are _not equal_ to each other.\n",
    "\n",
    "Make [this test](/edit/code-ch01/ecc.py) pass: `ecc.py:FieldElementTest:test_ne`"
   ]
  },
  {
   "cell_type": "markdown",
   "metadata": {
    "id": "a4G3hbzUxIuQ"
   },
   "source": [
    "---\n",
    "What this exercise is asking you to do is to modify the `__ne__` method such that is passes the `test_ne` test.\n",
    "\n",
    "---"
   ]
  },
  {
   "cell_type": "markdown",
   "metadata": {
    "id": "bst3gsoaxZl1"
   },
   "source": [
    "If you haven't edited the ecc.py file, running the below will cause the test to fail as the method is 'raising' a 'notImplementedError'. I've commenteed out the error in my copy of the ecc file."
   ]
  },
  {
   "cell_type": "code",
   "execution_count": 5,
   "metadata": {
    "colab": {
     "base_uri": "https://localhost:8080/"
    },
    "id": "R60At6SDmnY5",
    "outputId": "fee54550-6969-4fd4-fdb8-fead11e699d9"
   },
   "outputs": [
    {
     "name": "stderr",
     "output_type": "stream",
     "text": [
      ".\n",
      "----------------------------------------------------------------------\n",
      "Ran 1 test in 0.001s\n",
      "\n",
      "OK\n"
     ]
    }
   ],
   "source": [
    "# Exercise 1\n",
    "from helper import run\n",
    "reload(ecc)\n",
    "run(ecc.FieldElementTest(\"test_ne\"))"
   ]
  },
  {
   "cell_type": "markdown",
   "metadata": {
    "id": "pKzfK3lr0XBb"
   },
   "source": [
    "The test ran 3 assertions defined in the file, being the following:\n",
    "\n",
    "`self.assertEqual(a, b)`\n",
    "\n",
    "\n",
    "`self.assertTrue(a != c)`\n",
    "\n",
    "`self.assertFalse(a != b)`\n",
    "\n",
    "These are the conditions for finite field elements."
   ]
  },
  {
   "cell_type": "markdown",
   "metadata": {
    "id": "mrRkJbta1mDB"
   },
   "source": [
    "### Modulo arithmetic"
   ]
  },
  {
   "cell_type": "markdown",
   "metadata": {
    "id": "xb9idrlY1ww1"
   },
   "source": [
    "The `%` operator is called the modulo operator. It determines the remainder of the division operation. The remainder repesents how many decimal points there are before repetition."
   ]
  },
  {
   "cell_type": "code",
   "execution_count": null,
   "metadata": {
    "colab": {
     "base_uri": "https://localhost:8080/"
    },
    "id": "BttcUS9xmnY6",
    "outputId": "ab2e6040-25c9-425c-8367-5bd20b131f5b"
   },
   "outputs": [
    {
     "name": "stdout",
     "output_type": "stream",
     "text": [
      "1\n"
     ]
    }
   ],
   "source": [
    "print(7 % 3)"
   ]
  },
  {
   "cell_type": "code",
   "execution_count": null,
   "metadata": {
    "colab": {
     "base_uri": "https://localhost:8080/"
    },
    "id": "pNpsTH4wmnY6",
    "outputId": "07abda71-be1e-4683-ad9c-ef90a0668e84"
   },
   "outputs": [
    {
     "name": "stdout",
     "output_type": "stream",
     "text": [
      "12\n"
     ]
    }
   ],
   "source": [
    "print(-27 % 13)"
   ]
  },
  {
   "cell_type": "markdown",
   "metadata": {
    "id": "fqAiXhnPmnY6"
   },
   "source": [
    "### Exercise 2\n"
   ]
  },
  {
   "cell_type": "markdown",
   "metadata": {
    "id": "xtAhdCn-Sd_T"
   },
   "source": [
    "\n",
    "Solve these problems in \\\\(F_{57}\\\\)(finite field of order 57)  (assume all +'s here are \\\\(+_{f}\\\\) and -`s here are \\\\(-_{f}\\\\)).\n",
    "\n",
    "\n",
    "\n",
    "* 44+33\n",
    "* 9-29\n",
    "* 17+42+49\n",
    "* 52-30-38\n",
    "\n",
    "a\\\\(+_{f}\\\\)b ≡ (a+b)%p"
   ]
  },
  {
   "cell_type": "code",
   "execution_count": null,
   "metadata": {
    "colab": {
     "base_uri": "https://localhost:8080/"
    },
    "id": "vb5Cty7ImnY6",
    "outputId": "59cec34f-2272-4d11-d457-2f6accc3bcf1"
   },
   "outputs": [
    {
     "name": "stdout",
     "output_type": "stream",
     "text": [
      "20\n",
      "37\n",
      "51\n",
      "41\n"
     ]
    }
   ],
   "source": [
    "# Exercise 2\n",
    "\n",
    "# remember that % is the modulo operator\n",
    "prime = 57\n",
    "# 44+33\n",
    "print((44+33)%prime)\n",
    "# 9-29\n",
    "print((9-29)%prime)\n",
    "# 17+42+49\n",
    "print((17+42+49)%prime)\n",
    "# 52-30-38\n",
    "print((52-30-38)%prime)"
   ]
  },
  {
   "cell_type": "markdown",
   "metadata": {
    "id": "z7PQ-eIEI8Kx"
   },
   "source": [
    "Testing the FieldElement class, using the `prime` number (finite field order) from above"
   ]
  },
  {
   "cell_type": "markdown",
   "metadata": {
    "id": "Bc2-ogcoIqfN"
   },
   "source": [
    "This will return an error as 58 is not an element of the finite field as the order is of size 57, i.e.\n",
    "\n",
    "`FieldElement(58, prime)`\n",
    "\n",
    "The output format for this class is essentially letting you know the number is an element of the finite element with order prime."
   ]
  },
  {
   "cell_type": "code",
   "execution_count": null,
   "metadata": {
    "colab": {
     "base_uri": "https://localhost:8080/"
    },
    "id": "2a2gRASZKGRS",
    "outputId": "474b7dd7-c47f-4e19-e134-246ee432b883"
   },
   "outputs": [
    {
     "data": {
      "text/plain": [
       "FieldElement_57(51)"
      ]
     },
     "execution_count": 14,
     "metadata": {},
     "output_type": "execute_result"
    }
   ],
   "source": [
    "a = 17+42\n",
    "b = 49\n",
    "number = (a+b)%prime\n",
    "FieldElement(number, prime)"
   ]
  },
  {
   "cell_type": "code",
   "execution_count": null,
   "metadata": {
    "colab": {
     "base_uri": "https://localhost:8080/"
    },
    "id": "5PTysSYE9loK",
    "outputId": "94c00309-13ef-462b-90af-27b397d07d85"
   },
   "outputs": [
    {
     "name": "stdout",
     "output_type": "stream",
     "text": [
      "51\n"
     ]
    }
   ],
   "source": [
    "print(((17+42)+49)%57)"
   ]
  },
  {
   "cell_type": "markdown",
   "metadata": {
    "id": "4RYRzt9gKwlV"
   },
   "source": [
    "51 is the remainder and it is an element of the field."
   ]
  },
  {
   "cell_type": "markdown",
   "metadata": {
    "id": "LhnD85PJMdSt"
   },
   "source": [
    "### Coding addition and subtraction"
   ]
  },
  {
   "cell_type": "markdown",
   "metadata": {
    "id": "7VEZ4f5813_K"
   },
   "source": [
    "Using the `FieldElement()` function to showcase addition, subtraction and equivalence."
   ]
  },
  {
   "cell_type": "code",
   "execution_count": null,
   "metadata": {
    "colab": {
     "base_uri": "https://localhost:8080/"
    },
    "id": "cYUunTs7mnY6",
    "outputId": "9258eda4-5208-4362-c777-e74492368f51"
   },
   "outputs": [
    {
     "name": "stdout",
     "output_type": "stream",
     "text": [
      "True\n"
     ]
    }
   ],
   "source": [
    "from ecc import FieldElement\n",
    "prime = 13\n",
    "a = FieldElement(7, prime)\n",
    "b = FieldElement(12, prime)\n",
    "c = FieldElement(6, prime)\n",
    "print(a+b==c)"
   ]
  },
  {
   "cell_type": "markdown",
   "metadata": {
    "id": "YJ7H89U4Mw-Q"
   },
   "source": [
    "Looking at a+b==c"
   ]
  },
  {
   "cell_type": "code",
   "execution_count": null,
   "metadata": {
    "colab": {
     "base_uri": "https://localhost:8080/"
    },
    "id": "zQ9aVZqMNn9Z",
    "outputId": "058eb057-81d6-44b3-e482-0cef68c5bbb8"
   },
   "outputs": [
    {
     "data": {
      "text/plain": [
       "6"
      ]
     },
     "execution_count": 17,
     "metadata": {},
     "output_type": "execute_result"
    }
   ],
   "source": [
    "(7+12)%prime"
   ]
  },
  {
   "cell_type": "markdown",
   "metadata": {
    "id": "C7knGBjv2FI_"
   },
   "source": [
    "The above demontrates the modulo of an addition is contained in a finite field of order 13."
   ]
  },
  {
   "cell_type": "markdown",
   "metadata": {
    "id": "XP1wR0qP2lWz"
   },
   "source": [
    "The `__add__` method modifies how the '+' operator functions."
   ]
  },
  {
   "cell_type": "markdown",
   "metadata": {
    "id": "dTk868XdmnY6"
   },
   "source": [
    "### Exercise 3"
   ]
  },
  {
   "cell_type": "markdown",
   "metadata": {
    "id": "oZ6GFK4DSoKS"
   },
   "source": [
    "\n",
    "Write the corresponding `__sub__` method which defines the subtraction of two `FieldElement` objects.\n",
    "\n",
    "Make [this test](/edit/code-ch01/ecc.py) pass: `ecc.py:FieldElementTest:test_sub`"
   ]
  },
  {
   "cell_type": "markdown",
   "metadata": {
    "id": "C2wV3egHSrFE"
   },
   "source": [
    "very simply done, just change the definition of the `__sub__` method such that it contains the rules for finite field subtraction."
   ]
  },
  {
   "cell_type": "code",
   "execution_count": null,
   "metadata": {
    "colab": {
     "base_uri": "https://localhost:8080/"
    },
    "id": "_UiIMaR_mnY7",
    "outputId": "078d9bce-1fcc-4224-e6f7-6b6b3e70d5c3"
   },
   "outputs": [
    {
     "name": "stderr",
     "output_type": "stream",
     "text": [
      ".\n",
      "----------------------------------------------------------------------\n",
      "Ran 1 test in 0.001s\n",
      "\n",
      "OK\n"
     ]
    }
   ],
   "source": [
    "# Exercise 3\n",
    "\n",
    "reload(ecc)\n",
    "run(ecc.FieldElementTest(\"test_sub\"))"
   ]
  },
  {
   "cell_type": "markdown",
   "metadata": {
    "id": "82_qR6kDmnY7"
   },
   "source": [
    "### Exercise 4"
   ]
  },
  {
   "cell_type": "markdown",
   "metadata": {
    "id": "E9rJOB-8UhzM"
   },
   "source": [
    "Solve the following equations in \\\\(F_{97}\\\\) (again, assume ⋅ and exponentiation are field versions):\n",
    "\n",
    "* 95⋅45⋅31\n",
    "* 17⋅13⋅19⋅44\n",
    "* \\\\(12^{7}\\\\)⋅\\\\(77^{49}\\\\)"
   ]
  },
  {
   "cell_type": "code",
   "execution_count": null,
   "metadata": {
    "colab": {
     "base_uri": "https://localhost:8080/"
    },
    "id": "6gLisjvrmnY7",
    "outputId": "a3c8950c-1ae9-4f02-c1c5-f9e9b4ef4305"
   },
   "outputs": [
    {
     "name": "stdout",
     "output_type": "stream",
     "text": [
      "23\n",
      "68\n",
      "63\n"
     ]
    }
   ],
   "source": [
    "# Exercise 4\n",
    "\n",
    "prime = 97\n",
    "\n",
    "# 95*45*31\n",
    "print((95*45*31)%prime)\n",
    "# 17*13*19*44\n",
    "print((17*13*19*44)%prime)\n",
    "# 12**7*77**49\n",
    "print((12**7*77**49)%prime)"
   ]
  },
  {
   "cell_type": "markdown",
   "metadata": {
    "id": "apU09FKzVquI"
   },
   "source": [
    "Using the `FieldElement` class to determine if the modulo is an element of the finite field."
   ]
  },
  {
   "cell_type": "code",
   "execution_count": null,
   "metadata": {
    "colab": {
     "base_uri": "https://localhost:8080/"
    },
    "id": "u4jOOdGQVMlj",
    "outputId": "cc9a4fe9-77fd-4a00-e133-bb00e54b3978"
   },
   "outputs": [
    {
     "data": {
      "text/plain": [
       "FieldElement_97(23)"
      ]
     },
     "execution_count": 20,
     "metadata": {},
     "output_type": "execute_result"
    }
   ],
   "source": [
    "FieldElement((95*45*31)%prime, prime)"
   ]
  },
  {
   "cell_type": "code",
   "execution_count": null,
   "metadata": {
    "colab": {
     "base_uri": "https://localhost:8080/"
    },
    "id": "9shADlp_VfUY",
    "outputId": "384074d4-8438-449a-d969-c677140dda1a"
   },
   "outputs": [
    {
     "data": {
      "text/plain": [
       "FieldElement_97(68)"
      ]
     },
     "execution_count": 21,
     "metadata": {},
     "output_type": "execute_result"
    }
   ],
   "source": [
    "FieldElement((17*13*19*44)%prime, prime)"
   ]
  },
  {
   "cell_type": "code",
   "execution_count": null,
   "metadata": {
    "colab": {
     "base_uri": "https://localhost:8080/"
    },
    "id": "oGso97wmVYWH",
    "outputId": "29e79333-db37-4f70-9b71-44f438593990"
   },
   "outputs": [
    {
     "data": {
      "text/plain": [
       "FieldElement_97(63)"
      ]
     },
     "execution_count": 22,
     "metadata": {},
     "output_type": "execute_result"
    }
   ],
   "source": [
    "FieldElement((12**7*77**49)%prime, prime)"
   ]
  },
  {
   "cell_type": "markdown",
   "metadata": {
    "id": "poSXQ-WxmnY7"
   },
   "source": [
    "### Exercise 5\n",
    "\n"
   ]
  },
  {
   "cell_type": "markdown",
   "metadata": {
    "id": "GN91kE_FW8yj"
   },
   "source": [
    "For k = 1, 3, 7, 13, 18, what is this set in \\\\(F_{19}\\\\)?\n",
    "\n",
    "{k⋅0, k⋅1, k⋅2, k⋅3, ... k⋅18}\n",
    "\n",
    "Do you notice anything about these sets?"
   ]
  },
  {
   "cell_type": "code",
   "execution_count": null,
   "metadata": {
    "colab": {
     "base_uri": "https://localhost:8080/"
    },
    "id": "E0SYrgkfmnY7",
    "outputId": "6cbecbce-cbd5-46c2-e394-87834594e3f9"
   },
   "outputs": [
    {
     "name": "stdout",
     "output_type": "stream",
     "text": [
      "[0, 1, 2, 3, 4, 5, 6, 7, 8, 9, 10, 11, 12, 13, 14, 15, 16, 17, 18, 0, 3, 6, 9, 12, 15, 18, 2, 5, 8, 11, 14, 17, 1, 4, 7, 10, 13, 16, 0, 7, 14, 2, 9, 16, 4, 11, 18, 6, 13, 1, 8, 15, 3, 10, 17, 5, 12, 0, 13, 7, 1, 14, 8, 2, 15, 9, 3, 16, 10, 4, 17, 11, 5, 18, 12, 6, 0, 18, 17, 16, 15, 14, 13, 12, 11, 10, 9, 8, 7, 6, 5, 4, 3, 2, 1]\n"
     ]
    }
   ],
   "source": [
    "# Exercise 5\n",
    "\n",
    "prime = 19\n",
    "k = [1, 3, 7, 13, 18]\n",
    "mySet = []\n",
    "# loop through all possible k's 0 up to prime-1\n",
    "# calculate k*iterator % prime\n",
    "for k in k:\n",
    "  for num in range(0,19):\n",
    "    mySet.append((k*num)%prime)\n",
    "print(mySet)"
   ]
  },
  {
   "cell_type": "markdown",
   "metadata": {
    "id": "r6H-rJPyZIJ6"
   },
   "source": [
    "Using a dictionary to better display the results"
   ]
  },
  {
   "cell_type": "code",
   "execution_count": null,
   "metadata": {
    "colab": {
     "base_uri": "https://localhost:8080/"
    },
    "id": "fAzsz2gaYsdg",
    "outputId": "9d375292-cf06-4917-cdb7-7b066e88ff28"
   },
   "outputs": [
    {
     "name": "stdout",
     "output_type": "stream",
     "text": [
      "k = 1: 0 1 2 3 4 5 6 7 8 9 10 11 12 13 14 15 16 17 18\n",
      "k = 3: 0 3 6 9 12 15 18 2 5 8 11 14 17 1 4 7 10 13 16\n",
      "k = 7: 0 7 14 2 9 16 4 11 18 6 13 1 8 15 3 10 17 5 12\n",
      "k = 13: 0 13 7 1 14 8 2 15 9 3 16 10 4 17 11 5 18 12 6\n",
      "k = 18: 0 18 17 16 15 14 13 12 11 10 9 8 7 6 5 4 3 2 1\n"
     ]
    }
   ],
   "source": [
    "prime = 19\n",
    "k_values = [1, 3, 7, 13, 18]\n",
    "results = {}  # Initialize an empty dictionary\n",
    "\n",
    "for k in k_values:\n",
    "    results[k] = [(k * num) % prime for num in range(0, 19)]\n",
    "\n",
    "# Print results vertically with horizontal elements for each k\n",
    "for k in results:\n",
    "    print(f\"k = {k}:\", ' '.join(map(str, results[k])))"
   ]
  },
  {
   "cell_type": "markdown",
   "metadata": {
    "id": "hFOj258CZk6Q"
   },
   "source": [
    "Since the `prime` value is that of the range we're interested in, we can use that for the `num` range."
   ]
  },
  {
   "cell_type": "code",
   "execution_count": null,
   "metadata": {
    "colab": {
     "base_uri": "https://localhost:8080/"
    },
    "id": "U-DbC_05ZrQC",
    "outputId": "0c839ec1-0710-433d-9d77-223211fa926c"
   },
   "outputs": [
    {
     "name": "stdout",
     "output_type": "stream",
     "text": [
      "k = 1: 0 1 2 3 4 5 6 7 8 9 10 11 12 13 14 15 16 17 18\n",
      "k = 3: 0 3 6 9 12 15 18 2 5 8 11 14 17 1 4 7 10 13 16\n",
      "k = 7: 0 7 14 2 9 16 4 11 18 6 13 1 8 15 3 10 17 5 12\n",
      "k = 13: 0 13 7 1 14 8 2 15 9 3 16 10 4 17 11 5 18 12 6\n",
      "k = 18: 0 18 17 16 15 14 13 12 11 10 9 8 7 6 5 4 3 2 1\n"
     ]
    }
   ],
   "source": [
    "prime = 19\n",
    "k_values = [1, 3, 7, 13, 18]\n",
    "results = {}  # Initialize an empty dictionary\n",
    "\n",
    "for k in k_values:\n",
    "    results[k] = [(k * num) % prime for num in range(prime)] # prime is the size of the range.\n",
    "\n",
    "# Print results vertically with horizontal elements for each k\n",
    "for k in results:\n",
    "    print(f\"k = {k}:\", ' '.join(map(str, results[k])))"
   ]
  },
  {
   "cell_type": "markdown",
   "metadata": {
    "id": "-JN7uRqnZ6xI"
   },
   "source": [
    "**Question**: Do you notice anything about these sets?\n",
    "\n",
    "If we analyse the set, starting with sorting them, we may notice something."
   ]
  },
  {
   "cell_type": "code",
   "execution_count": null,
   "metadata": {
    "colab": {
     "base_uri": "https://localhost:8080/"
    },
    "id": "_JbJaFEfZ8cR",
    "outputId": "4a149112-5b71-4b32-9569-6c1baf8046ac"
   },
   "outputs": [
    {
     "name": "stdout",
     "output_type": "stream",
     "text": [
      "k = 1: 0 1 2 3 4 5 6 7 8 9 10 11 12 13 14 15 16 17 18\n",
      "k = 3: 0 1 2 3 4 5 6 7 8 9 10 11 12 13 14 15 16 17 18\n",
      "k = 7: 0 1 2 3 4 5 6 7 8 9 10 11 12 13 14 15 16 17 18\n",
      "k = 13: 0 1 2 3 4 5 6 7 8 9 10 11 12 13 14 15 16 17 18\n",
      "k = 18: 0 1 2 3 4 5 6 7 8 9 10 11 12 13 14 15 16 17 18\n"
     ]
    }
   ],
   "source": [
    "prime = 19\n",
    "k_values = [1, 3, 7, 13, 18]\n",
    "results = {}  # Initialize an empty dictionary\n",
    "\n",
    "for k in k_values:\n",
    "    results[k] = sorted([(k * num) % prime for num in range(prime)]) # prime is the size of the range.\n",
    "\n",
    "# Print results vertically with horizontal elements for each k\n",
    "for k in results:\n",
    "    print(f\"k = {k}:\", ' '.join(map(str, results[k])))"
   ]
  },
  {
   "cell_type": "markdown",
   "metadata": {
    "id": "MARfo71Bac9s"
   },
   "source": [
    "When sorted we see the results are all contained within the set.\n",
    "\n",
    "That's because the values in *k* are all elements of the finite field.\n",
    "\n",
    "Therefore, any number within a finite field, multiplied by a number within the same finite field, produces an element within the finite field."
   ]
  },
  {
   "cell_type": "markdown",
   "metadata": {
    "id": "uxNdoP9TmnY8"
   },
   "source": [
    "### Exercise 6"
   ]
  },
  {
   "cell_type": "markdown",
   "metadata": {
    "id": "G6SjoWNwc1yY"
   },
   "source": [
    "Write the corresponding `__mul__` method which defines the multiplication of two Finite Field elements.\n",
    "\n",
    "Make [this test](/edit/code-ch01/ecc.py) pass: `ecc.py:FieldElementTest:test_mul`"
   ]
  },
  {
   "cell_type": "code",
   "execution_count": null,
   "metadata": {
    "colab": {
     "base_uri": "https://localhost:8080/"
    },
    "id": "QUH2G-nrmnY8",
    "outputId": "99f7c7ae-a546-45e2-8732-45a4bb83e156"
   },
   "outputs": [
    {
     "name": "stderr",
     "output_type": "stream",
     "text": [
      ".\n",
      "----------------------------------------------------------------------\n",
      "Ran 1 test in 0.001s\n",
      "\n",
      "OK\n"
     ]
    }
   ],
   "source": [
    "# Exercise 6\n",
    "\n",
    "reload(ecc)\n",
    "run(ecc.FieldElementTest(\"test_mul\"))"
   ]
  },
  {
   "cell_type": "code",
   "execution_count": null,
   "metadata": {
    "colab": {
     "base_uri": "https://localhost:8080/"
    },
    "id": "qe_3QUdtpqGL",
    "outputId": "61611a9d-4916-4458-e0b0-85c6e7360788"
   },
   "outputs": [
    {
     "data": {
      "text/plain": [
       "<module 'ecc' from '/content/programmingbitcoin/code-ch01/ecc.py'>"
      ]
     },
     "execution_count": 28,
     "metadata": {},
     "output_type": "execute_result"
    }
   ],
   "source": [
    "reload(ecc)"
   ]
  },
  {
   "cell_type": "code",
   "execution_count": null,
   "metadata": {
    "id": "0WundtVLptOK"
   },
   "outputs": [],
   "source": [
    "from ecc import FieldElement"
   ]
  },
  {
   "cell_type": "code",
   "execution_count": null,
   "metadata": {
    "colab": {
     "base_uri": "https://localhost:8080/"
    },
    "id": "xtHdW3tzBW_c",
    "outputId": "992f46d9-184f-4150-a053-ff982679bf0d"
   },
   "outputs": [
    {
     "name": "stdout",
     "output_type": "stream",
     "text": [
      "True\n"
     ]
    }
   ],
   "source": [
    "a2 = FieldElement(3, 13)\n",
    "b2 = FieldElement(12, 13)\n",
    "c2 = FieldElement(10, 13)\n",
    "print(a2*b2==c2)"
   ]
  },
  {
   "cell_type": "code",
   "execution_count": null,
   "metadata": {
    "colab": {
     "base_uri": "https://localhost:8080/"
    },
    "id": "G6fJRW90mnY8",
    "outputId": "b44a58dd-0f9e-4a02-c608-1d3a6c36dbc3"
   },
   "outputs": [
    {
     "name": "stdout",
     "output_type": "stream",
     "text": [
      "True\n"
     ]
    }
   ],
   "source": [
    "from ecc import FieldElement\n",
    "a = FieldElement(3, 13)\n",
    "b = FieldElement(1, 13)\n",
    "print(a**3==b)"
   ]
  },
  {
   "cell_type": "markdown",
   "metadata": {
    "id": "CCeJyUm9mnY8"
   },
   "source": [
    "### Exercise 7"
   ]
  },
  {
   "cell_type": "markdown",
   "metadata": {
    "id": "cxMCggVyc4tq"
   },
   "source": [
    "For p = 7, 11, 17, 31, what is this set in \\\\(F_{p}\\\\)?\n",
    "\n",
    "{\\\\(1^{(p-1)}\\\\), \\\\(2^{(p-1)}\\\\), \\\\(3^{(p-1)}\\\\), \\\\(4^{(p-1)}\\\\), ... \\\\((p-1)^{(p-1)}\\\\)}"
   ]
  },
  {
   "cell_type": "markdown",
   "metadata": {
    "id": "vjT5J_WjnbUk"
   },
   "source": [
    "Because the lowest number of the first element is always 1 after inserting p, we must include this in the ranges of the powers. That is, if the order is 7, normally, the set would contain {0,1,2,3,4,5,6}, however, the provided set always starts at 1."
   ]
  },
  {
   "cell_type": "code",
   "execution_count": null,
   "metadata": {
    "colab": {
     "base_uri": "https://localhost:8080/"
    },
    "id": "3uY8qYP2mnY8",
    "outputId": "d364dd41-e47d-4ec8-c9c7-3dbe3a400b38"
   },
   "outputs": [
    {
     "name": "stdout",
     "output_type": "stream",
     "text": [
      "p = 7: 1 1 1 1 1 1\n",
      "p = 11: 1 1 1 1 1 1 1 1 1 1\n",
      "p = 17: 1 1 1 1 1 1 1 1 1 1 1 1 1 1 1 1\n",
      "p = 31: 1 1 1 1 1 1 1 1 1 1 1 1 1 1 1 1 1 1 1 1 1 1 1 1 1 1 1 1 1 1\n"
     ]
    }
   ],
   "source": [
    "# Exercise 7\n",
    "\n",
    "primes = [7, 11, 17, 31]\n",
    "\n",
    "\n",
    "results = {}  # Initialize an empty dictionary\n",
    "\n",
    "for p in primes:\n",
    "  results[p] = [(num)**(p-1) % p for num in range(1, p)]\n",
    "\n",
    "# Print results vertically with horizontal elements for each k\n",
    "for p in results:\n",
    "    print(f\"p = {p}:\", ' '.join(map(str, results[p])))"
   ]
  },
  {
   "cell_type": "markdown",
   "metadata": {
    "id": "IVlmJc_sAnVQ"
   },
   "source": [
    "answer: using the `pow()` method. This method is separate to the 'dunder' method in the `ecc.py` file. `pow()` is a built-in python function. `__pow()__` is a user defined function called a 'dunder method' The dunder method is customising how the exponentiation (**) works."
   ]
  },
  {
   "cell_type": "code",
   "execution_count": null,
   "metadata": {
    "colab": {
     "base_uri": "https://localhost:8080/"
    },
    "id": "lBM6nma4_6I1",
    "outputId": "5f478570-ad67-44ea-df05-da4165251101"
   },
   "outputs": [
    {
     "name": "stdout",
     "output_type": "stream",
     "text": [
      "[1, 1, 1, 1, 1, 1]\n",
      "[1, 1, 1, 1, 1, 1, 1, 1, 1, 1]\n",
      "[1, 1, 1, 1, 1, 1, 1, 1, 1, 1, 1, 1, 1, 1, 1, 1]\n",
      "[1, 1, 1, 1, 1, 1, 1, 1, 1, 1, 1, 1, 1, 1, 1, 1, 1, 1, 1, 1, 1, 1, 1, 1, 1, 1, 1, 1, 1, 1]\n"
     ]
    }
   ],
   "source": [
    "for prime in (7, 11, 17, 31):\n",
    "  print([pow(i, prime-1, prime) for i in range(1, prime)])"
   ]
  },
  {
   "cell_type": "markdown",
   "metadata": {
    "id": "GGyj3r-W4tlg"
   },
   "source": [
    "Note, all of the exponents are prime numbers and all the bases are greater than zero. This showcases Fermat's Little Theorem"
   ]
  },
  {
   "cell_type": "markdown",
   "metadata": {
    "id": "2qSKoWkEmnY8"
   },
   "source": [
    "### Exercise 8"
   ]
  },
  {
   "cell_type": "markdown",
   "metadata": {
    "id": "toolIe06EBhr"
   },
   "source": [
    "From Fermat's Little Theorem, we know\n",
    "\n",
    "$n^{(p-1)} \\mathbin{\\%} p = 1$\n",
    "\n",
    "where $n$ > 0 and $p$ is a prime number.\n",
    "\n",
    "If we have\n",
    "\n",
    "$ n^{-1} ≡  n^{-1} ⋅_{f}1 = n^{-1} ⋅_{f}n^{(p-1)} $\n",
    "\n",
    "so\n",
    "\n",
    "$ n^{-1} ≡ n^{p-2} $\n",
    "\n",
    "In order to use Fermat's Little theorem, we simply must be able to identify when the modulo equation can be manipulated to have the form $n^{-1} $"
   ]
  },
  {
   "cell_type": "markdown",
   "metadata": {
    "id": "L8QH2fU_c7f7"
   },
   "source": [
    "Solve the following equations in \\\\(F_{31}\\\\):\n",
    "\n",
    "* 3 / 24\n",
    "\n",
    "$ 3 \\cdot_{f} 24^{-1} ≡ 3 \\cdot_{f} 24^{p-2} = 3 \\cdot_{f} 24^{31-2} $\n",
    "* \\\\(17^{-3}\\\\)\n",
    "\n",
    "$ 17^{-1} \\cdot_{f}17^{3} \\equiv 17^{(31-2)\\cdot 3} \\mathbin{\\%} 31$\n",
    "\n",
    "* \\\\(4^{-4}\\\\)⋅11\n",
    "\n",
    "$  (4^{-1})^{4} \\cdot_{f} 11 \\equiv 4^{(31-2)\\cdot 4}\\cdot _{f}11$\n",
    "\n",
    "**N.B.** Exponential rules: $4^{-4} ≡ (4^{-1})^4 = 4^{-1 \\times 4} $"
   ]
  },
  {
   "cell_type": "code",
   "execution_count": null,
   "metadata": {
    "colab": {
     "base_uri": "https://localhost:8080/"
    },
    "id": "3V3OkKi6mnY8",
    "outputId": "e2b05f60-ba2b-4ddf-bc6a-98806ef0ad6a"
   },
   "outputs": [
    {
     "name": "stdout",
     "output_type": "stream",
     "text": [
      "4\n",
      "29\n",
      "13\n"
     ]
    }
   ],
   "source": [
    "# Exercise 8\n",
    "\n",
    "# 3/24\n",
    "print((3*24**(31-2)) % 31)\n",
    "# 17**-3\n",
    "print((17**(29*3)) % 31 )\n",
    "# 4**-4*11\n",
    "print((11 * (4**(29*4))) % 31)"
   ]
  },
  {
   "cell_type": "markdown",
   "metadata": {
    "id": "LyQ4jcXxD99K"
   },
   "source": [
    "Using the `pow()` method.\n",
    "\n",
    "`pow(num, exponent, p)`\n",
    "\n",
    "Where `n` is the base number of the exponent."
   ]
  },
  {
   "cell_type": "code",
   "execution_count": null,
   "metadata": {
    "colab": {
     "base_uri": "https://localhost:8080/"
    },
    "id": "Ghra-LA2HezZ",
    "outputId": "424ad0e0-374e-4dc5-c86b-ad9fb33b53a5"
   },
   "outputs": [
    {
     "name": "stdout",
     "output_type": "stream",
     "text": [
      "4\n",
      "29\n",
      "13\n"
     ]
    }
   ],
   "source": [
    "p = 31\n",
    "\n",
    "print(3 * pow(24, p-2 , p ) % p)\n",
    "print(pow(17, (p-2)*3,p) % p)\n",
    "print(11*pow(4, (p-2)*4, p) % p)"
   ]
  },
  {
   "cell_type": "markdown",
   "metadata": {
    "id": "eZIZ-KJmAl8g"
   },
   "source": [
    "We can see a modulo done after a modulo in the last equation.\n",
    "\n",
    "The `pow()` function computes a modulo, however we still have the 11 to multiply and include in the modulo. In other words, modular multiplication is associative.\n",
    "\n",
    "$ [11 ⋅ (4^{4(p-2)}\\mathbin{\\%}p)]\\mathbin{\\%}p$\n",
    "\n",
    "Modular Associative Multiplication: $((a \\times b) \\times c) \\mathbin{\\%} n = (a \\times (b \\times c)) \\mathbin{\\%} n $."
   ]
  },
  {
   "cell_type": "code",
   "execution_count": null,
   "metadata": {
    "colab": {
     "base_uri": "https://localhost:8080/"
    },
    "id": "o70tluVeASlp",
    "outputId": "1a37e257-3013-48e7-f7a0-f57b8f35e94e"
   },
   "outputs": [
    {
     "data": {
      "text/plain": [
       "True"
      ]
     },
     "execution_count": 36,
     "metadata": {},
     "output_type": "execute_result"
    }
   ],
   "source": [
    "11*pow(4, (p-2)*4, p) % p == (11 * (4**((p-2)*4))) % p"
   ]
  },
  {
   "cell_type": "markdown",
   "metadata": {
    "id": "cmkvNEbtmnY8"
   },
   "source": [
    "### Exercise 9"
   ]
  },
  {
   "cell_type": "markdown",
   "metadata": {
    "id": "ga6Y1_4Dc914"
   },
   "source": [
    "Write the corresponding `__truediv__` method which defines the division of two field elements.\n",
    "\n",
    "Note that in Python3, division is separated into `__truediv__` and `__floordiv__`. The first does normal division, the second does integer division.\n",
    "\n",
    "Make [this test](/edit/code-ch01/ecc.py) pass: `ecc.py:FieldElementTest:test_div`"
   ]
  },
  {
   "cell_type": "markdown",
   "metadata": {
    "id": "DAjm68hq-s-B"
   },
   "source": [
    "$ 17^{-3} = 17^{-1 \\times 3} = 17^{-1}\\cdot_{f}17^{3} ≡ 17^{(31-2) \\times 3}$"
   ]
  },
  {
   "cell_type": "code",
   "execution_count": null,
   "metadata": {
    "colab": {
     "base_uri": "https://localhost:8080/"
    },
    "id": "7e0a4V8o7Han",
    "outputId": "630d2daf-2400-4fe6-e0d0-f972870ef9be"
   },
   "outputs": [
    {
     "data": {
      "text/plain": [
       "29"
      ]
     },
     "execution_count": 39,
     "metadata": {},
     "output_type": "execute_result"
    }
   ],
   "source": [
    "(17**((31-2) * 3))%31"
   ]
  },
  {
   "cell_type": "markdown",
   "metadata": {
    "id": "Rjs87L-HCyR1"
   },
   "source": [
    "Modular associative multiplication:"
   ]
  },
  {
   "cell_type": "code",
   "execution_count": null,
   "metadata": {
    "colab": {
     "base_uri": "https://localhost:8080/"
    },
    "id": "cJ_aXcAE_LcZ",
    "outputId": "e5fc1e55-0e24-4057-b2df-fe30fab449d2"
   },
   "outputs": [
    {
     "data": {
      "text/plain": [
       "True"
      ]
     },
     "execution_count": 41,
     "metadata": {},
     "output_type": "execute_result"
    }
   ],
   "source": [
    "(((4**((31-2)*4)) % 31) * 11) % 31 == (4**((31-2)*4) * 11) % 31"
   ]
  },
  {
   "cell_type": "code",
   "execution_count": null,
   "metadata": {
    "id": "Yk4pOWik_trp"
   },
   "outputs": [],
   "source": [
    "prime = 31\n",
    "n = 4\n",
    "exponent = 4"
   ]
  },
  {
   "cell_type": "code",
   "execution_count": null,
   "metadata": {
    "colab": {
     "base_uri": "https://localhost:8080/"
    },
    "id": "yuwQ_L9x_yg4",
    "outputId": "cd5cb5cc-e00b-473d-dd0d-244b96f85de9"
   },
   "outputs": [
    {
     "data": {
      "text/plain": [
       "13"
      ]
     },
     "execution_count": 43,
     "metadata": {},
     "output_type": "execute_result"
    }
   ],
   "source": [
    "(pow(n, (prime - 2)*4, prime)* 11) % prime"
   ]
  },
  {
   "cell_type": "code",
   "execution_count": null,
   "metadata": {
    "colab": {
     "base_uri": "https://localhost:8080/"
    },
    "id": "NAepYor9CWHq",
    "outputId": "62ba0da3-2837-423d-e8ac-a0e5af80f4f2"
   },
   "outputs": [
    {
     "name": "stderr",
     "output_type": "stream",
     "text": [
      ".\n",
      "----------------------------------------------------------------------\n",
      "Ran 1 test in 0.001s\n",
      "\n",
      "OK\n"
     ]
    }
   ],
   "source": [
    "# Exercise 9\n",
    "\n",
    "reload(ecc)\n",
    "run(ecc.FieldElementTest(\"test_div\"))"
   ]
  },
  {
   "cell_type": "code",
   "execution_count": null,
   "metadata": {
    "colab": {
     "base_uri": "https://localhost:8080/"
    },
    "id": "gvVpzTMcCVy3",
    "outputId": "8698f62e-d8e4-4684-875f-09d258efe8b5"
   },
   "outputs": [
    {
     "name": "stdout",
     "output_type": "stream",
     "text": [
      "True\n"
     ]
    }
   ],
   "source": [
    "from ecc import FieldElement\n",
    "a = FieldElement(7, 13)\n",
    "b = FieldElement(8, 13)\n",
    "print(a**-3==b)"
   ]
  },
  {
   "cell_type": "markdown",
   "metadata": {
    "id": "rEh7hKjkE214"
   },
   "source": [
    "Demonstrating long form for the `__Truedive__` method:\n"
   ]
  },
  {
   "cell_type": "code",
   "execution_count": null,
   "metadata": {
    "colab": {
     "base_uri": "https://localhost:8080/"
    },
    "id": "aFOpErQyGAJY",
    "outputId": "320b0cae-0c13-46bd-d566-953e956b527e"
   },
   "outputs": [
    {
     "data": {
      "text/plain": [
       "True"
      ]
     },
     "execution_count": 46,
     "metadata": {},
     "output_type": "execute_result"
    }
   ],
   "source": [
    "a = FieldElement(3, 31)\n",
    "b = FieldElement(24, 31)\n",
    "a / b == FieldElement(4, 31)"
   ]
  },
  {
   "cell_type": "markdown",
   "metadata": {
    "id": "XcI_k-gftP5e"
   },
   "source": [
    "Long form of the above:"
   ]
  },
  {
   "cell_type": "code",
   "execution_count": null,
   "metadata": {
    "colab": {
     "base_uri": "https://localhost:8080/"
    },
    "id": "JTF2DhJuGWbv",
    "outputId": "919c120f-5c6d-47d6-dee5-05232aa7deb8"
   },
   "outputs": [
    {
     "data": {
      "text/plain": [
       "4"
      ]
     },
     "execution_count": 47,
     "metadata": {},
     "output_type": "execute_result"
    }
   ],
   "source": [
    "(3*(24**(31-2)))%31"
   ]
  },
  {
   "cell_type": "markdown",
   "metadata": {
    "id": "oP9-xmOsILpi"
   },
   "source": [
    "$ 3 / _{f} 24 \\mathbin{\\%} 31 ≡ 3\\cdot 24^{-1} $\n",
    "\n",
    "From the `ecc.py` file, `self.num = 3, other.num = b`.\n",
    "\n",
    "What happens when the exponent of `b` is not 1? *This is explored next with higher order negative exponents.*\n",
    "\n",
    "Using the dunder method for writing the equation:"
   ]
  },
  {
   "cell_type": "code",
   "execution_count": null,
   "metadata": {
    "colab": {
     "base_uri": "https://localhost:8080/"
    },
    "id": "W4MOVYtDHl8I",
    "outputId": "a7415c1e-a46b-4163-f5a1-09dc3b48a261"
   },
   "outputs": [
    {
     "data": {
      "text/plain": [
       "4"
      ]
     },
     "execution_count": 48,
     "metadata": {},
     "output_type": "execute_result"
    }
   ],
   "source": [
    "3 * pow(24, 31 - 2 , 31) % 31"
   ]
  },
  {
   "cell_type": "markdown",
   "metadata": {
    "id": "WsR7HIoAJyOm"
   },
   "source": [
    "Accounting for higher order negative exponentials, the following methods are equivalent:\n",
    "\n",
    "$ a ^{-3} ≡ a^{-3} \\cdot a^{p-1} = a^{p-4}$\n",
    "\n",
    "$ a^{-3} = (a^{-1})^{3} ≡ a^{(p-2)3}$\n",
    "\n",
    "And so,"
   ]
  },
  {
   "cell_type": "code",
   "execution_count": null,
   "metadata": {
    "colab": {
     "base_uri": "https://localhost:8080/"
    },
    "id": "jBJ2lUKMMWd_",
    "outputId": "dd7dc0a1-c2ac-49d5-dd41-5491a65109d1"
   },
   "outputs": [
    {
     "data": {
      "text/plain": [
       "True"
      ]
     },
     "execution_count": 49,
     "metadata": {},
     "output_type": "execute_result"
    }
   ],
   "source": [
    "pow(7, (13-4), 13) == pow(7,(13-2)* 3, 13)"
   ]
  },
  {
   "cell_type": "markdown",
   "metadata": {
    "id": "qMzrf2DvvFmO"
   },
   "source": [
    "The 3 different methods:"
   ]
  },
  {
   "cell_type": "code",
   "execution_count": null,
   "metadata": {
    "id": "u9DGKHCZvLiZ"
   },
   "outputs": [],
   "source": [
    "a = 7\n",
    "n = -3\n",
    "prime = 13"
   ]
  },
  {
   "cell_type": "code",
   "execution_count": null,
   "metadata": {
    "colab": {
     "base_uri": "https://localhost:8080/"
    },
    "id": "8ViFLKEku-zT",
    "outputId": "49083346-a818-4147-fbae-a6ef74117480"
   },
   "outputs": [
    {
     "data": {
      "text/plain": [
       "8"
      ]
     },
     "execution_count": 51,
     "metadata": {},
     "output_type": "execute_result"
    }
   ],
   "source": [
    "pow(7, -3, 13)"
   ]
  },
  {
   "cell_type": "code",
   "execution_count": null,
   "metadata": {
    "colab": {
     "base_uri": "https://localhost:8080/"
    },
    "id": "4D08xEUTu_sq",
    "outputId": "e39edc5c-4cc4-4db2-b165-e290b9b8786e"
   },
   "outputs": [
    {
     "data": {
      "text/plain": [
       "8"
      ]
     },
     "execution_count": 52,
     "metadata": {},
     "output_type": "execute_result"
    }
   ],
   "source": [
    "pow(7, (13-4), 13)"
   ]
  },
  {
   "cell_type": "code",
   "execution_count": null,
   "metadata": {
    "colab": {
     "base_uri": "https://localhost:8080/"
    },
    "id": "7FVPANLZvA8E",
    "outputId": "4f620138-a7dc-411c-ce66-51c54dc99c86"
   },
   "outputs": [
    {
     "data": {
      "text/plain": [
       "8"
      ]
     },
     "execution_count": 53,
     "metadata": {},
     "output_type": "execute_result"
    }
   ],
   "source": [
    "pow(7,(13-2)* 3, 13)"
   ]
  },
  {
   "cell_type": "markdown",
   "metadata": {
    "id": "JjYw4MAhPEYU"
   },
   "source": [
    "In general terms, If $n<0$,\n",
    "\n",
    "$ a^{n} = a^{n} \\cdot a^{p-1} = a^{p-1 +n}$.\n",
    "\n",
    "Using the below values,\n",
    "\n",
    "$7^{13-1+(-3)} = 7^{9} = 1$"
   ]
  },
  {
   "cell_type": "markdown",
   "metadata": {
    "id": "Q54CFwPdvJWZ"
   },
   "source": [
    "If we have any exponent `n` and we add or subtract multiples of (p-1) from it, the result modulo `p` won't change. In the above, we've added a multiple of `(p-1)` because the general format was met $( a^{n} = a^{n} \\cdot a^{p-1}\\text{ for } n<0)$"
   ]
  }
 ],
 "metadata": {
  "colab": {
   "collapsed_sections": [
    "mrRkJbta1mDB",
    "fqAiXhnPmnY6",
    "LhnD85PJMdSt",
    "dTk868XdmnY6",
    "82_qR6kDmnY7",
    "poSXQ-WxmnY7",
    "uxNdoP9TmnY8",
    "CCeJyUm9mnY8",
    "cmkvNEbtmnY8"
   ],
   "include_colab_link": true,
   "provenance": []
  },
  "kernelspec": {
   "display_name": "Python 3 (ipykernel)",
   "language": "python",
   "name": "python3"
  },
  "language_info": {
   "codemirror_mode": {
    "name": "ipython",
    "version": 3
   },
   "file_extension": ".py",
   "mimetype": "text/x-python",
   "name": "python",
   "nbconvert_exporter": "python",
   "pygments_lexer": "ipython3",
   "version": "3.10.12"
  }
 },
 "nbformat": 4,
 "nbformat_minor": 4
}
