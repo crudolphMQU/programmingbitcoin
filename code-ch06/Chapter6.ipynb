{
 "cells": [
  {
   "cell_type": "markdown",
   "metadata": {},
   "source": [
    "# Script\n",
    "\n",
    "## 🔍 What This Chapter Explores\n",
    "- **Bitcoin Script language**: the low-level, stack-based language used in Bitcoin transactions.\n",
    "- How Bitcoin validates spending conditions using scripts attached to inputs and outputs.\n",
    "- The **ScriptPubKey** (locking script) and **ScriptSig** (unlocking script).\n",
    "- How to model Script execution in Python.\n",
    "- Introduction to **opcodes** (e.g., OP_DUP, OP_HASH160, OP_EQUALVERIFY, OP_CHECKSIG).\n",
    "- Building reusable functions for opcodes and integrating them into a Script interpreter.\n",
    "- Understanding how common script types (like P2PKH) work step by step.\n",
    "\n",
    "---\n",
    "\n",
    "## 🎯 What You Should Learn by the End\n",
    "- ✅ Understand how Bitcoin Script is a **stack-based, non-Turing-complete language**.  \n",
    "- ✅ Know the difference between **locking scripts (ScriptPubKey)** and **unlocking scripts (ScriptSig)**.  \n",
    "- ✅ Be able to explain the script evaluation process: stack operations, conditional flow, and opcode execution.  \n",
    "- ✅ Write Python code to:\n",
    "  - Parse and serialize Script objects.\n",
    "  - Implement and test basic opcodes (`op_dup`, `op_hash160`, `op_equalverify`, `op_checksig`, etc.).\n",
    "- ✅ Understand how **P2PKH scripts** are evaluated:\n",
    "  - ScriptSig provides a signature + public key.\n",
    "  - ScriptPubKey verifies them using `OP_DUP OP_HASH160 ... OP_EQUALVERIFY OP_CHECKSIG`.\n",
    "- ✅ Appreciate how Script enables programmability in Bitcoin (multisig, timelocks, etc.).\n",
    "\n",
    "---\n",
    "\n",
    "## 📌 Key Takeaway\n",
    "Bitcoin Script is the rule-enforcing language of transactions:  \n",
    "it ensures that coins can only be spent if the unlocking script satisfies the locking script’s conditions.\n"
   ]
  },
  {
   "cell_type": "markdown",
   "metadata": {},
   "source": [
    "# Imports"
   ]
  },
  {
   "cell_type": "code",
   "execution_count": 4,
   "metadata": {},
   "outputs": [],
   "source": [
    "############## PLEASE RUN THIS CELL FIRST! ###################\n",
    "\n",
    "# import everything and define a test runner function\n",
    "from importlib import reload\n",
    "from helper import run\n",
    "import op\n",
    "import script\n"
   ]
  },
  {
   "cell_type": "markdown",
   "metadata": {},
   "source": [
    "# Exercises"
   ]
  },
  {
   "cell_type": "markdown",
   "metadata": {},
   "source": [
    "### Exercise 1\n",
    "\n",
    "Write the `op_hash160` function.\n",
    "\n",
    "#### Make [this test](/edit/code-ch06/op.py) pass: `op.py:OpTest:test_op_hash160`\n",
    "\n",
    "____\n",
    "\n",
    "check the op file. \n",
    "from helper import hash160\n",
    "\n",
    "follow instructions similarly to how the other functions are defined. "
   ]
  },
  {
   "cell_type": "code",
   "execution_count": 5,
   "metadata": {},
   "outputs": [
    {
     "name": "stderr",
     "output_type": "stream",
     "text": [
      "E\n",
      "======================================================================\n",
      "ERROR: test_op_hash160 (op.OpTest)\n",
      "----------------------------------------------------------------------\n",
      "Traceback (most recent call last):\n",
      "  File \"/usr/lib/python3.10/hashlib.py\", line 160, in __hash_new\n",
      "    return _hashlib.new(name, data, **kwargs)\n",
      "ValueError: [digital envelope routines] unsupported\n",
      "\n",
      "During handling of the above exception, another exception occurred:\n",
      "\n",
      "Traceback (most recent call last):\n",
      "  File \"/home/chris/programmingbitcoin/code-ch06/op.py\", line 732, in test_op_hash160\n",
      "    self.assertTrue(op_hash160(stack))\n",
      "  File \"/home/chris/programmingbitcoin/code-ch06/op.py\", line 655, in op_hash160\n",
      "    stack.append(hash160(element))\n",
      "  File \"/home/chris/programmingbitcoin/code-ch06/helper.py\", line 20, in hash160\n",
      "    return hashlib.new('ripemd160', hashlib.sha256(s).digest()).digest()\n",
      "  File \"/usr/lib/python3.10/hashlib.py\", line 166, in __hash_new\n",
      "    return __get_builtin_constructor(name)(data)\n",
      "  File \"/usr/lib/python3.10/hashlib.py\", line 123, in __get_builtin_constructor\n",
      "    raise ValueError('unsupported hash type ' + name)\n",
      "ValueError: unsupported hash type ripemd160\n",
      "\n",
      "----------------------------------------------------------------------\n",
      "Ran 1 test in 0.001s\n",
      "\n",
      "FAILED (errors=1)\n"
     ]
    }
   ],
   "source": [
    "# Exercise 1\n",
    "\n",
    "reload(op)\n",
    "run(op.OpTest(\"test_op_hash160\"))"
   ]
  },
  {
   "cell_type": "code",
   "execution_count": null,
   "metadata": {},
   "outputs": [],
   "source": [
    "from script import Script\n",
    "z = 0x7c076ff316692a3d7eb3c3bb0f8b1488cf72e1afcd929e29307032997a838a3d\n",
    "sec = bytes.fromhex('04887387e452b8eacc4acfde10d9aaf7f6d9a0f975aabb10d006e4da568744d06c61de6d95231cd89026e286df3b6ae4a894a3378e393e93a0f45b666329a0ae34')\n",
    "sig = bytes.fromhex('3045022000eff69ef2b1bd93a66ed5219add4fb51e11a840f404876325a1e8ffe0529a2c022100c7207fee197d27c618aea621406f6bf5ef6fca38681d82b2f06fddbdce6feab601')\n",
    "script_pubkey = Script([sec, 0xac])\n",
    "script_sig = Script([sig])\n",
    "combined_script = script_sig + script_pubkey\n",
    "print(combined_script.evaluate(z))"
   ]
  },
  {
   "cell_type": "markdown",
   "metadata": {},
   "source": [
    "### Exercise 2\n",
    "\n",
    "Write the `op_checksig` function in `op.py`\n",
    "\n",
    "#### Make [this test](/edit/code-ch06/op.py) pass: `op.py:OpTest:test_op_checksig`"
   ]
  },
  {
   "cell_type": "code",
   "execution_count": null,
   "metadata": {},
   "outputs": [],
   "source": [
    "# Exercise 2\n",
    "\n",
    "reload(op)\n",
    "run(op.OpTest(\"test_op_checksig\"))"
   ]
  },
  {
   "cell_type": "markdown",
   "metadata": {},
   "source": [
    "### Exercise 3\n",
    "\n",
    "Create a ScriptSig that can unlock this ScriptPubKey. Note `OP_MUL` multiplies the top two elements of the stack.\n",
    "\n",
    "`767695935687`\n",
    "\n",
    "* `56 = OP_6`\n",
    "* `76 = OP_DUP`\n",
    "* `87 = OP_EQUAL`\n",
    "* `93 = OP_ADD`\n",
    "* `95 = OP_MUL`"
   ]
  },
  {
   "cell_type": "code",
   "execution_count": null,
   "metadata": {},
   "outputs": [],
   "source": [
    "# Exercise 3\n",
    "\n",
    "from script import Script\n",
    "\n",
    "script_pubkey = Script([0x76, 0x76, 0x95, 0x93, 0x56, 0x87])\n",
    "script_sig = Script([])  # FILL THIS IN\n",
    "combined_script = script_sig + script_pubkey\n",
    "print(combined_script.evaluate(0))"
   ]
  },
  {
   "cell_type": "markdown",
   "metadata": {},
   "source": [
    "### Exercise 4\n",
    "\n",
    "Figure out what this Script is doing:\n",
    "\n",
    "`6e879169a77ca787`\n",
    "\n",
    "* `69 = OP_VERIFY`\n",
    "* `6e = OP_2DUP`\n",
    "* `7c = OP_SWAP`\n",
    "* `87 = OP_EQUAL`\n",
    "* `91 = OP_NOT`\n",
    "* `a7 = OP_SHA1`\n",
    "\n",
    "Use the `Script.parse` method and look up what various opcodes do at https://en.bitcoin.it/wiki/Script"
   ]
  },
  {
   "cell_type": "code",
   "execution_count": null,
   "metadata": {},
   "outputs": [],
   "source": [
    "# Exercise 4\n",
    "\n",
    "from script import Script\n",
    "\n",
    "script_pubkey = Script([0x6e, 0x87, 0x91, 0x69, 0xa7, 0x7c, 0xa7, 0x87])\n",
    "script_sig = Script([])  # FILL THIS IN\n",
    "combined_script = script_sig + script_pubkey\n",
    "print(combined_script.evaluate(0))"
   ]
  }
 ],
 "metadata": {
  "kernelspec": {
   "display_name": "Python (programmingbitcoin)",
   "language": "python",
   "name": "programmingbitcoin"
  },
  "language_info": {
   "codemirror_mode": {
    "name": "ipython",
    "version": 3
   },
   "file_extension": ".py",
   "mimetype": "text/x-python",
   "name": "python",
   "nbconvert_exporter": "python",
   "pygments_lexer": "ipython3",
   "version": "3.10.12"
  }
 },
 "nbformat": 4,
 "nbformat_minor": 4
}
