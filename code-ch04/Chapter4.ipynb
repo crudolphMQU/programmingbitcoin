{
 "cells": [
  {
   "cell_type": "markdown",
   "metadata": {
    "colab_type": "text",
    "id": "view-in-github"
   },
   "source": [
    "<a href=\"https://colab.research.google.com/github/crudolphMQU/programmingbitcoin/blob/master/code-ch04/Chapter4.ipynb\" target=\"_parent\"><img src=\"https://colab.research.google.com/assets/colab-badge.svg\" alt=\"Open In Colab\"/></a>"
   ]
  },
  {
   "cell_type": "markdown",
   "metadata": {
    "id": "qlgn1cXbFDsF"
   },
   "source": [
    "# Set up"
   ]
  },
  {
   "cell_type": "code",
   "execution_count": 1,
   "metadata": {
    "colab": {
     "base_uri": "https://localhost:8080/"
    },
    "id": "Ur_sST2-E8qJ",
    "outputId": "bf0284b5-4f5f-4efb-bb91-7189d2a953e2"
   },
   "outputs": [
    {
     "name": "stdout",
     "output_type": "stream",
     "text": [
      "answers.py  Chapter4.ipynb  ecc.py  examples.py  helper.py  jupyter.txt\n"
     ]
    }
   ],
   "source": [
    "ls"
   ]
  },
  {
   "cell_type": "code",
   "execution_count": 2,
   "metadata": {},
   "outputs": [
    {
     "name": "stdout",
     "output_type": "stream",
     "text": [
      "answers.py  Chapter4.ipynb  ecc.py  examples.py  helper.py  jupyter.txt\n"
     ]
    }
   ],
   "source": [
    "ls"
   ]
  },
  {
   "cell_type": "code",
   "execution_count": 3,
   "metadata": {
    "colab": {
     "base_uri": "https://localhost:8080/"
    },
    "id": "7UmkwymsE0yN",
    "outputId": "2e92f635-7507-4a76-be96-ef60cac59fcd"
   },
   "outputs": [
    {
     "name": "stdout",
     "output_type": "stream",
     "text": [
      "\u001b[31mERROR: Could not open requirements file: [Errno 2] No such file or directory: 'requirements.txt'\u001b[0m\u001b[31m\n",
      "\u001b[0mNote: you may need to restart the kernel to use updated packages.\n"
     ]
    }
   ],
   "source": [
    "pip install -q -r requirements.txt"
   ]
  },
  {
   "cell_type": "code",
   "execution_count": 5,
   "metadata": {
    "id": "jbTgkXtPE10n"
   },
   "outputs": [
    {
     "name": "stdout",
     "output_type": "stream",
     "text": [
      "Collecting helper\n",
      "  Downloading helper-2.5.0.tar.gz (18 kB)\n",
      "  Installing build dependencies ... \u001b[?25ldone\n",
      "\u001b[?25h  Getting requirements to build wheel ... \u001b[?25ldone\n",
      "\u001b[?25h  Preparing metadata (pyproject.toml) ... \u001b[?25ldone\n",
      "\u001b[?25hRequirement already satisfied: pyyaml in /home/chris/programmingbitcoin/.venv/lib/python3.10/site-packages (from helper) (6.0.2)\n",
      "Building wheels for collected packages: helper\n",
      "  Building wheel for helper (pyproject.toml) ... \u001b[?25ldone\n",
      "\u001b[?25h  Created wheel for helper: filename=helper-2.5.0-py2.py3-none-any.whl size=19249 sha256=d4a7bf8741a96a926133ee71eca959fa32e17ccd55a6d79435ecbcb179eab93c\n",
      "  Stored in directory: /home/chris/.cache/pip/wheels/13/8a/92/4a4267b8371d6e453121c917021173b4a682d691f123b9f647\n",
      "Successfully built helper\n",
      "Installing collected packages: helper\n",
      "Successfully installed helper-2.5.0\n",
      "Note: you may need to restart the kernel to use updated packages.\n"
     ]
    }
   ],
   "source": [
    "pip install -q helper"
   ]
  },
  {
   "cell_type": "markdown",
   "metadata": {
    "id": "JVGkY8KaFFHn"
   },
   "source": [
    "# Imports"
   ]
  },
  {
   "cell_type": "code",
   "execution_count": 6,
   "metadata": {
    "id": "j-vh5Pg8Eu-J"
   },
   "outputs": [],
   "source": [
    "############## PLEASE RUN THIS CELL FIRST! ###################\n",
    "\n",
    "# import everything and define a test runner function\n",
    "from importlib import reload\n",
    "from helper import run\n",
    "import ecc\n",
    "import helper"
   ]
  },
  {
   "cell_type": "markdown",
   "metadata": {
    "id": "a2v01JyikMuM"
   },
   "source": [
    "# Serialization"
   ]
  },
  {
   "cell_type": "markdown",
   "metadata": {
    "id": "IkmHFVJQkOsF"
   },
   "source": [
    "To communicate the classes we've created to other computers, we use serialization.\n",
    "\n",
    "*Standard for Efficient Cryptography (SEC)* is the serialization standard. There are two SEC formats, compressed and uncompressed.\n",
    "\n",
    "The format for uncompressed SEC for a point *P = (x.y)*:\n",
    "\n",
    "Start wit hthe prefix byte `0x04`, append the x coordinate in 32 bytes as a **big-endian integer** then do the same for the y coordinate.\n",
    "\n",
    "Remember, `0x` is the indicator that the format is hexadecimal.\n",
    "\n",
    "Big-endian is the 'big end' of how a number is read. 123 = 100 + 20 + 3."
   ]
  },
  {
   "cell_type": "markdown",
   "metadata": {
    "id": "quJUZ8JaEu-L"
   },
   "source": [
    "# Exercise 1"
   ]
  },
  {
   "cell_type": "markdown",
   "metadata": {
    "id": "NoD8DB9IFIG2"
   },
   "source": [
    "\n",
    "\n",
    "Find the uncompressed SEC format for the Public Key where the Private Key secrets are:\n",
    "\n",
    "* 5000\n",
    "* \\\\(2018^{5}\\\\)\n",
    "* 0xdeadbeef12345"
   ]
  },
  {
   "cell_type": "code",
   "execution_count": 7,
   "metadata": {
    "colab": {
     "base_uri": "https://localhost:8080/"
    },
    "id": "FUSyoOCJEu-M",
    "outputId": "b5953a81-3814-4e23-c900-2f4eb00d70b2"
   },
   "outputs": [
    {
     "name": "stdout",
     "output_type": "stream",
     "text": [
      "S256Point(ffe558e388852f0120e46af2d1b370f85854a8eb0841811ece0e3e03d282d57c, 315dc72890a4f10a1481c031b03b351b0dc79901ca18a00cf009dbdb157a1d10)\n",
      "04ffe558e388852f0120e46af2d1b370f85854a8eb0841811ece0e3e03d282d57c315dc72890a4f10a1481c031b03b351b0dc79901ca18a00cf009dbdb157a1d10\n"
     ]
    }
   ],
   "source": [
    "# Exercise 1 – Deriving the Public Key (Uncompressed SEC Format)\n",
    "\n",
    "from ecc import PrivateKey, S256Point\n",
    "\n",
    "# --- Step 1: Initialize the private key ---\n",
    "# The PrivateKey class takes an integer (the secret exponent)\n",
    "# and internally calculates the public key point (k * G)\n",
    "e1 = PrivateKey(5000)\n",
    "\n",
    "# --- Step 2: Print the public key point ---\n",
    "# This will output an S256Point (x, y) on the secp256k1 curve\n",
    "print(e1.point)\n",
    "\n",
    "# --- Step 3: Serialize the public key in uncompressed SEC format ---\n",
    "# The SEC (Standards for Efficient Cryptography) format is a binary representation of the public key.\n",
    "# Uncompressed format = 0x04 + x (32 bytes) + y (32 bytes)\n",
    "P1 = e1.point.sec(compressed=False)\n",
    "\n",
    "# --- Step 4: Convert SEC binary to hex and print ---\n",
    "# .hex() converts the bytes to a human-readable hex string\n",
    "print(P1.hex())\n"
   ]
  },
  {
   "cell_type": "code",
   "execution_count": 20,
   "metadata": {},
   "outputs": [
    {
     "name": "stdout",
     "output_type": "stream",
     "text": [
      "b'\\x03W\\xa4\\xf3h\\x86\\x8a\\x8amW)\\x91\\xe4\\x84\\xe6d\\x81\\x0f\\xf1L\\x05\\xc0\\xfa\\x022u%\\x11Q\\xfe\\x0eS\\xd1'\n"
     ]
    }
   ],
   "source": [
    "print(P1)"
   ]
  },
  {
   "cell_type": "code",
   "execution_count": 8,
   "metadata": {
    "colab": {
     "base_uri": "https://localhost:8080/"
    },
    "id": "Qa1RmZuKqb9F",
    "outputId": "301062ce-62ea-4c1a-bfd2-74c8d28f7484"
   },
   "outputs": [
    {
     "name": "stdout",
     "output_type": "stream",
     "text": [
      "S256Point(027f3da1918455e03c46f659266a1bb5204e959db7364d2f473bdf8f0a13cc9d, ff87647fd023c13b4a4994f17691895806e1b40b57f4fd22581a4f46851f3b06)\n",
      "04027f3da1918455e03c46f659266a1bb5204e959db7364d2f473bdf8f0a13cc9dff87647fd023c13b4a4994f17691895806e1b40b57f4fd22581a4f46851f3b06\n"
     ]
    }
   ],
   "source": [
    "e2 = PrivateKey(2018**5)\n",
    "# print(e2)\n",
    "print(e2.point)\n",
    "\n",
    "P2 = e2.point.sec(compressed=False)\n",
    "print(P2.hex())"
   ]
  },
  {
   "cell_type": "code",
   "execution_count": 9,
   "metadata": {
    "colab": {
     "base_uri": "https://localhost:8080/"
    },
    "id": "GsW4cJ0SqdXu",
    "outputId": "1d39fc01-39af-4734-85b9-03b071abe0a9"
   },
   "outputs": [
    {
     "name": "stdout",
     "output_type": "stream",
     "text": [
      "S256Point(d90cd625ee87dd38656dd95cf79f65f60f7273b67d3096e68bd81e4f5342691f, 842efa762fd59961d0e99803c61edba8b3e3f7dc3a341836f97733aebf987121)\n",
      "b'\\x04\\xd9\\x0c\\xd6%\\xee\\x87\\xdd8em\\xd9\\\\\\xf7\\x9fe\\xf6\\x0frs\\xb6}0\\x96\\xe6\\x8b\\xd8\\x1eOSBi\\x1f\\x84.\\xfav/\\xd5\\x99a\\xd0\\xe9\\x98\\x03\\xc6\\x1e\\xdb\\xa8\\xb3\\xe3\\xf7\\xdc:4\\x186\\xf9w3\\xae\\xbf\\x98q!'\n"
     ]
    }
   ],
   "source": [
    "e3 = PrivateKey(0xdeadbeef12345)\n",
    "# print(e3)\n",
    "print(e3.point)\n",
    "\n",
    "P3 = e3.point.sec(compressed=False)\n",
    "print(P3)"
   ]
  },
  {
   "cell_type": "markdown",
   "metadata": {
    "id": "5xGcbpRht-Ca"
   },
   "source": [
    "Serialization for copmressed SEC format:\n",
    "\n",
    "Start with the prefix byte, if *y* is even, it's `0x02`, otherwise it's `0x03`. Next, append the x coordinate in 32 bytes as a big-endian integer.\n",
    "\n",
    "**Why?**\n",
    "\n",
    "Evenness and oddness refer to the two possible y values (square roots) for a given x on the elliptic curve.\n",
    "\n",
    "It's a simple way to efficiently represent the full point by keeping only x and telling whether y is even or odd."
   ]
  },
  {
   "cell_type": "markdown",
   "metadata": {
    "id": "SUQ0cce0Eu-M"
   },
   "source": [
    "# Exercise 2"
   ]
  },
  {
   "cell_type": "markdown",
   "metadata": {
    "id": "ojGAlzRmFJqP"
   },
   "source": [
    "\n",
    "\n",
    "Find the Compressed SEC format for the Public Key where the Private Key secrets are:\n",
    "\n",
    "* 5001\n",
    "* \\\\(2019^{5}\\\\)\n",
    "* 0xdeadbeef54321"
   ]
  },
  {
   "cell_type": "code",
   "execution_count": 10,
   "metadata": {
    "colab": {
     "base_uri": "https://localhost:8080/"
    },
    "id": "zdNh-aFeEu-M",
    "outputId": "708ffd3c-fae9-432d-839b-860c9c041496"
   },
   "outputs": [
    {
     "name": "stdout",
     "output_type": "stream",
     "text": [
      "S256Point(57a4f368868a8a6d572991e484e664810ff14c05c0fa023275251151fe0e53d1, 0d6cc87c5bc29b83368e17869e964f2f53d52ea3aa3e5a9efa1fa578123a0c6d)\n",
      "0357a4f368868a8a6d572991e484e664810ff14c05c0fa023275251151fe0e53d1\n"
     ]
    }
   ],
   "source": [
    "# Exercise 2\n",
    "\n",
    "from ecc import PrivateKey\n",
    "\n",
    "# 5001\n",
    "# 2019**5\n",
    "# 0xdeadbeef54321\n",
    "\n",
    "e1 = PrivateKey(5001)\n",
    "# print(e1)\n",
    "print(e1.point)\n",
    "\n",
    "P1 = e1.point.sec(compressed=True)\n",
    "print(P1.hex())"
   ]
  },
  {
   "cell_type": "code",
   "execution_count": 11,
   "metadata": {
    "colab": {
     "base_uri": "https://localhost:8080/"
    },
    "id": "57KdmJQIvoum",
    "outputId": "9d8a7173-316c-4b08-80a0-368b466521aa"
   },
   "outputs": [
    {
     "name": "stdout",
     "output_type": "stream",
     "text": [
      "y is odd\n"
     ]
    }
   ],
   "source": [
    "from ecc import PrivateKey\n",
    "\n",
    "e1 = PrivateKey(5001)\n",
    "compressed = e1.point.sec(compressed=True)\n",
    "\n",
    "# First byte indicates y-coordinate parity\n",
    "prefix = compressed[0]\n",
    "\n",
    "if prefix == 0x02:\n",
    "    print(\"y is even\")\n",
    "elif prefix == 0x03:\n",
    "    print(\"y is odd\")\n",
    "else:\n",
    "    print(\"Unknown format\")\n"
   ]
  },
  {
   "cell_type": "code",
   "execution_count": 12,
   "metadata": {
    "colab": {
     "base_uri": "https://localhost:8080/"
    },
    "id": "Qr24n7nzv6q4",
    "outputId": "6a43a697-b5df-42f9-c460-1de775605e07"
   },
   "outputs": [
    {
     "name": "stdout",
     "output_type": "stream",
     "text": [
      "S256Point(933ec2d2b111b92737ec12f1c5d20f3233a0ad21cd8b36d0bca7a0cfa5cb8701, 96cbbfdd572f75ace44d0aa59fbab6326cb9f909385dcd066ea27affef5a488c)\n",
      "02933ec2d2b111b92737ec12f1c5d20f3233a0ad21cd8b36d0bca7a0cfa5cb8701\n"
     ]
    }
   ],
   "source": [
    "e2 = PrivateKey(2019**5)\n",
    "# print(e2)\n",
    "print(e2.point)\n",
    "\n",
    "P2 = e2.point.sec(compressed=True)\n",
    "print(P2.hex())"
   ]
  },
  {
   "cell_type": "code",
   "execution_count": 13,
   "metadata": {
    "colab": {
     "base_uri": "https://localhost:8080/"
    },
    "id": "SQsuFBBrv-5Y",
    "outputId": "4787c3fc-801a-41ad-a492-5470b64b0c03"
   },
   "outputs": [
    {
     "name": "stdout",
     "output_type": "stream",
     "text": [
      "S256Point(96be5b1292f6c856b3c5654e886fc13511462059089cdf9c479623bfcbe77690, 32555d1b027c25c2828ba96a176d78419cd1236f71558f6187aec09611325eb6)\n",
      "0296be5b1292f6c856b3c5654e886fc13511462059089cdf9c479623bfcbe77690\n"
     ]
    }
   ],
   "source": [
    "e3 = PrivateKey(0xdeadbeef54321)\n",
    "# print(e3)\n",
    "print(e3.point)\n",
    "\n",
    "P3 = e3.point.sec(compressed=True)\n",
    "print(P3.hex())"
   ]
  },
  {
   "cell_type": "markdown",
   "metadata": {
    "id": "wJNlsXAYxAYr"
   },
   "source": [
    "By investigation of the serialisation, we can see they are odd, even and even.\n",
    "\n",
    "We can also attempt to check for **parity (odd / even) by checking the y coordinate of the point:"
   ]
  },
  {
   "cell_type": "code",
   "execution_count": 14,
   "metadata": {
    "colab": {
     "base_uri": "https://localhost:8080/"
    },
    "id": "UfvuF1eoxgLj",
    "outputId": "9882376d-ae8f-45fc-86b9-75e560f25c6f"
   },
   "outputs": [
    {
     "name": "stdout",
     "output_type": "stream",
     "text": [
      "S256Point(96be5b1292f6c856b3c5654e886fc13511462059089cdf9c479623bfcbe77690, 32555d1b027c25c2828ba96a176d78419cd1236f71558f6187aec09611325eb6)\n",
      "y is even\n",
      "0296be5b1292f6c856b3c5654e886fc13511462059089cdf9c479623bfcbe77690\n"
     ]
    }
   ],
   "source": [
    "from ecc import PrivateKey\n",
    "\n",
    "e3 = PrivateKey(0xdeadbeef54321)\n",
    "\n",
    "# Print the full point\n",
    "P3 = e3.point\n",
    "print(P3)\n",
    "\n",
    "# Check if y is even or odd\n",
    "y_value = P3.y.num #grabs the integer number\n",
    "if y_value % 2 == 0:\n",
    "    print(\"y is even\")\n",
    "else:\n",
    "    print(\"y is odd\")\n",
    "\n",
    "# Also print compressed SEC for confirmation\n",
    "print(e3.point.sec(compressed=True).hex())"
   ]
  },
  {
   "cell_type": "markdown",
   "metadata": {
    "id": "DIW3Il-S1NCr"
   },
   "source": [
    "**DER Signatures**\n",
    "\n",
    "Distinguished Encoding Rules is defined by 6 formats.\n",
    "\n"
   ]
  },
  {
   "cell_type": "markdown",
   "metadata": {
    "id": "grGVylVxEu-M"
   },
   "source": [
    "# Exercise 3"
   ]
  },
  {
   "cell_type": "markdown",
   "metadata": {
    "id": "SZX4niusFNXU"
   },
   "source": [
    "\n",
    "\n",
    "Find the DER format for a signature whose `r` and `s` values are:\n",
    "\n",
    "* r =\n",
    "\n",
    "`0x37206a0610995c58074999cb9767b87af4c4978db68c06e8e6e81d282047a7c6`\n",
    "\n",
    "* s =\n",
    "\n",
    "`0x8ca63759c1157ebeaec0d03cecca119fc9a75bf8e6d0fa65c841c8e2738cdaec`"
   ]
  },
  {
   "cell_type": "code",
   "execution_count": 15,
   "metadata": {
    "colab": {
     "base_uri": "https://localhost:8080/",
     "height": 53
    },
    "id": "5HB2j-vdEu-N",
    "outputId": "96a44440-6927-45c7-ed51-04f2b5487894"
   },
   "outputs": [
    {
     "data": {
      "text/plain": [
       "'3045022037206a0610995c58074999cb9767b87af4c4978db68c06e8e6e81d282047a7c60221008ca63759c1157ebeaec0d03cecca119fc9a75bf8e6d0fa65c841c8e2738cdaec'"
      ]
     },
     "execution_count": 15,
     "metadata": {},
     "output_type": "execute_result"
    }
   ],
   "source": [
    "# Exercise 3\n",
    "\n",
    "from ecc import Signature\n",
    "\n",
    "r = 0x37206a0610995c58074999cb9767b87af4c4978db68c06e8e6e81d282047a7c6\n",
    "s = 0x8ca63759c1157ebeaec0d03cecca119fc9a75bf8e6d0fa65c841c8e2738cdaec\n",
    "\n",
    "sig = Signature(r,s) #initialise the Signature class with (r,s).\n",
    "sig.der().hex()"
   ]
  },
  {
   "cell_type": "markdown",
   "metadata": {
    "id": "ZLuNyPUjqQxZ"
   },
   "source": [
    "**0x30** or **30** — DER SEQUENCE tag  \n",
    "**0x45** — Total length of the sequence: 69 bytes\n",
    "\n",
    "**0x02** — INTEGER tag  \n",
    "**0x20** — Length of r: 32 bytes\n",
    "\n",
    "**r** = 37206a0610995c58074999cb9767b87af4c4978db68c06e8e6e81d282047a7c6\n",
    "\n",
    "**0x02** — INTEGER tag  \n",
    "**0x21** — Length of s: 33 bytes (includes leading 0x00 to ensure positive)\n",
    "\n",
    "**s** = 008ca63759c1157ebeaec0d03cecca119fc9a75bf8e6d0fa65c841c8e2738cdaec  \n",
    "→ Leading **0x00** is added because the first byte of `s` is **0x8c** (≥ 0x80), which could be interpreted as negative if not padded.\n",
    "\n",
    "**Actual s** = 8ca63759c1157ebeaec0d03cecca119fc9a75bf8e6d0fa65c841c8e2738cdaec\n"
   ]
  },
  {
   "cell_type": "markdown",
   "metadata": {
    "id": "Vidcy0Y4q7qP"
   },
   "source": [
    "**Transmitting your public key**\n",
    "\n",
    "currently using Base58 but going to be phased out by possibly Bech32.\n"
   ]
  },
  {
   "cell_type": "markdown",
   "metadata": {
    "id": "LBnG-IrqEu-N"
   },
   "source": [
    "# Exercise 4"
   ]
  },
  {
   "cell_type": "markdown",
   "metadata": {
    "id": "idXmBSZ_FPEe"
   },
   "source": [
    "\n",
    "\n",
    "Convert the following hex to binary and then to Base58:\n",
    "\n",
    "* `7c076ff316692a3d7eb3c3bb0f8b1488cf72e1afcd929e29307032997a838a3d`\n",
    "* `eff69ef2b1bd93a66ed5219add4fb51e11a840f404876325a1e8ffe0529a2c`\n",
    "* `c7207fee197d27c618aea621406f6bf5ef6fca38681d82b2f06fddbdce6feab6`"
   ]
  },
  {
   "cell_type": "code",
   "execution_count": 16,
   "metadata": {
    "colab": {
     "base_uri": "https://localhost:8080/"
    },
    "id": "Jvb_sABSEu-N",
    "outputId": "79bc4c5e-c117-4e84-cc2c-c4f1eaf92efb"
   },
   "outputs": [
    {
     "name": "stdout",
     "output_type": "stream",
     "text": [
      "b'|\\x07o\\xf3\\x16i*=~\\xb3\\xc3\\xbb\\x0f\\x8b\\x14\\x88\\xcfr\\xe1\\xaf\\xcd\\x92\\x9e)0p2\\x99z\\x83\\x8a='\n",
      "9MA8fRQrT4u8Zj8ZRd6MAiiyaxb2Y1CMpvVkHQu5hVM6\n",
      "4fE3H2E6XMp4SsxtwinF7w9a34ooUrwWe4WsW1458Pd\n",
      "EQJsjkd6JaGwxrjEhfeqPenqHwrBmPQZjJGNSCHBkcF7\n"
     ]
    }
   ],
   "source": [
    "# Exercise 4\n",
    "\n",
    "from helper import encode_base58\n",
    "\n",
    "# 7c076ff316692a3d7eb3c3bb0f8b1488cf72e1afcd929e29307032997a838a3d\n",
    "# eff69ef2b1bd93a66ed5219add4fb51e11a840f404876325a1e8ffe0529a2c\n",
    "# c7207fee197d27c618aea621406f6bf5ef6fca38681d82b2f06fddbdce6feab6\n",
    "\n",
    "bin1 = bytes.fromhex('7c076ff316692a3d7eb3c3bb0f8b1488cf72e1afcd929e29307032997a838a3d')\n",
    "bin2 = bytes.fromhex('eff69ef2b1bd93a66ed5219add4fb51e11a840f404876325a1e8ffe0529a2c')\n",
    "bin3 = bytes.fromhex('c7207fee197d27c618aea621406f6bf5ef6fca38681d82b2f06fddbdce6feab6')\n",
    "\n",
    "bin1_base58 = encode_base58(bin1)\n",
    "bin2_base58 = encode_base58(bin2)\n",
    "bin3_base58 = encode_base58(bin3)\n",
    "\n",
    "print(bin1) # binary data, specifically Python bytes object` (also called a byte string).\n",
    "print(bin1_base58)\n",
    "print(bin2_base58)\n",
    "print(bin3_base58)"
   ]
  },
  {
   "cell_type": "markdown",
   "metadata": {
    "id": "hv6-BwqdNxe-"
   },
   "source": [
    "Hex strings uses 0-9 digits and letters a-f (base-16). \n",
    "\n",
    "Base58 uses digits and letters but excludes confusing characters like 0, O, I, l. \n",
    "\n",
    "Base58 strings can look similar to the original hex if certain byte patterns are present, but will have different representations. \n",
    "\n",
    "**Bitcoin address Format**\n",
    "\n",
    "mainnet address vs testnet: `0x00` and `0x6f`\n",
    "\n",
    "5 steps to the format.\n",
    "\n",
    "the *checksum* process is in one of the steps (4th, per the book)."
   ]
  },
  {
   "cell_type": "markdown",
   "metadata": {
    "id": "Wp9OkckXEu-O"
   },
   "source": [
    "# Exercise 5"
   ]
  },
  {
   "cell_type": "markdown",
   "metadata": {
    "id": "9USfIrBqFRGQ"
   },
   "source": [
    "\n",
    "\n",
    "Find the address corresponding to Public Keys whose Private Key secrets are:\n",
    "\n",
    "* 5002 (use uncompressed SEC, on testnet)\n",
    "* \\\\(2020^{5}\\\\) (use compressed SEC, on testnet)\n",
    "* 0x12345deadbeef (use compressed SEC on mainnet)*italicized text*"
   ]
  },
  {
   "cell_type": "markdown",
   "metadata": {},
   "source": [
    "____\n",
    "\n",
    "Step 1: Initialize the private key.\n",
    "Step 2: Determine the point form of the private key. \n",
    "Step 3: Use the point form to determine the address. "
   ]
  },
  {
   "cell_type": "code",
   "execution_count": 18,
   "metadata": {
    "colab": {
     "base_uri": "https://localhost:8080/"
    },
    "id": "rrPCUSpLRFSD",
    "outputId": "ab0384ec-2b3c-4457-9146-dc2bd0802434"
   },
   "outputs": [
    {
     "name": "stdout",
     "output_type": "stream",
     "text": [
      "Python 3.10.12\n"
     ]
    }
   ],
   "source": [
    "!python --version"
   ]
  },
  {
   "cell_type": "code",
   "execution_count": 19,
   "metadata": {
    "colab": {
     "base_uri": "https://localhost:8080/"
    },
    "id": "JJgkbsnSRHWM",
    "outputId": "0272739b-a27f-4097-9a15-a621f3cf6be2"
   },
   "outputs": [
    {
     "name": "stdout",
     "output_type": "stream",
     "text": [
      "3.10.12 (main, Aug 15 2025, 14:32:43) [GCC 11.4.0]\n"
     ]
    }
   ],
   "source": [
    "import sys\n",
    "print(sys.version)"
   ]
  },
  {
   "cell_type": "code",
   "execution_count": 22,
   "metadata": {},
   "outputs": [
    {
     "ename": "ValueError",
     "evalue": "unsupported hash type ripemd160",
     "output_type": "error",
     "traceback": [
      "\u001b[0;31m---------------------------------------------------------------------------\u001b[0m",
      "\u001b[0;31mValueError\u001b[0m                                Traceback (most recent call last)",
      "File \u001b[0;32m/usr/lib/python3.10/hashlib.py:160\u001b[0m, in \u001b[0;36m__hash_new\u001b[0;34m(name, data, **kwargs)\u001b[0m\n\u001b[1;32m    159\u001b[0m \u001b[38;5;28;01mtry\u001b[39;00m:\n\u001b[0;32m--> 160\u001b[0m     \u001b[38;5;28;01mreturn\u001b[39;00m \u001b[43m_hashlib\u001b[49m\u001b[38;5;241;43m.\u001b[39;49m\u001b[43mnew\u001b[49m\u001b[43m(\u001b[49m\u001b[43mname\u001b[49m\u001b[43m,\u001b[49m\u001b[43m \u001b[49m\u001b[43mdata\u001b[49m\u001b[43m,\u001b[49m\u001b[43m \u001b[49m\u001b[38;5;241;43m*\u001b[39;49m\u001b[38;5;241;43m*\u001b[39;49m\u001b[43mkwargs\u001b[49m\u001b[43m)\u001b[49m\n\u001b[1;32m    161\u001b[0m \u001b[38;5;28;01mexcept\u001b[39;00m \u001b[38;5;167;01mValueError\u001b[39;00m:\n\u001b[1;32m    162\u001b[0m     \u001b[38;5;66;03m# If the _hashlib module (OpenSSL) doesn't support the named\u001b[39;00m\n\u001b[1;32m    163\u001b[0m     \u001b[38;5;66;03m# hash, try using our builtin implementations.\u001b[39;00m\n\u001b[1;32m    164\u001b[0m     \u001b[38;5;66;03m# This allows for SHA224/256 and SHA384/512 support even though\u001b[39;00m\n\u001b[1;32m    165\u001b[0m     \u001b[38;5;66;03m# the OpenSSL library prior to 0.9.8 doesn't provide them.\u001b[39;00m\n",
      "\u001b[0;31mValueError\u001b[0m: [digital envelope routines] unsupported",
      "\nDuring handling of the above exception, another exception occurred:\n",
      "\u001b[0;31mValueError\u001b[0m                                Traceback (most recent call last)",
      "Cell \u001b[0;32mIn[22], line 2\u001b[0m\n\u001b[1;32m      1\u001b[0m \u001b[38;5;28;01mimport\u001b[39;00m\u001b[38;5;250m \u001b[39m\u001b[38;5;21;01mhashlib\u001b[39;00m\n\u001b[0;32m----> 2\u001b[0m \u001b[43mhashlib\u001b[49m\u001b[38;5;241;43m.\u001b[39;49m\u001b[43mnew\u001b[49m\u001b[43m(\u001b[49m\u001b[38;5;124;43m'\u001b[39;49m\u001b[38;5;124;43mripemd160\u001b[39;49m\u001b[38;5;124;43m'\u001b[39;49m\u001b[43m,\u001b[49m\u001b[43m \u001b[49m\u001b[38;5;124;43mb\u001b[39;49m\u001b[38;5;124;43m'\u001b[39;49m\u001b[38;5;124;43mtest\u001b[39;49m\u001b[38;5;124;43m'\u001b[39;49m\u001b[43m)\u001b[49m\u001b[38;5;241m.\u001b[39mhexdigest()\n",
      "File \u001b[0;32m/usr/lib/python3.10/hashlib.py:166\u001b[0m, in \u001b[0;36m__hash_new\u001b[0;34m(name, data, **kwargs)\u001b[0m\n\u001b[1;32m    160\u001b[0m     \u001b[38;5;28;01mreturn\u001b[39;00m _hashlib\u001b[38;5;241m.\u001b[39mnew(name, data, \u001b[38;5;241m*\u001b[39m\u001b[38;5;241m*\u001b[39mkwargs)\n\u001b[1;32m    161\u001b[0m \u001b[38;5;28;01mexcept\u001b[39;00m \u001b[38;5;167;01mValueError\u001b[39;00m:\n\u001b[1;32m    162\u001b[0m     \u001b[38;5;66;03m# If the _hashlib module (OpenSSL) doesn't support the named\u001b[39;00m\n\u001b[1;32m    163\u001b[0m     \u001b[38;5;66;03m# hash, try using our builtin implementations.\u001b[39;00m\n\u001b[1;32m    164\u001b[0m     \u001b[38;5;66;03m# This allows for SHA224/256 and SHA384/512 support even though\u001b[39;00m\n\u001b[1;32m    165\u001b[0m     \u001b[38;5;66;03m# the OpenSSL library prior to 0.9.8 doesn't provide them.\u001b[39;00m\n\u001b[0;32m--> 166\u001b[0m     \u001b[38;5;28;01mreturn\u001b[39;00m \u001b[43m__get_builtin_constructor\u001b[49m\u001b[43m(\u001b[49m\u001b[43mname\u001b[49m\u001b[43m)\u001b[49m(data)\n",
      "File \u001b[0;32m/usr/lib/python3.10/hashlib.py:123\u001b[0m, in \u001b[0;36m__get_builtin_constructor\u001b[0;34m(name)\u001b[0m\n\u001b[1;32m    120\u001b[0m \u001b[38;5;28;01mif\u001b[39;00m constructor \u001b[38;5;129;01mis\u001b[39;00m \u001b[38;5;129;01mnot\u001b[39;00m \u001b[38;5;28;01mNone\u001b[39;00m:\n\u001b[1;32m    121\u001b[0m     \u001b[38;5;28;01mreturn\u001b[39;00m constructor\n\u001b[0;32m--> 123\u001b[0m \u001b[38;5;28;01mraise\u001b[39;00m \u001b[38;5;167;01mValueError\u001b[39;00m(\u001b[38;5;124m'\u001b[39m\u001b[38;5;124munsupported hash type \u001b[39m\u001b[38;5;124m'\u001b[39m \u001b[38;5;241m+\u001b[39m name)\n",
      "\u001b[0;31mValueError\u001b[0m: unsupported hash type ripemd160"
     ]
    }
   ],
   "source": [
    "import hashlib\n",
    "hashlib.new('ripemd160', b'test').hexdigest()"
   ]
  },
  {
   "cell_type": "code",
   "execution_count": 21,
   "metadata": {},
   "outputs": [
    {
     "ename": "ValueError",
     "evalue": "unsupported hash type ripemd160",
     "output_type": "error",
     "traceback": [
      "\u001b[0;31m---------------------------------------------------------------------------\u001b[0m",
      "\u001b[0;31mValueError\u001b[0m                                Traceback (most recent call last)",
      "File \u001b[0;32m/usr/lib/python3.10/hashlib.py:160\u001b[0m, in \u001b[0;36m__hash_new\u001b[0;34m(name, data, **kwargs)\u001b[0m\n\u001b[1;32m    159\u001b[0m \u001b[38;5;28;01mtry\u001b[39;00m:\n\u001b[0;32m--> 160\u001b[0m     \u001b[38;5;28;01mreturn\u001b[39;00m \u001b[43m_hashlib\u001b[49m\u001b[38;5;241;43m.\u001b[39;49m\u001b[43mnew\u001b[49m\u001b[43m(\u001b[49m\u001b[43mname\u001b[49m\u001b[43m,\u001b[49m\u001b[43m \u001b[49m\u001b[43mdata\u001b[49m\u001b[43m,\u001b[49m\u001b[43m \u001b[49m\u001b[38;5;241;43m*\u001b[39;49m\u001b[38;5;241;43m*\u001b[39;49m\u001b[43mkwargs\u001b[49m\u001b[43m)\u001b[49m\n\u001b[1;32m    161\u001b[0m \u001b[38;5;28;01mexcept\u001b[39;00m \u001b[38;5;167;01mValueError\u001b[39;00m:\n\u001b[1;32m    162\u001b[0m     \u001b[38;5;66;03m# If the _hashlib module (OpenSSL) doesn't support the named\u001b[39;00m\n\u001b[1;32m    163\u001b[0m     \u001b[38;5;66;03m# hash, try using our builtin implementations.\u001b[39;00m\n\u001b[1;32m    164\u001b[0m     \u001b[38;5;66;03m# This allows for SHA224/256 and SHA384/512 support even though\u001b[39;00m\n\u001b[1;32m    165\u001b[0m     \u001b[38;5;66;03m# the OpenSSL library prior to 0.9.8 doesn't provide them.\u001b[39;00m\n",
      "\u001b[0;31mValueError\u001b[0m: [digital envelope routines] unsupported",
      "\nDuring handling of the above exception, another exception occurred:\n",
      "\u001b[0;31mValueError\u001b[0m                                Traceback (most recent call last)",
      "Cell \u001b[0;32mIn[21], line 5\u001b[0m\n\u001b[1;32m      3\u001b[0m \u001b[38;5;66;03m# 1. Private key: 5002 (uncompressed SEC, testnet)\u001b[39;00m\n\u001b[1;32m      4\u001b[0m key1 \u001b[38;5;241m=\u001b[39m PrivateKey(\u001b[38;5;241m5002\u001b[39m)\n\u001b[0;32m----> 5\u001b[0m addr1 \u001b[38;5;241m=\u001b[39m \u001b[43mkey1\u001b[49m\u001b[38;5;241;43m.\u001b[39;49m\u001b[43mpoint\u001b[49m\u001b[38;5;241;43m.\u001b[39;49m\u001b[43maddress\u001b[49m\u001b[43m(\u001b[49m\u001b[43mcompressed\u001b[49m\u001b[38;5;241;43m=\u001b[39;49m\u001b[38;5;28;43;01mFalse\u001b[39;49;00m\u001b[43m,\u001b[49m\u001b[43m \u001b[49m\u001b[43mtestnet\u001b[49m\u001b[38;5;241;43m=\u001b[39;49m\u001b[38;5;28;43;01mTrue\u001b[39;49;00m\u001b[43m)\u001b[49m\n\u001b[1;32m      6\u001b[0m \u001b[38;5;28mprint\u001b[39m(\u001b[38;5;124m\"\u001b[39m\u001b[38;5;124m1. Uncompressed / Testnet:\u001b[39m\u001b[38;5;124m\"\u001b[39m, addr1)\n\u001b[1;32m      8\u001b[0m \u001b[38;5;66;03m# 2. Private key: 2020**5 (compressed SEC, testnet)\u001b[39;00m\n",
      "File \u001b[0;32m~/programmingbitcoin/code-ch04/ecc.py:426\u001b[0m, in \u001b[0;36mS256Point.address\u001b[0;34m(self, compressed, testnet)\u001b[0m\n\u001b[1;32m    424\u001b[0m \u001b[38;5;28;01mdef\u001b[39;00m\u001b[38;5;250m \u001b[39m\u001b[38;5;21maddress\u001b[39m(\u001b[38;5;28mself\u001b[39m, compressed\u001b[38;5;241m=\u001b[39m\u001b[38;5;28;01mTrue\u001b[39;00m, testnet\u001b[38;5;241m=\u001b[39m\u001b[38;5;28;01mFalse\u001b[39;00m):\n\u001b[1;32m    425\u001b[0m \u001b[38;5;250m    \u001b[39m\u001b[38;5;124;03m'''Returns the address string'''\u001b[39;00m\n\u001b[0;32m--> 426\u001b[0m     h160 \u001b[38;5;241m=\u001b[39m \u001b[38;5;28;43mself\u001b[39;49m\u001b[38;5;241;43m.\u001b[39;49m\u001b[43mhash160\u001b[49m\u001b[43m(\u001b[49m\u001b[43mcompressed\u001b[49m\u001b[43m)\u001b[49m\n\u001b[1;32m    427\u001b[0m     \u001b[38;5;28;01mif\u001b[39;00m testnet:\n\u001b[1;32m    428\u001b[0m         prefix \u001b[38;5;241m=\u001b[39m \u001b[38;5;124mb\u001b[39m\u001b[38;5;124m'\u001b[39m\u001b[38;5;130;01m\\x6f\u001b[39;00m\u001b[38;5;124m'\u001b[39m\n",
      "File \u001b[0;32m~/programmingbitcoin/code-ch04/ecc.py:422\u001b[0m, in \u001b[0;36mS256Point.hash160\u001b[0;34m(self, compressed)\u001b[0m\n\u001b[1;32m    421\u001b[0m \u001b[38;5;28;01mdef\u001b[39;00m\u001b[38;5;250m \u001b[39m\u001b[38;5;21mhash160\u001b[39m(\u001b[38;5;28mself\u001b[39m, compressed\u001b[38;5;241m=\u001b[39m\u001b[38;5;28;01mTrue\u001b[39;00m):\n\u001b[0;32m--> 422\u001b[0m     \u001b[38;5;28;01mreturn\u001b[39;00m \u001b[43mhash160\u001b[49m\u001b[43m(\u001b[49m\u001b[38;5;28;43mself\u001b[39;49m\u001b[38;5;241;43m.\u001b[39;49m\u001b[43msec\u001b[49m\u001b[43m(\u001b[49m\u001b[43mcompressed\u001b[49m\u001b[43m)\u001b[49m\u001b[43m)\u001b[49m\n",
      "File \u001b[0;32m~/programmingbitcoin/code-ch04/helper.py:20\u001b[0m, in \u001b[0;36mhash160\u001b[0;34m(s)\u001b[0m\n\u001b[1;32m     18\u001b[0m \u001b[38;5;28;01mdef\u001b[39;00m\u001b[38;5;250m \u001b[39m\u001b[38;5;21mhash160\u001b[39m(s):\n\u001b[1;32m     19\u001b[0m \u001b[38;5;250m    \u001b[39m\u001b[38;5;124;03m'''sha256 followed by ripemd160'''\u001b[39;00m\n\u001b[0;32m---> 20\u001b[0m     \u001b[38;5;28;01mreturn\u001b[39;00m \u001b[43mhashlib\u001b[49m\u001b[38;5;241;43m.\u001b[39;49m\u001b[43mnew\u001b[49m\u001b[43m(\u001b[49m\u001b[38;5;124;43m'\u001b[39;49m\u001b[38;5;124;43mripemd160\u001b[39;49m\u001b[38;5;124;43m'\u001b[39;49m\u001b[43m,\u001b[49m\u001b[43m \u001b[49m\u001b[43mhashlib\u001b[49m\u001b[38;5;241;43m.\u001b[39;49m\u001b[43msha256\u001b[49m\u001b[43m(\u001b[49m\u001b[43ms\u001b[49m\u001b[43m)\u001b[49m\u001b[38;5;241;43m.\u001b[39;49m\u001b[43mdigest\u001b[49m\u001b[43m(\u001b[49m\u001b[43m)\u001b[49m\u001b[43m)\u001b[49m\u001b[38;5;241m.\u001b[39mdigest()\n",
      "File \u001b[0;32m/usr/lib/python3.10/hashlib.py:166\u001b[0m, in \u001b[0;36m__hash_new\u001b[0;34m(name, data, **kwargs)\u001b[0m\n\u001b[1;32m    160\u001b[0m     \u001b[38;5;28;01mreturn\u001b[39;00m _hashlib\u001b[38;5;241m.\u001b[39mnew(name, data, \u001b[38;5;241m*\u001b[39m\u001b[38;5;241m*\u001b[39mkwargs)\n\u001b[1;32m    161\u001b[0m \u001b[38;5;28;01mexcept\u001b[39;00m \u001b[38;5;167;01mValueError\u001b[39;00m:\n\u001b[1;32m    162\u001b[0m     \u001b[38;5;66;03m# If the _hashlib module (OpenSSL) doesn't support the named\u001b[39;00m\n\u001b[1;32m    163\u001b[0m     \u001b[38;5;66;03m# hash, try using our builtin implementations.\u001b[39;00m\n\u001b[1;32m    164\u001b[0m     \u001b[38;5;66;03m# This allows for SHA224/256 and SHA384/512 support even though\u001b[39;00m\n\u001b[1;32m    165\u001b[0m     \u001b[38;5;66;03m# the OpenSSL library prior to 0.9.8 doesn't provide them.\u001b[39;00m\n\u001b[0;32m--> 166\u001b[0m     \u001b[38;5;28;01mreturn\u001b[39;00m \u001b[43m__get_builtin_constructor\u001b[49m\u001b[43m(\u001b[49m\u001b[43mname\u001b[49m\u001b[43m)\u001b[49m(data)\n",
      "File \u001b[0;32m/usr/lib/python3.10/hashlib.py:123\u001b[0m, in \u001b[0;36m__get_builtin_constructor\u001b[0;34m(name)\u001b[0m\n\u001b[1;32m    120\u001b[0m \u001b[38;5;28;01mif\u001b[39;00m constructor \u001b[38;5;129;01mis\u001b[39;00m \u001b[38;5;129;01mnot\u001b[39;00m \u001b[38;5;28;01mNone\u001b[39;00m:\n\u001b[1;32m    121\u001b[0m     \u001b[38;5;28;01mreturn\u001b[39;00m constructor\n\u001b[0;32m--> 123\u001b[0m \u001b[38;5;28;01mraise\u001b[39;00m \u001b[38;5;167;01mValueError\u001b[39;00m(\u001b[38;5;124m'\u001b[39m\u001b[38;5;124munsupported hash type \u001b[39m\u001b[38;5;124m'\u001b[39m \u001b[38;5;241m+\u001b[39m name)\n",
      "\u001b[0;31mValueError\u001b[0m: unsupported hash type ripemd160"
     ]
    }
   ],
   "source": [
    "from ecc import PrivateKey\n",
    "\n",
    "# 1. Private key: 5002 (uncompressed SEC, testnet)\n",
    "key1 = PrivateKey(5002)\n",
    "addr1 = key1.point.address(compressed=False, testnet=True)\n",
    "print(\"1. Uncompressed / Testnet:\", addr1)\n",
    "\n",
    "# 2. Private key: 2020**5 (compressed SEC, testnet)\n",
    "key2 = PrivateKey(2020**5)\n",
    "addr2 = key2.point.address(compressed=True, testnet=True)\n",
    "print(\"2. Compressed / Testnet:\", addr2)\n",
    "\n",
    "# 3. Private key: 0x12345deadbeef (compressed SEC, mainnet)\n",
    "key3 = PrivateKey(0x12345deadbeef)\n",
    "addr3 = key3.point.address(compressed=True, testnet=False)\n",
    "print(\"3. Compressed / Mainnet:\", addr3)"
   ]
  },
  {
   "cell_type": "markdown",
   "metadata": {
    "id": "FKbSFTykEu-O"
   },
   "source": [
    "# Exercise 6"
   ]
  },
  {
   "cell_type": "markdown",
   "metadata": {
    "id": "02mtJ2sIFSjw"
   },
   "source": [
    "\n",
    "\n",
    "Find the WIF for Private Key whose secrets are:\n",
    "\n",
    "* 5003 (compressed, testnet)\n",
    "* \\\\(2021^{5}\\\\) (uncompressed, testnet)\n",
    "* 0x54321deadbeef (compressed, mainnet)"
   ]
  },
  {
   "cell_type": "code",
   "execution_count": null,
   "metadata": {
    "id": "FIsi_d7KEu-O"
   },
   "outputs": [],
   "source": [
    "# Exercise 6\n",
    "\n",
    "from ecc import PrivateKey\n",
    "\n",
    "# 5003\n",
    "# 2021**5\n",
    "# 0x54321deadbeef"
   ]
  },
  {
   "cell_type": "markdown",
   "metadata": {
    "id": "TdS3NH2xEu-O"
   },
   "source": [
    "# Exercise 7"
   ]
  },
  {
   "cell_type": "markdown",
   "metadata": {
    "id": "wxzDjKj5FULY"
   },
   "source": [
    "\n",
    "\n",
    "Write a function `little_endian_to_int` which takes Python bytes, interprets those bytes in Little-Endian and returns the number.\n",
    "\n",
    "#### Make [this test](/edit/code-ch04/helper.py) pass: `helper.py:HelperTest:test_little_endian_to_int`"
   ]
  },
  {
   "cell_type": "code",
   "execution_count": null,
   "metadata": {
    "id": "9sg9qznGEu-P"
   },
   "outputs": [],
   "source": [
    "# Exercise 7\n",
    "\n",
    "reload(helper)\n",
    "run(helper.HelperTest(\"test_little_endian_to_int\"))"
   ]
  },
  {
   "cell_type": "markdown",
   "metadata": {
    "id": "p6rl-SVbEu-P"
   },
   "source": [
    "# Exercise 8"
   ]
  },
  {
   "cell_type": "markdown",
   "metadata": {
    "id": "ky11XKdSFV_1"
   },
   "source": [
    "Write a function `int_to_little_endian` which does the reverse of the last exercise.\n",
    "\n",
    "Make [this test](/edit/code-ch04/helper.py) pass: `helper.py:HelperTest:test_int_to_little_endian`"
   ]
  },
  {
   "cell_type": "code",
   "execution_count": null,
   "metadata": {
    "id": "42oQ6Sc2Eu-P"
   },
   "outputs": [],
   "source": [
    "# Exercise 8\n",
    "\n",
    "reload(helper)\n",
    "run(helper.HelperTest(\"test_int_to_little_endian\"))"
   ]
  },
  {
   "cell_type": "markdown",
   "metadata": {
    "id": "JiVGS4xmEu-P"
   },
   "source": [
    "# Exercise 9"
   ]
  },
  {
   "cell_type": "markdown",
   "metadata": {
    "id": "VIIdQoauFXmf"
   },
   "source": [
    "\n",
    "\n",
    "Create a testnet address for yourself using a long secret that only you know. This is important as there are bots on testnet trying to steal testnet coins. Make sure you write this secret down somewhere! You will be using the secret later to sign Transactions."
   ]
  },
  {
   "cell_type": "code",
   "execution_count": null,
   "metadata": {
    "id": "2XeDaIxYEu-P"
   },
   "outputs": [],
   "source": [
    "# Exercise 9\n",
    "\n",
    "from ecc import PrivateKey\n",
    "from helper import hash256, little_endian_to_int\n",
    "\n",
    "# select a passphrase here, add your email address into the passphrase for security\n",
    "# passphrase = b'your@email.address some secret only you know'\n",
    "# secret = little_endian_to_int(hash256(passphrase))\n",
    "# create a private key using your secret\n",
    "# print an address from the public point of the private key with testnet=True"
   ]
  }
 ],
 "metadata": {
  "colab": {
   "include_colab_link": true,
   "provenance": [],
   "toc_visible": true
  },
  "kernelspec": {
   "display_name": "Python 3 (ipykernel)",
   "language": "python",
   "name": "python3"
  },
  "language_info": {
   "codemirror_mode": {
    "name": "ipython",
    "version": 3
   },
   "file_extension": ".py",
   "mimetype": "text/x-python",
   "name": "python",
   "nbconvert_exporter": "python",
   "pygments_lexer": "ipython3",
   "version": "3.10.12"
  }
 },
 "nbformat": 4,
 "nbformat_minor": 4
}
