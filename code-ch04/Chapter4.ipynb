{
 "cells": [
  {
   "cell_type": "markdown",
   "metadata": {},
   "source": [
    "# Chapter 4: Serialization and Parsing\n",
    "\n",
    "---\n",
    "\n",
    "## 🧠 What this chapter explores\n",
    "\n",
    "- How Bitcoin data is **serialized** (converted to binary format) and **parsed** (read back into readable objects).\n",
    "- Understanding how **little-endian and big-endian** byte orders affect Bitcoin data formats.\n",
    "- Converting between Python `int` and `bytes` using endianness.\n",
    "- Implementing functions to:\n",
    "  - Convert bytes to integers (`little_endian_to_int`)\n",
    "  - Convert integers to bytes (`int_to_little_endian`)\n",
    "  - Encode and decode Bitcoin **addresses**\n",
    "  - Perform **Base58 encoding and decoding**\n",
    "  - Handle **checksum validation**\n",
    "- Understanding the structure of Bitcoin **private keys** and their serialization in **WIF (Wallet Import Format)**.\n",
    "\n",
    "---\n",
    "\n",
    "## ✅ What you’ll be able to do by the end\n",
    "\n",
    "- Write your own utility functions for serializing and deserializing Bitcoin data.\n",
    "- Understand how Bitcoin addresses are derived from public keys.\n",
    "- Generate and interpret Wallet Import Format (WIF) private keys.\n",
    "- Begin to think like a protocol engineer: how to **safely transmit and verify** Bitcoin data.\n",
    "- Lay the foundation for creating and verifying **transactions** (coming in Chapter 5).\n",
    "\n",
    "---\n",
    "\n",
    "## 🧰 Key Concepts and Tools\n",
    "\n",
    "- Endianness (Little vs Big)\n",
    "- `hashlib` for hashing (`sha256`, `ripemd160`)\n",
    "- `base58` and `base58check`\n",
    "- SEC format (public key serialization)\n",
    "- WIF (private key serialization)\n",
    "\n",
    "---\n"
   ]
  },
  {
   "cell_type": "markdown",
   "metadata": {
    "id": "JVGkY8KaFFHn"
   },
   "source": [
    "# Imports"
   ]
  },
  {
   "cell_type": "code",
   "execution_count": 5,
   "metadata": {
    "id": "j-vh5Pg8Eu-J"
   },
   "outputs": [],
   "source": [
    "############## PLEASE RUN THIS CELL FIRST! ###################\n",
    "\n",
    "# import everything and define a test runner function\n",
    "from importlib import reload\n",
    "from helper import run\n",
    "import ecc\n",
    "import helper"
   ]
  },
  {
   "cell_type": "markdown",
   "metadata": {
    "id": "a2v01JyikMuM"
   },
   "source": [
    "# Serialization"
   ]
  },
  {
   "cell_type": "markdown",
   "metadata": {
    "id": "IkmHFVJQkOsF"
   },
   "source": [
    "To communicate the classes we've created to other computers, we use serialization.\n",
    "\n",
    "*Standard for Efficient Cryptography (SEC)* is the serialization standard. There are two SEC formats, compressed and uncompressed.\n",
    "\n",
    "The format for uncompressed SEC for a point *P = (x.y)*:\n",
    "\n",
    "Start wit hthe prefix byte `0x04`, append the x coordinate in 32 bytes as a **big-endian integer** then do the same for the y coordinate.\n",
    "\n",
    "Remember, `0x` is the indicator that the format is hexadecimal.\n",
    "\n",
    "Big-endian is the 'big end' of how a number is read. 123 = 100 + 20 + 3."
   ]
  },
  {
   "cell_type": "markdown",
   "metadata": {
    "id": "quJUZ8JaEu-L"
   },
   "source": [
    "# Exercise 1"
   ]
  },
  {
   "cell_type": "markdown",
   "metadata": {
    "id": "NoD8DB9IFIG2"
   },
   "source": [
    "\n",
    "\n",
    "Find the uncompressed SEC format for the Public Key where the Private Key secrets are:\n",
    "\n",
    "* 5000\n",
    "* \\\\(2018^{5}\\\\)\n",
    "* 0xdeadbeef12345"
   ]
  },
  {
   "cell_type": "code",
   "execution_count": 6,
   "metadata": {
    "colab": {
     "base_uri": "https://localhost:8080/"
    },
    "id": "FUSyoOCJEu-M",
    "outputId": "b5953a81-3814-4e23-c900-2f4eb00d70b2"
   },
   "outputs": [
    {
     "name": "stdout",
     "output_type": "stream",
     "text": [
      "S256Point(ffe558e388852f0120e46af2d1b370f85854a8eb0841811ece0e3e03d282d57c, 315dc72890a4f10a1481c031b03b351b0dc79901ca18a00cf009dbdb157a1d10)\n",
      "04ffe558e388852f0120e46af2d1b370f85854a8eb0841811ece0e3e03d282d57c315dc72890a4f10a1481c031b03b351b0dc79901ca18a00cf009dbdb157a1d10\n"
     ]
    }
   ],
   "source": [
    "# Exercise 1 – Deriving the Public Key (Uncompressed SEC Format)\n",
    "\n",
    "from ecc import PrivateKey, S256Point\n",
    "\n",
    "# --- Step 1: Initialize the private key ---\n",
    "# The PrivateKey class takes an integer (the secret exponent)\n",
    "# and internally calculates the public key point (k * G)\n",
    "e1 = PrivateKey(5000)\n",
    "\n",
    "# --- Step 2: Print the public key point ---\n",
    "# This will output an S256Point (x, y) on the secp256k1 curve\n",
    "print(e1.point)\n",
    "\n",
    "# --- Step 3: Serialize the public key in uncompressed SEC format ---\n",
    "# The SEC (Standards for Efficient Cryptography) format is a binary representation of the public key.\n",
    "# Uncompressed format = 0x04 + x (32 bytes) + y (32 bytes)\n",
    "P1 = e1.point.sec(compressed=False)\n",
    "\n",
    "# --- Step 4: Convert SEC binary to hex and print ---\n",
    "# .hex() converts the bytes to a human-readable hex string\n",
    "print(P1.hex())\n"
   ]
  },
  {
   "cell_type": "code",
   "execution_count": 7,
   "metadata": {},
   "outputs": [
    {
     "name": "stdout",
     "output_type": "stream",
     "text": [
      "b'\\x04\\xff\\xe5X\\xe3\\x88\\x85/\\x01 \\xe4j\\xf2\\xd1\\xb3p\\xf8XT\\xa8\\xeb\\x08A\\x81\\x1e\\xce\\x0e>\\x03\\xd2\\x82\\xd5|1]\\xc7(\\x90\\xa4\\xf1\\n\\x14\\x81\\xc01\\xb0;5\\x1b\\r\\xc7\\x99\\x01\\xca\\x18\\xa0\\x0c\\xf0\\t\\xdb\\xdb\\x15z\\x1d\\x10'\n"
     ]
    }
   ],
   "source": [
    "print(P1)"
   ]
  },
  {
   "cell_type": "code",
   "execution_count": 8,
   "metadata": {
    "colab": {
     "base_uri": "https://localhost:8080/"
    },
    "id": "Qa1RmZuKqb9F",
    "outputId": "301062ce-62ea-4c1a-bfd2-74c8d28f7484"
   },
   "outputs": [
    {
     "name": "stdout",
     "output_type": "stream",
     "text": [
      "S256Point(027f3da1918455e03c46f659266a1bb5204e959db7364d2f473bdf8f0a13cc9d, ff87647fd023c13b4a4994f17691895806e1b40b57f4fd22581a4f46851f3b06)\n",
      "04027f3da1918455e03c46f659266a1bb5204e959db7364d2f473bdf8f0a13cc9dff87647fd023c13b4a4994f17691895806e1b40b57f4fd22581a4f46851f3b06\n"
     ]
    }
   ],
   "source": [
    "e2 = PrivateKey(2018**5)\n",
    "# print(e2)\n",
    "print(e2.point)\n",
    "\n",
    "P2 = e2.point.sec(compressed=False)\n",
    "print(P2.hex())"
   ]
  },
  {
   "cell_type": "code",
   "execution_count": 9,
   "metadata": {
    "colab": {
     "base_uri": "https://localhost:8080/"
    },
    "id": "GsW4cJ0SqdXu",
    "outputId": "1d39fc01-39af-4734-85b9-03b071abe0a9"
   },
   "outputs": [
    {
     "name": "stdout",
     "output_type": "stream",
     "text": [
      "S256Point(d90cd625ee87dd38656dd95cf79f65f60f7273b67d3096e68bd81e4f5342691f, 842efa762fd59961d0e99803c61edba8b3e3f7dc3a341836f97733aebf987121)\n",
      "b'\\x04\\xd9\\x0c\\xd6%\\xee\\x87\\xdd8em\\xd9\\\\\\xf7\\x9fe\\xf6\\x0frs\\xb6}0\\x96\\xe6\\x8b\\xd8\\x1eOSBi\\x1f\\x84.\\xfav/\\xd5\\x99a\\xd0\\xe9\\x98\\x03\\xc6\\x1e\\xdb\\xa8\\xb3\\xe3\\xf7\\xdc:4\\x186\\xf9w3\\xae\\xbf\\x98q!'\n"
     ]
    }
   ],
   "source": [
    "e3 = PrivateKey(0xdeadbeef12345)\n",
    "# print(e3)\n",
    "print(e3.point)\n",
    "\n",
    "P3 = e3.point.sec(compressed=False)\n",
    "print(P3)"
   ]
  },
  {
   "cell_type": "markdown",
   "metadata": {
    "id": "5xGcbpRht-Ca"
   },
   "source": [
    "Serialization for copmressed SEC format:\n",
    "\n",
    "Start with the prefix byte, if *y* is even, it's `0x02`, otherwise it's `0x03`. Next, append the x coordinate in 32 bytes as a big-endian integer.\n",
    "\n",
    "**Why?**\n",
    "\n",
    "Evenness and oddness refer to the two possible y values (square roots) for a given x on the elliptic curve.\n",
    "\n",
    "It's a simple way to efficiently represent the full point by keeping only x and telling whether y is even or odd."
   ]
  },
  {
   "cell_type": "markdown",
   "metadata": {
    "id": "SUQ0cce0Eu-M"
   },
   "source": [
    "# Exercise 2"
   ]
  },
  {
   "cell_type": "markdown",
   "metadata": {
    "id": "ojGAlzRmFJqP"
   },
   "source": [
    "\n",
    "\n",
    "Find the Compressed SEC format for the Public Key where the Private Key secrets are:\n",
    "\n",
    "* 5001\n",
    "* \\\\(2019^{5}\\\\)\n",
    "* 0xdeadbeef54321"
   ]
  },
  {
   "cell_type": "code",
   "execution_count": 10,
   "metadata": {
    "colab": {
     "base_uri": "https://localhost:8080/"
    },
    "id": "zdNh-aFeEu-M",
    "outputId": "708ffd3c-fae9-432d-839b-860c9c041496"
   },
   "outputs": [
    {
     "name": "stdout",
     "output_type": "stream",
     "text": [
      "S256Point(57a4f368868a8a6d572991e484e664810ff14c05c0fa023275251151fe0e53d1, 0d6cc87c5bc29b83368e17869e964f2f53d52ea3aa3e5a9efa1fa578123a0c6d)\n",
      "0357a4f368868a8a6d572991e484e664810ff14c05c0fa023275251151fe0e53d1\n"
     ]
    }
   ],
   "source": [
    "# Exercise 2\n",
    "\n",
    "from ecc import PrivateKey\n",
    "\n",
    "# 5001\n",
    "# 2019**5\n",
    "# 0xdeadbeef54321\n",
    "\n",
    "e1 = PrivateKey(5001)\n",
    "# print(e1)\n",
    "print(e1.point)\n",
    "\n",
    "P1 = e1.point.sec(compressed=True)\n",
    "print(P1.hex())"
   ]
  },
  {
   "cell_type": "code",
   "execution_count": 11,
   "metadata": {
    "colab": {
     "base_uri": "https://localhost:8080/"
    },
    "id": "57KdmJQIvoum",
    "outputId": "9d8a7173-316c-4b08-80a0-368b466521aa"
   },
   "outputs": [
    {
     "name": "stdout",
     "output_type": "stream",
     "text": [
      "y is odd\n"
     ]
    }
   ],
   "source": [
    "from ecc import PrivateKey\n",
    "\n",
    "e1 = PrivateKey(5001)\n",
    "compressed = e1.point.sec(compressed=True)\n",
    "\n",
    "# First byte indicates y-coordinate parity\n",
    "prefix = compressed[0]\n",
    "\n",
    "if prefix == 0x02:\n",
    "    print(\"y is even\")\n",
    "elif prefix == 0x03:\n",
    "    print(\"y is odd\")\n",
    "else:\n",
    "    print(\"Unknown format\")\n"
   ]
  },
  {
   "cell_type": "code",
   "execution_count": 12,
   "metadata": {
    "colab": {
     "base_uri": "https://localhost:8080/"
    },
    "id": "Qr24n7nzv6q4",
    "outputId": "6a43a697-b5df-42f9-c460-1de775605e07"
   },
   "outputs": [
    {
     "name": "stdout",
     "output_type": "stream",
     "text": [
      "S256Point(933ec2d2b111b92737ec12f1c5d20f3233a0ad21cd8b36d0bca7a0cfa5cb8701, 96cbbfdd572f75ace44d0aa59fbab6326cb9f909385dcd066ea27affef5a488c)\n",
      "02933ec2d2b111b92737ec12f1c5d20f3233a0ad21cd8b36d0bca7a0cfa5cb8701\n"
     ]
    }
   ],
   "source": [
    "e2 = PrivateKey(2019**5)\n",
    "# print(e2)\n",
    "print(e2.point)\n",
    "\n",
    "P2 = e2.point.sec(compressed=True)\n",
    "print(P2.hex())"
   ]
  },
  {
   "cell_type": "code",
   "execution_count": 13,
   "metadata": {
    "colab": {
     "base_uri": "https://localhost:8080/"
    },
    "id": "SQsuFBBrv-5Y",
    "outputId": "4787c3fc-801a-41ad-a492-5470b64b0c03"
   },
   "outputs": [
    {
     "name": "stdout",
     "output_type": "stream",
     "text": [
      "S256Point(96be5b1292f6c856b3c5654e886fc13511462059089cdf9c479623bfcbe77690, 32555d1b027c25c2828ba96a176d78419cd1236f71558f6187aec09611325eb6)\n",
      "0296be5b1292f6c856b3c5654e886fc13511462059089cdf9c479623bfcbe77690\n"
     ]
    }
   ],
   "source": [
    "e3 = PrivateKey(0xdeadbeef54321)\n",
    "# print(e3)\n",
    "print(e3.point)\n",
    "\n",
    "P3 = e3.point.sec(compressed=True)\n",
    "print(P3.hex())"
   ]
  },
  {
   "cell_type": "markdown",
   "metadata": {
    "id": "wJNlsXAYxAYr"
   },
   "source": [
    "By investigation of the serialisation, we can see they are odd, even and even.\n",
    "\n",
    "We can also attempt to check for **parity (odd / even) by checking the y coordinate of the point:"
   ]
  },
  {
   "cell_type": "code",
   "execution_count": 14,
   "metadata": {
    "colab": {
     "base_uri": "https://localhost:8080/"
    },
    "id": "UfvuF1eoxgLj",
    "outputId": "9882376d-ae8f-45fc-86b9-75e560f25c6f"
   },
   "outputs": [
    {
     "name": "stdout",
     "output_type": "stream",
     "text": [
      "S256Point(96be5b1292f6c856b3c5654e886fc13511462059089cdf9c479623bfcbe77690, 32555d1b027c25c2828ba96a176d78419cd1236f71558f6187aec09611325eb6)\n",
      "y is even\n",
      "0296be5b1292f6c856b3c5654e886fc13511462059089cdf9c479623bfcbe77690\n"
     ]
    }
   ],
   "source": [
    "from ecc import PrivateKey\n",
    "\n",
    "e3 = PrivateKey(0xdeadbeef54321)\n",
    "\n",
    "# Print the full point\n",
    "P3 = e3.point\n",
    "print(P3)\n",
    "\n",
    "# Check if y is even or odd\n",
    "y_value = P3.y.num #grabs the integer number\n",
    "if y_value % 2 == 0:\n",
    "    print(\"y is even\")\n",
    "else:\n",
    "    print(\"y is odd\")\n",
    "\n",
    "# Also print compressed SEC for confirmation\n",
    "print(e3.point.sec(compressed=True).hex())"
   ]
  },
  {
   "cell_type": "markdown",
   "metadata": {
    "id": "DIW3Il-S1NCr"
   },
   "source": [
    "**DER Signatures**\n",
    "\n",
    "Distinguished Encoding Rules is defined by 6 formats.\n",
    "\n"
   ]
  },
  {
   "cell_type": "markdown",
   "metadata": {
    "id": "grGVylVxEu-M"
   },
   "source": [
    "# Exercise 3"
   ]
  },
  {
   "cell_type": "markdown",
   "metadata": {
    "id": "SZX4niusFNXU"
   },
   "source": [
    "\n",
    "\n",
    "Find the DER format for a signature whose `r` and `s` values are:\n",
    "\n",
    "* r =\n",
    "\n",
    "`0x37206a0610995c58074999cb9767b87af4c4978db68c06e8e6e81d282047a7c6`\n",
    "\n",
    "* s =\n",
    "\n",
    "`0x8ca63759c1157ebeaec0d03cecca119fc9a75bf8e6d0fa65c841c8e2738cdaec`"
   ]
  },
  {
   "cell_type": "code",
   "execution_count": 15,
   "metadata": {
    "colab": {
     "base_uri": "https://localhost:8080/",
     "height": 53
    },
    "id": "5HB2j-vdEu-N",
    "outputId": "96a44440-6927-45c7-ed51-04f2b5487894"
   },
   "outputs": [
    {
     "data": {
      "text/plain": [
       "'3045022037206a0610995c58074999cb9767b87af4c4978db68c06e8e6e81d282047a7c60221008ca63759c1157ebeaec0d03cecca119fc9a75bf8e6d0fa65c841c8e2738cdaec'"
      ]
     },
     "execution_count": 15,
     "metadata": {},
     "output_type": "execute_result"
    }
   ],
   "source": [
    "# Exercise 3\n",
    "\n",
    "from ecc import Signature\n",
    "\n",
    "r = 0x37206a0610995c58074999cb9767b87af4c4978db68c06e8e6e81d282047a7c6\n",
    "s = 0x8ca63759c1157ebeaec0d03cecca119fc9a75bf8e6d0fa65c841c8e2738cdaec\n",
    "\n",
    "sig = Signature(r,s) #initialise the Signature class with (r,s).\n",
    "sig.der().hex()"
   ]
  },
  {
   "cell_type": "markdown",
   "metadata": {
    "id": "ZLuNyPUjqQxZ"
   },
   "source": [
    "**0x30** or **30** — DER SEQUENCE tag  \n",
    "**0x45** — Total length of the sequence: 69 bytes\n",
    "\n",
    "**0x02** — INTEGER tag  \n",
    "**0x20** — Length of r: 32 bytes\n",
    "\n",
    "**r** = 37206a0610995c58074999cb9767b87af4c4978db68c06e8e6e81d282047a7c6\n",
    "\n",
    "**0x02** — INTEGER tag  \n",
    "**0x21** — Length of s: 33 bytes (includes leading 0x00 to ensure positive)\n",
    "\n",
    "**s** = 008ca63759c1157ebeaec0d03cecca119fc9a75bf8e6d0fa65c841c8e2738cdaec  \n",
    "→ Leading **0x00** is added because the first byte of `s` is **0x8c** (≥ 0x80), which could be interpreted as negative if not padded.\n",
    "\n",
    "**Actual s** = 8ca63759c1157ebeaec0d03cecca119fc9a75bf8e6d0fa65c841c8e2738cdaec\n"
   ]
  },
  {
   "cell_type": "markdown",
   "metadata": {
    "id": "Vidcy0Y4q7qP"
   },
   "source": [
    "**Transmitting your public key**\n",
    "\n",
    "currently using Base58 but going to be phased out by possibly Bech32.\n"
   ]
  },
  {
   "cell_type": "markdown",
   "metadata": {
    "id": "LBnG-IrqEu-N"
   },
   "source": [
    "# Exercise 4"
   ]
  },
  {
   "cell_type": "markdown",
   "metadata": {
    "id": "idXmBSZ_FPEe"
   },
   "source": [
    "\n",
    "\n",
    "Convert the following hex to binary and then to Base58:\n",
    "\n",
    "* `7c076ff316692a3d7eb3c3bb0f8b1488cf72e1afcd929e29307032997a838a3d`\n",
    "* `eff69ef2b1bd93a66ed5219add4fb51e11a840f404876325a1e8ffe0529a2c`\n",
    "* `c7207fee197d27c618aea621406f6bf5ef6fca38681d82b2f06fddbdce6feab6`"
   ]
  },
  {
   "cell_type": "code",
   "execution_count": 16,
   "metadata": {
    "colab": {
     "base_uri": "https://localhost:8080/"
    },
    "id": "Jvb_sABSEu-N",
    "outputId": "79bc4c5e-c117-4e84-cc2c-c4f1eaf92efb"
   },
   "outputs": [
    {
     "name": "stdout",
     "output_type": "stream",
     "text": [
      "b'|\\x07o\\xf3\\x16i*=~\\xb3\\xc3\\xbb\\x0f\\x8b\\x14\\x88\\xcfr\\xe1\\xaf\\xcd\\x92\\x9e)0p2\\x99z\\x83\\x8a='\n",
      "9MA8fRQrT4u8Zj8ZRd6MAiiyaxb2Y1CMpvVkHQu5hVM6\n",
      "4fE3H2E6XMp4SsxtwinF7w9a34ooUrwWe4WsW1458Pd\n",
      "EQJsjkd6JaGwxrjEhfeqPenqHwrBmPQZjJGNSCHBkcF7\n"
     ]
    }
   ],
   "source": [
    "# Exercise 4\n",
    "\n",
    "from helper import encode_base58\n",
    "\n",
    "# 7c076ff316692a3d7eb3c3bb0f8b1488cf72e1afcd929e29307032997a838a3d\n",
    "# eff69ef2b1bd93a66ed5219add4fb51e11a840f404876325a1e8ffe0529a2c\n",
    "# c7207fee197d27c618aea621406f6bf5ef6fca38681d82b2f06fddbdce6feab6\n",
    "\n",
    "bin1 = bytes.fromhex('7c076ff316692a3d7eb3c3bb0f8b1488cf72e1afcd929e29307032997a838a3d')\n",
    "bin2 = bytes.fromhex('eff69ef2b1bd93a66ed5219add4fb51e11a840f404876325a1e8ffe0529a2c')\n",
    "bin3 = bytes.fromhex('c7207fee197d27c618aea621406f6bf5ef6fca38681d82b2f06fddbdce6feab6')\n",
    "\n",
    "bin1_base58 = encode_base58(bin1)\n",
    "bin2_base58 = encode_base58(bin2)\n",
    "bin3_base58 = encode_base58(bin3)\n",
    "\n",
    "print(bin1) # binary data, specifically Python bytes object` (also called a byte string).\n",
    "print(bin1_base58)\n",
    "print(bin2_base58)\n",
    "print(bin3_base58)"
   ]
  },
  {
   "cell_type": "markdown",
   "metadata": {
    "id": "hv6-BwqdNxe-"
   },
   "source": [
    "Hex strings uses 0-9 digits and letters a-f (base-16). \n",
    "\n",
    "Base58 uses digits and letters but excludes confusing characters like 0, O, I, l. \n",
    "\n",
    "Base58 strings can look similar to the original hex if certain byte patterns are present, but will have different representations. \n",
    "\n",
    "**Bitcoin address Format**\n",
    "\n",
    "mainnet address vs testnet: `0x00` and `0x6f`\n",
    "\n",
    "5 steps to the format.\n",
    "\n",
    "the *checksum* process is in one of the steps (4th, per the book)."
   ]
  },
  {
   "cell_type": "markdown",
   "metadata": {
    "id": "Wp9OkckXEu-O"
   },
   "source": [
    "# Exercise 5"
   ]
  },
  {
   "cell_type": "markdown",
   "metadata": {
    "id": "9USfIrBqFRGQ"
   },
   "source": [
    "\n",
    "\n",
    "Find the address corresponding to Public Keys whose Private Key secrets are:\n",
    "\n",
    "* 5002 (use uncompressed SEC, on testnet)\n",
    "* \\\\(2020^{5}\\\\) (use compressed SEC, on testnet)\n",
    "* 0x12345deadbeef (use compressed SEC on mainnet)*italicized text*"
   ]
  },
  {
   "cell_type": "markdown",
   "metadata": {},
   "source": [
    "____\n",
    "\n",
    "Step 1: Initialize the private key.\n",
    "\n",
    "Step 2: Determine the point form of the private key. \n",
    "\n",
    "Step 3: Use the point form to determine the address. \n",
    "\n",
    "ran in conda environment so we can use hashlib"
   ]
  },
  {
   "cell_type": "code",
   "execution_count": 17,
   "metadata": {
    "colab": {
     "base_uri": "https://localhost:8080/"
    },
    "id": "rrPCUSpLRFSD",
    "outputId": "ab0384ec-2b3c-4457-9146-dc2bd0802434"
   },
   "outputs": [
    {
     "name": "stdout",
     "output_type": "stream",
     "text": [
      "Python 3.11.13\n"
     ]
    }
   ],
   "source": [
    "!python --version"
   ]
  },
  {
   "cell_type": "code",
   "execution_count": 18,
   "metadata": {
    "colab": {
     "base_uri": "https://localhost:8080/"
    },
    "id": "JJgkbsnSRHWM",
    "outputId": "0272739b-a27f-4097-9a15-a621f3cf6be2"
   },
   "outputs": [
    {
     "name": "stdout",
     "output_type": "stream",
     "text": [
      "3.11.13 (main, Jun  5 2025, 13:12:00) [GCC 11.2.0]\n"
     ]
    }
   ],
   "source": [
    "import sys\n",
    "print(sys.version)"
   ]
  },
  {
   "cell_type": "code",
   "execution_count": 19,
   "metadata": {},
   "outputs": [
    {
     "data": {
      "text/plain": [
       "'5e52fee47e6b070565f74372468cdc699de89107'"
      ]
     },
     "execution_count": 19,
     "metadata": {},
     "output_type": "execute_result"
    }
   ],
   "source": [
    "import hashlib\n",
    "hashlib.new('ripemd160', b'test').hexdigest()"
   ]
  },
  {
   "cell_type": "code",
   "execution_count": 20,
   "metadata": {},
   "outputs": [
    {
     "name": "stdout",
     "output_type": "stream",
     "text": [
      "1. Uncompressed / Testnet: mmTPbXQFxboEtNRkwfh6K51jvdtHLxGeMA\n",
      "2. Compressed / Testnet: mopVkxp8UhXqRYbCYJsbeE1h1fiF64jcoH\n",
      "3. Compressed / Mainnet: 1F1Pn2y6pDb68E5nYJJeba4TLg2U7B6KF1\n"
     ]
    }
   ],
   "source": [
    "from ecc import PrivateKey\n",
    "\n",
    "# 1. Private key: 5002 (uncompressed SEC, testnet)\n",
    "key1 = PrivateKey(5002)\n",
    "addr1 = key1.point.address(compressed=False, testnet=True)\n",
    "print(\"1. Uncompressed / Testnet:\", addr1)\n",
    "\n",
    "# 2. Private key: 2020**5 (compressed SEC, testnet)\n",
    "key2 = PrivateKey(2020**5)\n",
    "addr2 = key2.point.address(compressed=True, testnet=True)\n",
    "print(\"2. Compressed / Testnet:\", addr2)\n",
    "\n",
    "# 3. Private key: 0x12345deadbeef (compressed SEC, mainnet)\n",
    "key3 = PrivateKey(0x12345deadbeef)\n",
    "addr3 = key3.point.address(compressed=True, testnet=False)\n",
    "print(\"3. Compressed / Mainnet:\", addr3)"
   ]
  },
  {
   "cell_type": "markdown",
   "metadata": {},
   "source": [
    "Real private keys are a 256 bit number. We don't need to serialise our private key as it doesnt get broadcasted. Cases where you transfer private keys from one wallet to another, we will want to serialise it. WIF key serialisation is human readable and uses the same Base58. \n",
    "\n",
    "WIF format creation: \n",
    "\n",
    "Start with a privatekey mainnet or testnet prefix, encode it in 32 byte big endian, if SEC format used for public key address is compressed, add a suffix.\n",
    "\n",
    "Combine the prefix, serialised secret and the suffix, then hash256 to record the first 4 bytes. \n",
    "\n",
    "Take the the combination and the 4 bytes and encode in Base58."
   ]
  },
  {
   "cell_type": "markdown",
   "metadata": {
    "id": "FKbSFTykEu-O"
   },
   "source": [
    "# Exercise 6"
   ]
  },
  {
   "cell_type": "markdown",
   "metadata": {
    "id": "02mtJ2sIFSjw"
   },
   "source": [
    "\n",
    "\n",
    "Find the WIF for Private Key whose secrets are:\n",
    "\n",
    "* 5003 (compressed, testnet)\n",
    "* \\\\(2021^{5}\\\\) (uncompressed, testnet)\n",
    "* 0x54321deadbeef (compressed, mainnet)"
   ]
  },
  {
   "cell_type": "code",
   "execution_count": 32,
   "metadata": {
    "id": "FIsi_d7KEu-O"
   },
   "outputs": [
    {
     "name": "stdout",
     "output_type": "stream",
     "text": [
      "compressed, testnet WIF serialisation: cMahea7zqjxrtgAbB7LSGbcQUr1uX1ojuat9jZodMN8rFTv2sfUK\n",
      "uncompressed, testnet WIF serialisation: 91avARGdfge8E4tZfYLoxeJ5sGBdNJQH4kvjpWAxgzczjbCwxic\n",
      "compressed, mainnet WIF serialisation: KwDiBf89QgGbjEhKnhXJuH7LrciVrZi3qYjgiuQJv1h8Ytr2S53a\n"
     ]
    }
   ],
   "source": [
    "# Exercise 6\n",
    "\n",
    "from ecc import PrivateKey\n",
    "\n",
    "priv1 =  PrivateKey(5003)\n",
    "priv2 =  PrivateKey(2021**5)\n",
    "priv3 =  PrivateKey(0x54321deadbeef)\n",
    "\n",
    "# addr1 = priv1.point.address(compressed = True, testnet = True)\n",
    "# addr2 = priv2.point.address(compressed = False, testnet = True)\n",
    "# addr3 = priv3.point.address(compressed = True, testnet = False)\n",
    "\n",
    "priv1_wif = priv1.wif(compressed = True, testnet = True)\n",
    "priv2_wif = priv2.wif(compressed = False, testnet = True)\n",
    "priv3_wif = priv3.wif(compressed = True, testnet = False)\n",
    "\n",
    "print(\"compressed, testnet WIF serialisation:\", priv1_wif)\n",
    "print(\"uncompressed, testnet WIF serialisation:\", priv2_wif)\n",
    "print(\"compressed, mainnet WIF serialisation:\", priv3_wif)"
   ]
  },
  {
   "cell_type": "markdown",
   "metadata": {},
   "source": [
    "We can now share our private key with another wallet in WIF format, which includes a checksum and optional compression flag, but it still represents the actual private key — so it must be kept secure.\n",
    "\n",
    "WIF = structured, error-checked way to represent your private key.\n",
    "\n",
    "It’s still the same key.\n",
    "\n",
    "But now it:\n",
    "\n",
    "Tells the receiver what network it’s for\n",
    "\n",
    "Includes a compression flag (for the public key)\n",
    "\n",
    "Makes it harder to screw up when copying"
   ]
  },
  {
   "cell_type": "markdown",
   "metadata": {
    "id": "TdS3NH2xEu-O"
   },
   "source": [
    "# Exercise 7"
   ]
  },
  {
   "cell_type": "markdown",
   "metadata": {
    "id": "wxzDjKj5FULY"
   },
   "source": [
    "\n",
    "\n",
    "Write a function `little_endian_to_int` which takes Python bytes, interprets those bytes in Little-Endian and returns the number.\n",
    "\n",
    "#### Make [this test](/edit/code-ch04/helper.py) pass: `helper.py:HelperTest:test_little_endian_to_int`"
   ]
  },
  {
   "cell_type": "code",
   "execution_count": 40,
   "metadata": {},
   "outputs": [
    {
     "data": {
      "text/plain": [
       "11079866634028974080"
      ]
     },
     "execution_count": 40,
     "metadata": {},
     "output_type": "execute_result"
    }
   ],
   "source": [
    "h =bytes.fromhex('99c3980000000000')\n",
    "int.from_bytes(h)"
   ]
  },
  {
   "cell_type": "code",
   "execution_count": 44,
   "metadata": {},
   "outputs": [
    {
     "name": "stderr",
     "output_type": "stream",
     "text": [
      ".\n",
      "----------------------------------------------------------------------\n",
      "Ran 1 test in 0.001s\n",
      "\n",
      "OK\n"
     ]
    }
   ],
   "source": [
    "import importlib\n",
    "import ecc\n",
    "importlib.reload(ecc)\n",
    "\n",
    "# Exercise 7\n",
    "\n",
    "reload(helper)\n",
    "run(helper.HelperTest(\"test_little_endian_to_int\"))"
   ]
  },
  {
   "cell_type": "markdown",
   "metadata": {
    "id": "p6rl-SVbEu-P"
   },
   "source": [
    "# Exercise 8"
   ]
  },
  {
   "cell_type": "markdown",
   "metadata": {
    "id": "ky11XKdSFV_1"
   },
   "source": [
    "Write a function `int_to_little_endian` which does the reverse of the last exercise.\n",
    "\n",
    "Make [this test](/edit/code-ch04/helper.py) pass: `helper.py:HelperTest:test_int_to_little_endian`"
   ]
  },
  {
   "cell_type": "code",
   "execution_count": 45,
   "metadata": {},
   "outputs": [],
   "source": [
    "n = 1\n",
    "want = b'\\x01\\x00\\x00\\x00'"
   ]
  },
  {
   "cell_type": "code",
   "execution_count": 61,
   "metadata": {},
   "outputs": [
    {
     "data": {
      "text/plain": [
       "b'\\x00\\x00\\x00\\x01'"
      ]
     },
     "execution_count": 61,
     "metadata": {},
     "output_type": "execute_result"
    }
   ],
   "source": [
    "n.to_bytes(4)"
   ]
  },
  {
   "cell_type": "code",
   "execution_count": 68,
   "metadata": {},
   "outputs": [
    {
     "data": {
      "text/plain": [
       "True"
      ]
     },
     "execution_count": 68,
     "metadata": {},
     "output_type": "execute_result"
    }
   ],
   "source": [
    "n.to_bytes(4, 'little') == want"
   ]
  },
  {
   "cell_type": "code",
   "execution_count": 71,
   "metadata": {
    "id": "42oQ6Sc2Eu-P"
   },
   "outputs": [
    {
     "name": "stderr",
     "output_type": "stream",
     "text": [
      ".\n",
      "----------------------------------------------------------------------\n",
      "Ran 1 test in 0.001s\n",
      "\n",
      "OK\n"
     ]
    }
   ],
   "source": [
    "import importlib\n",
    "import ecc\n",
    "importlib.reload(ecc)\n",
    "\n",
    "\n",
    "# Exercise 8\n",
    "\n",
    "reload(helper)\n",
    "run(helper.HelperTest(\"test_int_to_little_endian\"))"
   ]
  },
  {
   "cell_type": "markdown",
   "metadata": {},
   "source": [
    "Important to remember that when converting between formats to distinguish whether little or big endian. "
   ]
  },
  {
   "cell_type": "markdown",
   "metadata": {
    "id": "JiVGS4xmEu-P"
   },
   "source": [
    "# Exercise 9"
   ]
  },
  {
   "cell_type": "markdown",
   "metadata": {
    "id": "VIIdQoauFXmf"
   },
   "source": [
    "\n",
    "\n",
    "Create a testnet address for yourself using a long secret that only you know. This is important as there are bots on testnet trying to steal testnet coins. Make sure you write this secret down somewhere! You will be using the secret later to sign Transactions."
   ]
  },
  {
   "cell_type": "code",
   "execution_count": 75,
   "metadata": {
    "id": "2XeDaIxYEu-P"
   },
   "outputs": [
    {
     "name": "stdout",
     "output_type": "stream",
     "text": [
      "compressed testnet public address: mtc5sUSUuoKzqbCAhJK7oRDVfDBmdPqr2G\n"
     ]
    }
   ],
   "source": [
    "# Exercise 9\n",
    "\n",
    "from ecc import PrivateKey\n",
    "from helper import hash256, little_endian_to_int\n",
    "\n",
    "# select a passphrase here, add your email address into the passphrase for security\n",
    "# passphrase = b'your@email.address some secret only you know'\n",
    "# secret = little_endian_to_int(hash256(passphrase))\n",
    "# create a private key using your secret\n",
    "# print an address from the public point of the private key with testnet=True\n",
    "\n",
    "passphrase = b'the.chris.rudolph@gmail.com fiddy 4206988'\n",
    "\n",
    "secret = little_endian_to_int(hash256(passphrase))\n",
    "\n",
    "priv = PrivateKey(secret)\n",
    "\n",
    "addr = priv.point.address(compressed = True, testnet = True)\n",
    "\n",
    "print(\"compressed testnet public address:\", addr)"
   ]
  }
 ],
 "metadata": {
  "colab": {
   "include_colab_link": true,
   "provenance": [],
   "toc_visible": true
  },
  "kernelspec": {
   "display_name": "Python 3 (ipykernel)",
   "language": "python",
   "name": "python3"
  },
  "language_info": {
   "codemirror_mode": {
    "name": "ipython",
    "version": 3
   },
   "file_extension": ".py",
   "mimetype": "text/x-python",
   "name": "python",
   "nbconvert_exporter": "python",
   "pygments_lexer": "ipython3",
   "version": "3.11.13"
  }
 },
 "nbformat": 4,
 "nbformat_minor": 4
}
