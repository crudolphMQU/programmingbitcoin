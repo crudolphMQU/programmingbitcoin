{
  "cells": [
    {
      "cell_type": "markdown",
      "metadata": {
        "id": "view-in-github",
        "colab_type": "text"
      },
      "source": [
        "<a href=\"https://colab.research.google.com/github/crudolphMQU/programmingbitcoin/blob/master/code-ch04/Chapter4.ipynb\" target=\"_parent\"><img src=\"https://colab.research.google.com/assets/colab-badge.svg\" alt=\"Open In Colab\"/></a>"
      ]
    },
    {
      "cell_type": "markdown",
      "source": [
        "# Set up"
      ],
      "metadata": {
        "id": "qlgn1cXbFDsF"
      }
    },
    {
      "cell_type": "code",
      "source": [
        "!git clone https://github.com/crudolphMQU/programmingbitcoin"
      ],
      "metadata": {
        "colab": {
          "base_uri": "https://localhost:8080/"
        },
        "id": "YCCY9MpOEvtu",
        "outputId": "bac9770a-8ea0-466b-fabb-2ebc8abc704a"
      },
      "execution_count": 1,
      "outputs": [
        {
          "output_type": "stream",
          "name": "stdout",
          "text": [
            "fatal: destination path 'programmingbitcoin' already exists and is not an empty directory.\n"
          ]
        }
      ]
    },
    {
      "cell_type": "code",
      "source": [
        "ls"
      ],
      "metadata": {
        "colab": {
          "base_uri": "https://localhost:8080/"
        },
        "id": "Ur_sST2-E8qJ",
        "outputId": "034e3e47-4356-44b3-beea-3e612f058739"
      },
      "execution_count": 2,
      "outputs": [
        {
          "output_type": "stream",
          "name": "stdout",
          "text": [
            "\u001b[0m\u001b[01;34mprogrammingbitcoin\u001b[0m/  \u001b[01;34msample_data\u001b[0m/\n"
          ]
        }
      ]
    },
    {
      "cell_type": "code",
      "source": [
        "cd programmingbitcoin/code-ch04"
      ],
      "metadata": {
        "colab": {
          "base_uri": "https://localhost:8080/"
        },
        "id": "t_gSEd4AE74t",
        "outputId": "87851026-0032-4912-f9f9-6859027b20a6"
      },
      "execution_count": 3,
      "outputs": [
        {
          "output_type": "stream",
          "name": "stdout",
          "text": [
            "/content/programmingbitcoin/code-ch04\n"
          ]
        }
      ]
    },
    {
      "cell_type": "code",
      "source": [
        "try:\n",
        "    import virtualenv\n",
        "except ImportError:\n",
        "  !pip install virtualenv==20.17.1"
      ],
      "metadata": {
        "id": "Skb95_uFEzRj"
      },
      "execution_count": 4,
      "outputs": []
    },
    {
      "cell_type": "code",
      "source": [
        "!pip install -q -r /content/programmingbitcoin/requirements.txt"
      ],
      "metadata": {
        "id": "7UmkwymsE0yN"
      },
      "execution_count": 5,
      "outputs": []
    },
    {
      "cell_type": "code",
      "source": [
        "try:\n",
        "    import helper\n",
        "except ImportError:\n",
        "  !pip install helper"
      ],
      "metadata": {
        "id": "jbTgkXtPE10n"
      },
      "execution_count": 6,
      "outputs": []
    },
    {
      "cell_type": "markdown",
      "source": [
        "# Imports"
      ],
      "metadata": {
        "id": "JVGkY8KaFFHn"
      }
    },
    {
      "cell_type": "code",
      "execution_count": 7,
      "metadata": {
        "id": "j-vh5Pg8Eu-J"
      },
      "outputs": [],
      "source": [
        "############## PLEASE RUN THIS CELL FIRST! ###################\n",
        "\n",
        "# import everything and define a test runner function\n",
        "from importlib import reload\n",
        "from helper import run\n",
        "import ecc\n",
        "import helper"
      ]
    },
    {
      "cell_type": "markdown",
      "source": [
        "# Serialization"
      ],
      "metadata": {
        "id": "a2v01JyikMuM"
      }
    },
    {
      "cell_type": "markdown",
      "source": [
        "To communicate the classes we've created to other computers, we use serialization.\n",
        "\n",
        "*Standard for Efficient Cryptography (SEC)* is the serialization standard. There are two SEC formats, compressed and uncompressed.\n",
        "\n",
        "The format for uncompressed SEC for a point *P = (x.y)*:\n",
        "\n",
        "Start wit hthe prefix byte `0x04`, append the x coordinate in 32 bytes as a **big-endian integer** then do the same for the y coordinate.\n",
        "\n",
        "Remember, `0x` is the indicator that the format is hexadecimal.\n",
        "\n",
        "Big-endian is the 'big end' of how a number is read. 123 = 100 + 20 + 3."
      ],
      "metadata": {
        "id": "IkmHFVJQkOsF"
      }
    },
    {
      "cell_type": "markdown",
      "metadata": {
        "id": "quJUZ8JaEu-L"
      },
      "source": [
        "# Exercise 1"
      ]
    },
    {
      "cell_type": "markdown",
      "source": [
        "\n",
        "\n",
        "Find the uncompressed SEC format for the Public Key where the Private Key secrets are:\n",
        "\n",
        "* 5000\n",
        "* \\\\(2018^{5}\\\\)\n",
        "* 0xdeadbeef12345"
      ],
      "metadata": {
        "id": "NoD8DB9IFIG2"
      }
    },
    {
      "cell_type": "code",
      "execution_count": 8,
      "metadata": {
        "colab": {
          "base_uri": "https://localhost:8080/"
        },
        "id": "FUSyoOCJEu-M",
        "outputId": "85bf21b8-8e6b-4618-8973-ab3a966caa48"
      },
      "outputs": [
        {
          "output_type": "stream",
          "name": "stdout",
          "text": [
            "S256Point(ffe558e388852f0120e46af2d1b370f85854a8eb0841811ece0e3e03d282d57c, 315dc72890a4f10a1481c031b03b351b0dc79901ca18a00cf009dbdb157a1d10)\n",
            "04ffe558e388852f0120e46af2d1b370f85854a8eb0841811ece0e3e03d282d57c315dc72890a4f10a1481c031b03b351b0dc79901ca18a00cf009dbdb157a1d10\n"
          ]
        }
      ],
      "source": [
        "# Exercise 1\n",
        "\n",
        "from ecc import PrivateKey, S256Point\n",
        "\n",
        "# 5000\n",
        "# 2018**5\n",
        "# 0xdeadbeef12345\n",
        "# privatekey.point is the public key for a private key\n",
        "\n",
        "# first initialise as private key using the PrivateKey class\n",
        "e1 = PrivateKey(5000)\n",
        "# print(e1)\n",
        "print(e1.point)\n",
        "\n",
        "P1 = e1.point.sec(compressed=False)\n",
        "print(P1.hex())"
      ]
    },
    {
      "cell_type": "code",
      "source": [
        "e2 = PrivateKey(2018**5)\n",
        "# print(e2)\n",
        "print(e2.point)\n",
        "\n",
        "P2 = e2.point.sec(compressed=False)\n",
        "print(P2.hex())"
      ],
      "metadata": {
        "colab": {
          "base_uri": "https://localhost:8080/"
        },
        "id": "Qa1RmZuKqb9F",
        "outputId": "8be6c98d-fb42-424a-cf7a-723416c83d68"
      },
      "execution_count": 9,
      "outputs": [
        {
          "output_type": "stream",
          "name": "stdout",
          "text": [
            "S256Point(027f3da1918455e03c46f659266a1bb5204e959db7364d2f473bdf8f0a13cc9d, ff87647fd023c13b4a4994f17691895806e1b40b57f4fd22581a4f46851f3b06)\n",
            "04027f3da1918455e03c46f659266a1bb5204e959db7364d2f473bdf8f0a13cc9dff87647fd023c13b4a4994f17691895806e1b40b57f4fd22581a4f46851f3b06\n"
          ]
        }
      ]
    },
    {
      "cell_type": "code",
      "source": [
        "e3 = PrivateKey(0xdeadbeef12345)\n",
        "# print(e3)\n",
        "print(e3.point)\n",
        "\n",
        "P3 = e3.point.sec(compressed=False)\n",
        "print(P3)"
      ],
      "metadata": {
        "colab": {
          "base_uri": "https://localhost:8080/"
        },
        "id": "GsW4cJ0SqdXu",
        "outputId": "e465180b-0c27-414b-cfb3-f848517daaec"
      },
      "execution_count": 10,
      "outputs": [
        {
          "output_type": "stream",
          "name": "stdout",
          "text": [
            "S256Point(d90cd625ee87dd38656dd95cf79f65f60f7273b67d3096e68bd81e4f5342691f, 842efa762fd59961d0e99803c61edba8b3e3f7dc3a341836f97733aebf987121)\n",
            "b'\\x04\\xd9\\x0c\\xd6%\\xee\\x87\\xdd8em\\xd9\\\\\\xf7\\x9fe\\xf6\\x0frs\\xb6}0\\x96\\xe6\\x8b\\xd8\\x1eOSBi\\x1f\\x84.\\xfav/\\xd5\\x99a\\xd0\\xe9\\x98\\x03\\xc6\\x1e\\xdb\\xa8\\xb3\\xe3\\xf7\\xdc:4\\x186\\xf9w3\\xae\\xbf\\x98q!'\n"
          ]
        }
      ]
    },
    {
      "cell_type": "markdown",
      "source": [
        "Serialization for copmressed SEC format:\n",
        "\n",
        "Start with the prefix byte, if *y* is even, it's `0x02`, otherwise it's `0x03`. Next, append the x coordinate in 32 bytes as a big-endian integer.\n",
        "\n",
        "**Why?**\n",
        "\n",
        "Evenness and oddness refer to the two possible y values (square roots) for a given x on the elliptic curve.\n",
        "\n",
        "It's a simple way to efficiently represent the full point by keeping only x and telling whether y is even or odd."
      ],
      "metadata": {
        "id": "5xGcbpRht-Ca"
      }
    },
    {
      "cell_type": "markdown",
      "metadata": {
        "id": "SUQ0cce0Eu-M"
      },
      "source": [
        "# Exercise 2"
      ]
    },
    {
      "cell_type": "markdown",
      "source": [
        "\n",
        "\n",
        "Find the Compressed SEC format for the Public Key where the Private Key secrets are:\n",
        "\n",
        "* 5001\n",
        "* \\\\(2019^{5}\\\\)\n",
        "* 0xdeadbeef54321"
      ],
      "metadata": {
        "id": "ojGAlzRmFJqP"
      }
    },
    {
      "cell_type": "code",
      "execution_count": 11,
      "metadata": {
        "colab": {
          "base_uri": "https://localhost:8080/"
        },
        "id": "zdNh-aFeEu-M",
        "outputId": "186b656f-b0aa-48a4-e25a-9ffb5ac53d96"
      },
      "outputs": [
        {
          "output_type": "stream",
          "name": "stdout",
          "text": [
            "S256Point(57a4f368868a8a6d572991e484e664810ff14c05c0fa023275251151fe0e53d1, 0d6cc87c5bc29b83368e17869e964f2f53d52ea3aa3e5a9efa1fa578123a0c6d)\n",
            "0357a4f368868a8a6d572991e484e664810ff14c05c0fa023275251151fe0e53d1\n"
          ]
        }
      ],
      "source": [
        "# Exercise 2\n",
        "\n",
        "from ecc import PrivateKey\n",
        "\n",
        "# 5001\n",
        "# 2019**5\n",
        "# 0xdeadbeef54321\n",
        "\n",
        "e1 = PrivateKey(5001)\n",
        "# print(e1)\n",
        "print(e1.point)\n",
        "\n",
        "P1 = e1.point.sec(compressed=True)\n",
        "print(P1.hex())"
      ]
    },
    {
      "cell_type": "code",
      "source": [
        "from ecc import PrivateKey\n",
        "\n",
        "e1 = PrivateKey(5001)\n",
        "compressed = e1.point.sec(compressed=True)\n",
        "\n",
        "# First byte indicates y-coordinate parity\n",
        "prefix = compressed[0]\n",
        "\n",
        "if prefix == 0x02:\n",
        "    print(\"y is even\")\n",
        "elif prefix == 0x03:\n",
        "    print(\"y is odd\")\n",
        "else:\n",
        "    print(\"Unknown format\")\n"
      ],
      "metadata": {
        "colab": {
          "base_uri": "https://localhost:8080/"
        },
        "id": "57KdmJQIvoum",
        "outputId": "4ba6e142-3250-4c60-a119-224e4ddbed89"
      },
      "execution_count": 12,
      "outputs": [
        {
          "output_type": "stream",
          "name": "stdout",
          "text": [
            "y is odd\n"
          ]
        }
      ]
    },
    {
      "cell_type": "code",
      "source": [
        "e2 = PrivateKey(2019**5)\n",
        "# print(e2)\n",
        "print(e2.point)\n",
        "\n",
        "P2 = e2.point.sec(compressed=True)\n",
        "print(P2.hex())"
      ],
      "metadata": {
        "colab": {
          "base_uri": "https://localhost:8080/"
        },
        "id": "Qr24n7nzv6q4",
        "outputId": "9753cc65-db0f-49ce-82ff-8c210e34e94a"
      },
      "execution_count": 13,
      "outputs": [
        {
          "output_type": "stream",
          "name": "stdout",
          "text": [
            "S256Point(933ec2d2b111b92737ec12f1c5d20f3233a0ad21cd8b36d0bca7a0cfa5cb8701, 96cbbfdd572f75ace44d0aa59fbab6326cb9f909385dcd066ea27affef5a488c)\n",
            "02933ec2d2b111b92737ec12f1c5d20f3233a0ad21cd8b36d0bca7a0cfa5cb8701\n"
          ]
        }
      ]
    },
    {
      "cell_type": "code",
      "source": [
        "e3 = PrivateKey(0xdeadbeef54321)\n",
        "# print(e3)\n",
        "print(e3.point)\n",
        "\n",
        "P3 = e3.point.sec(compressed=True)\n",
        "print(P3.hex())"
      ],
      "metadata": {
        "colab": {
          "base_uri": "https://localhost:8080/"
        },
        "id": "SQsuFBBrv-5Y",
        "outputId": "e8b7031f-f6e9-47de-a89d-da436a85ed0e"
      },
      "execution_count": 14,
      "outputs": [
        {
          "output_type": "stream",
          "name": "stdout",
          "text": [
            "S256Point(96be5b1292f6c856b3c5654e886fc13511462059089cdf9c479623bfcbe77690, 32555d1b027c25c2828ba96a176d78419cd1236f71558f6187aec09611325eb6)\n",
            "0296be5b1292f6c856b3c5654e886fc13511462059089cdf9c479623bfcbe77690\n"
          ]
        }
      ]
    },
    {
      "cell_type": "markdown",
      "source": [
        "By investigation of the serialisation, we can see they are odd, even and even.\n",
        "\n",
        "We can also attempt to check for **parity (odd / even) by checking the y coordinate of the point:"
      ],
      "metadata": {
        "id": "wJNlsXAYxAYr"
      }
    },
    {
      "cell_type": "code",
      "source": [
        "from ecc import PrivateKey\n",
        "\n",
        "e3 = PrivateKey(0xdeadbeef54321)\n",
        "\n",
        "# Print the full point\n",
        "P3 = e3.point\n",
        "print(P3)\n",
        "\n",
        "# Check if y is even or odd\n",
        "y_value = P3.y.num #grabs the integer number\n",
        "if y_value % 2 == 0:\n",
        "    print(\"y is even\")\n",
        "else:\n",
        "    print(\"y is odd\")\n",
        "\n",
        "# Also print compressed SEC for confirmation\n",
        "print(e3.point.sec(compressed=True).hex())"
      ],
      "metadata": {
        "colab": {
          "base_uri": "https://localhost:8080/"
        },
        "id": "UfvuF1eoxgLj",
        "outputId": "c9655ff3-8edb-46e9-fde1-cd26eb359c16"
      },
      "execution_count": 15,
      "outputs": [
        {
          "output_type": "stream",
          "name": "stdout",
          "text": [
            "S256Point(96be5b1292f6c856b3c5654e886fc13511462059089cdf9c479623bfcbe77690, 32555d1b027c25c2828ba96a176d78419cd1236f71558f6187aec09611325eb6)\n",
            "y is even\n",
            "0296be5b1292f6c856b3c5654e886fc13511462059089cdf9c479623bfcbe77690\n"
          ]
        }
      ]
    },
    {
      "cell_type": "markdown",
      "source": [
        "**DER Signatures**\n",
        "\n",
        "Distinguished Encoding Rules is defined by 6 formats.\n",
        "\n"
      ],
      "metadata": {
        "id": "DIW3Il-S1NCr"
      }
    },
    {
      "cell_type": "markdown",
      "metadata": {
        "id": "grGVylVxEu-M"
      },
      "source": [
        "# Exercise 3"
      ]
    },
    {
      "cell_type": "markdown",
      "source": [
        "\n",
        "\n",
        "Find the DER format for a signature whose `r` and `s` values are:\n",
        "\n",
        "* r =\n",
        "\n",
        "`0x37206a0610995c58074999cb9767b87af4c4978db68c06e8e6e81d282047a7c6`\n",
        "\n",
        "* s =\n",
        "\n",
        "`0x8ca63759c1157ebeaec0d03cecca119fc9a75bf8e6d0fa65c841c8e2738cdaec`"
      ],
      "metadata": {
        "id": "SZX4niusFNXU"
      }
    },
    {
      "cell_type": "code",
      "execution_count": 21,
      "metadata": {
        "colab": {
          "base_uri": "https://localhost:8080/",
          "height": 35
        },
        "id": "5HB2j-vdEu-N",
        "outputId": "907f13e4-e9e6-461a-d24d-9cfa518ba629"
      },
      "outputs": [
        {
          "output_type": "execute_result",
          "data": {
            "text/plain": [
              "'3045022037206a0610995c58074999cb9767b87af4c4978db68c06e8e6e81d282047a7c60221008ca63759c1157ebeaec0d03cecca119fc9a75bf8e6d0fa65c841c8e2738cdaec'"
            ],
            "application/vnd.google.colaboratory.intrinsic+json": {
              "type": "string"
            }
          },
          "metadata": {},
          "execution_count": 21
        }
      ],
      "source": [
        "# Exercise 3\n",
        "\n",
        "from ecc import Signature\n",
        "\n",
        "r = 0x37206a0610995c58074999cb9767b87af4c4978db68c06e8e6e81d282047a7c6\n",
        "s = 0x8ca63759c1157ebeaec0d03cecca119fc9a75bf8e6d0fa65c841c8e2738cdaec\n",
        "\n",
        "sig = Signature(r,s) #initialise the Signature class with (r,s).\n",
        "sig.der().hex()"
      ]
    },
    {
      "cell_type": "markdown",
      "source": [
        "**0x30** or **30** — DER SEQUENCE tag  \n",
        "**0x45** — Total length of the sequence: 69 bytes\n",
        "\n",
        "**0x02** — INTEGER tag  \n",
        "**0x20** — Length of r: 32 bytes\n",
        "\n",
        "**r** = 37206a0610995c58074999cb9767b87af4c4978db68c06e8e6e81d282047a7c6\n",
        "\n",
        "**0x02** — INTEGER tag  \n",
        "**0x21** — Length of s: 33 bytes (includes leading 0x00 to ensure positive)\n",
        "\n",
        "**s** = 008ca63759c1157ebeaec0d03cecca119fc9a75bf8e6d0fa65c841c8e2738cdaec  \n",
        "→ Leading **0x00** is added because the first byte of `s` is **0x8c** (≥ 0x80), which could be interpreted as negative if not padded.\n",
        "\n",
        "**Actual s** = 8ca63759c1157ebeaec0d03cecca119fc9a75bf8e6d0fa65c841c8e2738cdaec\n"
      ],
      "metadata": {
        "id": "ZLuNyPUjqQxZ"
      }
    },
    {
      "cell_type": "markdown",
      "source": [
        "**Transmitting your public key**\n",
        "\n",
        "currently using Base58 but going to be phased out by possibly Bech32.\n"
      ],
      "metadata": {
        "id": "Vidcy0Y4q7qP"
      }
    },
    {
      "cell_type": "markdown",
      "metadata": {
        "id": "LBnG-IrqEu-N"
      },
      "source": [
        "# Exercise 4"
      ]
    },
    {
      "cell_type": "markdown",
      "source": [
        "\n",
        "\n",
        "Convert the following hex to binary and then to Base58:\n",
        "\n",
        "* `7c076ff316692a3d7eb3c3bb0f8b1488cf72e1afcd929e29307032997a838a3d`\n",
        "* `eff69ef2b1bd93a66ed5219add4fb51e11a840f404876325a1e8ffe0529a2c`\n",
        "* `c7207fee197d27c618aea621406f6bf5ef6fca38681d82b2f06fddbdce6feab6`"
      ],
      "metadata": {
        "id": "idXmBSZ_FPEe"
      }
    },
    {
      "cell_type": "code",
      "execution_count": 24,
      "metadata": {
        "colab": {
          "base_uri": "https://localhost:8080/"
        },
        "id": "Jvb_sABSEu-N",
        "outputId": "5808f1ee-7e6a-4075-ad0e-806758e24d61"
      },
      "outputs": [
        {
          "output_type": "stream",
          "name": "stdout",
          "text": [
            "b'|\\x07o\\xf3\\x16i*=~\\xb3\\xc3\\xbb\\x0f\\x8b\\x14\\x88\\xcfr\\xe1\\xaf\\xcd\\x92\\x9e)0p2\\x99z\\x83\\x8a='\n",
            "9MA8fRQrT4u8Zj8ZRd6MAiiyaxb2Y1CMpvVkHQu5hVM6\n",
            "4fE3H2E6XMp4SsxtwinF7w9a34ooUrwWe4WsW1458Pd\n",
            "EQJsjkd6JaGwxrjEhfeqPenqHwrBmPQZjJGNSCHBkcF7\n"
          ]
        }
      ],
      "source": [
        "# Exercise 4\n",
        "\n",
        "from helper import encode_base58\n",
        "\n",
        "# 7c076ff316692a3d7eb3c3bb0f8b1488cf72e1afcd929e29307032997a838a3d\n",
        "# eff69ef2b1bd93a66ed5219add4fb51e11a840f404876325a1e8ffe0529a2c\n",
        "# c7207fee197d27c618aea621406f6bf5ef6fca38681d82b2f06fddbdce6feab6\n",
        "\n",
        "bin1 = bytes.fromhex('7c076ff316692a3d7eb3c3bb0f8b1488cf72e1afcd929e29307032997a838a3d')\n",
        "bin2 = bytes.fromhex('eff69ef2b1bd93a66ed5219add4fb51e11a840f404876325a1e8ffe0529a2c')\n",
        "bin3 = bytes.fromhex('c7207fee197d27c618aea621406f6bf5ef6fca38681d82b2f06fddbdce6feab6')\n",
        "\n",
        "bin1_base58 = encode_base58(bin1)\n",
        "bin2_base58 = encode_base58(bin2)\n",
        "bin3_base58 = encode_base58(bin3)\n",
        "\n",
        "print(bin1) # binary data, specifically Python bytes object` (also called a byte string).\n",
        "print(bin1_base58)\n",
        "print(bin2_base58)\n",
        "print(bin3_base58)"
      ]
    },
    {
      "cell_type": "markdown",
      "metadata": {
        "id": "Wp9OkckXEu-O"
      },
      "source": [
        "# Exercise 5"
      ]
    },
    {
      "cell_type": "markdown",
      "source": [
        "\n",
        "\n",
        "Find the address corresponding to Public Keys whose Private Key secrets are:\n",
        "\n",
        "* 5002 (use uncompressed SEC, on testnet)\n",
        "* \\\\(2020^{5}\\\\) (use compressed SEC, on testnet)\n",
        "* 0x12345deadbeef (use compressed SEC on mainnet)"
      ],
      "metadata": {
        "id": "9USfIrBqFRGQ"
      }
    },
    {
      "cell_type": "code",
      "execution_count": null,
      "metadata": {
        "id": "di8BKo4cEu-O"
      },
      "outputs": [],
      "source": [
        "# Exercise 5\n",
        "\n",
        "from ecc import PrivateKey\n",
        "\n",
        "# 5002 (use uncompressed SEC, on testnet)\n",
        "# 2020**5 (use compressed SEC, on testnet)\n",
        "# 0x12345deadbeef (use compressed SEC on mainnet)"
      ]
    },
    {
      "cell_type": "markdown",
      "metadata": {
        "id": "FKbSFTykEu-O"
      },
      "source": [
        "# Exercise 6"
      ]
    },
    {
      "cell_type": "markdown",
      "source": [
        "\n",
        "\n",
        "Find the WIF for Private Key whose secrets are:\n",
        "\n",
        "* 5003 (compressed, testnet)\n",
        "* \\\\(2021^{5}\\\\) (uncompressed, testnet)\n",
        "* 0x54321deadbeef (compressed, mainnet)"
      ],
      "metadata": {
        "id": "02mtJ2sIFSjw"
      }
    },
    {
      "cell_type": "code",
      "execution_count": null,
      "metadata": {
        "id": "FIsi_d7KEu-O"
      },
      "outputs": [],
      "source": [
        "# Exercise 6\n",
        "\n",
        "from ecc import PrivateKey\n",
        "\n",
        "# 5003\n",
        "# 2021**5\n",
        "# 0x54321deadbeef"
      ]
    },
    {
      "cell_type": "markdown",
      "metadata": {
        "id": "TdS3NH2xEu-O"
      },
      "source": [
        "# Exercise 7"
      ]
    },
    {
      "cell_type": "markdown",
      "source": [
        "\n",
        "\n",
        "Write a function `little_endian_to_int` which takes Python bytes, interprets those bytes in Little-Endian and returns the number.\n",
        "\n",
        "#### Make [this test](/edit/code-ch04/helper.py) pass: `helper.py:HelperTest:test_little_endian_to_int`"
      ],
      "metadata": {
        "id": "wxzDjKj5FULY"
      }
    },
    {
      "cell_type": "code",
      "execution_count": null,
      "metadata": {
        "id": "9sg9qznGEu-P"
      },
      "outputs": [],
      "source": [
        "# Exercise 7\n",
        "\n",
        "reload(helper)\n",
        "run(helper.HelperTest(\"test_little_endian_to_int\"))"
      ]
    },
    {
      "cell_type": "markdown",
      "metadata": {
        "id": "p6rl-SVbEu-P"
      },
      "source": [
        "# Exercise 8"
      ]
    },
    {
      "cell_type": "markdown",
      "source": [
        "Write a function `int_to_little_endian` which does the reverse of the last exercise.\n",
        "\n",
        "Make [this test](/edit/code-ch04/helper.py) pass: `helper.py:HelperTest:test_int_to_little_endian`"
      ],
      "metadata": {
        "id": "ky11XKdSFV_1"
      }
    },
    {
      "cell_type": "code",
      "execution_count": null,
      "metadata": {
        "id": "42oQ6Sc2Eu-P"
      },
      "outputs": [],
      "source": [
        "# Exercise 8\n",
        "\n",
        "reload(helper)\n",
        "run(helper.HelperTest(\"test_int_to_little_endian\"))"
      ]
    },
    {
      "cell_type": "markdown",
      "metadata": {
        "id": "JiVGS4xmEu-P"
      },
      "source": [
        "# Exercise 9"
      ]
    },
    {
      "cell_type": "markdown",
      "source": [
        "\n",
        "\n",
        "Create a testnet address for yourself using a long secret that only you know. This is important as there are bots on testnet trying to steal testnet coins. Make sure you write this secret down somewhere! You will be using the secret later to sign Transactions."
      ],
      "metadata": {
        "id": "VIIdQoauFXmf"
      }
    },
    {
      "cell_type": "code",
      "execution_count": null,
      "metadata": {
        "id": "2XeDaIxYEu-P"
      },
      "outputs": [],
      "source": [
        "# Exercise 9\n",
        "\n",
        "from ecc import PrivateKey\n",
        "from helper import hash256, little_endian_to_int\n",
        "\n",
        "# select a passphrase here, add your email address into the passphrase for security\n",
        "# passphrase = b'your@email.address some secret only you know'\n",
        "# secret = little_endian_to_int(hash256(passphrase))\n",
        "# create a private key using your secret\n",
        "# print an address from the public point of the private key with testnet=True"
      ]
    }
  ],
  "metadata": {
    "colab": {
      "provenance": [],
      "include_colab_link": true
    },
    "language_info": {
      "name": "python"
    },
    "kernelspec": {
      "name": "python3",
      "display_name": "Python 3"
    }
  },
  "nbformat": 4,
  "nbformat_minor": 0
}