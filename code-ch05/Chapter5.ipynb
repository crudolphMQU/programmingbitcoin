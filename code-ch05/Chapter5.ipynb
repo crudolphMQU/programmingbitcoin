{
 "cells": [
  {
   "cell_type": "markdown",
   "metadata": {},
   "source": [
    "**Chapter 5 — Transactions**\n",
    "\n",
    "## What this chapter explores\n",
    "- The structure of Bitcoin transactions (version, inputs, outputs, locktime).\n",
    "- How inputs reference previous UTXOs and outputs create new UTXOs.\n",
    "- How transaction data is serialized and parsed from raw hex.\n",
    "- The role of `scriptSig` (unlocking script) and `scriptPubKey` (locking script).\n",
    "- How varints are used to encode variable-length fields.\n",
    "- How transaction fees are calculated (sum of inputs – sum of outputs).\n",
    "- Writing code to parse and represent Tx, TxIn, and TxOut objects.\n",
    "- Understanding how nodes and miners interpret and validate transactions.\n",
    "\n",
    "## What we should learn by the end\n",
    "- Be able to parse a raw Bitcoin transaction into its components.\n",
    "- Understand the UTXO model and how inputs and outputs connect.\n",
    "- Read and interpret ScriptSig and ScriptPubKey fields at a high level.\n",
    "- Implement transaction fee calculation in code.\n",
    "- Gain insight into how miners select transactions based on fees.\n",
    "- Build the foundation for later chapters that cover signing and validating transactions."
   ]
  },
  {
   "cell_type": "code",
   "execution_count": 1,
   "metadata": {},
   "outputs": [],
   "source": [
    "############## PLEASE RUN THIS CELL FIRST! ###################\n",
    "\n",
    "# import everything and define a test runner function\n",
    "from importlib import reload\n",
    "from helper import run\n",
    "import ecc\n",
    "import helper\n",
    "import script\n",
    "import tx"
   ]
  },
  {
   "cell_type": "markdown",
   "metadata": {},
   "source": [
    "### Exercise 1\n",
    "\n",
    "Write the version parsing part of the `parse` method that we've defined. To do this properly, you'll have to convert 4 bytes into a Little-Endian integer.\n",
    "\n",
    "#### Make [this test](/edit/code-ch05/tx.py) pass: `tx.py:TxTest:test_parse_version`"
   ]
  },
  {
   "cell_type": "markdown",
   "metadata": {},
   "source": [
    "__________________________\n",
    "\n",
    "Difficult to find where this is in the `tx.py` notebook...\n",
    "\n",
    "Check the parse class. \n",
    "\n",
    "We need to use little endian method from previous chapter. \n",
    "\n",
    "`TxTest(\"test_parse_version\")` uses\n",
    "`raw_tx = bytes.fromhex('0100000001813f....')`\n",
    "\n",
    "`stream = BytesIO(raw_tx)` creates a file-like object so the data can be read sequentially, instead of reading it in hex format. \n",
    "\n",
    "In `parse`, call `stream.read(4)` to get the first 4 bytes, then convert with `little_endian_to_int`. This gives the version number, which is returned as part of the `Tx` class.\n",
    "\n",
    "Little-endian is required because Bitcoin transaction fields are stored in that format.\n",
    "\n"
   ]
  },
  {
   "cell_type": "code",
   "execution_count": 2,
   "metadata": {},
   "outputs": [
    {
     "name": "stderr",
     "output_type": "stream",
     "text": [
      ".\n",
      "----------------------------------------------------------------------\n",
      "Ran 1 test in 0.002s\n",
      "\n",
      "OK\n"
     ]
    }
   ],
   "source": [
    "# Exercise 1\n",
    "\n",
    "reload(tx)\n",
    "run(tx.TxTest(\"test_parse_version\"))"
   ]
  },
  {
   "cell_type": "markdown",
   "metadata": {},
   "source": [
    "How to get a `Script` object from hexadecimal in Python:"
   ]
  },
  {
   "cell_type": "code",
   "execution_count": 3,
   "metadata": {},
   "outputs": [
    {
     "name": "stdout",
     "output_type": "stream",
     "text": [
      "3045022100ed81ff192e75a3fd2304004dcadb746fa5e24c5031ccfcf21320b0277457c98f02207a986d955c6e0cb35d446a89d3f56100f4d7f67801c31967743a9c8e10615bed01 0349fc4e631e3624a545de3f89f5d8684c7b8138bd94bdd531d2e213bf016b278a\n"
     ]
    }
   ],
   "source": [
    "from io import BytesIO\n",
    "from script import Script\n",
    "script_hex = ('6b483045022100ed81ff192e75a3fd2304004dcadb746fa5e24c5031ccfcf21320b0277457c98f02207a986d955c6e0cb35d446a89d3f56100f4d7f67801c31967743a9c8e10615bed01210349fc4e631e3624a545de3f89f5d8684c7b8138bd94bdd531d2e213bf016b278a')\n",
    "stream = BytesIO(bytes.fromhex(script_hex))\n",
    "script_sig = Script.parse(stream)\n",
    "print(script_sig)"
   ]
  },
  {
   "cell_type": "markdown",
   "metadata": {},
   "source": [
    "### Exercise 2\n",
    "\n",
    "Write the inputs parsing part of the `parse` method in `Tx` and the `parse` method for `TxIn`.\n",
    "\n",
    "#### Make [this test](/edit/code-ch05/tx.py) pass: `tx.py:TxTest:test_parse_inputs`"
   ]
  },
  {
   "cell_type": "markdown",
   "metadata": {},
   "source": [
    "_______________________\n",
    "\n",
    "\n",
    "1. **Read previous transaction**\n",
    "\n",
    "   * `s.read(32)[::-1]` → takes 32 bytes, reverses them because Bitcoin stores txids in little-endian.\n",
    "\n",
    "2. **Read previous index**\n",
    "\n",
    "   * `s.read(4)` → 4 bytes, converted to integer little-endian with `little_endian_to_int`.\n",
    "   * This tells us which output of the previous transaction is being spent.\n",
    "\n",
    "3. **Parse ScriptSig**\n",
    "\n",
    "   * `Script.parse(s)` → reads a varint (script length), then that many bytes, and parses them into a `Script` object.\n",
    "\n",
    "4. **Read sequence**\n",
    "\n",
    "   * `s.read(4)` → 4 bytes, converted to integer little-endian.\n",
    "   * Usually `0xffffffff` unless replaced by locktime logic.\n",
    "\n",
    "5. **Return TxIn object**\n",
    "\n",
    "   * Wraps everything (`prev_tx`, `prev_index`, `script_sig`, `sequence`) in a `TxIn` instance.\n",
    "\n",
    "---\n",
    "\n",
    "* 32 bytes = txid\n",
    "* 4 bytes = output index\n",
    "* varint + script bytes = ScriptSig\n",
    "* 4 bytes = sequence\n",
    "* return `TxIn`.\n"
   ]
  },
  {
   "cell_type": "code",
   "execution_count": 4,
   "metadata": {},
   "outputs": [
    {
     "name": "stderr",
     "output_type": "stream",
     "text": [
      ".\n",
      "----------------------------------------------------------------------\n",
      "Ran 1 test in 0.002s\n",
      "\n",
      "OK\n"
     ]
    }
   ],
   "source": [
    "# Exercise 2\n",
    "\n",
    "reload(tx)\n",
    "run(tx.TxTest(\"test_parse_inputs\"))"
   ]
  },
  {
   "cell_type": "markdown",
   "metadata": {},
   "source": [
    "### Exercise 3\n",
    "\n",
    "Write the outputs parsing part of the `parse` method in `Tx` and the `parse` method for `TxOut`.\n",
    "\n",
    "#### Make [this test](/edit/code-ch05/tx.py) pass: `tx.py:TxTest:test_parse_outputs`\n",
    "\n",
    "__________________\n",
    "\n",
    "Testing the output parsing: \n",
    "\n",
    "* read_varint(s) is called twice: once for inputs and once for outputs. This is necessary because the number of inputs and outputs can be different in each transaction. The first call tells us how many TxIn objects (spending previous UTXOs) to parse, and the second call tells us how many TxOut objects (new UTXOs/payments) to parse.\n",
    "\n",
    "**Example**\n",
    "\n",
    "Suppose Alice received 0.5 BTC in an earlier transaction (that output is now a UTXO belonging to Alice).\n",
    "If Alice wants to pay Bob:\n",
    "\n",
    "Her new transaction will include 1 input (TxIn) pointing back to that 0.5 BTC UTXO.\n",
    "\n",
    "That input is spending the previous UTXO.\n",
    "\n",
    "* parsing the number of outputs provides the number of outbound satoshis and the pubkey.\n",
    "\n",
    "* Parsing the number of outputs lets us know how many TxOut objects to create, i.e. how many “payments” this transaction makes."
   ]
  },
  {
   "cell_type": "code",
   "execution_count": 5,
   "metadata": {},
   "outputs": [
    {
     "name": "stderr",
     "output_type": "stream",
     "text": [
      ".\n",
      "----------------------------------------------------------------------\n",
      "Ran 1 test in 0.002s\n",
      "\n",
      "OK\n"
     ]
    }
   ],
   "source": [
    "# Exercise 3\n",
    "\n",
    "reload(tx)\n",
    "run(tx.TxTest(\"test_parse_outputs\"))"
   ]
  },
  {
   "cell_type": "markdown",
   "metadata": {},
   "source": [
    "### Exercise 4\n",
    "\n",
    "Write the Locktime parsing part of the `parse` method in `Tx`.\n",
    "\n",
    "#### Make [this test](/edit/code-ch05/tx.py) pass: `tx.py:TxTest:test_parse_locktime`\n",
    "\n",
    "______\n",
    "\n",
    "the parser is using the logic we've defined previously for the version, inputs and outputs. So it knows from that the locktime is the last 4 bytes. \n",
    "\n",
    "**Locktime parsing notes**\n",
    "\n",
    "* The parser reads fields in order: version → inputs → outputs.\n",
    "* After those are consumed, only 4 bytes remain at the end of the transaction.\n",
    "* By definition, those last 4 bytes are the locktime.\n",
    "* s.read(4) + little_endian_to_int gives the locktime value."
   ]
  },
  {
   "cell_type": "code",
   "execution_count": 6,
   "metadata": {},
   "outputs": [
    {
     "name": "stderr",
     "output_type": "stream",
     "text": [
      ".\n",
      "----------------------------------------------------------------------\n",
      "Ran 1 test in 0.001s\n",
      "\n",
      "OK\n"
     ]
    }
   ],
   "source": [
    "# Exercise 4\n",
    "\n",
    "reload(tx)\n",
    "run(tx.TxTest(\"test_parse_locktime\"))"
   ]
  },
  {
   "cell_type": "markdown",
   "metadata": {},
   "source": [
    "### Exercise 5\n",
    "\n",
    "What is the ScriptSig from the second input, ScriptPubKey from the first output and the amount of the second output for this transaction?\n",
    "\n",
    "```\n",
    "010000000456919960ac691763688d3d3bcea9ad6ecaf875df5339e148a1fc61c6ed7a069e0100\n",
    "00006a47304402204585bcdef85e6b1c6af5c2669d4830ff86e42dd205c0e089bc2a821657e951\n",
    "c002201024a10366077f87d6bce1f7100ad8cfa8a064b39d4e8fe4ea13a7b71aa8180f012102f0\n",
    "da57e85eec2934a82a585ea337ce2f4998b50ae699dd79f5880e253dafafb7feffffffeb8f51f4\n",
    "038dc17e6313cf831d4f02281c2a468bde0fafd37f1bf882729e7fd3000000006a473044022078\n",
    "99531a52d59a6de200179928ca900254a36b8dff8bb75f5f5d71b1cdc26125022008b422690b84\n",
    "61cb52c3cc30330b23d574351872b7c361e9aae3649071c1a7160121035d5c93d9ac96881f19ba\n",
    "1f686f15f009ded7c62efe85a872e6a19b43c15a2937feffffff567bf40595119d1bb8a3037c35\n",
    "6efd56170b64cbcc160fb028fa10704b45d775000000006a47304402204c7c7818424c7f7911da\n",
    "6cddc59655a70af1cb5eaf17c69dadbfc74ffa0b662f02207599e08bc8023693ad4e9527dc42c3\n",
    "4210f7a7d1d1ddfc8492b654a11e7620a0012102158b46fbdff65d0172b7989aec8850aa0dae49\n",
    "abfb84c81ae6e5b251a58ace5cfeffffffd63a5e6c16e620f86f375925b21cabaf736c779f88fd\n",
    "04dcad51d26690f7f345010000006a47304402200633ea0d3314bea0d95b3cd8dadb2ef79ea833\n",
    "1ffe1e61f762c0f6daea0fabde022029f23b3e9c30f080446150b23852028751635dcee2be669c\n",
    "2a1686a4b5edf304012103ffd6f4a67e94aba353a00882e563ff2722eb4cff0ad6006e86ee20df\n",
    "e7520d55feffffff0251430f00000000001976a914ab0c0b2e98b1ab6dbf67d4750b0a56244948\n",
    "a87988ac005a6202000000001976a9143c82d7df364eb6c75be8c80df2b3eda8db57397088ac46\n",
    "430600\n",
    "```"
   ]
  },
  {
   "cell_type": "code",
   "execution_count": 7,
   "metadata": {},
   "outputs": [],
   "source": [
    "# Exercise 5\n",
    "\n",
    "from io import BytesIO\n",
    "from tx import Tx\n",
    "\n",
    "hex_transaction = '010000000456919960ac691763688d3d3bcea9ad6ecaf875df5339e148a1fc61c6ed7a069e010000006a47304402204585bcdef85e6b1c6af5c2669d4830ff86e42dd205c0e089bc2a821657e951c002201024a10366077f87d6bce1f7100ad8cfa8a064b39d4e8fe4ea13a7b71aa8180f012102f0da57e85eec2934a82a585ea337ce2f4998b50ae699dd79f5880e253dafafb7feffffffeb8f51f4038dc17e6313cf831d4f02281c2a468bde0fafd37f1bf882729e7fd3000000006a47304402207899531a52d59a6de200179928ca900254a36b8dff8bb75f5f5d71b1cdc26125022008b422690b8461cb52c3cc30330b23d574351872b7c361e9aae3649071c1a7160121035d5c93d9ac96881f19ba1f686f15f009ded7c62efe85a872e6a19b43c15a2937feffffff567bf40595119d1bb8a3037c356efd56170b64cbcc160fb028fa10704b45d775000000006a47304402204c7c7818424c7f7911da6cddc59655a70af1cb5eaf17c69dadbfc74ffa0b662f02207599e08bc8023693ad4e9527dc42c34210f7a7d1d1ddfc8492b654a11e7620a0012102158b46fbdff65d0172b7989aec8850aa0dae49abfb84c81ae6e5b251a58ace5cfeffffffd63a5e6c16e620f86f375925b21cabaf736c779f88fd04dcad51d26690f7f345010000006a47304402200633ea0d3314bea0d95b3cd8dadb2ef79ea8331ffe1e61f762c0f6daea0fabde022029f23b3e9c30f080446150b23852028751635dcee2be669c2a1686a4b5edf304012103ffd6f4a67e94aba353a00882e563ff2722eb4cff0ad6006e86ee20dfe7520d55feffffff0251430f00000000001976a914ab0c0b2e98b1ab6dbf67d4750b0a56244948a87988ac005a6202000000001976a9143c82d7df364eb6c75be8c80df2b3eda8db57397088ac46430600'\n",
    "\n",
    "# convert the hex_transaction to binary\n",
    "\n",
    "# create a stream using BytesIO\n",
    "# use Tx.parse to get the transaction object.\n",
    "# ScriptSig from second input\n",
    "# ScriptPubKey from first output\n",
    "# Amount from second output"
   ]
  },
  {
   "cell_type": "code",
   "execution_count": 8,
   "metadata": {},
   "outputs": [],
   "source": [
    "stream = BytesIO(bytes.fromhex(hex_transaction))\n",
    "transaction = Tx.parse(stream)"
   ]
  },
  {
   "cell_type": "code",
   "execution_count": 9,
   "metadata": {},
   "outputs": [
    {
     "data": {
      "text/plain": [
       "tx: ee51510d7bbabe28052038d1deb10c03ec74f06a79e21913c6fcf48d56217c87\n",
       "version: 1\n",
       "tx_ins:\n",
       "9e067aedc661fca148e13953df75f8ca6eada9ce3b3d8d68631769ac60999156:1\n",
       "d37f9e7282f81b7fd3af0fde8b462a1c28024f1d83cf13637ec18d03f4518feb:0\n",
       "75d7454b7010fa28b00f16cccb640b1756fd6e357c03a3b81b9d119505f47b56:0\n",
       "45f3f79066d251addc04fd889f776c73afab1cb22559376ff820e6166c5e3ad6:1\n",
       "tx_outs:\n",
       "1000273:OP_DUP OP_HASH160 ab0c0b2e98b1ab6dbf67d4750b0a56244948a879 OP_EQUALVERIFY OP_CHECKSIG\n",
       "40000000:OP_DUP OP_HASH160 3c82d7df364eb6c75be8c80df2b3eda8db573970 OP_EQUALVERIFY OP_CHECKSIG\n",
       "locktime: 410438"
      ]
     },
     "execution_count": 9,
     "metadata": {},
     "output_type": "execute_result"
    }
   ],
   "source": [
    "transaction"
   ]
  },
  {
   "cell_type": "code",
   "execution_count": 10,
   "metadata": {},
   "outputs": [
    {
     "name": "stdout",
     "output_type": "stream",
     "text": [
      "47304402207899531a52d59a6de200179928ca900254a36b8dff8bb75f5f5d71b1cdc26125022008b422690b8461cb52c3cc30330b23d574351872b7c361e9aae3649071c1a7160121035d5c93d9ac96881f19ba1f686f15f009ded7c62efe85a872e6a19b43c15a2937\n"
     ]
    }
   ],
   "source": [
    "print(transaction.tx_ins[1].script_sig.raw_serialize().hex())"
   ]
  },
  {
   "cell_type": "code",
   "execution_count": 11,
   "metadata": {},
   "outputs": [
    {
     "name": "stdout",
     "output_type": "stream",
     "text": [
      "1976a914ab0c0b2e98b1ab6dbf67d4750b0a56244948a87988ac\n"
     ]
    }
   ],
   "source": [
    "print(transaction.tx_outs[0].script_pubkey.serialize().hex())"
   ]
  },
  {
   "cell_type": "code",
   "execution_count": 12,
   "metadata": {},
   "outputs": [
    {
     "name": "stdout",
     "output_type": "stream",
     "text": [
      "40000000\n"
     ]
    }
   ],
   "source": [
    "print(transaction.tx_outs[1].amount)"
   ]
  },
  {
   "cell_type": "code",
   "execution_count": 13,
   "metadata": {},
   "outputs": [
    {
     "name": "stdout",
     "output_type": "stream",
     "text": [
      "Output 0: 1000273 sats (0.01000273 BTC)\n",
      "  ScriptPubKey: 76a914ab0c0b2e98b1ab6dbf67d4750b0a56244948a87988ac\n",
      "\n",
      "Output 1: 40000000 sats (0.40000000 BTC)\n",
      "  ScriptPubKey: 76a9143c82d7df364eb6c75be8c80df2b3eda8db57397088ac\n",
      "\n"
     ]
    }
   ],
   "source": [
    "for i, tx_out in enumerate(transaction.tx_outs):\n",
    "    print(f\"Output {i}: {tx_out.amount} sats ({tx_out.amount / 100_000_000:.8f} BTC)\")\n",
    "    print(f\"  ScriptPubKey: {tx_out.script_pubkey.raw_serialize().hex()}\\n\")\n"
   ]
  },
  {
   "cell_type": "markdown",
   "metadata": {},
   "source": [
    "### Exercise 6\n",
    "\n",
    "Write the `fee` method for the `Tx` class.\n",
    "\n",
    "#### Make [this test](/edit/code-ch05/tx.py) pass: `tx.py:TxTest:test_fee`\n",
    "\n",
    "_____\n",
    "transaction fees incentivise miners to include the transactions in the blockspace or mempool. Only transactions in the blockspace are part of the blockchain and final. \n",
    "\n",
    "What happens if miners don't include transactions? Will they start taking control of the blockchain? \n",
    "\n",
    "The transaction fee is the sum of the inputs minus the outputs"
   ]
  },
  {
   "cell_type": "code",
   "execution_count": 18,
   "metadata": {},
   "outputs": [
    {
     "name": "stderr",
     "output_type": "stream",
     "text": [
      ".\n",
      "----------------------------------------------------------------------\n",
      "Ran 1 test in 0.003s\n",
      "\n",
      "OK\n"
     ]
    }
   ],
   "source": [
    "# Exercise 6\n",
    "\n",
    "reload(tx)\n",
    "run(tx.TxTest(\"test_fee\"))"
   ]
  },
  {
   "cell_type": "markdown",
   "metadata": {},
   "source": [
    "# Chapter review"
   ]
  },
  {
   "cell_type": "markdown",
   "metadata": {},
   "source": [
    "\n",
    "## Structure of a Transaction"
   ]
  },
  {
   "cell_type": "markdown",
   "metadata": {},
   "source": [
    "- **Version** (4 bytes, little-endian): protocol version.\n",
    "- **Inputs (TxIn):**\n",
    "  - `prev_tx` (32 bytes, txid of UTXO being spent, little-endian).\n",
    "  - `prev_index` (4 bytes, which output of that tx).\n",
    "  - `scriptSig` (unlocking script, proves spending rights).\n",
    "  - `sequence` (4 bytes, often `0xffffffff`).\n",
    "- **Outputs (TxOut):**\n",
    "  - `amount` (8 bytes, satoshis).\n",
    "  - `scriptPubKey` (locking script, defines spending condition).\n",
    "- **Locktime** (4 bytes, little-endian): earliest block/time the tx is valid."
   ]
  },
  {
   "cell_type": "markdown",
   "metadata": {},
   "source": [
    "## Key Concepts"
   ]
  },
  {
   "cell_type": "markdown",
   "metadata": {},
   "source": [
    "- **UTXO Model**\n",
    "  - Inputs reference previous unspent outputs.\n",
    "  - Outputs create new UTXOs.\n",
    "- **Varints**\n",
    "  - Used for number of inputs, number of outputs, and script lengths.\n",
    "- **Scripts**\n",
    "  - `scriptPubKey` = locking conditions.\n",
    "  - `scriptSig` = unlocking data.\n",
    "  - Together must evaluate to *true*.\n",
    "- **Transaction Fee**\n",
    "  - Fee = sum(inputs) – sum(outputs)."
   ]
  },
  {
   "cell_type": "markdown",
   "metadata": {},
   "source": [
    "## Code/Parsing Flow"
   ]
  },
  {
   "cell_type": "markdown",
   "metadata": {},
   "source": [
    "- `Tx.parse()`: version → inputs → outputs → locktime.\n",
    "- `TxIn.parse()`: prev_tx, prev_index, scriptSig, sequence.\n",
    "- `TxOut.parse()`: amount, scriptPubKey.\n",
    "- `Tx.fee()`: sum of input values – sum of outputs."
   ]
  },
  {
   "cell_type": "markdown",
   "metadata": {},
   "source": [
    "## Big Picture"
   ]
  },
  {
   "cell_type": "markdown",
   "metadata": {},
   "source": [
    "- Transactions are inputs → outputs (UTXOs consumed and created).\n",
    "- Nodes check that scripts unlock UTXOs correctly.\n",
    "- Miners prioritize by fee rate (sats per byte).\n",
    "- You now have a working transaction parser and fee calculator."
   ]
  },
  {
   "cell_type": "markdown",
   "metadata": {},
   "source": [
    "## Takeaway\n",
    "Bitcoin transactions = UTXOs being spent and created, locked/unlocked by scripts, with fees equal to leftover satoshis.\n"
   ]
  }
 ],
 "metadata": {
  "kernelspec": {
   "display_name": "Python (programmingbitcoin)",
   "language": "python",
   "name": "programmingbitcoin"
  },
  "language_info": {
   "codemirror_mode": {
    "name": "ipython",
    "version": 3
   },
   "file_extension": ".py",
   "mimetype": "text/x-python",
   "name": "python",
   "nbconvert_exporter": "python",
   "pygments_lexer": "ipython3",
   "version": "3.10.12"
  }
 },
 "nbformat": 4,
 "nbformat_minor": 4
}
