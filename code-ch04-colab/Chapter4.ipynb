{
  "cells": [
    {
      "cell_type": "markdown",
      "metadata": {
        "id": "view-in-github",
        "colab_type": "text"
      },
      "source": [
        "<a href=\"https://colab.research.google.com/github/crudolphMQU/programmingbitcoin/blob/master/code-ch04/Chapter4.ipynb\" target=\"_parent\"><img src=\"https://colab.research.google.com/assets/colab-badge.svg\" alt=\"Open In Colab\"/></a>"
      ]
    },
    {
      "cell_type": "markdown",
      "source": [
        "# Set up"
      ],
      "metadata": {
        "id": "qlgn1cXbFDsF"
      }
    },
    {
      "cell_type": "code",
      "source": [
        "!git clone https://github.com/crudolphMQU/programmingbitcoin"
      ],
      "metadata": {
        "colab": {
          "base_uri": "https://localhost:8080/"
        },
        "id": "YCCY9MpOEvtu",
        "outputId": "20d8a351-0c26-40e7-834c-9c2d30a70916"
      },
      "execution_count": null,
      "outputs": [
        {
          "output_type": "stream",
          "name": "stdout",
          "text": [
            "fatal: destination path 'programmingbitcoin' already exists and is not an empty directory.\n"
          ]
        }
      ]
    },
    {
      "cell_type": "code",
      "source": [
        "ls"
      ],
      "metadata": {
        "colab": {
          "base_uri": "https://localhost:8080/"
        },
        "id": "Ur_sST2-E8qJ",
        "outputId": "bf0284b5-4f5f-4efb-bb91-7189d2a953e2"
      },
      "execution_count": null,
      "outputs": [
        {
          "output_type": "stream",
          "name": "stdout",
          "text": [
            "\u001b[0m\u001b[01;34mprogrammingbitcoin\u001b[0m/  \u001b[01;34msample_data\u001b[0m/\n"
          ]
        }
      ]
    },
    {
      "cell_type": "code",
      "source": [
        "cd programmingbitcoin/code-ch04"
      ],
      "metadata": {
        "colab": {
          "base_uri": "https://localhost:8080/"
        },
        "id": "t_gSEd4AE74t",
        "outputId": "bc18376f-8d7c-49b6-af96-b41e66d64c45"
      },
      "execution_count": null,
      "outputs": [
        {
          "output_type": "stream",
          "name": "stdout",
          "text": [
            "/content/programmingbitcoin/code-ch04\n"
          ]
        }
      ]
    },
    {
      "cell_type": "code",
      "source": [
        "try:\n",
        "    import virtualenv\n",
        "except ImportError:\n",
        "  !pip install virtualenv==20.17.1"
      ],
      "metadata": {
        "id": "Skb95_uFEzRj"
      },
      "execution_count": null,
      "outputs": []
    },
    {
      "cell_type": "code",
      "source": [
        "!pip install -q -r /content/programmingbitcoin/requirements.txt"
      ],
      "metadata": {
        "colab": {
          "base_uri": "https://localhost:8080/"
        },
        "id": "7UmkwymsE0yN",
        "outputId": "2e92f635-7507-4a76-be96-ef60cac59fcd"
      },
      "execution_count": null,
      "outputs": [
        {
          "output_type": "stream",
          "name": "stdout",
          "text": [
            "\u001b[2K   \u001b[90m━━━━━━━━━━━━━━━━━━━━━━━━━━━━━━━━━━━━━━━━\u001b[0m \u001b[32m12.3/12.3 MB\u001b[0m \u001b[31m81.4 MB/s\u001b[0m eta \u001b[36m0:00:00\u001b[0m\n",
            "\u001b[2K   \u001b[90m━━━━━━━━━━━━━━━━━━━━━━━━━━━━━━━━━━━━━━━━\u001b[0m \u001b[32m69.4/69.4 kB\u001b[0m \u001b[31m4.6 MB/s\u001b[0m eta \u001b[36m0:00:00\u001b[0m\n",
            "\u001b[2K   \u001b[90m━━━━━━━━━━━━━━━━━━━━━━━━━━━━━━━━━━━━━━━━\u001b[0m \u001b[32m386.9/386.9 kB\u001b[0m \u001b[31m24.4 MB/s\u001b[0m eta \u001b[36m0:00:00\u001b[0m\n",
            "\u001b[2K   \u001b[90m━━━━━━━━━━━━━━━━━━━━━━━━━━━━━━━━━━━━━━━━\u001b[0m \u001b[32m133.5/133.5 kB\u001b[0m \u001b[31m8.7 MB/s\u001b[0m eta \u001b[36m0:00:00\u001b[0m\n",
            "\u001b[2K   \u001b[90m━━━━━━━━━━━━━━━━━━━━━━━━━━━━━━━━━━━━━━━━\u001b[0m \u001b[32m59.7/59.7 kB\u001b[0m \u001b[31m4.2 MB/s\u001b[0m eta \u001b[36m0:00:00\u001b[0m\n",
            "\u001b[2K   \u001b[90m━━━━━━━━━━━━━━━━━━━━━━━━━━━━━━━━━━━━━━━━\u001b[0m \u001b[32m1.6/1.6 MB\u001b[0m \u001b[31m57.2 MB/s\u001b[0m eta \u001b[36m0:00:00\u001b[0m\n",
            "\u001b[2K   \u001b[90m━━━━━━━━━━━━━━━━━━━━━━━━━━━━━━━━━━━━━━━━\u001b[0m \u001b[32m66.4/66.4 kB\u001b[0m \u001b[31m4.7 MB/s\u001b[0m eta \u001b[36m0:00:00\u001b[0m\n",
            "\u001b[2K   \u001b[90m━━━━━━━━━━━━━━━━━━━━━━━━━━━━━━━━━━━━━━━━\u001b[0m \u001b[32m111.0/111.0 kB\u001b[0m \u001b[31m6.7 MB/s\u001b[0m eta \u001b[36m0:00:00\u001b[0m\n",
            "\u001b[?25h"
          ]
        }
      ]
    },
    {
      "cell_type": "code",
      "source": [
        "try:\n",
        "    import helper\n",
        "except ImportError:\n",
        "  !pip install helper"
      ],
      "metadata": {
        "id": "jbTgkXtPE10n"
      },
      "execution_count": null,
      "outputs": []
    },
    {
      "cell_type": "markdown",
      "source": [
        "# Imports"
      ],
      "metadata": {
        "id": "JVGkY8KaFFHn"
      }
    },
    {
      "cell_type": "code",
      "execution_count": null,
      "metadata": {
        "id": "j-vh5Pg8Eu-J"
      },
      "outputs": [],
      "source": [
        "############## PLEASE RUN THIS CELL FIRST! ###################\n",
        "\n",
        "# import everything and define a test runner function\n",
        "from importlib import reload\n",
        "from helper import run\n",
        "import ecc\n",
        "import helper"
      ]
    },
    {
      "cell_type": "markdown",
      "source": [
        "# Serialization"
      ],
      "metadata": {
        "id": "a2v01JyikMuM"
      }
    },
    {
      "cell_type": "markdown",
      "source": [
        "To communicate the classes we've created to other computers, we use serialization.\n",
        "\n",
        "*Standard for Efficient Cryptography (SEC)* is the serialization standard. There are two SEC formats, compressed and uncompressed.\n",
        "\n",
        "The format for uncompressed SEC for a point *P = (x.y)*:\n",
        "\n",
        "Start wit hthe prefix byte `0x04`, append the x coordinate in 32 bytes as a **big-endian integer** then do the same for the y coordinate.\n",
        "\n",
        "Remember, `0x` is the indicator that the format is hexadecimal.\n",
        "\n",
        "Big-endian is the 'big end' of how a number is read. 123 = 100 + 20 + 3."
      ],
      "metadata": {
        "id": "IkmHFVJQkOsF"
      }
    },
    {
      "cell_type": "markdown",
      "metadata": {
        "id": "quJUZ8JaEu-L"
      },
      "source": [
        "# Exercise 1"
      ]
    },
    {
      "cell_type": "markdown",
      "source": [
        "\n",
        "\n",
        "Find the uncompressed SEC format for the Public Key where the Private Key secrets are:\n",
        "\n",
        "* 5000\n",
        "* \\\\(2018^{5}\\\\)\n",
        "* 0xdeadbeef12345"
      ],
      "metadata": {
        "id": "NoD8DB9IFIG2"
      }
    },
    {
      "cell_type": "code",
      "execution_count": null,
      "metadata": {
        "colab": {
          "base_uri": "https://localhost:8080/"
        },
        "id": "FUSyoOCJEu-M",
        "outputId": "b5953a81-3814-4e23-c900-2f4eb00d70b2"
      },
      "outputs": [
        {
          "output_type": "stream",
          "name": "stdout",
          "text": [
            "S256Point(ffe558e388852f0120e46af2d1b370f85854a8eb0841811ece0e3e03d282d57c, 315dc72890a4f10a1481c031b03b351b0dc79901ca18a00cf009dbdb157a1d10)\n",
            "04ffe558e388852f0120e46af2d1b370f85854a8eb0841811ece0e3e03d282d57c315dc72890a4f10a1481c031b03b351b0dc79901ca18a00cf009dbdb157a1d10\n"
          ]
        }
      ],
      "source": [
        "# Exercise 1\n",
        "\n",
        "from ecc import PrivateKey, S256Point\n",
        "\n",
        "# 5000\n",
        "# 2018**5\n",
        "# 0xdeadbeef12345\n",
        "# privatekey.point is the public key for a private key\n",
        "\n",
        "# first initialise as private key using the PrivateKey class\n",
        "e1 = PrivateKey(5000)\n",
        "# print(e1)\n",
        "print(e1.point)\n",
        "\n",
        "P1 = e1.point.sec(compressed=False)\n",
        "print(P1.hex())"
      ]
    },
    {
      "cell_type": "code",
      "source": [
        "e2 = PrivateKey(2018**5)\n",
        "# print(e2)\n",
        "print(e2.point)\n",
        "\n",
        "P2 = e2.point.sec(compressed=False)\n",
        "print(P2.hex())"
      ],
      "metadata": {
        "colab": {
          "base_uri": "https://localhost:8080/"
        },
        "id": "Qa1RmZuKqb9F",
        "outputId": "301062ce-62ea-4c1a-bfd2-74c8d28f7484"
      },
      "execution_count": null,
      "outputs": [
        {
          "output_type": "stream",
          "name": "stdout",
          "text": [
            "S256Point(027f3da1918455e03c46f659266a1bb5204e959db7364d2f473bdf8f0a13cc9d, ff87647fd023c13b4a4994f17691895806e1b40b57f4fd22581a4f46851f3b06)\n",
            "04027f3da1918455e03c46f659266a1bb5204e959db7364d2f473bdf8f0a13cc9dff87647fd023c13b4a4994f17691895806e1b40b57f4fd22581a4f46851f3b06\n"
          ]
        }
      ]
    },
    {
      "cell_type": "code",
      "source": [
        "e3 = PrivateKey(0xdeadbeef12345)\n",
        "# print(e3)\n",
        "print(e3.point)\n",
        "\n",
        "P3 = e3.point.sec(compressed=False)\n",
        "print(P3)"
      ],
      "metadata": {
        "colab": {
          "base_uri": "https://localhost:8080/"
        },
        "id": "GsW4cJ0SqdXu",
        "outputId": "1d39fc01-39af-4734-85b9-03b071abe0a9"
      },
      "execution_count": null,
      "outputs": [
        {
          "output_type": "stream",
          "name": "stdout",
          "text": [
            "S256Point(d90cd625ee87dd38656dd95cf79f65f60f7273b67d3096e68bd81e4f5342691f, 842efa762fd59961d0e99803c61edba8b3e3f7dc3a341836f97733aebf987121)\n",
            "b'\\x04\\xd9\\x0c\\xd6%\\xee\\x87\\xdd8em\\xd9\\\\\\xf7\\x9fe\\xf6\\x0frs\\xb6}0\\x96\\xe6\\x8b\\xd8\\x1eOSBi\\x1f\\x84.\\xfav/\\xd5\\x99a\\xd0\\xe9\\x98\\x03\\xc6\\x1e\\xdb\\xa8\\xb3\\xe3\\xf7\\xdc:4\\x186\\xf9w3\\xae\\xbf\\x98q!'\n"
          ]
        }
      ]
    },
    {
      "cell_type": "markdown",
      "source": [
        "Serialization for copmressed SEC format:\n",
        "\n",
        "Start with the prefix byte, if *y* is even, it's `0x02`, otherwise it's `0x03`. Next, append the x coordinate in 32 bytes as a big-endian integer.\n",
        "\n",
        "**Why?**\n",
        "\n",
        "Evenness and oddness refer to the two possible y values (square roots) for a given x on the elliptic curve.\n",
        "\n",
        "It's a simple way to efficiently represent the full point by keeping only x and telling whether y is even or odd."
      ],
      "metadata": {
        "id": "5xGcbpRht-Ca"
      }
    },
    {
      "cell_type": "markdown",
      "metadata": {
        "id": "SUQ0cce0Eu-M"
      },
      "source": [
        "# Exercise 2"
      ]
    },
    {
      "cell_type": "markdown",
      "source": [
        "\n",
        "\n",
        "Find the Compressed SEC format for the Public Key where the Private Key secrets are:\n",
        "\n",
        "* 5001\n",
        "* \\\\(2019^{5}\\\\)\n",
        "* 0xdeadbeef54321"
      ],
      "metadata": {
        "id": "ojGAlzRmFJqP"
      }
    },
    {
      "cell_type": "code",
      "execution_count": null,
      "metadata": {
        "colab": {
          "base_uri": "https://localhost:8080/"
        },
        "id": "zdNh-aFeEu-M",
        "outputId": "708ffd3c-fae9-432d-839b-860c9c041496"
      },
      "outputs": [
        {
          "output_type": "stream",
          "name": "stdout",
          "text": [
            "S256Point(57a4f368868a8a6d572991e484e664810ff14c05c0fa023275251151fe0e53d1, 0d6cc87c5bc29b83368e17869e964f2f53d52ea3aa3e5a9efa1fa578123a0c6d)\n",
            "0357a4f368868a8a6d572991e484e664810ff14c05c0fa023275251151fe0e53d1\n"
          ]
        }
      ],
      "source": [
        "# Exercise 2\n",
        "\n",
        "from ecc import PrivateKey\n",
        "\n",
        "# 5001\n",
        "# 2019**5\n",
        "# 0xdeadbeef54321\n",
        "\n",
        "e1 = PrivateKey(5001)\n",
        "# print(e1)\n",
        "print(e1.point)\n",
        "\n",
        "P1 = e1.point.sec(compressed=True)\n",
        "print(P1.hex())"
      ]
    },
    {
      "cell_type": "code",
      "source": [
        "from ecc import PrivateKey\n",
        "\n",
        "e1 = PrivateKey(5001)\n",
        "compressed = e1.point.sec(compressed=True)\n",
        "\n",
        "# First byte indicates y-coordinate parity\n",
        "prefix = compressed[0]\n",
        "\n",
        "if prefix == 0x02:\n",
        "    print(\"y is even\")\n",
        "elif prefix == 0x03:\n",
        "    print(\"y is odd\")\n",
        "else:\n",
        "    print(\"Unknown format\")\n"
      ],
      "metadata": {
        "colab": {
          "base_uri": "https://localhost:8080/"
        },
        "id": "57KdmJQIvoum",
        "outputId": "9d8a7173-316c-4b08-80a0-368b466521aa"
      },
      "execution_count": null,
      "outputs": [
        {
          "output_type": "stream",
          "name": "stdout",
          "text": [
            "y is odd\n"
          ]
        }
      ]
    },
    {
      "cell_type": "code",
      "source": [
        "e2 = PrivateKey(2019**5)\n",
        "# print(e2)\n",
        "print(e2.point)\n",
        "\n",
        "P2 = e2.point.sec(compressed=True)\n",
        "print(P2.hex())"
      ],
      "metadata": {
        "colab": {
          "base_uri": "https://localhost:8080/"
        },
        "id": "Qr24n7nzv6q4",
        "outputId": "6a43a697-b5df-42f9-c460-1de775605e07"
      },
      "execution_count": null,
      "outputs": [
        {
          "output_type": "stream",
          "name": "stdout",
          "text": [
            "S256Point(933ec2d2b111b92737ec12f1c5d20f3233a0ad21cd8b36d0bca7a0cfa5cb8701, 96cbbfdd572f75ace44d0aa59fbab6326cb9f909385dcd066ea27affef5a488c)\n",
            "02933ec2d2b111b92737ec12f1c5d20f3233a0ad21cd8b36d0bca7a0cfa5cb8701\n"
          ]
        }
      ]
    },
    {
      "cell_type": "code",
      "source": [
        "e3 = PrivateKey(0xdeadbeef54321)\n",
        "# print(e3)\n",
        "print(e3.point)\n",
        "\n",
        "P3 = e3.point.sec(compressed=True)\n",
        "print(P3.hex())"
      ],
      "metadata": {
        "colab": {
          "base_uri": "https://localhost:8080/"
        },
        "id": "SQsuFBBrv-5Y",
        "outputId": "4787c3fc-801a-41ad-a492-5470b64b0c03"
      },
      "execution_count": null,
      "outputs": [
        {
          "output_type": "stream",
          "name": "stdout",
          "text": [
            "S256Point(96be5b1292f6c856b3c5654e886fc13511462059089cdf9c479623bfcbe77690, 32555d1b027c25c2828ba96a176d78419cd1236f71558f6187aec09611325eb6)\n",
            "0296be5b1292f6c856b3c5654e886fc13511462059089cdf9c479623bfcbe77690\n"
          ]
        }
      ]
    },
    {
      "cell_type": "markdown",
      "source": [
        "By investigation of the serialisation, we can see they are odd, even and even.\n",
        "\n",
        "We can also attempt to check for **parity (odd / even) by checking the y coordinate of the point:"
      ],
      "metadata": {
        "id": "wJNlsXAYxAYr"
      }
    },
    {
      "cell_type": "code",
      "source": [
        "from ecc import PrivateKey\n",
        "\n",
        "e3 = PrivateKey(0xdeadbeef54321)\n",
        "\n",
        "# Print the full point\n",
        "P3 = e3.point\n",
        "print(P3)\n",
        "\n",
        "# Check if y is even or odd\n",
        "y_value = P3.y.num #grabs the integer number\n",
        "if y_value % 2 == 0:\n",
        "    print(\"y is even\")\n",
        "else:\n",
        "    print(\"y is odd\")\n",
        "\n",
        "# Also print compressed SEC for confirmation\n",
        "print(e3.point.sec(compressed=True).hex())"
      ],
      "metadata": {
        "colab": {
          "base_uri": "https://localhost:8080/"
        },
        "id": "UfvuF1eoxgLj",
        "outputId": "9882376d-ae8f-45fc-86b9-75e560f25c6f"
      },
      "execution_count": null,
      "outputs": [
        {
          "output_type": "stream",
          "name": "stdout",
          "text": [
            "S256Point(96be5b1292f6c856b3c5654e886fc13511462059089cdf9c479623bfcbe77690, 32555d1b027c25c2828ba96a176d78419cd1236f71558f6187aec09611325eb6)\n",
            "y is even\n",
            "0296be5b1292f6c856b3c5654e886fc13511462059089cdf9c479623bfcbe77690\n"
          ]
        }
      ]
    },
    {
      "cell_type": "markdown",
      "source": [
        "**DER Signatures**\n",
        "\n",
        "Distinguished Encoding Rules is defined by 6 formats.\n",
        "\n"
      ],
      "metadata": {
        "id": "DIW3Il-S1NCr"
      }
    },
    {
      "cell_type": "markdown",
      "metadata": {
        "id": "grGVylVxEu-M"
      },
      "source": [
        "# Exercise 3"
      ]
    },
    {
      "cell_type": "markdown",
      "source": [
        "\n",
        "\n",
        "Find the DER format for a signature whose `r` and `s` values are:\n",
        "\n",
        "* r =\n",
        "\n",
        "`0x37206a0610995c58074999cb9767b87af4c4978db68c06e8e6e81d282047a7c6`\n",
        "\n",
        "* s =\n",
        "\n",
        "`0x8ca63759c1157ebeaec0d03cecca119fc9a75bf8e6d0fa65c841c8e2738cdaec`"
      ],
      "metadata": {
        "id": "SZX4niusFNXU"
      }
    },
    {
      "cell_type": "code",
      "execution_count": null,
      "metadata": {
        "colab": {
          "base_uri": "https://localhost:8080/",
          "height": 53
        },
        "id": "5HB2j-vdEu-N",
        "outputId": "96a44440-6927-45c7-ed51-04f2b5487894"
      },
      "outputs": [
        {
          "output_type": "execute_result",
          "data": {
            "text/plain": [
              "'3045022037206a0610995c58074999cb9767b87af4c4978db68c06e8e6e81d282047a7c60221008ca63759c1157ebeaec0d03cecca119fc9a75bf8e6d0fa65c841c8e2738cdaec'"
            ],
            "application/vnd.google.colaboratory.intrinsic+json": {
              "type": "string"
            }
          },
          "metadata": {},
          "execution_count": 16
        }
      ],
      "source": [
        "# Exercise 3\n",
        "\n",
        "from ecc import Signature\n",
        "\n",
        "r = 0x37206a0610995c58074999cb9767b87af4c4978db68c06e8e6e81d282047a7c6\n",
        "s = 0x8ca63759c1157ebeaec0d03cecca119fc9a75bf8e6d0fa65c841c8e2738cdaec\n",
        "\n",
        "sig = Signature(r,s) #initialise the Signature class with (r,s).\n",
        "sig.der().hex()"
      ]
    },
    {
      "cell_type": "markdown",
      "source": [
        "**0x30** or **30** — DER SEQUENCE tag  \n",
        "**0x45** — Total length of the sequence: 69 bytes\n",
        "\n",
        "**0x02** — INTEGER tag  \n",
        "**0x20** — Length of r: 32 bytes\n",
        "\n",
        "**r** = 37206a0610995c58074999cb9767b87af4c4978db68c06e8e6e81d282047a7c6\n",
        "\n",
        "**0x02** — INTEGER tag  \n",
        "**0x21** — Length of s: 33 bytes (includes leading 0x00 to ensure positive)\n",
        "\n",
        "**s** = 008ca63759c1157ebeaec0d03cecca119fc9a75bf8e6d0fa65c841c8e2738cdaec  \n",
        "→ Leading **0x00** is added because the first byte of `s` is **0x8c** (≥ 0x80), which could be interpreted as negative if not padded.\n",
        "\n",
        "**Actual s** = 8ca63759c1157ebeaec0d03cecca119fc9a75bf8e6d0fa65c841c8e2738cdaec\n"
      ],
      "metadata": {
        "id": "ZLuNyPUjqQxZ"
      }
    },
    {
      "cell_type": "markdown",
      "source": [
        "**Transmitting your public key**\n",
        "\n",
        "currently using Base58 but going to be phased out by possibly Bech32.\n"
      ],
      "metadata": {
        "id": "Vidcy0Y4q7qP"
      }
    },
    {
      "cell_type": "markdown",
      "metadata": {
        "id": "LBnG-IrqEu-N"
      },
      "source": [
        "# Exercise 4"
      ]
    },
    {
      "cell_type": "markdown",
      "source": [
        "\n",
        "\n",
        "Convert the following hex to binary and then to Base58:\n",
        "\n",
        "* `7c076ff316692a3d7eb3c3bb0f8b1488cf72e1afcd929e29307032997a838a3d`\n",
        "* `eff69ef2b1bd93a66ed5219add4fb51e11a840f404876325a1e8ffe0529a2c`\n",
        "* `c7207fee197d27c618aea621406f6bf5ef6fca38681d82b2f06fddbdce6feab6`"
      ],
      "metadata": {
        "id": "idXmBSZ_FPEe"
      }
    },
    {
      "cell_type": "code",
      "execution_count": null,
      "metadata": {
        "colab": {
          "base_uri": "https://localhost:8080/"
        },
        "id": "Jvb_sABSEu-N",
        "outputId": "79bc4c5e-c117-4e84-cc2c-c4f1eaf92efb"
      },
      "outputs": [
        {
          "output_type": "stream",
          "name": "stdout",
          "text": [
            "b'|\\x07o\\xf3\\x16i*=~\\xb3\\xc3\\xbb\\x0f\\x8b\\x14\\x88\\xcfr\\xe1\\xaf\\xcd\\x92\\x9e)0p2\\x99z\\x83\\x8a='\n",
            "9MA8fRQrT4u8Zj8ZRd6MAiiyaxb2Y1CMpvVkHQu5hVM6\n",
            "4fE3H2E6XMp4SsxtwinF7w9a34ooUrwWe4WsW1458Pd\n",
            "EQJsjkd6JaGwxrjEhfeqPenqHwrBmPQZjJGNSCHBkcF7\n"
          ]
        }
      ],
      "source": [
        "# Exercise 4\n",
        "\n",
        "from helper import encode_base58\n",
        "\n",
        "# 7c076ff316692a3d7eb3c3bb0f8b1488cf72e1afcd929e29307032997a838a3d\n",
        "# eff69ef2b1bd93a66ed5219add4fb51e11a840f404876325a1e8ffe0529a2c\n",
        "# c7207fee197d27c618aea621406f6bf5ef6fca38681d82b2f06fddbdce6feab6\n",
        "\n",
        "bin1 = bytes.fromhex('7c076ff316692a3d7eb3c3bb0f8b1488cf72e1afcd929e29307032997a838a3d')\n",
        "bin2 = bytes.fromhex('eff69ef2b1bd93a66ed5219add4fb51e11a840f404876325a1e8ffe0529a2c')\n",
        "bin3 = bytes.fromhex('c7207fee197d27c618aea621406f6bf5ef6fca38681d82b2f06fddbdce6feab6')\n",
        "\n",
        "bin1_base58 = encode_base58(bin1)\n",
        "bin2_base58 = encode_base58(bin2)\n",
        "bin3_base58 = encode_base58(bin3)\n",
        "\n",
        "print(bin1) # binary data, specifically Python bytes object` (also called a byte string).\n",
        "print(bin1_base58)\n",
        "print(bin2_base58)\n",
        "print(bin3_base58)"
      ]
    },
    {
      "cell_type": "markdown",
      "source": [
        "**Bitcoin address Format**\n",
        "\n",
        "mainnet address vs testnet: `0x00` and `0x6f`\n",
        "\n",
        "5 steps to the format.\n",
        "\n",
        "the *checksum* process is in one of the steps (4th, per the book)."
      ],
      "metadata": {
        "id": "hv6-BwqdNxe-"
      }
    },
    {
      "cell_type": "markdown",
      "metadata": {
        "id": "Wp9OkckXEu-O"
      },
      "source": [
        "# Exercise 5"
      ]
    },
    {
      "cell_type": "markdown",
      "source": [
        "\n",
        "\n",
        "Find the address corresponding to Public Keys whose Private Key secrets are:\n",
        "\n",
        "* 5002 (use uncompressed SEC, on testnet)\n",
        "* \\\\(2020^{5}\\\\) (use compressed SEC, on testnet)\n",
        "* 0x12345deadbeef (use compressed SEC on mainnet)*italicized text*"
      ],
      "metadata": {
        "id": "9USfIrBqFRGQ"
      }
    },
    {
      "cell_type": "markdown",
      "source": [
        "The provided ripemd160 method was not working, neither does the `pycryptodome` method. Seems to be a Colab issue with old version of python."
      ],
      "metadata": {
        "id": "qk_IK7GlQ0sU"
      }
    },
    {
      "cell_type": "code",
      "source": [
        "!python --version\n"
      ],
      "metadata": {
        "colab": {
          "base_uri": "https://localhost:8080/"
        },
        "id": "rrPCUSpLRFSD",
        "outputId": "ab0384ec-2b3c-4457-9146-dc2bd0802434"
      },
      "execution_count": null,
      "outputs": [
        {
          "output_type": "stream",
          "name": "stdout",
          "text": [
            "Python 3.11.13\n"
          ]
        }
      ]
    },
    {
      "cell_type": "code",
      "source": [
        "import sys\n",
        "print(sys.version)"
      ],
      "metadata": {
        "id": "JJgkbsnSRHWM",
        "outputId": "0272739b-a27f-4097-9a15-a621f3cf6be2",
        "colab": {
          "base_uri": "https://localhost:8080/"
        }
      },
      "execution_count": null,
      "outputs": [
        {
          "output_type": "stream",
          "name": "stdout",
          "text": [
            "3.11.13 (main, Jun  4 2025, 08:57:29) [GCC 11.4.0]\n"
          ]
        }
      ]
    },
    {
      "cell_type": "code",
      "source": [
        "!pip install -q pycryptodome"
      ],
      "metadata": {
        "colab": {
          "base_uri": "https://localhost:8080/"
        },
        "id": "_B_4igkWxW8X",
        "outputId": "00b5bc91-0e6e-406b-8384-ced374e470fd"
      },
      "execution_count": null,
      "outputs": [
        {
          "output_type": "stream",
          "name": "stdout",
          "text": [
            "\u001b[?25l   \u001b[90m━━━━━━━━━━━━━━━━━━━━━━━━━━━━━━━━━━━━━━━━\u001b[0m \u001b[32m0.0/2.3 MB\u001b[0m \u001b[31m?\u001b[0m eta \u001b[36m-:--:--\u001b[0m\r\u001b[2K   \u001b[91m━━\u001b[0m\u001b[90m╺\u001b[0m\u001b[90m━━━━━━━━━━━━━━━━━━━━━━━━━━━━━━━━━━━━━\u001b[0m \u001b[32m0.1/2.3 MB\u001b[0m \u001b[31m4.7 MB/s\u001b[0m eta \u001b[36m0:00:01\u001b[0m\r\u001b[2K   \u001b[91m━━━━━━━━━━━━━━━━━━━━━━━━━━━━━━\u001b[0m\u001b[91m╸\u001b[0m\u001b[90m━━━━━━━━━\u001b[0m \u001b[32m1.7/2.3 MB\u001b[0m \u001b[31m23.8 MB/s\u001b[0m eta \u001b[36m0:00:01\u001b[0m\r\u001b[2K   \u001b[91m━━━━━━━━━━━━━━━━━━━━━━━━━━━━━━━━━━━━━━━\u001b[0m\u001b[91m╸\u001b[0m \u001b[32m2.3/2.3 MB\u001b[0m \u001b[31m22.1 MB/s\u001b[0m eta \u001b[36m0:00:01\u001b[0m\r\u001b[2K   \u001b[90m━━━━━━━━━━━━━━━━━━━━━━━━━━━━━━━━━━━━━━━━\u001b[0m \u001b[32m2.3/2.3 MB\u001b[0m \u001b[31m14.6 MB/s\u001b[0m eta \u001b[36m0:00:00\u001b[0m\n",
            "\u001b[?25h"
          ]
        }
      ]
    },
    {
      "cell_type": "code",
      "source": [
        "import importlib\n",
        "import helper\n",
        "importlib.reload(helper)\n",
        "\n",
        "from helper import hash160\n",
        "from ecc import PrivateKey\n",
        "\n",
        "\n",
        "p = PrivateKey(5002).point\n",
        "print(p.address(compressed=False, testnet=True))"
      ],
      "metadata": {
        "colab": {
          "base_uri": "https://localhost:8080/",
          "height": 408
        },
        "id": "oid3asn3NxTU",
        "outputId": "25ac60be-c545-4e57-a16b-feefa0c82006"
      },
      "execution_count": null,
      "outputs": [
        {
          "output_type": "error",
          "ename": "ValueError",
          "evalue": "unsupported hash type ripemd160",
          "traceback": [
            "\u001b[0;31m---------------------------------------------------------------------------\u001b[0m",
            "\u001b[0;31mUnsupportedDigestmodError\u001b[0m                 Traceback (most recent call last)",
            "\u001b[0;32m/usr/lib/python3.11/hashlib.py\u001b[0m in \u001b[0;36m__hash_new\u001b[0;34m(name, data, **kwargs)\u001b[0m\n\u001b[1;32m    159\u001b[0m     \u001b[0;32mtry\u001b[0m\u001b[0;34m:\u001b[0m\u001b[0;34m\u001b[0m\u001b[0;34m\u001b[0m\u001b[0m\n\u001b[0;32m--> 160\u001b[0;31m         \u001b[0;32mreturn\u001b[0m \u001b[0m_hashlib\u001b[0m\u001b[0;34m.\u001b[0m\u001b[0mnew\u001b[0m\u001b[0;34m(\u001b[0m\u001b[0mname\u001b[0m\u001b[0;34m,\u001b[0m \u001b[0mdata\u001b[0m\u001b[0;34m,\u001b[0m \u001b[0;34m**\u001b[0m\u001b[0mkwargs\u001b[0m\u001b[0;34m)\u001b[0m\u001b[0;34m\u001b[0m\u001b[0;34m\u001b[0m\u001b[0m\n\u001b[0m\u001b[1;32m    161\u001b[0m     \u001b[0;32mexcept\u001b[0m \u001b[0mValueError\u001b[0m\u001b[0;34m:\u001b[0m\u001b[0;34m\u001b[0m\u001b[0;34m\u001b[0m\u001b[0m\n",
            "\u001b[0;31mUnsupportedDigestmodError\u001b[0m: [digital envelope routines] unsupported",
            "\nDuring handling of the above exception, another exception occurred:\n",
            "\u001b[0;31mValueError\u001b[0m                                Traceback (most recent call last)",
            "\u001b[0;32m/tmp/ipython-input-8-3606430956.py\u001b[0m in \u001b[0;36m<cell line: 0>\u001b[0;34m()\u001b[0m\n\u001b[1;32m      8\u001b[0m \u001b[0;34m\u001b[0m\u001b[0m\n\u001b[1;32m      9\u001b[0m \u001b[0mp\u001b[0m \u001b[0;34m=\u001b[0m \u001b[0mPrivateKey\u001b[0m\u001b[0;34m(\u001b[0m\u001b[0;36m5002\u001b[0m\u001b[0;34m)\u001b[0m\u001b[0;34m.\u001b[0m\u001b[0mpoint\u001b[0m\u001b[0;34m\u001b[0m\u001b[0;34m\u001b[0m\u001b[0m\n\u001b[0;32m---> 10\u001b[0;31m \u001b[0mprint\u001b[0m\u001b[0;34m(\u001b[0m\u001b[0mp\u001b[0m\u001b[0;34m.\u001b[0m\u001b[0maddress\u001b[0m\u001b[0;34m(\u001b[0m\u001b[0mcompressed\u001b[0m\u001b[0;34m=\u001b[0m\u001b[0;32mFalse\u001b[0m\u001b[0;34m,\u001b[0m \u001b[0mtestnet\u001b[0m\u001b[0;34m=\u001b[0m\u001b[0;32mTrue\u001b[0m\u001b[0;34m)\u001b[0m\u001b[0;34m)\u001b[0m\u001b[0;34m\u001b[0m\u001b[0;34m\u001b[0m\u001b[0m\n\u001b[0m",
            "\u001b[0;32m/content/programmingbitcoin/code-ch04/ecc.py\u001b[0m in \u001b[0;36maddress\u001b[0;34m(self, compressed, testnet)\u001b[0m\n\u001b[1;32m    424\u001b[0m     \u001b[0;32mdef\u001b[0m \u001b[0maddress\u001b[0m\u001b[0;34m(\u001b[0m\u001b[0mself\u001b[0m\u001b[0;34m,\u001b[0m \u001b[0mcompressed\u001b[0m\u001b[0;34m=\u001b[0m\u001b[0;32mTrue\u001b[0m\u001b[0;34m,\u001b[0m \u001b[0mtestnet\u001b[0m\u001b[0;34m=\u001b[0m\u001b[0;32mFalse\u001b[0m\u001b[0;34m)\u001b[0m\u001b[0;34m:\u001b[0m\u001b[0;34m\u001b[0m\u001b[0;34m\u001b[0m\u001b[0m\n\u001b[1;32m    425\u001b[0m         \u001b[0;34m'''Returns the address string'''\u001b[0m\u001b[0;34m\u001b[0m\u001b[0;34m\u001b[0m\u001b[0m\n\u001b[0;32m--> 426\u001b[0;31m         \u001b[0mh160\u001b[0m \u001b[0;34m=\u001b[0m \u001b[0mself\u001b[0m\u001b[0;34m.\u001b[0m\u001b[0mhash160\u001b[0m\u001b[0;34m(\u001b[0m\u001b[0mcompressed\u001b[0m\u001b[0;34m)\u001b[0m\u001b[0;34m\u001b[0m\u001b[0;34m\u001b[0m\u001b[0m\n\u001b[0m\u001b[1;32m    427\u001b[0m         \u001b[0;32mif\u001b[0m \u001b[0mtestnet\u001b[0m\u001b[0;34m:\u001b[0m\u001b[0;34m\u001b[0m\u001b[0;34m\u001b[0m\u001b[0m\n\u001b[1;32m    428\u001b[0m             \u001b[0mprefix\u001b[0m \u001b[0;34m=\u001b[0m \u001b[0;34mb'\\x6f'\u001b[0m\u001b[0;34m\u001b[0m\u001b[0;34m\u001b[0m\u001b[0m\n",
            "\u001b[0;32m/content/programmingbitcoin/code-ch04/ecc.py\u001b[0m in \u001b[0;36mhash160\u001b[0;34m(self, compressed)\u001b[0m\n\u001b[1;32m    420\u001b[0m     \u001b[0;31m# tag::source5[]\u001b[0m\u001b[0;34m\u001b[0m\u001b[0;34m\u001b[0m\u001b[0m\n\u001b[1;32m    421\u001b[0m     \u001b[0;32mdef\u001b[0m \u001b[0mhash160\u001b[0m\u001b[0;34m(\u001b[0m\u001b[0mself\u001b[0m\u001b[0;34m,\u001b[0m \u001b[0mcompressed\u001b[0m\u001b[0;34m=\u001b[0m\u001b[0;32mTrue\u001b[0m\u001b[0;34m)\u001b[0m\u001b[0;34m:\u001b[0m\u001b[0;34m\u001b[0m\u001b[0;34m\u001b[0m\u001b[0m\n\u001b[0;32m--> 422\u001b[0;31m         \u001b[0;32mreturn\u001b[0m \u001b[0mhash160\u001b[0m\u001b[0;34m(\u001b[0m\u001b[0mself\u001b[0m\u001b[0;34m.\u001b[0m\u001b[0msec\u001b[0m\u001b[0;34m(\u001b[0m\u001b[0mcompressed\u001b[0m\u001b[0;34m)\u001b[0m\u001b[0;34m)\u001b[0m\u001b[0;34m\u001b[0m\u001b[0;34m\u001b[0m\u001b[0m\n\u001b[0m\u001b[1;32m    423\u001b[0m \u001b[0;34m\u001b[0m\u001b[0m\n\u001b[1;32m    424\u001b[0m     \u001b[0;32mdef\u001b[0m \u001b[0maddress\u001b[0m\u001b[0;34m(\u001b[0m\u001b[0mself\u001b[0m\u001b[0;34m,\u001b[0m \u001b[0mcompressed\u001b[0m\u001b[0;34m=\u001b[0m\u001b[0;32mTrue\u001b[0m\u001b[0;34m,\u001b[0m \u001b[0mtestnet\u001b[0m\u001b[0;34m=\u001b[0m\u001b[0;32mFalse\u001b[0m\u001b[0;34m)\u001b[0m\u001b[0;34m:\u001b[0m\u001b[0;34m\u001b[0m\u001b[0;34m\u001b[0m\u001b[0m\n",
            "\u001b[0;32m/content/programmingbitcoin/code-ch04/helper.py\u001b[0m in \u001b[0;36mhash160\u001b[0;34m(s)\u001b[0m\n\u001b[1;32m     18\u001b[0m \u001b[0;32mdef\u001b[0m \u001b[0mhash160\u001b[0m\u001b[0;34m(\u001b[0m\u001b[0ms\u001b[0m\u001b[0;34m)\u001b[0m\u001b[0;34m:\u001b[0m\u001b[0;34m\u001b[0m\u001b[0;34m\u001b[0m\u001b[0m\n\u001b[1;32m     19\u001b[0m     \u001b[0;34m'''sha256 followed by ripemd160'''\u001b[0m\u001b[0;34m\u001b[0m\u001b[0;34m\u001b[0m\u001b[0m\n\u001b[0;32m---> 20\u001b[0;31m     \u001b[0;32mreturn\u001b[0m \u001b[0mhashlib\u001b[0m\u001b[0;34m.\u001b[0m\u001b[0mnew\u001b[0m\u001b[0;34m(\u001b[0m\u001b[0;34m'ripemd160'\u001b[0m\u001b[0;34m,\u001b[0m \u001b[0mhashlib\u001b[0m\u001b[0;34m.\u001b[0m\u001b[0msha256\u001b[0m\u001b[0;34m(\u001b[0m\u001b[0ms\u001b[0m\u001b[0;34m)\u001b[0m\u001b[0;34m.\u001b[0m\u001b[0mdigest\u001b[0m\u001b[0;34m(\u001b[0m\u001b[0;34m)\u001b[0m\u001b[0;34m)\u001b[0m\u001b[0;34m.\u001b[0m\u001b[0mdigest\u001b[0m\u001b[0;34m(\u001b[0m\u001b[0;34m)\u001b[0m  \u001b[0;31m# <1>\u001b[0m\u001b[0;34m\u001b[0m\u001b[0;34m\u001b[0m\u001b[0m\n\u001b[0m\u001b[1;32m     21\u001b[0m \u001b[0;31m# end::source4[]\u001b[0m\u001b[0;34m\u001b[0m\u001b[0;34m\u001b[0m\u001b[0m\n\u001b[1;32m     22\u001b[0m \u001b[0;34m\u001b[0m\u001b[0m\n",
            "\u001b[0;32m/usr/lib/python3.11/hashlib.py\u001b[0m in \u001b[0;36m__hash_new\u001b[0;34m(name, data, **kwargs)\u001b[0m\n\u001b[1;32m    164\u001b[0m         \u001b[0;31m# This allows for SHA224/256 and SHA384/512 support even though\u001b[0m\u001b[0;34m\u001b[0m\u001b[0;34m\u001b[0m\u001b[0m\n\u001b[1;32m    165\u001b[0m         \u001b[0;31m# the OpenSSL library prior to 0.9.8 doesn't provide them.\u001b[0m\u001b[0;34m\u001b[0m\u001b[0;34m\u001b[0m\u001b[0m\n\u001b[0;32m--> 166\u001b[0;31m         \u001b[0;32mreturn\u001b[0m \u001b[0m__get_builtin_constructor\u001b[0m\u001b[0;34m(\u001b[0m\u001b[0mname\u001b[0m\u001b[0;34m)\u001b[0m\u001b[0;34m(\u001b[0m\u001b[0mdata\u001b[0m\u001b[0;34m)\u001b[0m\u001b[0;34m\u001b[0m\u001b[0;34m\u001b[0m\u001b[0m\n\u001b[0m\u001b[1;32m    167\u001b[0m \u001b[0;34m\u001b[0m\u001b[0m\n\u001b[1;32m    168\u001b[0m \u001b[0;34m\u001b[0m\u001b[0m\n",
            "\u001b[0;32m/usr/lib/python3.11/hashlib.py\u001b[0m in \u001b[0;36m__get_builtin_constructor\u001b[0;34m(name)\u001b[0m\n\u001b[1;32m    121\u001b[0m         \u001b[0;32mreturn\u001b[0m \u001b[0mconstructor\u001b[0m\u001b[0;34m\u001b[0m\u001b[0;34m\u001b[0m\u001b[0m\n\u001b[1;32m    122\u001b[0m \u001b[0;34m\u001b[0m\u001b[0m\n\u001b[0;32m--> 123\u001b[0;31m     \u001b[0;32mraise\u001b[0m \u001b[0mValueError\u001b[0m\u001b[0;34m(\u001b[0m\u001b[0;34m'unsupported hash type '\u001b[0m \u001b[0;34m+\u001b[0m \u001b[0mname\u001b[0m\u001b[0;34m)\u001b[0m\u001b[0;34m\u001b[0m\u001b[0;34m\u001b[0m\u001b[0m\n\u001b[0m\u001b[1;32m    124\u001b[0m \u001b[0;34m\u001b[0m\u001b[0m\n\u001b[1;32m    125\u001b[0m \u001b[0;34m\u001b[0m\u001b[0m\n",
            "\u001b[0;31mValueError\u001b[0m: unsupported hash type ripemd160"
          ]
        }
      ]
    },
    {
      "cell_type": "code",
      "execution_count": null,
      "metadata": {
        "colab": {
          "base_uri": "https://localhost:8080/",
          "height": 446
        },
        "id": "di8BKo4cEu-O",
        "outputId": "7a340dcb-7fd8-4883-c87c-b3b57e2010ab"
      },
      "outputs": [
        {
          "output_type": "stream",
          "name": "stdout",
          "text": [
            "S256Point(0f85cb0c917647fadfd31e641231d3a01ac9d3d8a680aab2457e0036bf34d37e, 6949b302843a33cdf068589c8330bb5c09c1739420d65b7b33cfab6d10118d97)\n"
          ]
        },
        {
          "output_type": "error",
          "ename": "ValueError",
          "evalue": "unsupported hash type ripemd160",
          "traceback": [
            "\u001b[0;31m---------------------------------------------------------------------------\u001b[0m",
            "\u001b[0;31mUnsupportedDigestmodError\u001b[0m                 Traceback (most recent call last)",
            "\u001b[0;32m/usr/lib/python3.11/hashlib.py\u001b[0m in \u001b[0;36m__hash_new\u001b[0;34m(name, data, **kwargs)\u001b[0m\n\u001b[1;32m    159\u001b[0m     \u001b[0;32mtry\u001b[0m\u001b[0;34m:\u001b[0m\u001b[0;34m\u001b[0m\u001b[0;34m\u001b[0m\u001b[0m\n\u001b[0;32m--> 160\u001b[0;31m         \u001b[0;32mreturn\u001b[0m \u001b[0m_hashlib\u001b[0m\u001b[0;34m.\u001b[0m\u001b[0mnew\u001b[0m\u001b[0;34m(\u001b[0m\u001b[0mname\u001b[0m\u001b[0;34m,\u001b[0m \u001b[0mdata\u001b[0m\u001b[0;34m,\u001b[0m \u001b[0;34m**\u001b[0m\u001b[0mkwargs\u001b[0m\u001b[0;34m)\u001b[0m\u001b[0;34m\u001b[0m\u001b[0;34m\u001b[0m\u001b[0m\n\u001b[0m\u001b[1;32m    161\u001b[0m     \u001b[0;32mexcept\u001b[0m \u001b[0mValueError\u001b[0m\u001b[0;34m:\u001b[0m\u001b[0;34m\u001b[0m\u001b[0;34m\u001b[0m\u001b[0m\n",
            "\u001b[0;31mUnsupportedDigestmodError\u001b[0m: [digital envelope routines] unsupported",
            "\nDuring handling of the above exception, another exception occurred:\n",
            "\u001b[0;31mValueError\u001b[0m                                Traceback (most recent call last)",
            "\u001b[0;32m/tmp/ipython-input-56-4019323959.py\u001b[0m in \u001b[0;36m<cell line: 0>\u001b[0;34m()\u001b[0m\n\u001b[1;32m     12\u001b[0m \u001b[0mprint\u001b[0m\u001b[0;34m(\u001b[0m\u001b[0me1\u001b[0m\u001b[0;34m)\u001b[0m\u001b[0;34m\u001b[0m\u001b[0;34m\u001b[0m\u001b[0m\n\u001b[1;32m     13\u001b[0m \u001b[0;34m\u001b[0m\u001b[0m\n\u001b[0;32m---> 14\u001b[0;31m \u001b[0mP1\u001b[0m \u001b[0;34m=\u001b[0m \u001b[0me1\u001b[0m\u001b[0;34m.\u001b[0m\u001b[0maddress\u001b[0m\u001b[0;34m(\u001b[0m\u001b[0mcompressed\u001b[0m\u001b[0;34m=\u001b[0m\u001b[0;32mFalse\u001b[0m\u001b[0;34m,\u001b[0m \u001b[0mtestnet\u001b[0m\u001b[0;34m=\u001b[0m\u001b[0;32mTrue\u001b[0m\u001b[0;34m)\u001b[0m\u001b[0;34m\u001b[0m\u001b[0;34m\u001b[0m\u001b[0m\n\u001b[0m\u001b[1;32m     15\u001b[0m \u001b[0;31m# print(P1)\u001b[0m\u001b[0;34m\u001b[0m\u001b[0;34m\u001b[0m\u001b[0m\n",
            "\u001b[0;32m/content/programmingbitcoin/code-ch04/ecc.py\u001b[0m in \u001b[0;36maddress\u001b[0;34m(self, compressed, testnet)\u001b[0m\n\u001b[1;32m    424\u001b[0m     \u001b[0;32mdef\u001b[0m \u001b[0maddress\u001b[0m\u001b[0;34m(\u001b[0m\u001b[0mself\u001b[0m\u001b[0;34m,\u001b[0m \u001b[0mcompressed\u001b[0m\u001b[0;34m=\u001b[0m\u001b[0;32mTrue\u001b[0m\u001b[0;34m,\u001b[0m \u001b[0mtestnet\u001b[0m\u001b[0;34m=\u001b[0m\u001b[0;32mFalse\u001b[0m\u001b[0;34m)\u001b[0m\u001b[0;34m:\u001b[0m\u001b[0;34m\u001b[0m\u001b[0;34m\u001b[0m\u001b[0m\n\u001b[1;32m    425\u001b[0m         \u001b[0;34m'''Returns the address string'''\u001b[0m\u001b[0;34m\u001b[0m\u001b[0;34m\u001b[0m\u001b[0m\n\u001b[0;32m--> 426\u001b[0;31m         \u001b[0mh160\u001b[0m \u001b[0;34m=\u001b[0m \u001b[0mself\u001b[0m\u001b[0;34m.\u001b[0m\u001b[0mhash160\u001b[0m\u001b[0;34m(\u001b[0m\u001b[0mcompressed\u001b[0m\u001b[0;34m)\u001b[0m\u001b[0;34m\u001b[0m\u001b[0;34m\u001b[0m\u001b[0m\n\u001b[0m\u001b[1;32m    427\u001b[0m         \u001b[0;32mif\u001b[0m \u001b[0mtestnet\u001b[0m\u001b[0;34m:\u001b[0m\u001b[0;34m\u001b[0m\u001b[0;34m\u001b[0m\u001b[0m\n\u001b[1;32m    428\u001b[0m             \u001b[0mprefix\u001b[0m \u001b[0;34m=\u001b[0m \u001b[0;34mb'\\x6f'\u001b[0m\u001b[0;34m\u001b[0m\u001b[0;34m\u001b[0m\u001b[0m\n",
            "\u001b[0;32m/content/programmingbitcoin/code-ch04/ecc.py\u001b[0m in \u001b[0;36mhash160\u001b[0;34m(self, compressed)\u001b[0m\n\u001b[1;32m    420\u001b[0m     \u001b[0;31m# tag::source5[]\u001b[0m\u001b[0;34m\u001b[0m\u001b[0;34m\u001b[0m\u001b[0m\n\u001b[1;32m    421\u001b[0m     \u001b[0;32mdef\u001b[0m \u001b[0mhash160\u001b[0m\u001b[0;34m(\u001b[0m\u001b[0mself\u001b[0m\u001b[0;34m,\u001b[0m \u001b[0mcompressed\u001b[0m\u001b[0;34m=\u001b[0m\u001b[0;32mTrue\u001b[0m\u001b[0;34m)\u001b[0m\u001b[0;34m:\u001b[0m\u001b[0;34m\u001b[0m\u001b[0;34m\u001b[0m\u001b[0m\n\u001b[0;32m--> 422\u001b[0;31m         \u001b[0;31m# return hash160(self.sec(compressed))\u001b[0m\u001b[0;34m\u001b[0m\u001b[0;34m\u001b[0m\u001b[0m\n\u001b[0m\u001b[1;32m    423\u001b[0m \u001b[0;34m\u001b[0m\u001b[0m\n\u001b[1;32m    424\u001b[0m     \u001b[0;32mdef\u001b[0m \u001b[0maddress\u001b[0m\u001b[0;34m(\u001b[0m\u001b[0mself\u001b[0m\u001b[0;34m,\u001b[0m \u001b[0mcompressed\u001b[0m\u001b[0;34m=\u001b[0m\u001b[0;32mTrue\u001b[0m\u001b[0;34m,\u001b[0m \u001b[0mtestnet\u001b[0m\u001b[0;34m=\u001b[0m\u001b[0;32mFalse\u001b[0m\u001b[0;34m)\u001b[0m\u001b[0;34m:\u001b[0m\u001b[0;34m\u001b[0m\u001b[0;34m\u001b[0m\u001b[0m\n",
            "\u001b[0;32m/content/programmingbitcoin/code-ch04/helper.py\u001b[0m in \u001b[0;36mhash160\u001b[0;34m(s)\u001b[0m\n\u001b[1;32m     18\u001b[0m \u001b[0;31m# tag::source4[]\u001b[0m\u001b[0;34m\u001b[0m\u001b[0;34m\u001b[0m\u001b[0m\n\u001b[1;32m     19\u001b[0m \u001b[0;32mdef\u001b[0m \u001b[0mhash160\u001b[0m\u001b[0;34m(\u001b[0m\u001b[0ms\u001b[0m\u001b[0;34m)\u001b[0m\u001b[0;34m:\u001b[0m\u001b[0;34m\u001b[0m\u001b[0;34m\u001b[0m\u001b[0m\n\u001b[0;32m---> 20\u001b[0;31m     \u001b[0;34m'''sha256 followed by ripemd160'''\u001b[0m\u001b[0;34m\u001b[0m\u001b[0;34m\u001b[0m\u001b[0m\n\u001b[0m\u001b[1;32m     21\u001b[0m     \u001b[0;31m# return hashlib.new('ripemd160', hashlib.sha256(s).digest()).digest()  # <1>\u001b[0m\u001b[0;34m\u001b[0m\u001b[0;34m\u001b[0m\u001b[0m\n\u001b[1;32m     22\u001b[0m     \u001b[0;34m'''sha256 followed by ripemd160 using pycryptodome'''\u001b[0m\u001b[0;34m\u001b[0m\u001b[0;34m\u001b[0m\u001b[0m\n",
            "\u001b[0;32m/usr/lib/python3.11/hashlib.py\u001b[0m in \u001b[0;36m__hash_new\u001b[0;34m(name, data, **kwargs)\u001b[0m\n\u001b[1;32m    164\u001b[0m         \u001b[0;31m# This allows for SHA224/256 and SHA384/512 support even though\u001b[0m\u001b[0;34m\u001b[0m\u001b[0;34m\u001b[0m\u001b[0m\n\u001b[1;32m    165\u001b[0m         \u001b[0;31m# the OpenSSL library prior to 0.9.8 doesn't provide them.\u001b[0m\u001b[0;34m\u001b[0m\u001b[0;34m\u001b[0m\u001b[0m\n\u001b[0;32m--> 166\u001b[0;31m         \u001b[0;32mreturn\u001b[0m \u001b[0m__get_builtin_constructor\u001b[0m\u001b[0;34m(\u001b[0m\u001b[0mname\u001b[0m\u001b[0;34m)\u001b[0m\u001b[0;34m(\u001b[0m\u001b[0mdata\u001b[0m\u001b[0;34m)\u001b[0m\u001b[0;34m\u001b[0m\u001b[0;34m\u001b[0m\u001b[0m\n\u001b[0m\u001b[1;32m    167\u001b[0m \u001b[0;34m\u001b[0m\u001b[0m\n\u001b[1;32m    168\u001b[0m \u001b[0;34m\u001b[0m\u001b[0m\n",
            "\u001b[0;32m/usr/lib/python3.11/hashlib.py\u001b[0m in \u001b[0;36m__get_builtin_constructor\u001b[0;34m(name)\u001b[0m\n\u001b[1;32m    121\u001b[0m         \u001b[0;32mreturn\u001b[0m \u001b[0mconstructor\u001b[0m\u001b[0;34m\u001b[0m\u001b[0;34m\u001b[0m\u001b[0m\n\u001b[1;32m    122\u001b[0m \u001b[0;34m\u001b[0m\u001b[0m\n\u001b[0;32m--> 123\u001b[0;31m     \u001b[0;32mraise\u001b[0m \u001b[0mValueError\u001b[0m\u001b[0;34m(\u001b[0m\u001b[0;34m'unsupported hash type '\u001b[0m \u001b[0;34m+\u001b[0m \u001b[0mname\u001b[0m\u001b[0;34m)\u001b[0m\u001b[0;34m\u001b[0m\u001b[0;34m\u001b[0m\u001b[0m\n\u001b[0m\u001b[1;32m    124\u001b[0m \u001b[0;34m\u001b[0m\u001b[0m\n\u001b[1;32m    125\u001b[0m \u001b[0;34m\u001b[0m\u001b[0m\n",
            "\u001b[0;31mValueError\u001b[0m: unsupported hash type ripemd160"
          ]
        }
      ],
      "source": [
        "# Exercise 5\n",
        "\n",
        "from ecc import PrivateKey, S256Point\n",
        "\n",
        "\n",
        "\n",
        "# 5002 (use uncompressed SEC, on testnet)\n",
        "# 2020**5 (use compressed SEC, on testnet)\n",
        "# 0x12345deadbeef (use compressed SEC on mainnet)\n",
        "\n",
        "e1 = PrivateKey(5002).point\n",
        "print(e1)\n",
        "\n",
        "P1 = e1.address(compressed=False, testnet=True)\n",
        "# print(P1)\n"
      ]
    },
    {
      "cell_type": "markdown",
      "metadata": {
        "id": "FKbSFTykEu-O"
      },
      "source": [
        "# Exercise 6"
      ]
    },
    {
      "cell_type": "markdown",
      "source": [
        "\n",
        "\n",
        "Find the WIF for Private Key whose secrets are:\n",
        "\n",
        "* 5003 (compressed, testnet)\n",
        "* \\\\(2021^{5}\\\\) (uncompressed, testnet)\n",
        "* 0x54321deadbeef (compressed, mainnet)"
      ],
      "metadata": {
        "id": "02mtJ2sIFSjw"
      }
    },
    {
      "cell_type": "code",
      "execution_count": null,
      "metadata": {
        "id": "FIsi_d7KEu-O"
      },
      "outputs": [],
      "source": [
        "# Exercise 6\n",
        "\n",
        "from ecc import PrivateKey\n",
        "\n",
        "# 5003\n",
        "# 2021**5\n",
        "# 0x54321deadbeef"
      ]
    },
    {
      "cell_type": "markdown",
      "metadata": {
        "id": "TdS3NH2xEu-O"
      },
      "source": [
        "# Exercise 7"
      ]
    },
    {
      "cell_type": "markdown",
      "source": [
        "\n",
        "\n",
        "Write a function `little_endian_to_int` which takes Python bytes, interprets those bytes in Little-Endian and returns the number.\n",
        "\n",
        "#### Make [this test](/edit/code-ch04/helper.py) pass: `helper.py:HelperTest:test_little_endian_to_int`"
      ],
      "metadata": {
        "id": "wxzDjKj5FULY"
      }
    },
    {
      "cell_type": "code",
      "execution_count": null,
      "metadata": {
        "id": "9sg9qznGEu-P"
      },
      "outputs": [],
      "source": [
        "# Exercise 7\n",
        "\n",
        "reload(helper)\n",
        "run(helper.HelperTest(\"test_little_endian_to_int\"))"
      ]
    },
    {
      "cell_type": "markdown",
      "metadata": {
        "id": "p6rl-SVbEu-P"
      },
      "source": [
        "# Exercise 8"
      ]
    },
    {
      "cell_type": "markdown",
      "source": [
        "Write a function `int_to_little_endian` which does the reverse of the last exercise.\n",
        "\n",
        "Make [this test](/edit/code-ch04/helper.py) pass: `helper.py:HelperTest:test_int_to_little_endian`"
      ],
      "metadata": {
        "id": "ky11XKdSFV_1"
      }
    },
    {
      "cell_type": "code",
      "execution_count": null,
      "metadata": {
        "id": "42oQ6Sc2Eu-P"
      },
      "outputs": [],
      "source": [
        "# Exercise 8\n",
        "\n",
        "reload(helper)\n",
        "run(helper.HelperTest(\"test_int_to_little_endian\"))"
      ]
    },
    {
      "cell_type": "markdown",
      "metadata": {
        "id": "JiVGS4xmEu-P"
      },
      "source": [
        "# Exercise 9"
      ]
    },
    {
      "cell_type": "markdown",
      "source": [
        "\n",
        "\n",
        "Create a testnet address for yourself using a long secret that only you know. This is important as there are bots on testnet trying to steal testnet coins. Make sure you write this secret down somewhere! You will be using the secret later to sign Transactions."
      ],
      "metadata": {
        "id": "VIIdQoauFXmf"
      }
    },
    {
      "cell_type": "code",
      "execution_count": null,
      "metadata": {
        "id": "2XeDaIxYEu-P"
      },
      "outputs": [],
      "source": [
        "# Exercise 9\n",
        "\n",
        "from ecc import PrivateKey\n",
        "from helper import hash256, little_endian_to_int\n",
        "\n",
        "# select a passphrase here, add your email address into the passphrase for security\n",
        "# passphrase = b'your@email.address some secret only you know'\n",
        "# secret = little_endian_to_int(hash256(passphrase))\n",
        "# create a private key using your secret\n",
        "# print an address from the public point of the private key with testnet=True"
      ]
    }
  ],
  "metadata": {
    "colab": {
      "provenance": [],
      "toc_visible": true,
      "include_colab_link": true
    },
    "language_info": {
      "name": "python"
    },
    "kernelspec": {
      "name": "python3",
      "display_name": "Python 3"
    }
  },
  "nbformat": 4,
  "nbformat_minor": 0
}