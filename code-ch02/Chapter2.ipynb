{
  "cells": [
    {
      "cell_type": "markdown",
      "metadata": {
        "id": "view-in-github",
        "colab_type": "text"
      },
      "source": [
        "<a href=\"https://colab.research.google.com/github/crudolphMQU/programmingbitcoin/blob/master/code-ch02/Chapter2.ipynb\" target=\"_parent\"><img src=\"https://colab.research.google.com/assets/colab-badge.svg\" alt=\"Open In Colab\"/></a>"
      ]
    },
    {
      "cell_type": "markdown",
      "source": [
        "# How to use colab with 'Programming Bitcoin'\n",
        "\n"
      ],
      "metadata": {
        "id": "9UQlRRaPDgrn"
      }
    },
    {
      "cell_type": "markdown",
      "source": [
        "## Notes on saving files to GitHub via Colab\n",
        "\n",
        "Saving to GitHub from Colab **only saves the notebook**, not any additional files.\n",
        "\n",
        "When you edit the `ecc.py` file in your Colab instance, you should **also update it directly in your GitHub repository**. Editing it in Colab allows you to continue working in the same session, but if you start a new runtime later, those changes will not persist unless they are committed to GitHub.\n",
        "\n",
        "Simply uploading the `ecc` file to GitHub often doesn't work as expected. Instead, you should **edit the file directly in the appropriate folder of your repository on GitHub**.\n",
        "\n",
        "After deleting the runtime and restarting the notebook, you'll get the most up-to-date version of `ecc.py` from GitHub. If you don't update it properly, you may encounter errors when running the notebook in a new runtime.\n",
        "\n",
        "Whenever you make changes to `ecc.py`, reload it using the following code:\n",
        "\n",
        "```python\n",
        "import importlib\n",
        "import ecc\n",
        "import importlib.reload(ecc)\n",
        "```\n",
        "\n",
        "When saving a copy of your notebook to GitHub, make sure to **specify the correct folder path**. For example, for this chapter:\n",
        "\n",
        "```\n",
        "File > Save a copy in GitHub > Choose your repository > Filepath: code-ch02/Chapter2.ipynb\n",
        "```\n"
      ],
      "metadata": {
        "id": "J3q2S8YyDjWE"
      }
    },
    {
      "cell_type": "markdown",
      "source": [
        "## ✅ Step-by-step instructions: Saving files to GitHub via Colab\n",
        "\n",
        "### 1️⃣ Understand what gets saved\n",
        "\n",
        "- When you use **File → Save a copy in GitHub**, only the notebook file (`.ipynb`) is saved.\n",
        "- Other files you edit in Colab (like `ecc.py`) **do not get automatically saved to GitHub**.\n",
        "\n",
        "---\n",
        "\n",
        "### 2️⃣ Update `ecc.py` manually\n",
        "\n",
        "- If you edit `ecc.py` in Colab, you **must also update it directly in your GitHub repository**.\n",
        "- You can do this by:\n",
        "  - Editing the file directly on GitHub (recommended), or\n",
        "  - Uploading via the GitHub web interface (make sure to place it in the correct folder).\n",
        "\n",
        "---\n",
        "\n",
        "### 3️⃣ Check the correct file path when saving notebooks\n",
        "\n",
        "- When saving your notebook to GitHub, always specify the correct path.\n",
        "- Example:\n"
      ],
      "metadata": {
        "id": "Zw-LYznH08yP"
      }
    },
    {
      "cell_type": "markdown",
      "source": [
        "# set up and imports"
      ],
      "metadata": {
        "id": "pRIHmbQMTySh"
      }
    },
    {
      "cell_type": "code",
      "source": [
        "!git clone https://github.com/crudolphMQU/programmingbitcoin"
      ],
      "metadata": {
        "id": "DP0q7Tn8JDgA",
        "outputId": "0d749d8c-8942-430f-ab29-0ae730ad6419",
        "colab": {
          "base_uri": "https://localhost:8080/"
        }
      },
      "execution_count": 1,
      "outputs": [
        {
          "output_type": "stream",
          "name": "stdout",
          "text": [
            "fatal: destination path 'programmingbitcoin' already exists and is not an empty directory.\n"
          ]
        }
      ]
    },
    {
      "cell_type": "code",
      "source": [
        "ls"
      ],
      "metadata": {
        "colab": {
          "base_uri": "https://localhost:8080/"
        },
        "id": "Fu04y40xTKM9",
        "outputId": "bc1bda9e-4ee3-408b-a89b-da8c0ae9758c"
      },
      "execution_count": 2,
      "outputs": [
        {
          "output_type": "stream",
          "name": "stdout",
          "text": [
            "\u001b[0m\u001b[01;34mprogrammingbitcoin\u001b[0m/  \u001b[01;34msample_data\u001b[0m/\n"
          ]
        }
      ]
    },
    {
      "cell_type": "code",
      "source": [
        "cd programmingbitcoin/code-ch02"
      ],
      "metadata": {
        "colab": {
          "base_uri": "https://localhost:8080/"
        },
        "id": "cSiI-5CuTLCB",
        "outputId": "ed255a08-1b85-4620-9e38-8129af3b2efd"
      },
      "execution_count": 3,
      "outputs": [
        {
          "output_type": "stream",
          "name": "stdout",
          "text": [
            "/content/programmingbitcoin/code-ch02\n"
          ]
        }
      ]
    },
    {
      "cell_type": "code",
      "source": [
        "try:\n",
        "    import virtualenv\n",
        "except ImportError:\n",
        "  !pip install virtualenv==20.17.1"
      ],
      "metadata": {
        "id": "Rsu8TSnTThVa"
      },
      "execution_count": 4,
      "outputs": []
    },
    {
      "cell_type": "markdown",
      "source": [
        "`-q` makes the output quiet"
      ],
      "metadata": {
        "id": "5qUbWzgvT5Gm"
      }
    },
    {
      "cell_type": "code",
      "source": [
        "!pip install -q -r /content/programmingbitcoin/requirements.txt"
      ],
      "metadata": {
        "id": "FM6yVJPrTlqc",
        "colab": {
          "base_uri": "https://localhost:8080/"
        },
        "outputId": "aa1cdf83-b375-4196-feb1-fc229de26155"
      },
      "execution_count": 5,
      "outputs": [
        {
          "output_type": "stream",
          "name": "stdout",
          "text": [
            "\u001b[2K   \u001b[90m━━━━━━━━━━━━━━━━━━━━━━━━━━━━━━━━━━━━━━━━\u001b[0m \u001b[32m12.3/12.3 MB\u001b[0m \u001b[31m87.9 MB/s\u001b[0m eta \u001b[36m0:00:00\u001b[0m\n",
            "\u001b[2K   \u001b[90m━━━━━━━━━━━━━━━━━━━━━━━━━━━━━━━━━━━━━━━━\u001b[0m \u001b[32m69.4/69.4 kB\u001b[0m \u001b[31m4.1 MB/s\u001b[0m eta \u001b[36m0:00:00\u001b[0m\n",
            "\u001b[2K   \u001b[90m━━━━━━━━━━━━━━━━━━━━━━━━━━━━━━━━━━━━━━━━\u001b[0m \u001b[32m386.9/386.9 kB\u001b[0m \u001b[31m23.1 MB/s\u001b[0m eta \u001b[36m0:00:00\u001b[0m\n",
            "\u001b[2K   \u001b[90m━━━━━━━━━━━━━━━━━━━━━━━━━━━━━━━━━━━━━━━━\u001b[0m \u001b[32m133.5/133.5 kB\u001b[0m \u001b[31m8.8 MB/s\u001b[0m eta \u001b[36m0:00:00\u001b[0m\n",
            "\u001b[2K   \u001b[90m━━━━━━━━━━━━━━━━━━━━━━━━━━━━━━━━━━━━━━━━\u001b[0m \u001b[32m59.7/59.7 kB\u001b[0m \u001b[31m2.8 MB/s\u001b[0m eta \u001b[36m0:00:00\u001b[0m\n",
            "\u001b[2K   \u001b[90m━━━━━━━━━━━━━━━━━━━━━━━━━━━━━━━━━━━━━━━━\u001b[0m \u001b[32m1.6/1.6 MB\u001b[0m \u001b[31m58.6 MB/s\u001b[0m eta \u001b[36m0:00:00\u001b[0m\n",
            "\u001b[2K   \u001b[90m━━━━━━━━━━━━━━━━━━━━━━━━━━━━━━━━━━━━━━━━\u001b[0m \u001b[32m66.4/66.4 kB\u001b[0m \u001b[31m3.5 MB/s\u001b[0m eta \u001b[36m0:00:00\u001b[0m\n",
            "\u001b[?25h"
          ]
        }
      ]
    },
    {
      "cell_type": "code",
      "source": [
        "try:\n",
        "    import helper\n",
        "except ImportError:\n",
        "  !pip install helper"
      ],
      "metadata": {
        "id": "dMOuxwDhTodm"
      },
      "execution_count": 6,
      "outputs": []
    },
    {
      "cell_type": "code",
      "execution_count": 7,
      "metadata": {
        "id": "Ceff6QxRJCno"
      },
      "outputs": [],
      "source": [
        "############## PLEASE RUN THIS CELL FIRST! ###################\n",
        "\n",
        "# import everything and define a test runner function\n",
        "from importlib import reload\n",
        "import helper\n",
        "\n",
        "from helper import run\n",
        "import ecc\n",
        "\n",
        "from ecc import Point"
      ]
    },
    {
      "cell_type": "markdown",
      "source": [
        "Using the curve in fig 2-9\n",
        "\n",
        "$y^2 = x^3 + 5x + 7$\n",
        "\n",
        "defined in general form in the `ecc.py` file, we're interested in the following points:"
      ],
      "metadata": {
        "id": "PTXWFOziVUYr"
      }
    },
    {
      "cell_type": "code",
      "execution_count": 8,
      "metadata": {
        "id": "g0cT-KOqJCnq"
      },
      "outputs": [],
      "source": [
        "from ecc import Point\n",
        "p1 = Point(-1, -1, 5, 7)\n",
        "# p2 = Point(-1, -2, 5, 7)"
      ]
    },
    {
      "cell_type": "markdown",
      "source": [
        "running p2 will raise the ValueError from the ecc file advising the point is not on the curve. p2 is simply written to show that it is not on the curve, no need to change"
      ],
      "metadata": {
        "id": "XXNdOwT4yJjN"
      }
    },
    {
      "cell_type": "markdown",
      "metadata": {
        "id": "HbQYH4s3JCnq"
      },
      "source": [
        "# Exercise 1\n",
        "\n",
        "Determine which of these points are on the curve \\\\(y^{2}\\\\)=\\\\(x^{3}\\\\)+5x+7:\n",
        "\n",
        "(2,4), (-1,-1), (18,77), (5,7)"
      ]
    },
    {
      "cell_type": "code",
      "execution_count": 9,
      "metadata": {
        "id": "C2uLgaBCJCnr"
      },
      "outputs": [],
      "source": [
        "# Exercise 1\n",
        "\n",
        "# (2,4), (-1,-1), (18,77), (5,7)\n",
        "# equation in python is: y**2 == x**3 + 5*x + 7"
      ]
    },
    {
      "cell_type": "code",
      "source": [
        "# Curve parameters\n",
        "a = 5\n",
        "b = 7\n",
        "\n",
        "# List of points to check\n",
        "points = [(2, 4), (-1, -1), (18, 77), (5, 7)]\n",
        "\n",
        "# Check each point\n",
        "for x, y in points:\n",
        "    left = y**2\n",
        "    right = x**3 + a*x + b\n",
        "    if left == right:\n",
        "        print(f\"Point ({x}, {y}) is ON the curve.\")\n",
        "    else:\n",
        "        print(f\"Point ({x}, {y}) is NOT on the curve.\")\n"
      ],
      "metadata": {
        "colab": {
          "base_uri": "https://localhost:8080/"
        },
        "id": "bGg7HfOByfan",
        "outputId": "cdbb40dc-6921-4501-8d7e-64939295c52a"
      },
      "execution_count": 10,
      "outputs": [
        {
          "output_type": "stream",
          "name": "stdout",
          "text": [
            "Point (2, 4) is NOT on the curve.\n",
            "Point (-1, -1) is ON the curve.\n",
            "Point (18, 77) is ON the curve.\n",
            "Point (5, 7) is NOT on the curve.\n"
          ]
        }
      ]
    },
    {
      "cell_type": "markdown",
      "metadata": {
        "id": "rRxu4WdqJCnr"
      },
      "source": [
        "# Exercise 2\n",
        "\n",
        "Write the `__ne__` method for `Point`.\n",
        "\n",
        "#### Make [this test](/edit/code-ch02/ecc.py) pass: `ecc.py:PointTest:test_ne`"
      ]
    },
    {
      "cell_type": "code",
      "source": [
        "import importlib\n",
        "import ecc\n",
        "importlib.reload(ecc)"
      ],
      "metadata": {
        "colab": {
          "base_uri": "https://localhost:8080/"
        },
        "id": "70zqKVAu0oh2",
        "outputId": "2b429a3d-ed95-497b-bc16-f8b905a1907c"
      },
      "execution_count": 11,
      "outputs": [
        {
          "output_type": "execute_result",
          "data": {
            "text/plain": [
              "<module 'ecc' from '/content/programmingbitcoin/code-ch02/ecc.py'>"
            ]
          },
          "metadata": {},
          "execution_count": 11
        }
      ]
    },
    {
      "cell_type": "code",
      "source": [
        "ls"
      ],
      "metadata": {
        "colab": {
          "base_uri": "https://localhost:8080/"
        },
        "id": "CKVq7KcI8qn5",
        "outputId": "449cd1ed-862b-4f8f-f0a2-a752b1fdf749"
      },
      "execution_count": 12,
      "outputs": [
        {
          "output_type": "stream",
          "name": "stdout",
          "text": [
            "answers.py      ecc.py       helper.py    \u001b[0m\u001b[01;34m__pycache__\u001b[0m/\n",
            "Chapter2.ipynb  examples.py  jupyter.txt\n"
          ]
        }
      ]
    },
    {
      "cell_type": "code",
      "execution_count": 13,
      "metadata": {
        "id": "Zj5xgcz0JCns",
        "colab": {
          "base_uri": "https://localhost:8080/"
        },
        "outputId": "1555759b-fa14-4e5b-a7bd-5bcdd1b0cedd"
      },
      "outputs": [
        {
          "output_type": "stream",
          "name": "stderr",
          "text": [
            ".\n",
            "----------------------------------------------------------------------\n",
            "Ran 1 test in 0.003s\n",
            "\n",
            "OK\n"
          ]
        }
      ],
      "source": [
        "# Exercise 2\n",
        "\n",
        "reload(ecc)\n",
        "run(ecc.PointTest(\"test_ne\"))"
      ]
    },
    {
      "cell_type": "markdown",
      "source": [
        "The purpose of definiing the method `__ne__` in this way is to avoid writing the entire definition, we're using the same logic definied with `__eq__`."
      ],
      "metadata": {
        "id": "TWYzTXVz2421"
      }
    },
    {
      "cell_type": "markdown",
      "source": [
        "```python\n",
        "def __ne__(self, other):\n",
        "    return not (self == other)\n",
        "```"
      ],
      "metadata": {
        "id": "brBciln63v3b"
      }
    },
    {
      "cell_type": "markdown",
      "source": [
        "Commutative addition: adding point A to B gives the same result as adding point B to point A. Elliptic curves use 'point addition' which adds two points that are on the curves to give a third point on also on the curve.\n",
        "\n",
        "lines on a curve can intercept once or three times. It's also possible to intercept two times, where one of the two interceptions is tangent to the curve. The other case is when the line is vertical, and therefore must intercet at two points.\n",
        "\n",
        "Point addition can be not easily predictable.\n",
        "\n",
        "Point addition satisfies identity, commutativity, associativity, invertibility."
      ],
      "metadata": {
        "id": "jIDdR48d3aPm"
      }
    },
    {
      "cell_type": "markdown",
      "source": [
        "Coding point addition:\n",
        "1."
      ],
      "metadata": {
        "id": "9yHf6jqY7R8q"
      }
    },
    {
      "cell_type": "markdown",
      "source": [
        "`Inf` doesn't work well in python so we use `None`.\n",
        "\n",
        "We want the following to work\n",
        "\n",
        "```python\n",
        "\n",
        "p1 = Point(-1, -1, 5, 7)\n",
        "p2 = Point(-1, 1, 5, 7)\n",
        "inf = Point(None, None, 5, 7)\n",
        "print(p1 + inf)\n",
        "print(inf + p2)\n",
        "print(p1 + p2)\n",
        "\n",
        "```\n",
        "\n",
        "First change the `__init__` method to prevent checking the curve equation is satisfied when a point at inifity is provided.\n",
        "\n",
        "Secondly, overload the addition operator (` __add__`).\n",
        "\n",
        "**are methods contained in classes?(yes, but not sure if methods are limited to being contained in classes), `FieldElement` is a class, is `__init__` a method in the `Point` class? (yes)**"
      ],
      "metadata": {
        "id": "k5UDE4rx7hXD"
      }
    },
    {
      "cell_type": "code",
      "execution_count": 14,
      "metadata": {
        "id": "ucbohXmmJCns",
        "colab": {
          "base_uri": "https://localhost:8080/"
        },
        "outputId": "22516813-9281-47db-bc21-d801d21f01ab"
      },
      "outputs": [
        {
          "output_type": "stream",
          "name": "stdout",
          "text": [
            "Point(-1,-1)_5_7\n"
          ]
        }
      ],
      "source": [
        "from ecc import Point\n",
        "p1 = Point(-1, -1, 5, 7)\n",
        "p2 = Point(-1, 1, 5, 7)\n",
        "inf = Point(None, None, 5, 7)\n",
        "\n",
        "print(p1 + inf)"
      ]
    },
    {
      "cell_type": "markdown",
      "source": [
        "Above output is p1 (itself). Adding inf to any point returns returns itself.\n",
        "\n",
        "This uses the *Identity* property of *Point Addition*:\n",
        "\n",
        "*I + A = A*\n",
        "\n",
        "Where *A* is point *A* and *I* is a point at inf.  "
      ],
      "metadata": {
        "id": "TfG81bCaA2FI"
      }
    },
    {
      "cell_type": "code",
      "source": [
        "print(inf + p2)"
      ],
      "metadata": {
        "colab": {
          "base_uri": "https://localhost:8080/"
        },
        "id": "1S-2YM_H_6Fe",
        "outputId": "fdf405e9-4f23-4162-c71c-c1aaccaab70d"
      },
      "execution_count": 15,
      "outputs": [
        {
          "output_type": "stream",
          "name": "stdout",
          "text": [
            "Point(-1,1)_5_7\n"
          ]
        }
      ]
    },
    {
      "cell_type": "markdown",
      "source": [
        "Testing the *Identity* property again with p2 is correct.\n",
        "\n",
        "To get the following point addition to work we have to understand what is going on. p1 and p2 have the same x coordinate but opposite y coordinate. This results in the **Case 1** (a point at infinity)"
      ],
      "metadata": {
        "id": "2Qu2D5TPCFte"
      }
    },
    {
      "cell_type": "code",
      "source": [
        "import importlib\n",
        "import ecc\n",
        "importlib.reload(ecc)\n",
        "\n",
        "from ecc import Point"
      ],
      "metadata": {
        "id": "QwzqDcN_GZal"
      },
      "execution_count": 16,
      "outputs": []
    },
    {
      "cell_type": "code",
      "source": [
        "print(p1 + p2)"
      ],
      "metadata": {
        "colab": {
          "base_uri": "https://localhost:8080/"
        },
        "id": "POmVmIJCGhMR",
        "outputId": "ad16fc4c-3712-4b89-9add-6566eb1679e9"
      },
      "execution_count": 17,
      "outputs": [
        {
          "output_type": "stream",
          "name": "stdout",
          "text": [
            "Point(infinity)\n"
          ]
        }
      ]
    },
    {
      "cell_type": "markdown",
      "source": [
        "It is important to import the updated `Point` class again"
      ],
      "metadata": {
        "id": "XYNfvhPbMiyJ"
      }
    },
    {
      "cell_type": "markdown",
      "metadata": {
        "id": "Cq7t353DJCns"
      },
      "source": [
        "# Exercise 3"
      ]
    },
    {
      "cell_type": "markdown",
      "source": [
        "\n",
        "Handle the case where the two points are additive inverses. That is, they have the same `x`, but a different `y`, causing a vertical line. This should return the point at infinity.\n",
        "\n",
        "#### Make [this test](/edit/code-ch02/ecc.py) pass: `ecc.py:PointTest:test_add0`"
      ],
      "metadata": {
        "id": "zcfCtkKNaKmH"
      }
    },
    {
      "cell_type": "markdown",
      "source": [
        "This was done in the previous exercise when we added p1 and p2, the x coordinate is the same, but the y coordinate is the inverse, which creates a vertical line."
      ],
      "metadata": {
        "id": "x8y6ZjChMxEF"
      }
    },
    {
      "cell_type": "code",
      "execution_count": 18,
      "metadata": {
        "id": "YE8u3mxqJCnt",
        "colab": {
          "base_uri": "https://localhost:8080/"
        },
        "outputId": "82603d03-3aca-4eae-fb53-64bc06323318"
      },
      "outputs": [
        {
          "output_type": "stream",
          "name": "stderr",
          "text": [
            ".\n",
            "----------------------------------------------------------------------\n",
            "Ran 1 test in 0.001s\n",
            "\n",
            "OK\n"
          ]
        }
      ],
      "source": [
        "# Exercise 3\n",
        "\n",
        "reload(ecc)\n",
        "run(ecc.PointTest(\"test_add0\"))"
      ]
    },
    {
      "cell_type": "markdown",
      "source": [
        "Adding two points with different x coordinates\n",
        "\n",
        "$P_1 = (x_1, y_1)$, $P_2 = (x_2, y_2)$, $P_3 = (x_3, y_3)$\n",
        "\n",
        "$P_1 + P_2 = P_3$\n",
        "\n",
        "Slope, $s = (y_2 - y_1) / (x_2 - x_1)$\n",
        "\n",
        "To find $x_3$,\n",
        "\n",
        "$x_3 = s^2 - x_1 - x_2$\n",
        "\n",
        "$y_3 = s(x_1 - x_3) - y_1$\n",
        "\n",
        "$y_3$ is the reflection over the x-axis, hence the flip in sign. **Original point slope form for line equation:**\n",
        "\n",
        "$y = s(x - x_1) + y_1$\n",
        "\n",
        "where $P_3$ becomes the point of interest $(x,y)$.\n",
        "\n",
        "Using the elliptic curve equation and the equation of the line thoug $P_1$ and $P_2$:\n",
        "\n",
        "$y^2 = x^3 + ax + b$\n",
        "\n",
        "$[s(x - x_1) + y_1)]^2 = x^3 + ax + b$\n",
        "\n",
        "Gathering the terms, we have a polynomial equation. we know that $x_1, x_2, x_3$ are solutions to the polynomial equation:\n",
        "\n",
        "$(x-x_1)(x-x_2)(x-x_3)= 0$\n",
        "\n",
        "We can expand this and compare coefficients of the two polynonimals, using Vieta's formula (if roots are the same, so are coefficients).\n",
        "\n",
        "Investigating the coefficient for $x^2$ is most most simple to compare.\n",
        "\n",
        "...\n",
        "\n",
        "$-s^2 = -(x_1 + x_2 + x_3)$\n",
        "\n",
        "$x_3 = s^2 -x_1 - x_2$\n",
        "\n",
        "again, point slope form for line equation:\n",
        "\n",
        "$y = s(x - x_1 ) +y_1 $\n",
        "\n",
        "**Since elliptic curve group law defines point addition as reflection over x-axis:**\n",
        "\n",
        "$y = s(x - x_1 ) +y_1 \\rightarrow y\\prime = -s(x - x_1 ) -y_1$\n",
        "\n",
        "$y\\prime = y_3 = s(x_1 - x3) +y_1$\n",
        "\n",
        "Now we can solve $x_3, y_3$ in terms of $s, x_1, y_1, x_2, y_2$"
      ],
      "metadata": {
        "id": "guc0nMK8GTC-"
      }
    },
    {
      "cell_type": "markdown",
      "metadata": {
        "id": "6l1J4eShJCnt"
      },
      "source": [
        "# Exercise 4\n"
      ]
    },
    {
      "cell_type": "markdown",
      "source": [
        "For the curve \\\\(y^{2}\\\\)=\\\\(x^{3}\\\\)+5x+7, what is (2,5) + (-1,-1)?"
      ],
      "metadata": {
        "id": "iT3GmiHfaasB"
      }
    },
    {
      "cell_type": "code",
      "execution_count": 19,
      "metadata": {
        "id": "PU-5IxFxJCnt"
      },
      "outputs": [],
      "source": [
        "# Exercise 4\n",
        "\n",
        "from ecc import Point\n",
        "\n",
        "a = 5\n",
        "b = 7\n",
        "x1, y1 = 2, 5\n",
        "x2, y2 = -1, -1\n",
        "\n",
        "# (x1,y1) + (x2,y2)"
      ]
    },
    {
      "cell_type": "markdown",
      "source": [
        "$s = (y_2 - y_1) / (x_2 - x_1)$\n",
        "\n",
        "$x_3 = s^2 - x_1 - x_2$\n",
        "\n",
        "$y_3 = s(x_1 - x_3) - y_1$"
      ],
      "metadata": {
        "id": "tM1l-1MuYYJB"
      }
    },
    {
      "cell_type": "code",
      "source": [
        "s = (y2 - y1) / (x2 - x1)\n",
        "x3 = s**2 - x1 - x2\n",
        "y3 = s * (x1 - x3) - y1\n",
        "\n",
        "print(f\"P₁ + P₂ = P₃ = ({x3}, {y3})\")"
      ],
      "metadata": {
        "id": "Y6muN7HyFqKu",
        "colab": {
          "base_uri": "https://localhost:8080/"
        },
        "outputId": "b6e61015-f574-42ce-993f-6b6fcf50d5fd"
      },
      "execution_count": 27,
      "outputs": [
        {
          "output_type": "stream",
          "name": "stdout",
          "text": [
            "P₁ + P₂ = P₃ = (3.0, -7.0)\n"
          ]
        }
      ]
    },
    {
      "cell_type": "markdown",
      "source": [
        "Now that we have completed point addition when the x coordinates are different, we can update our `__add__` method."
      ],
      "metadata": {
        "id": "fUOoJTO2chtl"
      }
    },
    {
      "cell_type": "markdown",
      "metadata": {
        "id": "kLyWoPikJCnt"
      },
      "source": [
        "# Exercise 5"
      ]
    },
    {
      "cell_type": "markdown",
      "source": [
        "The following exercise was completed in a previous exercise.\n",
        "\n",
        "Write the `__add__` method where \\\\(x_{1}\\\\)≠\\\\(x_{2}\\\\)\n",
        "\n",
        "#### Make [this test](/edit/code-ch02/ecc.py) pass: `ecc.py:PointTest:test_add1`"
      ],
      "metadata": {
        "id": "oe4RSZ6Kad5_"
      }
    },
    {
      "cell_type": "code",
      "execution_count": 28,
      "metadata": {
        "id": "MdQTd-URJCnu",
        "colab": {
          "base_uri": "https://localhost:8080/"
        },
        "outputId": "9471667e-8d48-4cf6-ea79-96cb89dee6c3"
      },
      "outputs": [
        {
          "output_type": "stream",
          "name": "stderr",
          "text": [
            ".\n",
            "----------------------------------------------------------------------\n",
            "Ran 1 test in 0.001s\n",
            "\n",
            "OK\n"
          ]
        }
      ],
      "source": [
        "# Exercise 5\n",
        "\n",
        "reload(ecc)\n",
        "run(ecc.PointTest(\"test_add1\"))"
      ]
    },
    {
      "cell_type": "markdown",
      "metadata": {
        "id": "bqA0YkF5JCnu"
      },
      "source": [
        "# Exercise 6\n"
      ]
    },
    {
      "cell_type": "markdown",
      "source": [
        "Point addition when $P_1= P_2$.\n",
        "\n",
        "$P_1 = -P_2$\n",
        "\n",
        "or\n",
        "\n",
        "$P_1 + P_2 = I$\n",
        "\n",
        "and\n",
        "\n",
        "$s=\\frac{dx}{dy}$\n",
        "\n",
        "The derivative of the elliptic curve equation is\n",
        "\n",
        "$(2y)dy = (3x^2 + a)dx$\n",
        "\n",
        "**$s = (3x^2 + a)/2y$**\n",
        "\n",
        "For $x_3,y_3$,\n",
        "\n",
        "$x_3 = s^2 - x_1 - x_2= s^2 - x_1 - x_1$\n",
        "\n",
        "**$x_3 = s^2 - 2x_1$**\n",
        "\n",
        "and\n",
        "\n",
        "**$y_3 = s(x_1 - x_3) - y_1$**"
      ],
      "metadata": {
        "id": "mi2i25Sgda8J"
      }
    },
    {
      "cell_type": "markdown",
      "source": [
        "\n",
        "For the curve \\\\(y^{2}\\\\)=\\\\(x^{3}\\\\)+5x+7, what is (-1,-1) + (-1,-1)?"
      ],
      "metadata": {
        "id": "PEhT7mFBagYU"
      }
    },
    {
      "cell_type": "code",
      "execution_count": 29,
      "metadata": {
        "id": "jQBGjBswJCnu"
      },
      "outputs": [],
      "source": [
        "# Exercise 6\n",
        "\n",
        "from ecc import Point\n",
        "\n",
        "a = 5\n",
        "b = 7\n",
        "x1, y1 = -1, -1\n",
        "# (-1,-1) + (-1,-1)"
      ]
    },
    {
      "cell_type": "code",
      "source": [
        "s = (3*x1**2+ a)/2*y1\n",
        "x3 = s**2 - 2*x1\n",
        "y3 = s*(x1 - x3) - y1\n",
        "\n",
        "print(f\"P₁ + P₂ = P₃ = ({x3}, {y3})\")"
      ],
      "metadata": {
        "colab": {
          "base_uri": "https://localhost:8080/"
        },
        "id": "UZtmwjOahX_N",
        "outputId": "4024a928-debd-4662-a6bd-106428d63d73"
      },
      "execution_count": 30,
      "outputs": [
        {
          "output_type": "stream",
          "name": "stdout",
          "text": [
            "P₁ + P₂ = P₃ = (18.0, 77.0)\n"
          ]
        }
      ]
    },
    {
      "cell_type": "markdown",
      "metadata": {
        "id": "kSDEuZQ_JCnu"
      },
      "source": [
        "# Exercise 7"
      ]
    },
    {
      "cell_type": "markdown",
      "source": [
        "The following exercise was completed in a previous exercise.\n",
        "\n",
        "Write the `__add__` method when \\\\(P_{1}\\\\)=\\\\(P_{2}\\\\).\n",
        "\n",
        "**Make [this test](/edit/code-ch02/ecc.py) pass: `ecc.py:PointTest:test_add2`**"
      ],
      "metadata": {
        "id": "e4vhLhROaikw"
      }
    },
    {
      "cell_type": "code",
      "execution_count": 31,
      "metadata": {
        "id": "mOdMotw9JCnu",
        "colab": {
          "base_uri": "https://localhost:8080/"
        },
        "outputId": "68062ca9-e77b-4bcb-bba8-bdd58456834f"
      },
      "outputs": [
        {
          "output_type": "stream",
          "name": "stderr",
          "text": [
            ".\n",
            "----------------------------------------------------------------------\n",
            "Ran 1 test in 0.001s\n",
            "\n",
            "OK\n"
          ]
        }
      ],
      "source": [
        "# Exercise 7\n",
        "\n",
        "reload(ecc)\n",
        "run(ecc.PointTest(\"test_add2\"))"
      ]
    }
  ],
  "metadata": {
    "colab": {
      "provenance": [],
      "toc_visible": true,
      "include_colab_link": true
    },
    "language_info": {
      "name": "python"
    },
    "kernelspec": {
      "name": "python3",
      "display_name": "Python 3"
    }
  },
  "nbformat": 4,
  "nbformat_minor": 0
}