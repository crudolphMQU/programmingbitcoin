{
 "cells": [
  {
   "cell_type": "markdown",
   "metadata": {},
   "source": [
    "# Chapter 2 Overview: Elliptic Curve Cryptography (ECC)\n",
    "\n",
    "## 📘 What This Chapter Explores\n",
    "- Introduction to the mathematics behind elliptic curves, which are the foundation of Bitcoin’s public key cryptography  \n",
    "- How points are defined and added on an elliptic curve over real numbers  \n",
    "- The rules and special cases involved in point addition, including:  \n",
    "  - Adding two distinct points  \n",
    "  - Point doubling  \n",
    "  - Identity element (point at infinity)  \n",
    "  - When the result of addition is the point at infinity  \n",
    "- How to implement elliptic curve point arithmetic in Python, including:  \n",
    "  - The `Point` class with `__add__`, `__eq__`, and other magic methods  \n",
    "  - Handling edge cases like point at infinity and vertical tangents\n",
    "\n",
    "## 🎯 What You Should Understand by the End\n",
    "- The definition and structure of an elliptic curve:  \n",
    "  \\[\n",
    "  y^2 = x^3 + ax + b\n",
    "  \\]\n",
    "- The concept of a group law and why elliptic curves form a group  \n",
    "- The geometry of point addition on elliptic curves, including visual intuition  \n",
    "- How to compute the sum of two points algebraically, using slope formulas  \n",
    "- The importance of the point at infinity as the identity element  \n",
    "- How to implement and test elliptic curve point operations in Python  \n",
    "- Why this math matters: ECC is the basis for Bitcoin’s keys, signatures, and security\n"
   ]
  },
  {
   "cell_type": "code",
   "execution_count": 7,
   "metadata": {
    "id": "Ceff6QxRJCno"
   },
   "outputs": [],
   "source": [
    "############## PLEASE RUN THIS CELL FIRST! ###################\n",
    "\n",
    "# import everything and define a test runner function\n",
    "from importlib import reload\n",
    "import helper\n",
    "\n",
    "from helper import run\n",
    "import ecc\n",
    "\n",
    "from ecc import Point"
   ]
  },
  {
   "cell_type": "markdown",
   "metadata": {
    "id": "PTXWFOziVUYr"
   },
   "source": [
    "Using the curve in fig 2-9\n",
    "\n",
    "$y^2 = x^3 + 5x + 7$\n",
    "\n",
    "defined in general form in the `ecc.py` file, we're interested in the following points:"
   ]
  },
  {
   "cell_type": "code",
   "execution_count": 8,
   "metadata": {
    "id": "g0cT-KOqJCnq"
   },
   "outputs": [],
   "source": [
    "from ecc import Point\n",
    "p1 = Point(-1, -1, 5, 7)\n",
    "# p2 = Point(-1, -2, 5, 7)"
   ]
  },
  {
   "cell_type": "markdown",
   "metadata": {
    "id": "XXNdOwT4yJjN"
   },
   "source": [
    "running p2 will raise the ValueError from the ecc file advising the point is not on the curve. p2 is simply written to show that it is not on the curve, no need to change"
   ]
  },
  {
   "cell_type": "markdown",
   "metadata": {
    "id": "HbQYH4s3JCnq"
   },
   "source": [
    "# Exercise 1\n",
    "\n",
    "Determine which of these points are on the curve \\\\(y^{2}\\\\)=\\\\(x^{3}\\\\)+5x+7:\n",
    "\n",
    "(2,4), (-1,-1), (18,77), (5,7)"
   ]
  },
  {
   "cell_type": "code",
   "execution_count": 9,
   "metadata": {
    "id": "C2uLgaBCJCnr"
   },
   "outputs": [],
   "source": [
    "# Exercise 1\n",
    "\n",
    "# (2,4), (-1,-1), (18,77), (5,7)\n",
    "# equation in python is: y**2 == x**3 + 5*x + 7"
   ]
  },
  {
   "cell_type": "code",
   "execution_count": 10,
   "metadata": {
    "colab": {
     "base_uri": "https://localhost:8080/"
    },
    "id": "bGg7HfOByfan",
    "outputId": "cdbb40dc-6921-4501-8d7e-64939295c52a"
   },
   "outputs": [
    {
     "name": "stdout",
     "output_type": "stream",
     "text": [
      "Point (2, 4) is NOT on the curve.\n",
      "Point (-1, -1) is ON the curve.\n",
      "Point (18, 77) is ON the curve.\n",
      "Point (5, 7) is NOT on the curve.\n"
     ]
    }
   ],
   "source": [
    "# Curve parameters\n",
    "a = 5\n",
    "b = 7\n",
    "\n",
    "# List of points to check\n",
    "points = [(2, 4), (-1, -1), (18, 77), (5, 7)]\n",
    "\n",
    "# Check each point\n",
    "for x, y in points:\n",
    "    left = y**2\n",
    "    right = x**3 + a*x + b\n",
    "    if left == right:\n",
    "        print(f\"Point ({x}, {y}) is ON the curve.\")\n",
    "    else:\n",
    "        print(f\"Point ({x}, {y}) is NOT on the curve.\")\n"
   ]
  },
  {
   "cell_type": "markdown",
   "metadata": {
    "id": "rRxu4WdqJCnr"
   },
   "source": [
    "# Exercise 2\n",
    "\n",
    "Write the `__ne__` method for `Point`.\n",
    "\n",
    "#### Make [this test](/edit/code-ch02/ecc.py) pass: `ecc.py:PointTest:test_ne`"
   ]
  },
  {
   "cell_type": "code",
   "execution_count": 11,
   "metadata": {
    "colab": {
     "base_uri": "https://localhost:8080/"
    },
    "id": "70zqKVAu0oh2",
    "outputId": "2b429a3d-ed95-497b-bc16-f8b905a1907c"
   },
   "outputs": [
    {
     "data": {
      "text/plain": [
       "<module 'ecc' from '/content/programmingbitcoin/code-ch02/ecc.py'>"
      ]
     },
     "execution_count": 11,
     "metadata": {},
     "output_type": "execute_result"
    }
   ],
   "source": [
    "import importlib\n",
    "import ecc\n",
    "importlib.reload(ecc)"
   ]
  },
  {
   "cell_type": "code",
   "execution_count": 12,
   "metadata": {
    "colab": {
     "base_uri": "https://localhost:8080/"
    },
    "id": "CKVq7KcI8qn5",
    "outputId": "449cd1ed-862b-4f8f-f0a2-a752b1fdf749"
   },
   "outputs": [
    {
     "name": "stdout",
     "output_type": "stream",
     "text": [
      "answers.py      ecc.py       helper.py    \u001b[0m\u001b[01;34m__pycache__\u001b[0m/\n",
      "Chapter2.ipynb  examples.py  jupyter.txt\n"
     ]
    }
   ],
   "source": [
    "ls"
   ]
  },
  {
   "cell_type": "code",
   "execution_count": 13,
   "metadata": {
    "colab": {
     "base_uri": "https://localhost:8080/"
    },
    "id": "Zj5xgcz0JCns",
    "outputId": "1555759b-fa14-4e5b-a7bd-5bcdd1b0cedd"
   },
   "outputs": [
    {
     "name": "stderr",
     "output_type": "stream",
     "text": [
      ".\n",
      "----------------------------------------------------------------------\n",
      "Ran 1 test in 0.003s\n",
      "\n",
      "OK\n"
     ]
    }
   ],
   "source": [
    "# Exercise 2\n",
    "\n",
    "reload(ecc)\n",
    "run(ecc.PointTest(\"test_ne\"))"
   ]
  },
  {
   "cell_type": "markdown",
   "metadata": {
    "id": "TWYzTXVz2421"
   },
   "source": [
    "The purpose of definiing the method `__ne__` in this way is to avoid writing the entire definition, we're using the same logic definied with `__eq__`."
   ]
  },
  {
   "cell_type": "markdown",
   "metadata": {
    "id": "brBciln63v3b"
   },
   "source": [
    "```python\n",
    "def __ne__(self, other):\n",
    "    return not (self == other)\n",
    "```"
   ]
  },
  {
   "cell_type": "markdown",
   "metadata": {
    "id": "jIDdR48d3aPm"
   },
   "source": [
    "Commutative addition: adding point A to B gives the same result as adding point B to point A. Elliptic curves use 'point addition' which adds two points that are on the curves to give a third point on also on the curve.\n",
    "\n",
    "lines on a curve can intercept once or three times. It's also possible to intercept two times, where one of the two interceptions is tangent to the curve. The other case is when the line is vertical, and therefore must intercet at two points.\n",
    "\n",
    "Point addition can be not easily predictable.\n",
    "\n",
    "Point addition satisfies identity, commutativity, associativity, invertibility."
   ]
  },
  {
   "cell_type": "markdown",
   "metadata": {
    "id": "9yHf6jqY7R8q"
   },
   "source": [
    "Coding point addition:\n",
    "1."
   ]
  },
  {
   "cell_type": "markdown",
   "metadata": {
    "id": "k5UDE4rx7hXD"
   },
   "source": [
    "`Inf` doesn't work well in python so we use `None`.\n",
    "\n",
    "We want the following to work\n",
    "\n",
    "```python\n",
    "\n",
    "p1 = Point(-1, -1, 5, 7)\n",
    "p2 = Point(-1, 1, 5, 7)\n",
    "inf = Point(None, None, 5, 7)\n",
    "print(p1 + inf)\n",
    "print(inf + p2)\n",
    "print(p1 + p2)\n",
    "\n",
    "```\n",
    "\n",
    "First change the `__init__` method to prevent checking the curve equation is satisfied when a point at inifity is provided.\n",
    "\n",
    "Secondly, overload the addition operator (` __add__`).\n",
    "\n",
    "**are methods contained in classes?(yes, but not sure if methods are limited to being contained in classes), `FieldElement` is a class, is `__init__` a method in the `Point` class? (yes)**"
   ]
  },
  {
   "cell_type": "code",
   "execution_count": 14,
   "metadata": {
    "colab": {
     "base_uri": "https://localhost:8080/"
    },
    "id": "ucbohXmmJCns",
    "outputId": "22516813-9281-47db-bc21-d801d21f01ab"
   },
   "outputs": [
    {
     "name": "stdout",
     "output_type": "stream",
     "text": [
      "Point(-1,-1)_5_7\n"
     ]
    }
   ],
   "source": [
    "from ecc import Point\n",
    "p1 = Point(-1, -1, 5, 7)\n",
    "p2 = Point(-1, 1, 5, 7)\n",
    "inf = Point(None, None, 5, 7)\n",
    "\n",
    "print(p1 + inf)"
   ]
  },
  {
   "cell_type": "markdown",
   "metadata": {
    "id": "TfG81bCaA2FI"
   },
   "source": [
    "Above output is p1 (itself). Adding inf to any point returns returns itself.\n",
    "\n",
    "This uses the *Identity* property of *Point Addition*:\n",
    "\n",
    "*I + A = A*\n",
    "\n",
    "Where *A* is point *A* and *I* is a point at inf.  "
   ]
  },
  {
   "cell_type": "code",
   "execution_count": 15,
   "metadata": {
    "colab": {
     "base_uri": "https://localhost:8080/"
    },
    "id": "1S-2YM_H_6Fe",
    "outputId": "fdf405e9-4f23-4162-c71c-c1aaccaab70d"
   },
   "outputs": [
    {
     "name": "stdout",
     "output_type": "stream",
     "text": [
      "Point(-1,1)_5_7\n"
     ]
    }
   ],
   "source": [
    "print(inf + p2)"
   ]
  },
  {
   "cell_type": "markdown",
   "metadata": {
    "id": "2Qu2D5TPCFte"
   },
   "source": [
    "Testing the *Identity* property again with p2 is correct.\n",
    "\n",
    "To get the following point addition to work we have to understand what is going on. p1 and p2 have the same x coordinate but opposite y coordinate. This results in the **Case 1** (a point at infinity)"
   ]
  },
  {
   "cell_type": "code",
   "execution_count": 16,
   "metadata": {
    "id": "QwzqDcN_GZal"
   },
   "outputs": [],
   "source": [
    "import importlib\n",
    "import ecc\n",
    "importlib.reload(ecc)\n",
    "\n",
    "from ecc import Point"
   ]
  },
  {
   "cell_type": "code",
   "execution_count": 17,
   "metadata": {
    "colab": {
     "base_uri": "https://localhost:8080/"
    },
    "id": "POmVmIJCGhMR",
    "outputId": "ad16fc4c-3712-4b89-9add-6566eb1679e9"
   },
   "outputs": [
    {
     "name": "stdout",
     "output_type": "stream",
     "text": [
      "Point(infinity)\n"
     ]
    }
   ],
   "source": [
    "print(p1 + p2)"
   ]
  },
  {
   "cell_type": "markdown",
   "metadata": {
    "id": "XYNfvhPbMiyJ"
   },
   "source": [
    "It is important to import the updated `Point` class again"
   ]
  },
  {
   "cell_type": "markdown",
   "metadata": {
    "id": "Cq7t353DJCns"
   },
   "source": [
    "# Exercise 3"
   ]
  },
  {
   "cell_type": "markdown",
   "metadata": {
    "id": "zcfCtkKNaKmH"
   },
   "source": [
    "\n",
    "Handle the case where the two points are additive inverses. That is, they have the same `x`, but a different `y`, causing a vertical line. This should return the point at infinity.\n",
    "\n",
    "#### Make [this test](/edit/code-ch02/ecc.py) pass: `ecc.py:PointTest:test_add0`"
   ]
  },
  {
   "cell_type": "markdown",
   "metadata": {
    "id": "x8y6ZjChMxEF"
   },
   "source": [
    "This was done in the previous exercise when we added p1 and p2, the x coordinate is the same, but the y coordinate is the inverse, which creates a vertical line."
   ]
  },
  {
   "cell_type": "code",
   "execution_count": 18,
   "metadata": {
    "colab": {
     "base_uri": "https://localhost:8080/"
    },
    "id": "YE8u3mxqJCnt",
    "outputId": "82603d03-3aca-4eae-fb53-64bc06323318"
   },
   "outputs": [
    {
     "name": "stderr",
     "output_type": "stream",
     "text": [
      ".\n",
      "----------------------------------------------------------------------\n",
      "Ran 1 test in 0.001s\n",
      "\n",
      "OK\n"
     ]
    }
   ],
   "source": [
    "# Exercise 3\n",
    "\n",
    "reload(ecc)\n",
    "run(ecc.PointTest(\"test_add0\"))"
   ]
  },
  {
   "cell_type": "markdown",
   "metadata": {
    "id": "guc0nMK8GTC-"
   },
   "source": [
    "Adding two points with different x coordinates\n",
    "\n",
    "$P_1 = (x_1, y_1)$, $P_2 = (x_2, y_2)$, $P_3 = (x_3, y_3)$\n",
    "\n",
    "$P_1 + P_2 = P_3$\n",
    "\n",
    "Slope, $s = (y_2 - y_1) / (x_2 - x_1)$\n",
    "\n",
    "To find $x_3$,\n",
    "\n",
    "$x_3 = s^2 - x_1 - x_2$\n",
    "\n",
    "$y_3 = s(x_1 - x_3) - y_1$\n",
    "\n",
    "$y_3$ is the reflection over the x-axis, hence the flip in sign. **Original point slope form for line equation:**\n",
    "\n",
    "$y = s(x - x_1) + y_1$\n",
    "\n",
    "where $P_3$ becomes the point of interest $(x,y)$.\n",
    "\n",
    "Using the elliptic curve equation and the equation of the line thoug $P_1$ and $P_2$:\n",
    "\n",
    "$y^2 = x^3 + ax + b$\n",
    "\n",
    "$[s(x - x_1) + y_1)]^2 = x^3 + ax + b$\n",
    "\n",
    "Gathering the terms, we have a polynomial equation. we know that $x_1, x_2, x_3$ are solutions to the polynomial equation:\n",
    "\n",
    "$(x-x_1)(x-x_2)(x-x_3)= 0$\n",
    "\n",
    "We can expand this and compare coefficients of the two polynonimals, using Vieta's formula (if roots are the same, so are coefficients).\n",
    "\n",
    "Investigating the coefficient for $x^2$ is most most simple to compare.\n",
    "\n",
    "...\n",
    "\n",
    "$-s^2 = -(x_1 + x_2 + x_3)$\n",
    "\n",
    "$x_3 = s^2 -x_1 - x_2$\n",
    "\n",
    "again, point slope form for line equation:\n",
    "\n",
    "$y = s(x - x_1 ) +y_1 $\n",
    "\n",
    "**Since elliptic curve group law defines point addition as reflection over x-axis:**\n",
    "\n",
    "$y = s(x - x_1 ) +y_1 \\rightarrow y\\prime = -s(x - x_1 ) -y_1$\n",
    "\n",
    "$y\\prime = y_3 = s(x_1 - x3) +y_1$\n",
    "\n",
    "Now we can solve $x_3, y_3$ in terms of $s, x_1, y_1, x_2, y_2$"
   ]
  },
  {
   "cell_type": "markdown",
   "metadata": {
    "id": "6l1J4eShJCnt"
   },
   "source": [
    "# Exercise 4\n"
   ]
  },
  {
   "cell_type": "markdown",
   "metadata": {
    "id": "iT3GmiHfaasB"
   },
   "source": [
    "For the curve \\\\(y^{2}\\\\)=\\\\(x^{3}\\\\)+5x+7, what is (2,5) + (-1,-1)?"
   ]
  },
  {
   "cell_type": "code",
   "execution_count": 19,
   "metadata": {
    "id": "PU-5IxFxJCnt"
   },
   "outputs": [],
   "source": [
    "# Exercise 4\n",
    "\n",
    "from ecc import Point\n",
    "\n",
    "a = 5\n",
    "b = 7\n",
    "x1, y1 = 2, 5\n",
    "x2, y2 = -1, -1\n",
    "\n",
    "# (x1,y1) + (x2,y2)"
   ]
  },
  {
   "cell_type": "markdown",
   "metadata": {
    "id": "tM1l-1MuYYJB"
   },
   "source": [
    "$s = (y_2 - y_1) / (x_2 - x_1)$\n",
    "\n",
    "$x_3 = s^2 - x_1 - x_2$\n",
    "\n",
    "$y_3 = s(x_1 - x_3) - y_1$"
   ]
  },
  {
   "cell_type": "code",
   "execution_count": 27,
   "metadata": {
    "colab": {
     "base_uri": "https://localhost:8080/"
    },
    "id": "Y6muN7HyFqKu",
    "outputId": "b6e61015-f574-42ce-993f-6b6fcf50d5fd"
   },
   "outputs": [
    {
     "name": "stdout",
     "output_type": "stream",
     "text": [
      "P₁ + P₂ = P₃ = (3.0, -7.0)\n"
     ]
    }
   ],
   "source": [
    "s = (y2 - y1) / (x2 - x1)\n",
    "x3 = s**2 - x1 - x2\n",
    "y3 = s * (x1 - x3) - y1\n",
    "\n",
    "print(f\"P₁ + P₂ = P₃ = ({x3}, {y3})\")"
   ]
  },
  {
   "cell_type": "markdown",
   "metadata": {
    "id": "fUOoJTO2chtl"
   },
   "source": [
    "Now that we have completed point addition when the x coordinates are different, we can update our `__add__` method."
   ]
  },
  {
   "cell_type": "markdown",
   "metadata": {
    "id": "kLyWoPikJCnt"
   },
   "source": [
    "# Exercise 5"
   ]
  },
  {
   "cell_type": "markdown",
   "metadata": {
    "id": "oe4RSZ6Kad5_"
   },
   "source": [
    "The following exercise was completed in a previous exercise.\n",
    "\n",
    "Write the `__add__` method where \\\\(x_{1}\\\\)≠\\\\(x_{2}\\\\)\n",
    "\n",
    "#### Make [this test](/edit/code-ch02/ecc.py) pass: `ecc.py:PointTest:test_add1`"
   ]
  },
  {
   "cell_type": "code",
   "execution_count": 28,
   "metadata": {
    "colab": {
     "base_uri": "https://localhost:8080/"
    },
    "id": "MdQTd-URJCnu",
    "outputId": "9471667e-8d48-4cf6-ea79-96cb89dee6c3"
   },
   "outputs": [
    {
     "name": "stderr",
     "output_type": "stream",
     "text": [
      ".\n",
      "----------------------------------------------------------------------\n",
      "Ran 1 test in 0.001s\n",
      "\n",
      "OK\n"
     ]
    }
   ],
   "source": [
    "# Exercise 5\n",
    "\n",
    "reload(ecc)\n",
    "run(ecc.PointTest(\"test_add1\"))"
   ]
  },
  {
   "cell_type": "markdown",
   "metadata": {
    "id": "bqA0YkF5JCnu"
   },
   "source": [
    "# Exercise 6\n"
   ]
  },
  {
   "cell_type": "markdown",
   "metadata": {
    "id": "mi2i25Sgda8J"
   },
   "source": [
    "Point addition when $P_1= P_2$.\n",
    "\n",
    "$P_1 = -P_2$\n",
    "\n",
    "or\n",
    "\n",
    "$P_1 + P_2 = I$\n",
    "\n",
    "and\n",
    "\n",
    "$s=\\frac{dx}{dy}$\n",
    "\n",
    "The derivative of the elliptic curve equation is\n",
    "\n",
    "$(2y)dy = (3x^2 + a)dx$\n",
    "\n",
    "**$s = (3x^2 + a)/2y$**\n",
    "\n",
    "For $x_3,y_3$,\n",
    "\n",
    "$x_3 = s^2 - x_1 - x_2= s^2 - x_1 - x_1$\n",
    "\n",
    "**$x_3 = s^2 - 2x_1$**\n",
    "\n",
    "and\n",
    "\n",
    "**$y_3 = s(x_1 - x_3) - y_1$**"
   ]
  },
  {
   "cell_type": "markdown",
   "metadata": {
    "id": "PEhT7mFBagYU"
   },
   "source": [
    "\n",
    "For the curve \\\\(y^{2}\\\\)=\\\\(x^{3}\\\\)+5x+7, what is (-1,-1) + (-1,-1)?"
   ]
  },
  {
   "cell_type": "code",
   "execution_count": 29,
   "metadata": {
    "id": "jQBGjBswJCnu"
   },
   "outputs": [],
   "source": [
    "# Exercise 6\n",
    "\n",
    "from ecc import Point\n",
    "\n",
    "a = 5\n",
    "b = 7\n",
    "x1, y1 = -1, -1\n",
    "# (-1,-1) + (-1,-1)"
   ]
  },
  {
   "cell_type": "code",
   "execution_count": 30,
   "metadata": {
    "colab": {
     "base_uri": "https://localhost:8080/"
    },
    "id": "UZtmwjOahX_N",
    "outputId": "4024a928-debd-4662-a6bd-106428d63d73"
   },
   "outputs": [
    {
     "name": "stdout",
     "output_type": "stream",
     "text": [
      "P₁ + P₂ = P₃ = (18.0, 77.0)\n"
     ]
    }
   ],
   "source": [
    "s = (3*x1**2+ a)/2*y1\n",
    "x3 = s**2 - 2*x1\n",
    "y3 = s*(x1 - x3) - y1\n",
    "\n",
    "print(f\"P₁ + P₂ = P₃ = ({x3}, {y3})\")"
   ]
  },
  {
   "cell_type": "markdown",
   "metadata": {
    "id": "kSDEuZQ_JCnu"
   },
   "source": [
    "# Exercise 7"
   ]
  },
  {
   "cell_type": "markdown",
   "metadata": {
    "id": "e4vhLhROaikw"
   },
   "source": [
    "The following exercise was completed in a previous exercise.\n",
    "\n",
    "Write the `__add__` method when \\\\(P_{1}\\\\)=\\\\(P_{2}\\\\).\n",
    "\n",
    "**Make [this test](/edit/code-ch02/ecc.py) pass: `ecc.py:PointTest:test_add2`**"
   ]
  },
  {
   "cell_type": "code",
   "execution_count": 31,
   "metadata": {
    "colab": {
     "base_uri": "https://localhost:8080/"
    },
    "id": "mOdMotw9JCnu",
    "outputId": "68062ca9-e77b-4bcb-bba8-bdd58456834f"
   },
   "outputs": [
    {
     "name": "stderr",
     "output_type": "stream",
     "text": [
      ".\n",
      "----------------------------------------------------------------------\n",
      "Ran 1 test in 0.001s\n",
      "\n",
      "OK\n"
     ]
    }
   ],
   "source": [
    "# Exercise 7\n",
    "\n",
    "reload(ecc)\n",
    "run(ecc.PointTest(\"test_add2\"))"
   ]
  }
 ],
 "metadata": {
  "colab": {
   "include_colab_link": true,
   "provenance": [],
   "toc_visible": true
  },
  "kernelspec": {
   "display_name": "Python 3 (ipykernel)",
   "language": "python",
   "name": "python3"
  },
  "language_info": {
   "codemirror_mode": {
    "name": "ipython",
    "version": 3
   },
   "file_extension": ".py",
   "mimetype": "text/x-python",
   "name": "python",
   "nbconvert_exporter": "python",
   "pygments_lexer": "ipython3",
   "version": "3.11.13"
  }
 },
 "nbformat": 4,
 "nbformat_minor": 4
}
