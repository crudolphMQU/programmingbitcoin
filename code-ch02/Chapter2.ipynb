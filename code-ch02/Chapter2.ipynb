{
  "cells": [
    {
      "cell_type": "markdown",
      "metadata": {
        "id": "view-in-github",
        "colab_type": "text"
      },
      "source": [
        "<a href=\"https://colab.research.google.com/github/crudolphMQU/programmingbitcoin/blob/master/code-ch02/Chapter2.ipynb\" target=\"_parent\"><img src=\"https://colab.research.google.com/assets/colab-badge.svg\" alt=\"Open In Colab\"/></a>"
      ]
    },
    {
      "cell_type": "markdown",
      "source": [
        "# set up and imports"
      ],
      "metadata": {
        "id": "pRIHmbQMTySh"
      }
    },
    {
      "cell_type": "code",
      "source": [
        "!git clone https://github.com/crudolphMQU/programmingbitcoin"
      ],
      "metadata": {
        "id": "DP0q7Tn8JDgA",
        "outputId": "00c56dc0-c109-43e8-ab03-e066f9081baa",
        "colab": {
          "base_uri": "https://localhost:8080/"
        }
      },
      "execution_count": 1,
      "outputs": [
        {
          "output_type": "stream",
          "name": "stdout",
          "text": [
            "Cloning into 'programmingbitcoin'...\n",
            "remote: Enumerating objects: 6450, done.\u001b[K\n",
            "remote: Counting objects: 100% (44/44), done.\u001b[K\n",
            "remote: Compressing objects: 100% (29/29), done.\u001b[K\n",
            "remote: Total 6450 (delta 32), reused 15 (delta 15), pack-reused 6406 (from 2)\u001b[K\n",
            "Receiving objects: 100% (6450/6450), 38.93 MiB | 19.25 MiB/s, done.\n",
            "Resolving deltas: 100% (4282/4282), done.\n"
          ]
        }
      ]
    },
    {
      "cell_type": "code",
      "source": [
        "ls"
      ],
      "metadata": {
        "colab": {
          "base_uri": "https://localhost:8080/"
        },
        "id": "Fu04y40xTKM9",
        "outputId": "d9fab710-af9e-4f2b-81ce-0a7d217a8ac0"
      },
      "execution_count": 2,
      "outputs": [
        {
          "output_type": "stream",
          "name": "stdout",
          "text": [
            "\u001b[0m\u001b[01;34mprogrammingbitcoin\u001b[0m/  \u001b[01;34msample_data\u001b[0m/\n"
          ]
        }
      ]
    },
    {
      "cell_type": "code",
      "source": [
        "cd programmingbitcoin/code-ch02"
      ],
      "metadata": {
        "colab": {
          "base_uri": "https://localhost:8080/"
        },
        "id": "cSiI-5CuTLCB",
        "outputId": "37f3cb41-d237-4aaf-a55d-0e14aac549c9"
      },
      "execution_count": 3,
      "outputs": [
        {
          "output_type": "stream",
          "name": "stdout",
          "text": [
            "/content/programmingbitcoin/code-ch02\n"
          ]
        }
      ]
    },
    {
      "cell_type": "code",
      "source": [
        "!pip install virtualenv==20.17.1"
      ],
      "metadata": {
        "colab": {
          "base_uri": "https://localhost:8080/"
        },
        "id": "Rsu8TSnTThVa",
        "outputId": "c06c3644-076e-40e3-bdab-1dcfa76235a5"
      },
      "execution_count": 4,
      "outputs": [
        {
          "output_type": "stream",
          "name": "stdout",
          "text": [
            "Collecting virtualenv==20.17.1\n",
            "  Downloading virtualenv-20.17.1-py3-none-any.whl.metadata (4.1 kB)\n",
            "Collecting distlib<1,>=0.3.6 (from virtualenv==20.17.1)\n",
            "  Downloading distlib-0.3.9-py2.py3-none-any.whl.metadata (5.2 kB)\n",
            "Requirement already satisfied: filelock<4,>=3.4.1 in /usr/local/lib/python3.11/dist-packages (from virtualenv==20.17.1) (3.18.0)\n",
            "Collecting platformdirs<3,>=2.4 (from virtualenv==20.17.1)\n",
            "  Downloading platformdirs-2.6.2-py3-none-any.whl.metadata (9.5 kB)\n",
            "Downloading virtualenv-20.17.1-py3-none-any.whl (8.8 MB)\n",
            "\u001b[2K   \u001b[90m━━━━━━━━━━━━━━━━━━━━━━━━━━━━━━━━━━━━━━━━\u001b[0m \u001b[32m8.8/8.8 MB\u001b[0m \u001b[31m38.5 MB/s\u001b[0m eta \u001b[36m0:00:00\u001b[0m\n",
            "\u001b[?25hDownloading distlib-0.3.9-py2.py3-none-any.whl (468 kB)\n",
            "\u001b[2K   \u001b[90m━━━━━━━━━━━━━━━━━━━━━━━━━━━━━━━━━━━━━━━━\u001b[0m \u001b[32m469.0/469.0 kB\u001b[0m \u001b[31m23.3 MB/s\u001b[0m eta \u001b[36m0:00:00\u001b[0m\n",
            "\u001b[?25hDownloading platformdirs-2.6.2-py3-none-any.whl (14 kB)\n",
            "Installing collected packages: distlib, platformdirs, virtualenv\n",
            "  Attempting uninstall: platformdirs\n",
            "    Found existing installation: platformdirs 4.3.7\n",
            "    Uninstalling platformdirs-4.3.7:\n",
            "      Successfully uninstalled platformdirs-4.3.7\n",
            "Successfully installed distlib-0.3.9 platformdirs-2.6.2 virtualenv-20.17.1\n"
          ]
        }
      ]
    },
    {
      "cell_type": "code",
      "source": [
        "!pip install -r /content/programmingbitcoin/requirements.txt"
      ],
      "metadata": {
        "colab": {
          "base_uri": "https://localhost:8080/"
        },
        "id": "FM6yVJPrTlqc",
        "outputId": "db110a35-cccc-49c7-bac9-130be6ac73ce"
      },
      "execution_count": 5,
      "outputs": [
        {
          "output_type": "stream",
          "name": "stdout",
          "text": [
            "Collecting jupyter (from -r /content/programmingbitcoin/requirements.txt (line 1))\n",
            "  Downloading jupyter-1.1.1-py2.py3-none-any.whl.metadata (2.0 kB)\n",
            "Requirement already satisfied: requests in /usr/local/lib/python3.11/dist-packages (from -r /content/programmingbitcoin/requirements.txt (line 2)) (2.32.3)\n",
            "Requirement already satisfied: notebook in /usr/local/lib/python3.11/dist-packages (from jupyter->-r /content/programmingbitcoin/requirements.txt (line 1)) (6.5.7)\n",
            "Requirement already satisfied: jupyter-console in /usr/local/lib/python3.11/dist-packages (from jupyter->-r /content/programmingbitcoin/requirements.txt (line 1)) (6.1.0)\n",
            "Requirement already satisfied: nbconvert in /usr/local/lib/python3.11/dist-packages (from jupyter->-r /content/programmingbitcoin/requirements.txt (line 1)) (7.16.6)\n",
            "Requirement already satisfied: ipykernel in /usr/local/lib/python3.11/dist-packages (from jupyter->-r /content/programmingbitcoin/requirements.txt (line 1)) (6.17.1)\n",
            "Requirement already satisfied: ipywidgets in /usr/local/lib/python3.11/dist-packages (from jupyter->-r /content/programmingbitcoin/requirements.txt (line 1)) (7.7.1)\n",
            "Collecting jupyterlab (from jupyter->-r /content/programmingbitcoin/requirements.txt (line 1))\n",
            "  Downloading jupyterlab-4.4.2-py3-none-any.whl.metadata (16 kB)\n",
            "Requirement already satisfied: charset-normalizer<4,>=2 in /usr/local/lib/python3.11/dist-packages (from requests->-r /content/programmingbitcoin/requirements.txt (line 2)) (3.4.1)\n",
            "Requirement already satisfied: idna<4,>=2.5 in /usr/local/lib/python3.11/dist-packages (from requests->-r /content/programmingbitcoin/requirements.txt (line 2)) (3.10)\n",
            "Requirement already satisfied: urllib3<3,>=1.21.1 in /usr/local/lib/python3.11/dist-packages (from requests->-r /content/programmingbitcoin/requirements.txt (line 2)) (2.4.0)\n",
            "Requirement already satisfied: certifi>=2017.4.17 in /usr/local/lib/python3.11/dist-packages (from requests->-r /content/programmingbitcoin/requirements.txt (line 2)) (2025.4.26)\n",
            "Requirement already satisfied: debugpy>=1.0 in /usr/local/lib/python3.11/dist-packages (from ipykernel->jupyter->-r /content/programmingbitcoin/requirements.txt (line 1)) (1.8.0)\n",
            "Requirement already satisfied: ipython>=7.23.1 in /usr/local/lib/python3.11/dist-packages (from ipykernel->jupyter->-r /content/programmingbitcoin/requirements.txt (line 1)) (7.34.0)\n",
            "Requirement already satisfied: jupyter-client>=6.1.12 in /usr/local/lib/python3.11/dist-packages (from ipykernel->jupyter->-r /content/programmingbitcoin/requirements.txt (line 1)) (6.1.12)\n",
            "Requirement already satisfied: matplotlib-inline>=0.1 in /usr/local/lib/python3.11/dist-packages (from ipykernel->jupyter->-r /content/programmingbitcoin/requirements.txt (line 1)) (0.1.7)\n",
            "Requirement already satisfied: nest-asyncio in /usr/local/lib/python3.11/dist-packages (from ipykernel->jupyter->-r /content/programmingbitcoin/requirements.txt (line 1)) (1.6.0)\n",
            "Requirement already satisfied: packaging in /usr/local/lib/python3.11/dist-packages (from ipykernel->jupyter->-r /content/programmingbitcoin/requirements.txt (line 1)) (24.2)\n",
            "Requirement already satisfied: psutil in /usr/local/lib/python3.11/dist-packages (from ipykernel->jupyter->-r /content/programmingbitcoin/requirements.txt (line 1)) (5.9.5)\n",
            "Requirement already satisfied: pyzmq>=17 in /usr/local/lib/python3.11/dist-packages (from ipykernel->jupyter->-r /content/programmingbitcoin/requirements.txt (line 1)) (24.0.1)\n",
            "Requirement already satisfied: tornado>=6.1 in /usr/local/lib/python3.11/dist-packages (from ipykernel->jupyter->-r /content/programmingbitcoin/requirements.txt (line 1)) (6.4.2)\n",
            "Requirement already satisfied: traitlets>=5.1.0 in /usr/local/lib/python3.11/dist-packages (from ipykernel->jupyter->-r /content/programmingbitcoin/requirements.txt (line 1)) (5.7.1)\n",
            "Requirement already satisfied: ipython-genutils~=0.2.0 in /usr/local/lib/python3.11/dist-packages (from ipywidgets->jupyter->-r /content/programmingbitcoin/requirements.txt (line 1)) (0.2.0)\n",
            "Requirement already satisfied: widgetsnbextension~=3.6.0 in /usr/local/lib/python3.11/dist-packages (from ipywidgets->jupyter->-r /content/programmingbitcoin/requirements.txt (line 1)) (3.6.10)\n",
            "Requirement already satisfied: jupyterlab-widgets>=1.0.0 in /usr/local/lib/python3.11/dist-packages (from ipywidgets->jupyter->-r /content/programmingbitcoin/requirements.txt (line 1)) (3.0.14)\n",
            "Requirement already satisfied: prompt-toolkit!=3.0.0,!=3.0.1,<3.1.0,>=2.0.0 in /usr/local/lib/python3.11/dist-packages (from jupyter-console->jupyter->-r /content/programmingbitcoin/requirements.txt (line 1)) (3.0.51)\n",
            "Requirement already satisfied: pygments in /usr/local/lib/python3.11/dist-packages (from jupyter-console->jupyter->-r /content/programmingbitcoin/requirements.txt (line 1)) (2.19.1)\n",
            "Collecting async-lru>=1.0.0 (from jupyterlab->jupyter->-r /content/programmingbitcoin/requirements.txt (line 1))\n",
            "  Downloading async_lru-2.0.5-py3-none-any.whl.metadata (4.5 kB)\n",
            "Requirement already satisfied: httpx>=0.25.0 in /usr/local/lib/python3.11/dist-packages (from jupyterlab->jupyter->-r /content/programmingbitcoin/requirements.txt (line 1)) (0.28.1)\n",
            "Requirement already satisfied: jinja2>=3.0.3 in /usr/local/lib/python3.11/dist-packages (from jupyterlab->jupyter->-r /content/programmingbitcoin/requirements.txt (line 1)) (3.1.6)\n",
            "Requirement already satisfied: jupyter-core in /usr/local/lib/python3.11/dist-packages (from jupyterlab->jupyter->-r /content/programmingbitcoin/requirements.txt (line 1)) (5.7.2)\n",
            "Collecting jupyter-lsp>=2.0.0 (from jupyterlab->jupyter->-r /content/programmingbitcoin/requirements.txt (line 1))\n",
            "  Downloading jupyter_lsp-2.2.5-py3-none-any.whl.metadata (1.8 kB)\n",
            "Collecting jupyter-server<3,>=2.4.0 (from jupyterlab->jupyter->-r /content/programmingbitcoin/requirements.txt (line 1))\n",
            "  Downloading jupyter_server-2.15.0-py3-none-any.whl.metadata (8.4 kB)\n",
            "Collecting jupyterlab-server<3,>=2.27.1 (from jupyterlab->jupyter->-r /content/programmingbitcoin/requirements.txt (line 1))\n",
            "  Downloading jupyterlab_server-2.27.3-py3-none-any.whl.metadata (5.9 kB)\n",
            "Requirement already satisfied: notebook-shim>=0.2 in /usr/local/lib/python3.11/dist-packages (from jupyterlab->jupyter->-r /content/programmingbitcoin/requirements.txt (line 1)) (0.2.4)\n",
            "Requirement already satisfied: setuptools>=41.1.0 in /usr/local/lib/python3.11/dist-packages (from jupyterlab->jupyter->-r /content/programmingbitcoin/requirements.txt (line 1)) (75.2.0)\n",
            "Requirement already satisfied: beautifulsoup4 in /usr/local/lib/python3.11/dist-packages (from nbconvert->jupyter->-r /content/programmingbitcoin/requirements.txt (line 1)) (4.13.4)\n",
            "Requirement already satisfied: bleach!=5.0.0 in /usr/local/lib/python3.11/dist-packages (from bleach[css]!=5.0.0->nbconvert->jupyter->-r /content/programmingbitcoin/requirements.txt (line 1)) (6.2.0)\n",
            "Requirement already satisfied: defusedxml in /usr/local/lib/python3.11/dist-packages (from nbconvert->jupyter->-r /content/programmingbitcoin/requirements.txt (line 1)) (0.7.1)\n",
            "Requirement already satisfied: jupyterlab-pygments in /usr/local/lib/python3.11/dist-packages (from nbconvert->jupyter->-r /content/programmingbitcoin/requirements.txt (line 1)) (0.3.0)\n",
            "Requirement already satisfied: markupsafe>=2.0 in /usr/local/lib/python3.11/dist-packages (from nbconvert->jupyter->-r /content/programmingbitcoin/requirements.txt (line 1)) (3.0.2)\n",
            "Requirement already satisfied: mistune<4,>=2.0.3 in /usr/local/lib/python3.11/dist-packages (from nbconvert->jupyter->-r /content/programmingbitcoin/requirements.txt (line 1)) (3.1.3)\n",
            "Requirement already satisfied: nbclient>=0.5.0 in /usr/local/lib/python3.11/dist-packages (from nbconvert->jupyter->-r /content/programmingbitcoin/requirements.txt (line 1)) (0.10.2)\n",
            "Requirement already satisfied: nbformat>=5.7 in /usr/local/lib/python3.11/dist-packages (from nbconvert->jupyter->-r /content/programmingbitcoin/requirements.txt (line 1)) (5.10.4)\n",
            "Requirement already satisfied: pandocfilters>=1.4.1 in /usr/local/lib/python3.11/dist-packages (from nbconvert->jupyter->-r /content/programmingbitcoin/requirements.txt (line 1)) (1.5.1)\n",
            "Requirement already satisfied: argon2-cffi in /usr/local/lib/python3.11/dist-packages (from notebook->jupyter->-r /content/programmingbitcoin/requirements.txt (line 1)) (23.1.0)\n",
            "Requirement already satisfied: Send2Trash>=1.8.0 in /usr/local/lib/python3.11/dist-packages (from notebook->jupyter->-r /content/programmingbitcoin/requirements.txt (line 1)) (1.8.3)\n",
            "Requirement already satisfied: terminado>=0.8.3 in /usr/local/lib/python3.11/dist-packages (from notebook->jupyter->-r /content/programmingbitcoin/requirements.txt (line 1)) (0.18.1)\n",
            "Requirement already satisfied: prometheus-client in /usr/local/lib/python3.11/dist-packages (from notebook->jupyter->-r /content/programmingbitcoin/requirements.txt (line 1)) (0.21.1)\n",
            "Requirement already satisfied: nbclassic>=0.4.7 in /usr/local/lib/python3.11/dist-packages (from notebook->jupyter->-r /content/programmingbitcoin/requirements.txt (line 1)) (1.3.0)\n",
            "Requirement already satisfied: webencodings in /usr/local/lib/python3.11/dist-packages (from bleach!=5.0.0->bleach[css]!=5.0.0->nbconvert->jupyter->-r /content/programmingbitcoin/requirements.txt (line 1)) (0.5.1)\n",
            "Requirement already satisfied: tinycss2<1.5,>=1.1.0 in /usr/local/lib/python3.11/dist-packages (from bleach[css]!=5.0.0->nbconvert->jupyter->-r /content/programmingbitcoin/requirements.txt (line 1)) (1.4.0)\n",
            "Requirement already satisfied: anyio in /usr/local/lib/python3.11/dist-packages (from httpx>=0.25.0->jupyterlab->jupyter->-r /content/programmingbitcoin/requirements.txt (line 1)) (4.9.0)\n",
            "Requirement already satisfied: httpcore==1.* in /usr/local/lib/python3.11/dist-packages (from httpx>=0.25.0->jupyterlab->jupyter->-r /content/programmingbitcoin/requirements.txt (line 1)) (1.0.9)\n",
            "Requirement already satisfied: h11>=0.16 in /usr/local/lib/python3.11/dist-packages (from httpcore==1.*->httpx>=0.25.0->jupyterlab->jupyter->-r /content/programmingbitcoin/requirements.txt (line 1)) (0.16.0)\n",
            "Collecting jedi>=0.16 (from ipython>=7.23.1->ipykernel->jupyter->-r /content/programmingbitcoin/requirements.txt (line 1))\n",
            "  Downloading jedi-0.19.2-py2.py3-none-any.whl.metadata (22 kB)\n",
            "Requirement already satisfied: decorator in /usr/local/lib/python3.11/dist-packages (from ipython>=7.23.1->ipykernel->jupyter->-r /content/programmingbitcoin/requirements.txt (line 1)) (4.4.2)\n",
            "Requirement already satisfied: pickleshare in /usr/local/lib/python3.11/dist-packages (from ipython>=7.23.1->ipykernel->jupyter->-r /content/programmingbitcoin/requirements.txt (line 1)) (0.7.5)\n",
            "Requirement already satisfied: backcall in /usr/local/lib/python3.11/dist-packages (from ipython>=7.23.1->ipykernel->jupyter->-r /content/programmingbitcoin/requirements.txt (line 1)) (0.2.0)\n",
            "Requirement already satisfied: pexpect>4.3 in /usr/local/lib/python3.11/dist-packages (from ipython>=7.23.1->ipykernel->jupyter->-r /content/programmingbitcoin/requirements.txt (line 1)) (4.9.0)\n",
            "Requirement already satisfied: python-dateutil>=2.1 in /usr/local/lib/python3.11/dist-packages (from jupyter-client>=6.1.12->ipykernel->jupyter->-r /content/programmingbitcoin/requirements.txt (line 1)) (2.9.0.post0)\n",
            "Requirement already satisfied: platformdirs>=2.5 in /usr/local/lib/python3.11/dist-packages (from jupyter-core->jupyterlab->jupyter->-r /content/programmingbitcoin/requirements.txt (line 1)) (2.6.2)\n",
            "Collecting jupyter-client>=6.1.12 (from ipykernel->jupyter->-r /content/programmingbitcoin/requirements.txt (line 1))\n",
            "  Downloading jupyter_client-7.4.9-py3-none-any.whl.metadata (8.5 kB)\n",
            "Collecting jupyter-events>=0.11.0 (from jupyter-server<3,>=2.4.0->jupyterlab->jupyter->-r /content/programmingbitcoin/requirements.txt (line 1))\n",
            "  Downloading jupyter_events-0.12.0-py3-none-any.whl.metadata (5.8 kB)\n",
            "Collecting jupyter-server-terminals>=0.4.4 (from jupyter-server<3,>=2.4.0->jupyterlab->jupyter->-r /content/programmingbitcoin/requirements.txt (line 1))\n",
            "  Downloading jupyter_server_terminals-0.5.3-py3-none-any.whl.metadata (5.6 kB)\n",
            "Collecting overrides>=5.0 (from jupyter-server<3,>=2.4.0->jupyterlab->jupyter->-r /content/programmingbitcoin/requirements.txt (line 1))\n",
            "  Downloading overrides-7.7.0-py3-none-any.whl.metadata (5.8 kB)\n",
            "Requirement already satisfied: websocket-client>=1.7 in /usr/local/lib/python3.11/dist-packages (from jupyter-server<3,>=2.4.0->jupyterlab->jupyter->-r /content/programmingbitcoin/requirements.txt (line 1)) (1.8.0)\n",
            "Requirement already satisfied: argon2-cffi-bindings in /usr/local/lib/python3.11/dist-packages (from argon2-cffi->notebook->jupyter->-r /content/programmingbitcoin/requirements.txt (line 1)) (21.2.0)\n",
            "Requirement already satisfied: entrypoints in /usr/local/lib/python3.11/dist-packages (from jupyter-client>=6.1.12->ipykernel->jupyter->-r /content/programmingbitcoin/requirements.txt (line 1)) (0.4)\n",
            "Requirement already satisfied: babel>=2.10 in /usr/local/lib/python3.11/dist-packages (from jupyterlab-server<3,>=2.27.1->jupyterlab->jupyter->-r /content/programmingbitcoin/requirements.txt (line 1)) (2.17.0)\n",
            "Collecting json5>=0.9.0 (from jupyterlab-server<3,>=2.27.1->jupyterlab->jupyter->-r /content/programmingbitcoin/requirements.txt (line 1))\n",
            "  Downloading json5-0.12.0-py3-none-any.whl.metadata (36 kB)\n",
            "Requirement already satisfied: jsonschema>=4.18.0 in /usr/local/lib/python3.11/dist-packages (from jupyterlab-server<3,>=2.27.1->jupyterlab->jupyter->-r /content/programmingbitcoin/requirements.txt (line 1)) (4.23.0)\n",
            "Requirement already satisfied: fastjsonschema>=2.15 in /usr/local/lib/python3.11/dist-packages (from nbformat>=5.7->nbconvert->jupyter->-r /content/programmingbitcoin/requirements.txt (line 1)) (2.21.1)\n",
            "Requirement already satisfied: wcwidth in /usr/local/lib/python3.11/dist-packages (from prompt-toolkit!=3.0.0,!=3.0.1,<3.1.0,>=2.0.0->jupyter-console->jupyter->-r /content/programmingbitcoin/requirements.txt (line 1)) (0.2.13)\n",
            "Requirement already satisfied: ptyprocess in /usr/local/lib/python3.11/dist-packages (from terminado>=0.8.3->notebook->jupyter->-r /content/programmingbitcoin/requirements.txt (line 1)) (0.7.0)\n",
            "Requirement already satisfied: soupsieve>1.2 in /usr/local/lib/python3.11/dist-packages (from beautifulsoup4->nbconvert->jupyter->-r /content/programmingbitcoin/requirements.txt (line 1)) (2.7)\n",
            "Requirement already satisfied: typing-extensions>=4.0.0 in /usr/local/lib/python3.11/dist-packages (from beautifulsoup4->nbconvert->jupyter->-r /content/programmingbitcoin/requirements.txt (line 1)) (4.13.2)\n",
            "Requirement already satisfied: sniffio>=1.1 in /usr/local/lib/python3.11/dist-packages (from anyio->httpx>=0.25.0->jupyterlab->jupyter->-r /content/programmingbitcoin/requirements.txt (line 1)) (1.3.1)\n",
            "Requirement already satisfied: parso<0.9.0,>=0.8.4 in /usr/local/lib/python3.11/dist-packages (from jedi>=0.16->ipython>=7.23.1->ipykernel->jupyter->-r /content/programmingbitcoin/requirements.txt (line 1)) (0.8.4)\n",
            "Requirement already satisfied: attrs>=22.2.0 in /usr/local/lib/python3.11/dist-packages (from jsonschema>=4.18.0->jupyterlab-server<3,>=2.27.1->jupyterlab->jupyter->-r /content/programmingbitcoin/requirements.txt (line 1)) (25.3.0)\n",
            "Requirement already satisfied: jsonschema-specifications>=2023.03.6 in /usr/local/lib/python3.11/dist-packages (from jsonschema>=4.18.0->jupyterlab-server<3,>=2.27.1->jupyterlab->jupyter->-r /content/programmingbitcoin/requirements.txt (line 1)) (2025.4.1)\n",
            "Requirement already satisfied: referencing>=0.28.4 in /usr/local/lib/python3.11/dist-packages (from jsonschema>=4.18.0->jupyterlab-server<3,>=2.27.1->jupyterlab->jupyter->-r /content/programmingbitcoin/requirements.txt (line 1)) (0.36.2)\n",
            "Requirement already satisfied: rpds-py>=0.7.1 in /usr/local/lib/python3.11/dist-packages (from jsonschema>=4.18.0->jupyterlab-server<3,>=2.27.1->jupyterlab->jupyter->-r /content/programmingbitcoin/requirements.txt (line 1)) (0.24.0)\n",
            "Collecting python-json-logger>=2.0.4 (from jupyter-events>=0.11.0->jupyter-server<3,>=2.4.0->jupyterlab->jupyter->-r /content/programmingbitcoin/requirements.txt (line 1))\n",
            "  Downloading python_json_logger-3.3.0-py3-none-any.whl.metadata (4.0 kB)\n",
            "Requirement already satisfied: pyyaml>=5.3 in /usr/local/lib/python3.11/dist-packages (from jupyter-events>=0.11.0->jupyter-server<3,>=2.4.0->jupyterlab->jupyter->-r /content/programmingbitcoin/requirements.txt (line 1)) (6.0.2)\n",
            "Collecting rfc3339-validator (from jupyter-events>=0.11.0->jupyter-server<3,>=2.4.0->jupyterlab->jupyter->-r /content/programmingbitcoin/requirements.txt (line 1))\n",
            "  Downloading rfc3339_validator-0.1.4-py2.py3-none-any.whl.metadata (1.5 kB)\n",
            "Collecting rfc3986-validator>=0.1.1 (from jupyter-events>=0.11.0->jupyter-server<3,>=2.4.0->jupyterlab->jupyter->-r /content/programmingbitcoin/requirements.txt (line 1))\n",
            "  Downloading rfc3986_validator-0.1.1-py2.py3-none-any.whl.metadata (1.7 kB)\n",
            "Requirement already satisfied: six>=1.5 in /usr/local/lib/python3.11/dist-packages (from python-dateutil>=2.1->jupyter-client>=6.1.12->ipykernel->jupyter->-r /content/programmingbitcoin/requirements.txt (line 1)) (1.17.0)\n",
            "Requirement already satisfied: cffi>=1.0.1 in /usr/local/lib/python3.11/dist-packages (from argon2-cffi-bindings->argon2-cffi->notebook->jupyter->-r /content/programmingbitcoin/requirements.txt (line 1)) (1.17.1)\n",
            "Requirement already satisfied: pycparser in /usr/local/lib/python3.11/dist-packages (from cffi>=1.0.1->argon2-cffi-bindings->argon2-cffi->notebook->jupyter->-r /content/programmingbitcoin/requirements.txt (line 1)) (2.22)\n",
            "Collecting fqdn (from jsonschema[format-nongpl]>=4.18.0->jupyter-events>=0.11.0->jupyter-server<3,>=2.4.0->jupyterlab->jupyter->-r /content/programmingbitcoin/requirements.txt (line 1))\n",
            "  Downloading fqdn-1.5.1-py3-none-any.whl.metadata (1.4 kB)\n",
            "Collecting isoduration (from jsonschema[format-nongpl]>=4.18.0->jupyter-events>=0.11.0->jupyter-server<3,>=2.4.0->jupyterlab->jupyter->-r /content/programmingbitcoin/requirements.txt (line 1))\n",
            "  Downloading isoduration-20.11.0-py3-none-any.whl.metadata (5.7 kB)\n",
            "Requirement already satisfied: jsonpointer>1.13 in /usr/local/lib/python3.11/dist-packages (from jsonschema[format-nongpl]>=4.18.0->jupyter-events>=0.11.0->jupyter-server<3,>=2.4.0->jupyterlab->jupyter->-r /content/programmingbitcoin/requirements.txt (line 1)) (3.0.0)\n",
            "Collecting uri-template (from jsonschema[format-nongpl]>=4.18.0->jupyter-events>=0.11.0->jupyter-server<3,>=2.4.0->jupyterlab->jupyter->-r /content/programmingbitcoin/requirements.txt (line 1))\n",
            "  Downloading uri_template-1.3.0-py3-none-any.whl.metadata (8.8 kB)\n",
            "Requirement already satisfied: webcolors>=24.6.0 in /usr/local/lib/python3.11/dist-packages (from jsonschema[format-nongpl]>=4.18.0->jupyter-events>=0.11.0->jupyter-server<3,>=2.4.0->jupyterlab->jupyter->-r /content/programmingbitcoin/requirements.txt (line 1)) (24.11.1)\n",
            "Collecting arrow>=0.15.0 (from isoduration->jsonschema[format-nongpl]>=4.18.0->jupyter-events>=0.11.0->jupyter-server<3,>=2.4.0->jupyterlab->jupyter->-r /content/programmingbitcoin/requirements.txt (line 1))\n",
            "  Downloading arrow-1.3.0-py3-none-any.whl.metadata (7.5 kB)\n",
            "Collecting types-python-dateutil>=2.8.10 (from arrow>=0.15.0->isoduration->jsonschema[format-nongpl]>=4.18.0->jupyter-events>=0.11.0->jupyter-server<3,>=2.4.0->jupyterlab->jupyter->-r /content/programmingbitcoin/requirements.txt (line 1))\n",
            "  Downloading types_python_dateutil-2.9.0.20241206-py3-none-any.whl.metadata (2.1 kB)\n",
            "Downloading jupyter-1.1.1-py2.py3-none-any.whl (2.7 kB)\n",
            "Downloading jupyterlab-4.4.2-py3-none-any.whl (12.3 MB)\n",
            "\u001b[2K   \u001b[90m━━━━━━━━━━━━━━━━━━━━━━━━━━━━━━━━━━━━━━━━\u001b[0m \u001b[32m12.3/12.3 MB\u001b[0m \u001b[31m75.7 MB/s\u001b[0m eta \u001b[36m0:00:00\u001b[0m\n",
            "\u001b[?25hDownloading async_lru-2.0.5-py3-none-any.whl (6.1 kB)\n",
            "Downloading jupyter_lsp-2.2.5-py3-none-any.whl (69 kB)\n",
            "\u001b[2K   \u001b[90m━━━━━━━━━━━━━━━━━━━━━━━━━━━━━━━━━━━━━━━━\u001b[0m \u001b[32m69.1/69.1 kB\u001b[0m \u001b[31m6.0 MB/s\u001b[0m eta \u001b[36m0:00:00\u001b[0m\n",
            "\u001b[?25hDownloading jupyter_server-2.15.0-py3-none-any.whl (385 kB)\n",
            "\u001b[2K   \u001b[90m━━━━━━━━━━━━━━━━━━━━━━━━━━━━━━━━━━━━━━━━\u001b[0m \u001b[32m385.8/385.8 kB\u001b[0m \u001b[31m25.8 MB/s\u001b[0m eta \u001b[36m0:00:00\u001b[0m\n",
            "\u001b[?25hDownloading jupyter_client-7.4.9-py3-none-any.whl (133 kB)\n",
            "\u001b[2K   \u001b[90m━━━━━━━━━━━━━━━━━━━━━━━━━━━━━━━━━━━━━━━━\u001b[0m \u001b[32m133.5/133.5 kB\u001b[0m \u001b[31m12.1 MB/s\u001b[0m eta \u001b[36m0:00:00\u001b[0m\n",
            "\u001b[?25hDownloading jupyterlab_server-2.27.3-py3-none-any.whl (59 kB)\n",
            "\u001b[2K   \u001b[90m━━━━━━━━━━━━━━━━━━━━━━━━━━━━━━━━━━━━━━━━\u001b[0m \u001b[32m59.7/59.7 kB\u001b[0m \u001b[31m5.3 MB/s\u001b[0m eta \u001b[36m0:00:00\u001b[0m\n",
            "\u001b[?25hDownloading jedi-0.19.2-py2.py3-none-any.whl (1.6 MB)\n",
            "\u001b[2K   \u001b[90m━━━━━━━━━━━━━━━━━━━━━━━━━━━━━━━━━━━━━━━━\u001b[0m \u001b[32m1.6/1.6 MB\u001b[0m \u001b[31m51.7 MB/s\u001b[0m eta \u001b[36m0:00:00\u001b[0m\n",
            "\u001b[?25hDownloading json5-0.12.0-py3-none-any.whl (36 kB)\n",
            "Downloading jupyter_events-0.12.0-py3-none-any.whl (19 kB)\n",
            "Downloading jupyter_server_terminals-0.5.3-py3-none-any.whl (13 kB)\n",
            "Downloading overrides-7.7.0-py3-none-any.whl (17 kB)\n",
            "Downloading python_json_logger-3.3.0-py3-none-any.whl (15 kB)\n",
            "Downloading rfc3986_validator-0.1.1-py2.py3-none-any.whl (4.2 kB)\n",
            "Downloading rfc3339_validator-0.1.4-py2.py3-none-any.whl (3.5 kB)\n",
            "Downloading fqdn-1.5.1-py3-none-any.whl (9.1 kB)\n",
            "Downloading isoduration-20.11.0-py3-none-any.whl (11 kB)\n",
            "Downloading uri_template-1.3.0-py3-none-any.whl (11 kB)\n",
            "Downloading arrow-1.3.0-py3-none-any.whl (66 kB)\n",
            "\u001b[2K   \u001b[90m━━━━━━━━━━━━━━━━━━━━━━━━━━━━━━━━━━━━━━━━\u001b[0m \u001b[32m66.4/66.4 kB\u001b[0m \u001b[31m6.1 MB/s\u001b[0m eta \u001b[36m0:00:00\u001b[0m\n",
            "\u001b[?25hDownloading types_python_dateutil-2.9.0.20241206-py3-none-any.whl (14 kB)\n",
            "Installing collected packages: uri-template, types-python-dateutil, rfc3986-validator, rfc3339-validator, python-json-logger, overrides, json5, jedi, fqdn, async-lru, jupyter-server-terminals, jupyter-client, arrow, isoduration, jupyter-events, jupyter-server, jupyterlab-server, jupyter-lsp, jupyterlab, jupyter\n",
            "  Attempting uninstall: jupyter-client\n",
            "    Found existing installation: jupyter-client 6.1.12\n",
            "    Uninstalling jupyter-client-6.1.12:\n",
            "      Successfully uninstalled jupyter-client-6.1.12\n",
            "  Attempting uninstall: jupyter-server\n",
            "    Found existing installation: jupyter-server 1.16.0\n",
            "    Uninstalling jupyter-server-1.16.0:\n",
            "      Successfully uninstalled jupyter-server-1.16.0\n",
            "Successfully installed arrow-1.3.0 async-lru-2.0.5 fqdn-1.5.1 isoduration-20.11.0 jedi-0.19.2 json5-0.12.0 jupyter-1.1.1 jupyter-client-7.4.9 jupyter-events-0.12.0 jupyter-lsp-2.2.5 jupyter-server-2.15.0 jupyter-server-terminals-0.5.3 jupyterlab-4.4.2 jupyterlab-server-2.27.3 overrides-7.7.0 python-json-logger-3.3.0 rfc3339-validator-0.1.4 rfc3986-validator-0.1.1 types-python-dateutil-2.9.0.20241206 uri-template-1.3.0\n"
          ]
        }
      ]
    },
    {
      "cell_type": "code",
      "source": [
        "!pip install helper"
      ],
      "metadata": {
        "colab": {
          "base_uri": "https://localhost:8080/"
        },
        "id": "dMOuxwDhTodm",
        "outputId": "115ae5a3-f1eb-4c98-cfd6-83e5fd158a25"
      },
      "execution_count": 6,
      "outputs": [
        {
          "output_type": "stream",
          "name": "stdout",
          "text": [
            "Collecting helper\n",
            "  Downloading helper-2.5.0.tar.gz (18 kB)\n",
            "  Preparing metadata (setup.py) ... \u001b[?25l\u001b[?25hdone\n",
            "Requirement already satisfied: pyyaml in /usr/local/lib/python3.11/dist-packages (from helper) (6.0.2)\n",
            "Building wheels for collected packages: helper\n",
            "  Building wheel for helper (setup.py) ... \u001b[?25l\u001b[?25hdone\n",
            "  Created wheel for helper: filename=helper-2.5.0-py2.py3-none-any.whl size=19169 sha256=2b416e0ab968b611c71e3b56c4af7bcb544e35db997a5fce9f5a11d9905f9553\n",
            "  Stored in directory: /root/.cache/pip/wheels/8b/ab/a7/06bcd4f2d89113bb7b0caaf5562aa209a27863d8cccb07a1bc\n",
            "Successfully built helper\n",
            "Installing collected packages: helper\n",
            "Successfully installed helper-2.5.0\n"
          ]
        }
      ]
    },
    {
      "cell_type": "code",
      "execution_count": 7,
      "metadata": {
        "id": "Ceff6QxRJCno"
      },
      "outputs": [],
      "source": [
        "############## PLEASE RUN THIS CELL FIRST! ###################\n",
        "\n",
        "# import everything and define a test runner function\n",
        "from importlib import reload\n",
        "import helper\n",
        "\n",
        "from helper import run\n",
        "import ecc\n",
        "\n",
        "from ecc import Point"
      ]
    },
    {
      "cell_type": "markdown",
      "source": [
        "Using the curve in fig 2-9\n",
        "\n",
        "$y^2 = x^3 + 5x + 7$\n",
        "\n",
        "defined in general form in the `ecc.py` file, we're interested in the following points:"
      ],
      "metadata": {
        "id": "PTXWFOziVUYr"
      }
    },
    {
      "cell_type": "code",
      "execution_count": 8,
      "metadata": {
        "id": "g0cT-KOqJCnq"
      },
      "outputs": [],
      "source": [
        "from ecc import Point\n",
        "p1 = Point(-1, -1, 5, 7)\n",
        "# p2 = Point(-1, -2, 5, 7)"
      ]
    },
    {
      "cell_type": "markdown",
      "source": [
        "running p2 will raise the ValueError from the ecc file advising the point is not on the curve. `"
      ],
      "metadata": {
        "id": "XXNdOwT4yJjN"
      }
    },
    {
      "cell_type": "markdown",
      "metadata": {
        "id": "HbQYH4s3JCnq"
      },
      "source": [
        "# Exercise 1\n",
        "\n",
        "Determine which of these points are on the curve \\\\(y^{2}\\\\)=\\\\(x^{3}\\\\)+5x+7:\n",
        "\n",
        "(2,4), (-1,-1), (18,77), (5,7)"
      ]
    },
    {
      "cell_type": "code",
      "execution_count": 9,
      "metadata": {
        "id": "C2uLgaBCJCnr"
      },
      "outputs": [],
      "source": [
        "# Exercise 1\n",
        "\n",
        "# (2,4), (-1,-1), (18,77), (5,7)\n",
        "# equation in python is: y**2 == x**3 + 5*x + 7"
      ]
    },
    {
      "cell_type": "code",
      "source": [
        "# Curve parameters\n",
        "a = 5\n",
        "b = 7\n",
        "\n",
        "# List of points to check\n",
        "points = [(2, 4), (-1, -1), (18, 77), (5, 7)]\n",
        "\n",
        "# Check each point\n",
        "for x, y in points:\n",
        "    left = y**2\n",
        "    right = x**3 + a*x + b\n",
        "    if left == right:\n",
        "        print(f\"Point ({x}, {y}) is ON the curve.\")\n",
        "    else:\n",
        "        print(f\"Point ({x}, {y}) is NOT on the curve.\")\n"
      ],
      "metadata": {
        "colab": {
          "base_uri": "https://localhost:8080/"
        },
        "id": "bGg7HfOByfan",
        "outputId": "c50d489c-c952-4a4f-8754-5a04904d3c3c"
      },
      "execution_count": 10,
      "outputs": [
        {
          "output_type": "stream",
          "name": "stdout",
          "text": [
            "Point (2, 4) is NOT on the curve.\n",
            "Point (-1, -1) is ON the curve.\n",
            "Point (18, 77) is ON the curve.\n",
            "Point (5, 7) is NOT on the curve.\n"
          ]
        }
      ]
    },
    {
      "cell_type": "markdown",
      "metadata": {
        "id": "rRxu4WdqJCnr"
      },
      "source": [
        "# Exercise 2\n",
        "\n",
        "Write the `__ne__` method for `Point`.\n",
        "\n",
        "#### Make [this test](/edit/code-ch02/ecc.py) pass: `ecc.py:PointTest:test_ne`"
      ]
    },
    {
      "cell_type": "code",
      "source": [
        "import importlib\n",
        "import ecc\n",
        "importlib.reload(ecc)"
      ],
      "metadata": {
        "colab": {
          "base_uri": "https://localhost:8080/"
        },
        "id": "70zqKVAu0oh2",
        "outputId": "1e2dc3f1-c8cb-4f43-a463-21bd33265f41"
      },
      "execution_count": 15,
      "outputs": [
        {
          "output_type": "execute_result",
          "data": {
            "text/plain": [
              "<module 'ecc' from '/content/programmingbitcoin/code-ch02/ecc.py'>"
            ]
          },
          "metadata": {},
          "execution_count": 15
        }
      ]
    },
    {
      "cell_type": "markdown",
      "source": [
        "issue: running notebook with new kernel loads old, unedited, ecc file."
      ],
      "metadata": {
        "id": "iRwbMt4E73--"
      }
    },
    {
      "cell_type": "code",
      "source": [
        "ls"
      ],
      "metadata": {
        "colab": {
          "base_uri": "https://localhost:8080/"
        },
        "id": "CKVq7KcI8qn5",
        "outputId": "bb0f4997-c9c6-4564-f884-4c9165dc13c0"
      },
      "execution_count": 17,
      "outputs": [
        {
          "output_type": "stream",
          "name": "stdout",
          "text": [
            "answers.py      ecc.py       helper.py    \u001b[0m\u001b[01;34m__pycache__\u001b[0m/\n",
            "Chapter2.ipynb  examples.py  jupyter.txt\n"
          ]
        }
      ]
    },
    {
      "cell_type": "code",
      "execution_count": 16,
      "metadata": {
        "id": "Zj5xgcz0JCns",
        "colab": {
          "base_uri": "https://localhost:8080/"
        },
        "outputId": "898486c7-e9ef-4bb2-d8e8-6e22cd5db18e"
      },
      "outputs": [
        {
          "output_type": "stream",
          "name": "stderr",
          "text": [
            "E\n",
            "======================================================================\n",
            "ERROR: test_ne (ecc.PointTest.test_ne)\n",
            "----------------------------------------------------------------------\n",
            "Traceback (most recent call last):\n",
            "  File \"/content/programmingbitcoin/code-ch02/ecc.py\", line 188, in test_ne\n",
            "    self.assertTrue(a != b)\n",
            "                    ^^^^^^\n",
            "  File \"/content/programmingbitcoin/code-ch02/ecc.py\", line 145, in __ne__\n",
            "    raise NotImplementedError\n",
            "NotImplementedError\n",
            "\n",
            "----------------------------------------------------------------------\n",
            "Ran 1 test in 0.001s\n",
            "\n",
            "FAILED (errors=1)\n"
          ]
        }
      ],
      "source": [
        "# Exercise 2\n",
        "\n",
        "reload(ecc)\n",
        "run(ecc.PointTest(\"test_ne\"))"
      ]
    },
    {
      "cell_type": "markdown",
      "source": [
        "The purpose of definiing the method `__ne__` as we have is to avoid writing the entire definition, we're using the same logic definied with `__eq__`."
      ],
      "metadata": {
        "id": "TWYzTXVz2421"
      }
    },
    {
      "cell_type": "markdown",
      "source": [
        "Commutative addition: adding point A to B gives the same result as adding point B to point A. Elliptic curves use 'point addition' which adds two points that are on the curves to give a third point on also on the curve.\n",
        "\n",
        "lines on a curve can intercept once or three times. It's also possible to intercept two times, where one of the two interceptions is tangent to the curve. The other case is when the line is vertical, and therefore must intercet at two points.\n",
        "\n",
        "Point addition can be not easily predictable.\n",
        "\n",
        "Point addition satisfies identity, commutativity, associativity, invertibility."
      ],
      "metadata": {
        "id": "jIDdR48d3aPm"
      }
    },
    {
      "cell_type": "code",
      "execution_count": 13,
      "metadata": {
        "id": "ucbohXmmJCns",
        "colab": {
          "base_uri": "https://localhost:8080/",
          "height": 332
        },
        "outputId": "2120b44d-b152-4f0e-9b3a-2f3a8e0f1efb"
      },
      "outputs": [
        {
          "output_type": "stream",
          "name": "stdout",
          "text": [
            "Point(-1,-1)_5_7\n",
            "Point(-1,1)_5_7\n"
          ]
        },
        {
          "output_type": "error",
          "ename": "NotImplementedError",
          "evalue": "",
          "traceback": [
            "\u001b[0;31m---------------------------------------------------------------------------\u001b[0m",
            "\u001b[0;31mNotImplementedError\u001b[0m                       Traceback (most recent call last)",
            "\u001b[0;32m<ipython-input-13-f18cc6e4c0fa>\u001b[0m in \u001b[0;36m<cell line: 0>\u001b[0;34m()\u001b[0m\n\u001b[1;32m      5\u001b[0m \u001b[0mprint\u001b[0m\u001b[0;34m(\u001b[0m\u001b[0mp1\u001b[0m \u001b[0;34m+\u001b[0m \u001b[0minf\u001b[0m\u001b[0;34m)\u001b[0m\u001b[0;34m\u001b[0m\u001b[0;34m\u001b[0m\u001b[0m\n\u001b[1;32m      6\u001b[0m \u001b[0mprint\u001b[0m\u001b[0;34m(\u001b[0m\u001b[0minf\u001b[0m \u001b[0;34m+\u001b[0m \u001b[0mp2\u001b[0m\u001b[0;34m)\u001b[0m\u001b[0;34m\u001b[0m\u001b[0;34m\u001b[0m\u001b[0m\n\u001b[0;32m----> 7\u001b[0;31m \u001b[0mprint\u001b[0m\u001b[0;34m(\u001b[0m\u001b[0mp1\u001b[0m \u001b[0;34m+\u001b[0m \u001b[0mp2\u001b[0m\u001b[0;34m)\u001b[0m\u001b[0;34m\u001b[0m\u001b[0;34m\u001b[0m\u001b[0m\n\u001b[0m",
            "\u001b[0;32m/content/programmingbitcoin/code-ch02/ecc.py\u001b[0m in \u001b[0;36m__add__\u001b[0;34m(self, other)\u001b[0m\n\u001b[1;32m    178\u001b[0m         \u001b[0;31m# y3=s*(x1-x3)-y1\u001b[0m\u001b[0;34m\u001b[0m\u001b[0;34m\u001b[0m\u001b[0m\n\u001b[1;32m    179\u001b[0m \u001b[0;34m\u001b[0m\u001b[0m\n\u001b[0;32m--> 180\u001b[0;31m         \u001b[0;32mraise\u001b[0m \u001b[0mNotImplementedError\u001b[0m\u001b[0;34m\u001b[0m\u001b[0;34m\u001b[0m\u001b[0m\n\u001b[0m\u001b[1;32m    181\u001b[0m \u001b[0;34m\u001b[0m\u001b[0m\n\u001b[1;32m    182\u001b[0m \u001b[0;34m\u001b[0m\u001b[0m\n",
            "\u001b[0;31mNotImplementedError\u001b[0m: "
          ]
        }
      ],
      "source": [
        "from ecc import Point\n",
        "p1 = Point(-1, -1, 5, 7)\n",
        "p2 = Point(-1, 1, 5, 7)\n",
        "inf = Point(None, None, 5, 7)\n",
        "print(p1 + inf)\n",
        "print(inf + p2)\n",
        "print(p1 + p2)"
      ]
    },
    {
      "cell_type": "markdown",
      "metadata": {
        "id": "Cq7t353DJCns"
      },
      "source": [
        "# Exercise 3\n",
        "\n",
        "Handle the case where the two points are additive inverses. That is, they have the same `x`, but a different `y`, causing a vertical line. This should return the point at infinity.\n",
        "\n",
        "#### Make [this test](/edit/code-ch02/ecc.py) pass: `ecc.py:PointTest:test_add0`"
      ]
    },
    {
      "cell_type": "code",
      "execution_count": null,
      "metadata": {
        "id": "YE8u3mxqJCnt"
      },
      "outputs": [],
      "source": [
        "# Exercise 3\n",
        "\n",
        "reload(ecc)\n",
        "run(ecc.PointTest(\"test_add0\"))"
      ]
    },
    {
      "cell_type": "markdown",
      "metadata": {
        "id": "6l1J4eShJCnt"
      },
      "source": [
        "# Exercise 4\n",
        "\n",
        "For the curve \\\\(y^{2}\\\\)=\\\\(x^{3}\\\\)+5x+7, what is (2,5) + (-1,-1)?"
      ]
    },
    {
      "cell_type": "code",
      "execution_count": null,
      "metadata": {
        "id": "PU-5IxFxJCnt"
      },
      "outputs": [],
      "source": [
        "# Exercise 4\n",
        "\n",
        "from ecc import Point\n",
        "\n",
        "a = 5\n",
        "b = 7\n",
        "x1, y1 = 2, 5\n",
        "x2, y2 = -1, -1\n",
        "\n",
        "# (x1,y1) + (x2,y2)"
      ]
    },
    {
      "cell_type": "markdown",
      "metadata": {
        "id": "kLyWoPikJCnt"
      },
      "source": [
        "# Exercise 5\n",
        "\n",
        "Write the `__add__` method where \\\\(x_{1}\\\\)≠\\\\(x_{2}\\\\)\n",
        "\n",
        "#### Make [this test](/edit/code-ch02/ecc.py) pass: `ecc.py:PointTest:test_add1`"
      ]
    },
    {
      "cell_type": "code",
      "execution_count": null,
      "metadata": {
        "id": "MdQTd-URJCnu"
      },
      "outputs": [],
      "source": [
        "# Exercise 5\n",
        "\n",
        "reload(ecc)\n",
        "run(ecc.PointTest(\"test_add1\"))"
      ]
    },
    {
      "cell_type": "markdown",
      "metadata": {
        "id": "bqA0YkF5JCnu"
      },
      "source": [
        "# Exercise 6\n",
        "\n",
        "For the curve \\\\(y^{2}\\\\)=\\\\(x^{3}\\\\)+5x+7, what is (-1,-1) + (-1,-1)?"
      ]
    },
    {
      "cell_type": "code",
      "execution_count": null,
      "metadata": {
        "id": "jQBGjBswJCnu"
      },
      "outputs": [],
      "source": [
        "# Exercise 6\n",
        "\n",
        "from ecc import Point\n",
        "\n",
        "a = 5\n",
        "b = 7\n",
        "x1, y1 = -1, -1\n",
        "# (-1,-1) + (-1,-1)"
      ]
    },
    {
      "cell_type": "markdown",
      "metadata": {
        "id": "kSDEuZQ_JCnu"
      },
      "source": [
        "# Exercise 7\n",
        "\n",
        "Write the `__add__` method when \\\\(P_{1}\\\\)=\\\\(P_{2}\\\\).\n",
        "\n",
        "#### Make [this test](/edit/code-ch02/ecc.py) pass: `ecc.py:PointTest:test_add2`"
      ]
    },
    {
      "cell_type": "code",
      "execution_count": null,
      "metadata": {
        "id": "mOdMotw9JCnu"
      },
      "outputs": [],
      "source": [
        "# Exercise 7\n",
        "\n",
        "reload(ecc)\n",
        "run(ecc.PointTest(\"test_add2\"))"
      ]
    }
  ],
  "metadata": {
    "colab": {
      "provenance": [],
      "include_colab_link": true
    },
    "language_info": {
      "name": "python"
    },
    "kernelspec": {
      "name": "python3",
      "display_name": "Python 3"
    }
  },
  "nbformat": 4,
  "nbformat_minor": 0
}