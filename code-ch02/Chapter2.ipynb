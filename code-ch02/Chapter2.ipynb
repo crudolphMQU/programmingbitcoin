{
  "cells": [
    {
      "cell_type": "markdown",
      "metadata": {
        "id": "view-in-github",
        "colab_type": "text"
      },
      "source": [
        "<a href=\"https://colab.research.google.com/github/crudolphMQU/programmingbitcoin/blob/master/code-ch02/Chapter2.ipynb\" target=\"_parent\"><img src=\"https://colab.research.google.com/assets/colab-badge.svg\" alt=\"Open In Colab\"/></a>"
      ]
    },
    {
      "cell_type": "markdown",
      "source": [
        "# How to use colab with 'Programming Bitcoin'\n",
        "\n"
      ],
      "metadata": {
        "id": "9UQlRRaPDgrn"
      }
    },
    {
      "cell_type": "markdown",
      "source": [
        "## Notes on saving files to GitHub via Colab\n",
        "\n",
        "Saving to GitHub from Colab **only saves the notebook**, not any additional files.\n",
        "\n",
        "When you edit the `ecc.py` file in your Colab instance, you should **also update it directly in your GitHub repository**. Editing it in Colab allows you to continue working in the same session, but if you start a new runtime later, those changes will not persist unless they are committed to GitHub.\n",
        "\n",
        "Simply uploading the `ecc` file to GitHub often doesn't work as expected. Instead, you should **edit the file directly in the appropriate folder of your repository on GitHub**.\n",
        "\n",
        "After deleting the runtime and restarting the notebook, you'll get the most up-to-date version of `ecc.py` from GitHub. If you don't update it properly, you may encounter errors when running the notebook in a new runtime.\n",
        "\n",
        "Whenever you make changes to `ecc.py`, reload it using the following code:\n",
        "\n",
        "```python\n",
        "import importlib\n",
        "import ecc\n",
        "import importlib.reload(ecc)\n",
        "```\n",
        "\n",
        "When saving a copy of your notebook to GitHub, make sure to **specify the correct folder path**. For example, for this chapter:\n",
        "\n",
        "```\n",
        "File > Save a copy in GitHub > Choose your repository > Filepath: code-ch02/Chapter2.ipynb\n",
        "```\n"
      ],
      "metadata": {
        "id": "J3q2S8YyDjWE"
      }
    },
    {
      "cell_type": "markdown",
      "source": [
        "## ✅ Step-by-step instructions: Saving files to GitHub via Colab\n",
        "\n",
        "### 1️⃣ Understand what gets saved\n",
        "\n",
        "- When you use **File → Save a copy in GitHub**, only the notebook file (`.ipynb`) is saved.\n",
        "- Other files you edit in Colab (like `ecc.py`) **do not get automatically saved to GitHub**.\n",
        "\n",
        "---\n",
        "\n",
        "### 2️⃣ Update `ecc.py` manually\n",
        "\n",
        "- If you edit `ecc.py` in Colab, you **must also update it directly in your GitHub repository**.\n",
        "- You can do this by:\n",
        "  - Editing the file directly on GitHub (recommended), or\n",
        "  - Uploading via the GitHub web interface (make sure to place it in the correct folder).\n",
        "\n",
        "---\n",
        "\n",
        "### 3️⃣ Check the correct file path when saving notebooks\n",
        "\n",
        "- When saving your notebook to GitHub, always specify the correct path.\n",
        "- Example:\n"
      ],
      "metadata": {
        "id": "Zw-LYznH08yP"
      }
    },
    {
      "cell_type": "markdown",
      "source": [
        "# set up and imports"
      ],
      "metadata": {
        "id": "pRIHmbQMTySh"
      }
    },
    {
      "cell_type": "code",
      "source": [
        "!git clone https://github.com/crudolphMQU/programmingbitcoin"
      ],
      "metadata": {
        "id": "DP0q7Tn8JDgA",
        "outputId": "f944b995-d698-4656-8f5b-fe9b8096bfcb",
        "colab": {
          "base_uri": "https://localhost:8080/"
        }
      },
      "execution_count": 1,
      "outputs": [
        {
          "output_type": "stream",
          "name": "stdout",
          "text": [
            "fatal: destination path 'programmingbitcoin' already exists and is not an empty directory.\n"
          ]
        }
      ]
    },
    {
      "cell_type": "code",
      "source": [
        "ls"
      ],
      "metadata": {
        "colab": {
          "base_uri": "https://localhost:8080/"
        },
        "id": "Fu04y40xTKM9",
        "outputId": "f9601487-5f38-4441-903b-d7d5c12521cf"
      },
      "execution_count": 2,
      "outputs": [
        {
          "output_type": "stream",
          "name": "stdout",
          "text": [
            "\u001b[0m\u001b[01;34mprogrammingbitcoin\u001b[0m/  \u001b[01;34msample_data\u001b[0m/\n"
          ]
        }
      ]
    },
    {
      "cell_type": "code",
      "source": [
        "cd programmingbitcoin/code-ch02"
      ],
      "metadata": {
        "colab": {
          "base_uri": "https://localhost:8080/"
        },
        "id": "cSiI-5CuTLCB",
        "outputId": "9fd5f60e-109d-4220-9ef4-4ee20e50e0f0"
      },
      "execution_count": 3,
      "outputs": [
        {
          "output_type": "stream",
          "name": "stdout",
          "text": [
            "/content/programmingbitcoin/code-ch02\n"
          ]
        }
      ]
    },
    {
      "cell_type": "code",
      "source": [
        "!pip install virtualenv==20.17.1"
      ],
      "metadata": {
        "colab": {
          "base_uri": "https://localhost:8080/"
        },
        "id": "Rsu8TSnTThVa",
        "outputId": "efc13504-4a77-4507-98bb-0e9ae2f99d4a"
      },
      "execution_count": 4,
      "outputs": [
        {
          "output_type": "stream",
          "name": "stdout",
          "text": [
            "Requirement already satisfied: virtualenv==20.17.1 in /usr/local/lib/python3.11/dist-packages (20.17.1)\n",
            "Requirement already satisfied: distlib<1,>=0.3.6 in /usr/local/lib/python3.11/dist-packages (from virtualenv==20.17.1) (0.3.9)\n",
            "Requirement already satisfied: filelock<4,>=3.4.1 in /usr/local/lib/python3.11/dist-packages (from virtualenv==20.17.1) (3.18.0)\n",
            "Requirement already satisfied: platformdirs<3,>=2.4 in /usr/local/lib/python3.11/dist-packages (from virtualenv==20.17.1) (2.6.2)\n"
          ]
        }
      ]
    },
    {
      "cell_type": "code",
      "source": [
        "!pip install -r /content/programmingbitcoin/requirements.txt"
      ],
      "metadata": {
        "colab": {
          "base_uri": "https://localhost:8080/"
        },
        "id": "FM6yVJPrTlqc",
        "outputId": "370dfaa7-5003-40a1-981a-79ec363e43cb"
      },
      "execution_count": 5,
      "outputs": [
        {
          "output_type": "stream",
          "name": "stdout",
          "text": [
            "Collecting jupyter (from -r /content/programmingbitcoin/requirements.txt (line 1))\n",
            "  Downloading jupyter-1.1.1-py2.py3-none-any.whl.metadata (2.0 kB)\n",
            "Requirement already satisfied: requests in /usr/local/lib/python3.11/dist-packages (from -r /content/programmingbitcoin/requirements.txt (line 2)) (2.32.3)\n",
            "Requirement already satisfied: notebook in /usr/local/lib/python3.11/dist-packages (from jupyter->-r /content/programmingbitcoin/requirements.txt (line 1)) (6.5.7)\n",
            "Requirement already satisfied: jupyter-console in /usr/local/lib/python3.11/dist-packages (from jupyter->-r /content/programmingbitcoin/requirements.txt (line 1)) (6.1.0)\n",
            "Requirement already satisfied: nbconvert in /usr/local/lib/python3.11/dist-packages (from jupyter->-r /content/programmingbitcoin/requirements.txt (line 1)) (7.16.6)\n",
            "Requirement already satisfied: ipykernel in /usr/local/lib/python3.11/dist-packages (from jupyter->-r /content/programmingbitcoin/requirements.txt (line 1)) (6.17.1)\n",
            "Requirement already satisfied: ipywidgets in /usr/local/lib/python3.11/dist-packages (from jupyter->-r /content/programmingbitcoin/requirements.txt (line 1)) (7.7.1)\n",
            "Collecting jupyterlab (from jupyter->-r /content/programmingbitcoin/requirements.txt (line 1))\n",
            "  Downloading jupyterlab-4.4.4-py3-none-any.whl.metadata (16 kB)\n",
            "Requirement already satisfied: charset-normalizer<4,>=2 in /usr/local/lib/python3.11/dist-packages (from requests->-r /content/programmingbitcoin/requirements.txt (line 2)) (3.4.2)\n",
            "Requirement already satisfied: idna<4,>=2.5 in /usr/local/lib/python3.11/dist-packages (from requests->-r /content/programmingbitcoin/requirements.txt (line 2)) (3.10)\n",
            "Requirement already satisfied: urllib3<3,>=1.21.1 in /usr/local/lib/python3.11/dist-packages (from requests->-r /content/programmingbitcoin/requirements.txt (line 2)) (2.4.0)\n",
            "Requirement already satisfied: certifi>=2017.4.17 in /usr/local/lib/python3.11/dist-packages (from requests->-r /content/programmingbitcoin/requirements.txt (line 2)) (2025.7.9)\n",
            "Requirement already satisfied: debugpy>=1.0 in /usr/local/lib/python3.11/dist-packages (from ipykernel->jupyter->-r /content/programmingbitcoin/requirements.txt (line 1)) (1.8.0)\n",
            "Requirement already satisfied: ipython>=7.23.1 in /usr/local/lib/python3.11/dist-packages (from ipykernel->jupyter->-r /content/programmingbitcoin/requirements.txt (line 1)) (7.34.0)\n",
            "Requirement already satisfied: jupyter-client>=6.1.12 in /usr/local/lib/python3.11/dist-packages (from ipykernel->jupyter->-r /content/programmingbitcoin/requirements.txt (line 1)) (6.1.12)\n",
            "Requirement already satisfied: matplotlib-inline>=0.1 in /usr/local/lib/python3.11/dist-packages (from ipykernel->jupyter->-r /content/programmingbitcoin/requirements.txt (line 1)) (0.1.7)\n",
            "Requirement already satisfied: nest-asyncio in /usr/local/lib/python3.11/dist-packages (from ipykernel->jupyter->-r /content/programmingbitcoin/requirements.txt (line 1)) (1.6.0)\n",
            "Requirement already satisfied: packaging in /usr/local/lib/python3.11/dist-packages (from ipykernel->jupyter->-r /content/programmingbitcoin/requirements.txt (line 1)) (24.2)\n",
            "Requirement already satisfied: psutil in /usr/local/lib/python3.11/dist-packages (from ipykernel->jupyter->-r /content/programmingbitcoin/requirements.txt (line 1)) (5.9.5)\n",
            "Requirement already satisfied: pyzmq>=17 in /usr/local/lib/python3.11/dist-packages (from ipykernel->jupyter->-r /content/programmingbitcoin/requirements.txt (line 1)) (24.0.1)\n",
            "Requirement already satisfied: tornado>=6.1 in /usr/local/lib/python3.11/dist-packages (from ipykernel->jupyter->-r /content/programmingbitcoin/requirements.txt (line 1)) (6.4.2)\n",
            "Requirement already satisfied: traitlets>=5.1.0 in /usr/local/lib/python3.11/dist-packages (from ipykernel->jupyter->-r /content/programmingbitcoin/requirements.txt (line 1)) (5.7.1)\n",
            "Requirement already satisfied: ipython-genutils~=0.2.0 in /usr/local/lib/python3.11/dist-packages (from ipywidgets->jupyter->-r /content/programmingbitcoin/requirements.txt (line 1)) (0.2.0)\n",
            "Requirement already satisfied: widgetsnbextension~=3.6.0 in /usr/local/lib/python3.11/dist-packages (from ipywidgets->jupyter->-r /content/programmingbitcoin/requirements.txt (line 1)) (3.6.10)\n",
            "Requirement already satisfied: jupyterlab-widgets>=1.0.0 in /usr/local/lib/python3.11/dist-packages (from ipywidgets->jupyter->-r /content/programmingbitcoin/requirements.txt (line 1)) (3.0.15)\n",
            "Requirement already satisfied: prompt-toolkit!=3.0.0,!=3.0.1,<3.1.0,>=2.0.0 in /usr/local/lib/python3.11/dist-packages (from jupyter-console->jupyter->-r /content/programmingbitcoin/requirements.txt (line 1)) (3.0.51)\n",
            "Requirement already satisfied: pygments in /usr/local/lib/python3.11/dist-packages (from jupyter-console->jupyter->-r /content/programmingbitcoin/requirements.txt (line 1)) (2.19.2)\n",
            "Collecting async-lru>=1.0.0 (from jupyterlab->jupyter->-r /content/programmingbitcoin/requirements.txt (line 1))\n",
            "  Downloading async_lru-2.0.5-py3-none-any.whl.metadata (4.5 kB)\n",
            "Requirement already satisfied: httpx>=0.25.0 in /usr/local/lib/python3.11/dist-packages (from jupyterlab->jupyter->-r /content/programmingbitcoin/requirements.txt (line 1)) (0.28.1)\n",
            "Requirement already satisfied: jinja2>=3.0.3 in /usr/local/lib/python3.11/dist-packages (from jupyterlab->jupyter->-r /content/programmingbitcoin/requirements.txt (line 1)) (3.1.6)\n",
            "Requirement already satisfied: jupyter-core in /usr/local/lib/python3.11/dist-packages (from jupyterlab->jupyter->-r /content/programmingbitcoin/requirements.txt (line 1)) (5.8.1)\n",
            "Collecting jupyter-lsp>=2.0.0 (from jupyterlab->jupyter->-r /content/programmingbitcoin/requirements.txt (line 1))\n",
            "  Downloading jupyter_lsp-2.2.5-py3-none-any.whl.metadata (1.8 kB)\n",
            "Collecting jupyter-server<3,>=2.4.0 (from jupyterlab->jupyter->-r /content/programmingbitcoin/requirements.txt (line 1))\n",
            "  Downloading jupyter_server-2.16.0-py3-none-any.whl.metadata (8.5 kB)\n",
            "Collecting jupyterlab-server<3,>=2.27.1 (from jupyterlab->jupyter->-r /content/programmingbitcoin/requirements.txt (line 1))\n",
            "  Downloading jupyterlab_server-2.27.3-py3-none-any.whl.metadata (5.9 kB)\n",
            "Requirement already satisfied: notebook-shim>=0.2 in /usr/local/lib/python3.11/dist-packages (from jupyterlab->jupyter->-r /content/programmingbitcoin/requirements.txt (line 1)) (0.2.4)\n",
            "Requirement already satisfied: setuptools>=41.1.0 in /usr/local/lib/python3.11/dist-packages (from jupyterlab->jupyter->-r /content/programmingbitcoin/requirements.txt (line 1)) (75.2.0)\n",
            "Requirement already satisfied: beautifulsoup4 in /usr/local/lib/python3.11/dist-packages (from nbconvert->jupyter->-r /content/programmingbitcoin/requirements.txt (line 1)) (4.13.4)\n",
            "Requirement already satisfied: bleach!=5.0.0 in /usr/local/lib/python3.11/dist-packages (from bleach[css]!=5.0.0->nbconvert->jupyter->-r /content/programmingbitcoin/requirements.txt (line 1)) (6.2.0)\n",
            "Requirement already satisfied: defusedxml in /usr/local/lib/python3.11/dist-packages (from nbconvert->jupyter->-r /content/programmingbitcoin/requirements.txt (line 1)) (0.7.1)\n",
            "Requirement already satisfied: jupyterlab-pygments in /usr/local/lib/python3.11/dist-packages (from nbconvert->jupyter->-r /content/programmingbitcoin/requirements.txt (line 1)) (0.3.0)\n",
            "Requirement already satisfied: markupsafe>=2.0 in /usr/local/lib/python3.11/dist-packages (from nbconvert->jupyter->-r /content/programmingbitcoin/requirements.txt (line 1)) (3.0.2)\n",
            "Requirement already satisfied: mistune<4,>=2.0.3 in /usr/local/lib/python3.11/dist-packages (from nbconvert->jupyter->-r /content/programmingbitcoin/requirements.txt (line 1)) (3.1.3)\n",
            "Requirement already satisfied: nbclient>=0.5.0 in /usr/local/lib/python3.11/dist-packages (from nbconvert->jupyter->-r /content/programmingbitcoin/requirements.txt (line 1)) (0.10.2)\n",
            "Requirement already satisfied: nbformat>=5.7 in /usr/local/lib/python3.11/dist-packages (from nbconvert->jupyter->-r /content/programmingbitcoin/requirements.txt (line 1)) (5.10.4)\n",
            "Requirement already satisfied: pandocfilters>=1.4.1 in /usr/local/lib/python3.11/dist-packages (from nbconvert->jupyter->-r /content/programmingbitcoin/requirements.txt (line 1)) (1.5.1)\n",
            "Requirement already satisfied: argon2-cffi in /usr/local/lib/python3.11/dist-packages (from notebook->jupyter->-r /content/programmingbitcoin/requirements.txt (line 1)) (25.1.0)\n",
            "Requirement already satisfied: Send2Trash>=1.8.0 in /usr/local/lib/python3.11/dist-packages (from notebook->jupyter->-r /content/programmingbitcoin/requirements.txt (line 1)) (1.8.3)\n",
            "Requirement already satisfied: terminado>=0.8.3 in /usr/local/lib/python3.11/dist-packages (from notebook->jupyter->-r /content/programmingbitcoin/requirements.txt (line 1)) (0.18.1)\n",
            "Requirement already satisfied: prometheus-client in /usr/local/lib/python3.11/dist-packages (from notebook->jupyter->-r /content/programmingbitcoin/requirements.txt (line 1)) (0.22.1)\n",
            "Requirement already satisfied: nbclassic>=0.4.7 in /usr/local/lib/python3.11/dist-packages (from notebook->jupyter->-r /content/programmingbitcoin/requirements.txt (line 1)) (1.3.1)\n",
            "Requirement already satisfied: webencodings in /usr/local/lib/python3.11/dist-packages (from bleach!=5.0.0->bleach[css]!=5.0.0->nbconvert->jupyter->-r /content/programmingbitcoin/requirements.txt (line 1)) (0.5.1)\n",
            "Requirement already satisfied: tinycss2<1.5,>=1.1.0 in /usr/local/lib/python3.11/dist-packages (from bleach[css]!=5.0.0->nbconvert->jupyter->-r /content/programmingbitcoin/requirements.txt (line 1)) (1.4.0)\n",
            "Requirement already satisfied: anyio in /usr/local/lib/python3.11/dist-packages (from httpx>=0.25.0->jupyterlab->jupyter->-r /content/programmingbitcoin/requirements.txt (line 1)) (4.9.0)\n",
            "Requirement already satisfied: httpcore==1.* in /usr/local/lib/python3.11/dist-packages (from httpx>=0.25.0->jupyterlab->jupyter->-r /content/programmingbitcoin/requirements.txt (line 1)) (1.0.9)\n",
            "Requirement already satisfied: h11>=0.16 in /usr/local/lib/python3.11/dist-packages (from httpcore==1.*->httpx>=0.25.0->jupyterlab->jupyter->-r /content/programmingbitcoin/requirements.txt (line 1)) (0.16.0)\n",
            "Collecting jedi>=0.16 (from ipython>=7.23.1->ipykernel->jupyter->-r /content/programmingbitcoin/requirements.txt (line 1))\n",
            "  Downloading jedi-0.19.2-py2.py3-none-any.whl.metadata (22 kB)\n",
            "Requirement already satisfied: decorator in /usr/local/lib/python3.11/dist-packages (from ipython>=7.23.1->ipykernel->jupyter->-r /content/programmingbitcoin/requirements.txt (line 1)) (4.4.2)\n",
            "Requirement already satisfied: pickleshare in /usr/local/lib/python3.11/dist-packages (from ipython>=7.23.1->ipykernel->jupyter->-r /content/programmingbitcoin/requirements.txt (line 1)) (0.7.5)\n",
            "Requirement already satisfied: backcall in /usr/local/lib/python3.11/dist-packages (from ipython>=7.23.1->ipykernel->jupyter->-r /content/programmingbitcoin/requirements.txt (line 1)) (0.2.0)\n",
            "Requirement already satisfied: pexpect>4.3 in /usr/local/lib/python3.11/dist-packages (from ipython>=7.23.1->ipykernel->jupyter->-r /content/programmingbitcoin/requirements.txt (line 1)) (4.9.0)\n",
            "Requirement already satisfied: python-dateutil>=2.1 in /usr/local/lib/python3.11/dist-packages (from jupyter-client>=6.1.12->ipykernel->jupyter->-r /content/programmingbitcoin/requirements.txt (line 1)) (2.9.0.post0)\n",
            "Requirement already satisfied: platformdirs>=2.5 in /usr/local/lib/python3.11/dist-packages (from jupyter-core->jupyterlab->jupyter->-r /content/programmingbitcoin/requirements.txt (line 1)) (2.6.2)\n",
            "Collecting jupyter-client>=6.1.12 (from ipykernel->jupyter->-r /content/programmingbitcoin/requirements.txt (line 1))\n",
            "  Downloading jupyter_client-7.4.9-py3-none-any.whl.metadata (8.5 kB)\n",
            "Collecting jupyter-events>=0.11.0 (from jupyter-server<3,>=2.4.0->jupyterlab->jupyter->-r /content/programmingbitcoin/requirements.txt (line 1))\n",
            "  Downloading jupyter_events-0.12.0-py3-none-any.whl.metadata (5.8 kB)\n",
            "Collecting jupyter-server-terminals>=0.4.4 (from jupyter-server<3,>=2.4.0->jupyterlab->jupyter->-r /content/programmingbitcoin/requirements.txt (line 1))\n",
            "  Downloading jupyter_server_terminals-0.5.3-py3-none-any.whl.metadata (5.6 kB)\n",
            "Collecting overrides>=5.0 (from jupyter-server<3,>=2.4.0->jupyterlab->jupyter->-r /content/programmingbitcoin/requirements.txt (line 1))\n",
            "  Downloading overrides-7.7.0-py3-none-any.whl.metadata (5.8 kB)\n",
            "Requirement already satisfied: websocket-client>=1.7 in /usr/local/lib/python3.11/dist-packages (from jupyter-server<3,>=2.4.0->jupyterlab->jupyter->-r /content/programmingbitcoin/requirements.txt (line 1)) (1.8.0)\n",
            "Requirement already satisfied: argon2-cffi-bindings in /usr/local/lib/python3.11/dist-packages (from argon2-cffi->notebook->jupyter->-r /content/programmingbitcoin/requirements.txt (line 1)) (21.2.0)\n",
            "Requirement already satisfied: entrypoints in /usr/local/lib/python3.11/dist-packages (from jupyter-client>=6.1.12->ipykernel->jupyter->-r /content/programmingbitcoin/requirements.txt (line 1)) (0.4)\n",
            "Requirement already satisfied: babel>=2.10 in /usr/local/lib/python3.11/dist-packages (from jupyterlab-server<3,>=2.27.1->jupyterlab->jupyter->-r /content/programmingbitcoin/requirements.txt (line 1)) (2.17.0)\n",
            "Collecting json5>=0.9.0 (from jupyterlab-server<3,>=2.27.1->jupyterlab->jupyter->-r /content/programmingbitcoin/requirements.txt (line 1))\n",
            "  Downloading json5-0.12.0-py3-none-any.whl.metadata (36 kB)\n",
            "Requirement already satisfied: jsonschema>=4.18.0 in /usr/local/lib/python3.11/dist-packages (from jupyterlab-server<3,>=2.27.1->jupyterlab->jupyter->-r /content/programmingbitcoin/requirements.txt (line 1)) (4.24.0)\n",
            "Requirement already satisfied: fastjsonschema>=2.15 in /usr/local/lib/python3.11/dist-packages (from nbformat>=5.7->nbconvert->jupyter->-r /content/programmingbitcoin/requirements.txt (line 1)) (2.21.1)\n",
            "Requirement already satisfied: wcwidth in /usr/local/lib/python3.11/dist-packages (from prompt-toolkit!=3.0.0,!=3.0.1,<3.1.0,>=2.0.0->jupyter-console->jupyter->-r /content/programmingbitcoin/requirements.txt (line 1)) (0.2.13)\n",
            "Requirement already satisfied: ptyprocess in /usr/local/lib/python3.11/dist-packages (from terminado>=0.8.3->notebook->jupyter->-r /content/programmingbitcoin/requirements.txt (line 1)) (0.7.0)\n",
            "Requirement already satisfied: soupsieve>1.2 in /usr/local/lib/python3.11/dist-packages (from beautifulsoup4->nbconvert->jupyter->-r /content/programmingbitcoin/requirements.txt (line 1)) (2.7)\n",
            "Requirement already satisfied: typing-extensions>=4.0.0 in /usr/local/lib/python3.11/dist-packages (from beautifulsoup4->nbconvert->jupyter->-r /content/programmingbitcoin/requirements.txt (line 1)) (4.14.1)\n",
            "Requirement already satisfied: sniffio>=1.1 in /usr/local/lib/python3.11/dist-packages (from anyio->httpx>=0.25.0->jupyterlab->jupyter->-r /content/programmingbitcoin/requirements.txt (line 1)) (1.3.1)\n",
            "Requirement already satisfied: parso<0.9.0,>=0.8.4 in /usr/local/lib/python3.11/dist-packages (from jedi>=0.16->ipython>=7.23.1->ipykernel->jupyter->-r /content/programmingbitcoin/requirements.txt (line 1)) (0.8.4)\n",
            "Requirement already satisfied: attrs>=22.2.0 in /usr/local/lib/python3.11/dist-packages (from jsonschema>=4.18.0->jupyterlab-server<3,>=2.27.1->jupyterlab->jupyter->-r /content/programmingbitcoin/requirements.txt (line 1)) (25.3.0)\n",
            "Requirement already satisfied: jsonschema-specifications>=2023.03.6 in /usr/local/lib/python3.11/dist-packages (from jsonschema>=4.18.0->jupyterlab-server<3,>=2.27.1->jupyterlab->jupyter->-r /content/programmingbitcoin/requirements.txt (line 1)) (2025.4.1)\n",
            "Requirement already satisfied: referencing>=0.28.4 in /usr/local/lib/python3.11/dist-packages (from jsonschema>=4.18.0->jupyterlab-server<3,>=2.27.1->jupyterlab->jupyter->-r /content/programmingbitcoin/requirements.txt (line 1)) (0.36.2)\n",
            "Requirement already satisfied: rpds-py>=0.7.1 in /usr/local/lib/python3.11/dist-packages (from jsonschema>=4.18.0->jupyterlab-server<3,>=2.27.1->jupyterlab->jupyter->-r /content/programmingbitcoin/requirements.txt (line 1)) (0.26.0)\n",
            "Collecting python-json-logger>=2.0.4 (from jupyter-events>=0.11.0->jupyter-server<3,>=2.4.0->jupyterlab->jupyter->-r /content/programmingbitcoin/requirements.txt (line 1))\n",
            "  Downloading python_json_logger-3.3.0-py3-none-any.whl.metadata (4.0 kB)\n",
            "Requirement already satisfied: pyyaml>=5.3 in /usr/local/lib/python3.11/dist-packages (from jupyter-events>=0.11.0->jupyter-server<3,>=2.4.0->jupyterlab->jupyter->-r /content/programmingbitcoin/requirements.txt (line 1)) (6.0.2)\n",
            "Collecting rfc3339-validator (from jupyter-events>=0.11.0->jupyter-server<3,>=2.4.0->jupyterlab->jupyter->-r /content/programmingbitcoin/requirements.txt (line 1))\n",
            "  Downloading rfc3339_validator-0.1.4-py2.py3-none-any.whl.metadata (1.5 kB)\n",
            "Collecting rfc3986-validator>=0.1.1 (from jupyter-events>=0.11.0->jupyter-server<3,>=2.4.0->jupyterlab->jupyter->-r /content/programmingbitcoin/requirements.txt (line 1))\n",
            "  Downloading rfc3986_validator-0.1.1-py2.py3-none-any.whl.metadata (1.7 kB)\n",
            "Requirement already satisfied: six>=1.5 in /usr/local/lib/python3.11/dist-packages (from python-dateutil>=2.1->jupyter-client>=6.1.12->ipykernel->jupyter->-r /content/programmingbitcoin/requirements.txt (line 1)) (1.17.0)\n",
            "Requirement already satisfied: cffi>=1.0.1 in /usr/local/lib/python3.11/dist-packages (from argon2-cffi-bindings->argon2-cffi->notebook->jupyter->-r /content/programmingbitcoin/requirements.txt (line 1)) (1.17.1)\n",
            "Requirement already satisfied: pycparser in /usr/local/lib/python3.11/dist-packages (from cffi>=1.0.1->argon2-cffi-bindings->argon2-cffi->notebook->jupyter->-r /content/programmingbitcoin/requirements.txt (line 1)) (2.22)\n",
            "Collecting fqdn (from jsonschema[format-nongpl]>=4.18.0->jupyter-events>=0.11.0->jupyter-server<3,>=2.4.0->jupyterlab->jupyter->-r /content/programmingbitcoin/requirements.txt (line 1))\n",
            "  Downloading fqdn-1.5.1-py3-none-any.whl.metadata (1.4 kB)\n",
            "Collecting isoduration (from jsonschema[format-nongpl]>=4.18.0->jupyter-events>=0.11.0->jupyter-server<3,>=2.4.0->jupyterlab->jupyter->-r /content/programmingbitcoin/requirements.txt (line 1))\n",
            "  Downloading isoduration-20.11.0-py3-none-any.whl.metadata (5.7 kB)\n",
            "Requirement already satisfied: jsonpointer>1.13 in /usr/local/lib/python3.11/dist-packages (from jsonschema[format-nongpl]>=4.18.0->jupyter-events>=0.11.0->jupyter-server<3,>=2.4.0->jupyterlab->jupyter->-r /content/programmingbitcoin/requirements.txt (line 1)) (3.0.0)\n",
            "Collecting uri-template (from jsonschema[format-nongpl]>=4.18.0->jupyter-events>=0.11.0->jupyter-server<3,>=2.4.0->jupyterlab->jupyter->-r /content/programmingbitcoin/requirements.txt (line 1))\n",
            "  Downloading uri_template-1.3.0-py3-none-any.whl.metadata (8.8 kB)\n",
            "Requirement already satisfied: webcolors>=24.6.0 in /usr/local/lib/python3.11/dist-packages (from jsonschema[format-nongpl]>=4.18.0->jupyter-events>=0.11.0->jupyter-server<3,>=2.4.0->jupyterlab->jupyter->-r /content/programmingbitcoin/requirements.txt (line 1)) (24.11.1)\n",
            "Collecting arrow>=0.15.0 (from isoduration->jsonschema[format-nongpl]>=4.18.0->jupyter-events>=0.11.0->jupyter-server<3,>=2.4.0->jupyterlab->jupyter->-r /content/programmingbitcoin/requirements.txt (line 1))\n",
            "  Downloading arrow-1.3.0-py3-none-any.whl.metadata (7.5 kB)\n",
            "Collecting types-python-dateutil>=2.8.10 (from arrow>=0.15.0->isoduration->jsonschema[format-nongpl]>=4.18.0->jupyter-events>=0.11.0->jupyter-server<3,>=2.4.0->jupyterlab->jupyter->-r /content/programmingbitcoin/requirements.txt (line 1))\n",
            "  Downloading types_python_dateutil-2.9.0.20250708-py3-none-any.whl.metadata (1.9 kB)\n",
            "Downloading jupyter-1.1.1-py2.py3-none-any.whl (2.7 kB)\n",
            "Downloading jupyterlab-4.4.4-py3-none-any.whl (12.3 MB)\n",
            "\u001b[2K   \u001b[90m━━━━━━━━━━━━━━━━━━━━━━━━━━━━━━━━━━━━━━━━\u001b[0m \u001b[32m12.3/12.3 MB\u001b[0m \u001b[31m35.1 MB/s\u001b[0m eta \u001b[36m0:00:00\u001b[0m\n",
            "\u001b[?25hDownloading async_lru-2.0.5-py3-none-any.whl (6.1 kB)\n",
            "Downloading jupyter_lsp-2.2.5-py3-none-any.whl (69 kB)\n",
            "\u001b[2K   \u001b[90m━━━━━━━━━━━━━━━━━━━━━━━━━━━━━━━━━━━━━━━━\u001b[0m \u001b[32m69.1/69.1 kB\u001b[0m \u001b[31m5.1 MB/s\u001b[0m eta \u001b[36m0:00:00\u001b[0m\n",
            "\u001b[?25hDownloading jupyter_server-2.16.0-py3-none-any.whl (386 kB)\n",
            "\u001b[2K   \u001b[90m━━━━━━━━━━━━━━━━━━━━━━━━━━━━━━━━━━━━━━━━\u001b[0m \u001b[32m386.9/386.9 kB\u001b[0m \u001b[31m23.3 MB/s\u001b[0m eta \u001b[36m0:00:00\u001b[0m\n",
            "\u001b[?25hDownloading jupyter_client-7.4.9-py3-none-any.whl (133 kB)\n",
            "\u001b[2K   \u001b[90m━━━━━━━━━━━━━━━━━━━━━━━━━━━━━━━━━━━━━━━━\u001b[0m \u001b[32m133.5/133.5 kB\u001b[0m \u001b[31m9.1 MB/s\u001b[0m eta \u001b[36m0:00:00\u001b[0m\n",
            "\u001b[?25hDownloading jupyterlab_server-2.27.3-py3-none-any.whl (59 kB)\n",
            "\u001b[2K   \u001b[90m━━━━━━━━━━━━━━━━━━━━━━━━━━━━━━━━━━━━━━━━\u001b[0m \u001b[32m59.7/59.7 kB\u001b[0m \u001b[31m4.0 MB/s\u001b[0m eta \u001b[36m0:00:00\u001b[0m\n",
            "\u001b[?25hDownloading jedi-0.19.2-py2.py3-none-any.whl (1.6 MB)\n",
            "\u001b[2K   \u001b[90m━━━━━━━━━━━━━━━━━━━━━━━━━━━━━━━━━━━━━━━━\u001b[0m \u001b[32m1.6/1.6 MB\u001b[0m \u001b[31m63.1 MB/s\u001b[0m eta \u001b[36m0:00:00\u001b[0m\n",
            "\u001b[?25hDownloading json5-0.12.0-py3-none-any.whl (36 kB)\n",
            "Downloading jupyter_events-0.12.0-py3-none-any.whl (19 kB)\n",
            "Downloading jupyter_server_terminals-0.5.3-py3-none-any.whl (13 kB)\n",
            "Downloading overrides-7.7.0-py3-none-any.whl (17 kB)\n",
            "Downloading python_json_logger-3.3.0-py3-none-any.whl (15 kB)\n",
            "Downloading rfc3986_validator-0.1.1-py2.py3-none-any.whl (4.2 kB)\n",
            "Downloading rfc3339_validator-0.1.4-py2.py3-none-any.whl (3.5 kB)\n",
            "Downloading fqdn-1.5.1-py3-none-any.whl (9.1 kB)\n",
            "Downloading isoduration-20.11.0-py3-none-any.whl (11 kB)\n",
            "Downloading uri_template-1.3.0-py3-none-any.whl (11 kB)\n",
            "Downloading arrow-1.3.0-py3-none-any.whl (66 kB)\n",
            "\u001b[2K   \u001b[90m━━━━━━━━━━━━━━━━━━━━━━━━━━━━━━━━━━━━━━━━\u001b[0m \u001b[32m66.4/66.4 kB\u001b[0m \u001b[31m3.9 MB/s\u001b[0m eta \u001b[36m0:00:00\u001b[0m\n",
            "\u001b[?25hDownloading types_python_dateutil-2.9.0.20250708-py3-none-any.whl (17 kB)\n",
            "Installing collected packages: uri-template, types-python-dateutil, rfc3986-validator, rfc3339-validator, python-json-logger, overrides, json5, jedi, fqdn, async-lru, jupyter-server-terminals, jupyter-client, arrow, isoduration, jupyter-events, jupyter-server, jupyterlab-server, jupyter-lsp, jupyterlab, jupyter\n",
            "  Attempting uninstall: jupyter-client\n",
            "    Found existing installation: jupyter-client 6.1.12\n",
            "    Uninstalling jupyter-client-6.1.12:\n",
            "      Successfully uninstalled jupyter-client-6.1.12\n",
            "  Attempting uninstall: jupyter-server\n",
            "    Found existing installation: jupyter-server 1.16.0\n",
            "    Uninstalling jupyter-server-1.16.0:\n",
            "      Successfully uninstalled jupyter-server-1.16.0\n",
            "Successfully installed arrow-1.3.0 async-lru-2.0.5 fqdn-1.5.1 isoduration-20.11.0 jedi-0.19.2 json5-0.12.0 jupyter-1.1.1 jupyter-client-7.4.9 jupyter-events-0.12.0 jupyter-lsp-2.2.5 jupyter-server-2.16.0 jupyter-server-terminals-0.5.3 jupyterlab-4.4.4 jupyterlab-server-2.27.3 overrides-7.7.0 python-json-logger-3.3.0 rfc3339-validator-0.1.4 rfc3986-validator-0.1.1 types-python-dateutil-2.9.0.20250708 uri-template-1.3.0\n"
          ]
        }
      ]
    },
    {
      "cell_type": "code",
      "source": [
        "!pip install helper"
      ],
      "metadata": {
        "colab": {
          "base_uri": "https://localhost:8080/"
        },
        "id": "dMOuxwDhTodm",
        "outputId": "abecbc72-9c1f-49f1-f0dc-6d36c913de90"
      },
      "execution_count": 6,
      "outputs": [
        {
          "output_type": "stream",
          "name": "stdout",
          "text": [
            "Collecting helper\n",
            "  Downloading helper-2.5.0.tar.gz (18 kB)\n",
            "  Preparing metadata (setup.py) ... \u001b[?25l\u001b[?25hdone\n",
            "Requirement already satisfied: pyyaml in /usr/local/lib/python3.11/dist-packages (from helper) (6.0.2)\n",
            "Building wheels for collected packages: helper\n",
            "  Building wheel for helper (setup.py) ... \u001b[?25l\u001b[?25hdone\n",
            "  Created wheel for helper: filename=helper-2.5.0-py2.py3-none-any.whl size=19169 sha256=28cc087d71cbe248030bcdb8e3a8e7314f7a5434e6590d8d290f5fce41b056ca\n",
            "  Stored in directory: /root/.cache/pip/wheels/8b/ab/a7/06bcd4f2d89113bb7b0caaf5562aa209a27863d8cccb07a1bc\n",
            "Successfully built helper\n",
            "Installing collected packages: helper\n",
            "Successfully installed helper-2.5.0\n"
          ]
        }
      ]
    },
    {
      "cell_type": "code",
      "execution_count": 7,
      "metadata": {
        "id": "Ceff6QxRJCno"
      },
      "outputs": [],
      "source": [
        "############## PLEASE RUN THIS CELL FIRST! ###################\n",
        "\n",
        "# import everything and define a test runner function\n",
        "from importlib import reload\n",
        "import helper\n",
        "\n",
        "from helper import run\n",
        "import ecc\n",
        "\n",
        "from ecc import Point"
      ]
    },
    {
      "cell_type": "markdown",
      "source": [
        "Using the curve in fig 2-9\n",
        "\n",
        "$y^2 = x^3 + 5x + 7$\n",
        "\n",
        "defined in general form in the `ecc.py` file, we're interested in the following points:"
      ],
      "metadata": {
        "id": "PTXWFOziVUYr"
      }
    },
    {
      "cell_type": "code",
      "execution_count": 8,
      "metadata": {
        "id": "g0cT-KOqJCnq"
      },
      "outputs": [],
      "source": [
        "from ecc import Point\n",
        "p1 = Point(-1, -1, 5, 7)\n",
        "# p2 = Point(-1, -2, 5, 7)"
      ]
    },
    {
      "cell_type": "markdown",
      "source": [
        "running p2 will raise the ValueError from the ecc file advising the point is not on the curve. p2 is simply written to show that it is not on the curve, no need to change"
      ],
      "metadata": {
        "id": "XXNdOwT4yJjN"
      }
    },
    {
      "cell_type": "markdown",
      "metadata": {
        "id": "HbQYH4s3JCnq"
      },
      "source": [
        "# Exercise 1\n",
        "\n",
        "Determine which of these points are on the curve \\\\(y^{2}\\\\)=\\\\(x^{3}\\\\)+5x+7:\n",
        "\n",
        "(2,4), (-1,-1), (18,77), (5,7)"
      ]
    },
    {
      "cell_type": "code",
      "execution_count": 9,
      "metadata": {
        "id": "C2uLgaBCJCnr"
      },
      "outputs": [],
      "source": [
        "# Exercise 1\n",
        "\n",
        "# (2,4), (-1,-1), (18,77), (5,7)\n",
        "# equation in python is: y**2 == x**3 + 5*x + 7"
      ]
    },
    {
      "cell_type": "code",
      "source": [
        "# Curve parameters\n",
        "a = 5\n",
        "b = 7\n",
        "\n",
        "# List of points to check\n",
        "points = [(2, 4), (-1, -1), (18, 77), (5, 7)]\n",
        "\n",
        "# Check each point\n",
        "for x, y in points:\n",
        "    left = y**2\n",
        "    right = x**3 + a*x + b\n",
        "    if left == right:\n",
        "        print(f\"Point ({x}, {y}) is ON the curve.\")\n",
        "    else:\n",
        "        print(f\"Point ({x}, {y}) is NOT on the curve.\")\n"
      ],
      "metadata": {
        "colab": {
          "base_uri": "https://localhost:8080/"
        },
        "id": "bGg7HfOByfan",
        "outputId": "5e709249-30c4-4506-aa8e-66fa643e922f"
      },
      "execution_count": 10,
      "outputs": [
        {
          "output_type": "stream",
          "name": "stdout",
          "text": [
            "Point (2, 4) is NOT on the curve.\n",
            "Point (-1, -1) is ON the curve.\n",
            "Point (18, 77) is ON the curve.\n",
            "Point (5, 7) is NOT on the curve.\n"
          ]
        }
      ]
    },
    {
      "cell_type": "markdown",
      "metadata": {
        "id": "rRxu4WdqJCnr"
      },
      "source": [
        "# Exercise 2\n",
        "\n",
        "Write the `__ne__` method for `Point`.\n",
        "\n",
        "#### Make [this test](/edit/code-ch02/ecc.py) pass: `ecc.py:PointTest:test_ne`"
      ]
    },
    {
      "cell_type": "code",
      "source": [
        "import importlib\n",
        "import ecc\n",
        "importlib.reload(ecc)"
      ],
      "metadata": {
        "colab": {
          "base_uri": "https://localhost:8080/"
        },
        "id": "70zqKVAu0oh2",
        "outputId": "85b6ad26-4e58-4685-af51-8be40dfaf7e6"
      },
      "execution_count": 11,
      "outputs": [
        {
          "output_type": "execute_result",
          "data": {
            "text/plain": [
              "<module 'ecc' from '/content/programmingbitcoin/code-ch02/ecc.py'>"
            ]
          },
          "metadata": {},
          "execution_count": 11
        }
      ]
    },
    {
      "cell_type": "code",
      "source": [
        "ls"
      ],
      "metadata": {
        "colab": {
          "base_uri": "https://localhost:8080/"
        },
        "id": "CKVq7KcI8qn5",
        "outputId": "a16126f6-7c52-4003-a1f3-79bb4b86beb7"
      },
      "execution_count": 12,
      "outputs": [
        {
          "output_type": "stream",
          "name": "stdout",
          "text": [
            "answers.py      ecc.py       helper.py    \u001b[0m\u001b[01;34m__pycache__\u001b[0m/\n",
            "Chapter2.ipynb  examples.py  jupyter.txt\n"
          ]
        }
      ]
    },
    {
      "cell_type": "code",
      "execution_count": 13,
      "metadata": {
        "id": "Zj5xgcz0JCns",
        "colab": {
          "base_uri": "https://localhost:8080/"
        },
        "outputId": "6f3d9088-d6d1-4cef-8f63-3b06ff9acced"
      },
      "outputs": [
        {
          "output_type": "stream",
          "name": "stderr",
          "text": [
            ".\n",
            "----------------------------------------------------------------------\n",
            "Ran 1 test in 0.001s\n",
            "\n",
            "OK\n"
          ]
        }
      ],
      "source": [
        "# Exercise 2\n",
        "\n",
        "reload(ecc)\n",
        "run(ecc.PointTest(\"test_ne\"))"
      ]
    },
    {
      "cell_type": "markdown",
      "source": [
        "The purpose of definiing the method `__ne__` in this way is to avoid writing the entire definition, we're using the same logic definied with `__eq__`."
      ],
      "metadata": {
        "id": "TWYzTXVz2421"
      }
    },
    {
      "cell_type": "markdown",
      "source": [
        "```python\n",
        "def __ne__(self, other):\n",
        "    return not (self == other)\n",
        "```"
      ],
      "metadata": {
        "id": "brBciln63v3b"
      }
    },
    {
      "cell_type": "markdown",
      "source": [
        "Commutative addition: adding point A to B gives the same result as adding point B to point A. Elliptic curves use 'point addition' which adds two points that are on the curves to give a third point on also on the curve.\n",
        "\n",
        "lines on a curve can intercept once or three times. It's also possible to intercept two times, where one of the two interceptions is tangent to the curve. The other case is when the line is vertical, and therefore must intercet at two points.\n",
        "\n",
        "Point addition can be not easily predictable.\n",
        "\n",
        "Point addition satisfies identity, commutativity, associativity, invertibility."
      ],
      "metadata": {
        "id": "jIDdR48d3aPm"
      }
    },
    {
      "cell_type": "markdown",
      "source": [
        "Coding point addition:\n",
        "1."
      ],
      "metadata": {
        "id": "9yHf6jqY7R8q"
      }
    },
    {
      "cell_type": "markdown",
      "source": [
        "`Inf` doesn't work well in python so we use `None`.\n",
        "\n",
        "We want the following to work\n",
        "\n",
        "```python\n",
        "\n",
        "p1 = Point(-1, -1, 5, 7)\n",
        "p2 = Point(-1, 1, 5, 7)\n",
        "inf = Point(None, None, 5, 7)\n",
        "print(p1 + inf)\n",
        "print(inf + p2)\n",
        "print(p1 + p2)\n",
        "\n",
        "```\n",
        "\n",
        "First change the `__init__` method to prevent checking the curve equation is satisfied when a point at inifity is provided.\n",
        "\n",
        "Secondly, overload the addition operator (` __add__`).\n",
        "\n",
        "**are methods contained in classes?(yes, but not sure if methods are limited to being contained in classes), `FieldElement` is a class, is `__init__` a method in the `Point` class? (yes)**"
      ],
      "metadata": {
        "id": "k5UDE4rx7hXD"
      }
    },
    {
      "cell_type": "code",
      "execution_count": 55,
      "metadata": {
        "id": "ucbohXmmJCns",
        "colab": {
          "base_uri": "https://localhost:8080/"
        },
        "outputId": "f211f013-9a35-43c4-d7ed-d4172c3d28b3"
      },
      "outputs": [
        {
          "output_type": "stream",
          "name": "stdout",
          "text": [
            "Point(-1,-1)_5_7\n"
          ]
        }
      ],
      "source": [
        "from ecc import Point\n",
        "p1 = Point(-1, -1, 5, 7)\n",
        "p2 = Point(-1, 1, 5, 7)\n",
        "inf = Point(None, None, 5, 7)\n",
        "\n",
        "print(p1 + inf)"
      ]
    },
    {
      "cell_type": "markdown",
      "source": [
        "Above output is p1 (itself). Adding inf to any point returns returns itself.\n",
        "\n",
        "This uses the *Identity* property of *Point Addition*:\n",
        "\n",
        "*I + A = A*\n",
        "\n",
        "Where *A* is point *A* and *I* is a point at inf.  "
      ],
      "metadata": {
        "id": "TfG81bCaA2FI"
      }
    },
    {
      "cell_type": "code",
      "source": [
        "print(inf + p2)"
      ],
      "metadata": {
        "colab": {
          "base_uri": "https://localhost:8080/"
        },
        "id": "1S-2YM_H_6Fe",
        "outputId": "8a4e985f-f240-4051-9930-14a986d76edd"
      },
      "execution_count": 16,
      "outputs": [
        {
          "output_type": "stream",
          "name": "stdout",
          "text": [
            "Point(-1,1)_5_7\n"
          ]
        }
      ]
    },
    {
      "cell_type": "markdown",
      "source": [
        "Testing the *Identity* property again with p2 is correct.\n",
        "\n",
        "To get the following point addition to work we have to understand what is going on. p1 and p2 have the same x coordinate but opposite y coordinate. This results in the **Case 1** (a point at infinity)"
      ],
      "metadata": {
        "id": "2Qu2D5TPCFte"
      }
    },
    {
      "cell_type": "code",
      "source": [
        "import importlib\n",
        "import ecc\n",
        "importlib.reload(ecc)\n",
        "\n",
        "from ecc import Point"
      ],
      "metadata": {
        "colab": {
          "base_uri": "https://localhost:8080/"
        },
        "id": "QwzqDcN_GZal",
        "outputId": "66720a16-eb48-4de9-c69f-a4823bf140d7"
      },
      "execution_count": 56,
      "outputs": [
        {
          "output_type": "execute_result",
          "data": {
            "text/plain": [
              "<module 'ecc' from '/content/programmingbitcoin/code-ch02/ecc.py'>"
            ]
          },
          "metadata": {},
          "execution_count": 56
        }
      ]
    },
    {
      "cell_type": "code",
      "source": [
        "print(p1 + p2)"
      ],
      "metadata": {
        "colab": {
          "base_uri": "https://localhost:8080/"
        },
        "id": "POmVmIJCGhMR",
        "outputId": "08a52218-03b5-4137-bda6-dd083c5be79f"
      },
      "execution_count": 57,
      "outputs": [
        {
          "output_type": "stream",
          "name": "stdout",
          "text": [
            "Point(infinity)\n"
          ]
        }
      ]
    },
    {
      "cell_type": "markdown",
      "source": [
        "It is important to import the updated `Point` class again"
      ],
      "metadata": {
        "id": "XYNfvhPbMiyJ"
      }
    },
    {
      "cell_type": "markdown",
      "metadata": {
        "id": "Cq7t353DJCns"
      },
      "source": [
        "# Exercise 3"
      ]
    },
    {
      "cell_type": "markdown",
      "source": [
        "\n",
        "Handle the case where the two points are additive inverses. That is, they have the same `x`, but a different `y`, causing a vertical line. This should return the point at infinity.\n",
        "\n",
        "#### Make [this test](/edit/code-ch02/ecc.py) pass: `ecc.py:PointTest:test_add0`"
      ],
      "metadata": {
        "id": "zcfCtkKNaKmH"
      }
    },
    {
      "cell_type": "markdown",
      "source": [
        "This was done in the previous exercise when we added p1 and p2, the x coordinate is the same, but the y coordinate is the inverse, which creates a vertical line."
      ],
      "metadata": {
        "id": "x8y6ZjChMxEF"
      }
    },
    {
      "cell_type": "code",
      "execution_count": 58,
      "metadata": {
        "id": "YE8u3mxqJCnt",
        "colab": {
          "base_uri": "https://localhost:8080/"
        },
        "outputId": "8529c979-7b0d-495d-86e7-6679cf6fd107"
      },
      "outputs": [
        {
          "output_type": "stream",
          "name": "stderr",
          "text": [
            ".\n",
            "----------------------------------------------------------------------\n",
            "Ran 1 test in 0.001s\n",
            "\n",
            "OK\n"
          ]
        }
      ],
      "source": [
        "# Exercise 3\n",
        "\n",
        "reload(ecc)\n",
        "run(ecc.PointTest(\"test_add0\"))"
      ]
    },
    {
      "cell_type": "markdown",
      "metadata": {
        "id": "6l1J4eShJCnt"
      },
      "source": [
        "# Exercise 4\n"
      ]
    },
    {
      "cell_type": "markdown",
      "source": [
        "For the curve \\\\(y^{2}\\\\)=\\\\(x^{3}\\\\)+5x+7, what is (2,5) + (-1,-1)?"
      ],
      "metadata": {
        "id": "iT3GmiHfaasB"
      }
    },
    {
      "cell_type": "code",
      "execution_count": null,
      "metadata": {
        "id": "PU-5IxFxJCnt"
      },
      "outputs": [],
      "source": [
        "# Exercise 4\n",
        "\n",
        "from ecc import Point\n",
        "\n",
        "a = 5\n",
        "b = 7\n",
        "x1, y1 = 2, 5\n",
        "x2, y2 = -1, -1\n",
        "\n",
        "# (x1,y1) + (x2,y2)"
      ]
    },
    {
      "cell_type": "markdown",
      "metadata": {
        "id": "kLyWoPikJCnt"
      },
      "source": [
        "# Exercise 5"
      ]
    },
    {
      "cell_type": "markdown",
      "source": [
        "Write the `__add__` method where \\\\(x_{1}\\\\)≠\\\\(x_{2}\\\\)\n",
        "\n",
        "#### Make [this test](/edit/code-ch02/ecc.py) pass: `ecc.py:PointTest:test_add1`"
      ],
      "metadata": {
        "id": "oe4RSZ6Kad5_"
      }
    },
    {
      "cell_type": "code",
      "execution_count": null,
      "metadata": {
        "id": "MdQTd-URJCnu"
      },
      "outputs": [],
      "source": [
        "# Exercise 5\n",
        "\n",
        "reload(ecc)\n",
        "run(ecc.PointTest(\"test_add1\"))"
      ]
    },
    {
      "cell_type": "markdown",
      "metadata": {
        "id": "bqA0YkF5JCnu"
      },
      "source": [
        "# Exercise 6\n"
      ]
    },
    {
      "cell_type": "markdown",
      "source": [
        "\n",
        "For the curve \\\\(y^{2}\\\\)=\\\\(x^{3}\\\\)+5x+7, what is (-1,-1) + (-1,-1)?"
      ],
      "metadata": {
        "id": "PEhT7mFBagYU"
      }
    },
    {
      "cell_type": "code",
      "execution_count": null,
      "metadata": {
        "id": "jQBGjBswJCnu"
      },
      "outputs": [],
      "source": [
        "# Exercise 6\n",
        "\n",
        "from ecc import Point\n",
        "\n",
        "a = 5\n",
        "b = 7\n",
        "x1, y1 = -1, -1\n",
        "# (-1,-1) + (-1,-1)"
      ]
    },
    {
      "cell_type": "markdown",
      "metadata": {
        "id": "kSDEuZQ_JCnu"
      },
      "source": [
        "# Exercise 7"
      ]
    },
    {
      "cell_type": "markdown",
      "source": [
        "Write the `__add__` method when \\\\(P_{1}\\\\)=\\\\(P_{2}\\\\).\n",
        "\n",
        "**Make [this test](/edit/code-ch02/ecc.py) pass: `ecc.py:PointTest:test_add2`**"
      ],
      "metadata": {
        "id": "e4vhLhROaikw"
      }
    },
    {
      "cell_type": "code",
      "execution_count": null,
      "metadata": {
        "id": "mOdMotw9JCnu"
      },
      "outputs": [],
      "source": [
        "# Exercise 7\n",
        "\n",
        "reload(ecc)\n",
        "run(ecc.PointTest(\"test_add2\"))"
      ]
    }
  ],
  "metadata": {
    "colab": {
      "provenance": [],
      "collapsed_sections": [
        "bqA0YkF5JCnu",
        "kSDEuZQ_JCnu"
      ],
      "toc_visible": true,
      "include_colab_link": true
    },
    "language_info": {
      "name": "python"
    },
    "kernelspec": {
      "name": "python3",
      "display_name": "Python 3"
    }
  },
  "nbformat": 4,
  "nbformat_minor": 0
}