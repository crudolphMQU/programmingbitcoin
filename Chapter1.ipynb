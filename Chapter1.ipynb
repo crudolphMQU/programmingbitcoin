{
  "cells": [
    {
      "cell_type": "markdown",
      "metadata": {
        "id": "view-in-github",
        "colab_type": "text"
      },
      "source": [
        "<a href=\"https://colab.research.google.com/github/crudolphMQU/programmingbitcoin/blob/master/Chapter1.ipynb\" target=\"_parent\"><img src=\"https://colab.research.google.com/assets/colab-badge.svg\" alt=\"Open In Colab\"/></a>"
      ]
    },
    {
      "cell_type": "code",
      "source": [
        "!git clone https://github.com/crudolphMQU/programmingbitcoin"
      ],
      "metadata": {
        "colab": {
          "base_uri": "https://localhost:8080/"
        },
        "id": "tlCz66Lkn7dF",
        "outputId": "12170a4f-e181-49b1-97b3-163e1a5b0f61"
      },
      "execution_count": 61,
      "outputs": [
        {
          "output_type": "stream",
          "name": "stdout",
          "text": [
            "Cloning into 'programmingbitcoin'...\n",
            "remote: Enumerating objects: 6383, done.\u001b[K\n",
            "remote: Counting objects: 100% (6/6), done.\u001b[K\n",
            "remote: Compressing objects: 100% (6/6), done.\u001b[K\n",
            "remote: Total 6383 (delta 2), reused 0 (delta 0), pack-reused 6377 (from 1)\u001b[K\n",
            "Receiving objects: 100% (6383/6383), 38.88 MiB | 24.67 MiB/s, done.\n",
            "Resolving deltas: 100% (4238/4238), done.\n"
          ]
        }
      ]
    },
    {
      "cell_type": "markdown",
      "source": [
        "### Set up\n",
        "\n",
        "Need to run these cells carefully, as it can change your directories which means you won't be accessing the correct files. An example is cloning another github repo within the same github repo. I decided to comment out htese cells as my modified `ecc.py` file essentially was getting buried, not allowing me to continue."
      ],
      "metadata": {
        "id": "8c6c4fEER6hx"
      }
    },
    {
      "cell_type": "markdown",
      "source": [
        "Check whether you're in the correct directory."
      ],
      "metadata": {
        "id": "ClNw23jLRw3d"
      }
    },
    {
      "cell_type": "markdown",
      "source": [
        "cd programmingbitcoin/"
      ],
      "metadata": {
        "id": "T9YEUvkRn657"
      }
    },
    {
      "cell_type": "code",
      "source": [
        "ls"
      ],
      "metadata": {
        "colab": {
          "base_uri": "https://localhost:8080/"
        },
        "id": "bs7WHwTO4mc8",
        "outputId": "39fea8f2-57cf-4a2f-8ddf-2a724c6b2279"
      },
      "execution_count": 62,
      "outputs": [
        {
          "output_type": "stream",
          "name": "stdout",
          "text": [
            "answers.py      ecc.py       helper.py    \u001b[0m\u001b[01;34mprogrammingbitcoin\u001b[0m/\n",
            "Chapter1.ipynb  examples.py  jupyter.txt  \u001b[01;34m__pycache__\u001b[0m/\n"
          ]
        }
      ]
    },
    {
      "cell_type": "markdown",
      "source": [
        "No need to pip install virtualenv as it's already installed in colab. However, we do need to upgdate it."
      ],
      "metadata": {
        "id": "ACaZNjQPq1bD"
      }
    },
    {
      "cell_type": "code",
      "source": [
        "!pip install virtualenv==20.17.1"
      ],
      "metadata": {
        "id": "OWidbatJrp8A",
        "colab": {
          "base_uri": "https://localhost:8080/"
        },
        "outputId": "491376bb-9ff0-4e18-d3b6-163635ad6509"
      },
      "execution_count": 63,
      "outputs": [
        {
          "output_type": "stream",
          "name": "stdout",
          "text": [
            "Requirement already satisfied: virtualenv==20.17.1 in /usr/local/lib/python3.11/dist-packages (20.17.1)\n",
            "Requirement already satisfied: distlib<1,>=0.3.6 in /usr/local/lib/python3.11/dist-packages (from virtualenv==20.17.1) (0.3.9)\n",
            "Requirement already satisfied: filelock<4,>=3.4.1 in /usr/local/lib/python3.11/dist-packages (from virtualenv==20.17.1) (3.17.0)\n",
            "Requirement already satisfied: platformdirs<3,>=2.4 in /usr/local/lib/python3.11/dist-packages (from virtualenv==20.17.1) (2.6.2)\n"
          ]
        }
      ]
    },
    {
      "cell_type": "markdown",
      "source": [
        "!virtualenv -p python3 .venv  # Create a virtual environment named '.venv'\n",
        "!source .venv/bin/activate  # Activate the virtual environment"
      ],
      "metadata": {
        "id": "qZxCCuTJqtTZ"
      }
    },
    {
      "cell_type": "code",
      "source": [
        "!pip install -r /content/programmingbitcoin/requirements.txt"
      ],
      "metadata": {
        "id": "T4Mhb7BsqiGM",
        "colab": {
          "base_uri": "https://localhost:8080/"
        },
        "outputId": "fdba5987-37a6-4fe0-d5cf-0b50c7ed2012"
      },
      "execution_count": 64,
      "outputs": [
        {
          "output_type": "stream",
          "name": "stdout",
          "text": [
            "Requirement already satisfied: jupyter in /usr/local/lib/python3.11/dist-packages (from -r /content/programmingbitcoin/requirements.txt (line 1)) (1.1.1)\n",
            "Requirement already satisfied: requests in /usr/local/lib/python3.11/dist-packages (from -r /content/programmingbitcoin/requirements.txt (line 2)) (2.32.3)\n",
            "Requirement already satisfied: notebook in /usr/local/lib/python3.11/dist-packages (from jupyter->-r /content/programmingbitcoin/requirements.txt (line 1)) (6.5.5)\n",
            "Requirement already satisfied: jupyter-console in /usr/local/lib/python3.11/dist-packages (from jupyter->-r /content/programmingbitcoin/requirements.txt (line 1)) (6.1.0)\n",
            "Requirement already satisfied: nbconvert in /usr/local/lib/python3.11/dist-packages (from jupyter->-r /content/programmingbitcoin/requirements.txt (line 1)) (7.16.6)\n",
            "Requirement already satisfied: ipykernel in /usr/local/lib/python3.11/dist-packages (from jupyter->-r /content/programmingbitcoin/requirements.txt (line 1)) (6.17.1)\n",
            "Requirement already satisfied: ipywidgets in /usr/local/lib/python3.11/dist-packages (from jupyter->-r /content/programmingbitcoin/requirements.txt (line 1)) (7.7.1)\n",
            "Requirement already satisfied: jupyterlab in /usr/local/lib/python3.11/dist-packages (from jupyter->-r /content/programmingbitcoin/requirements.txt (line 1)) (4.3.5)\n",
            "Requirement already satisfied: charset-normalizer<4,>=2 in /usr/local/lib/python3.11/dist-packages (from requests->-r /content/programmingbitcoin/requirements.txt (line 2)) (3.4.1)\n",
            "Requirement already satisfied: idna<4,>=2.5 in /usr/local/lib/python3.11/dist-packages (from requests->-r /content/programmingbitcoin/requirements.txt (line 2)) (3.10)\n",
            "Requirement already satisfied: urllib3<3,>=1.21.1 in /usr/local/lib/python3.11/dist-packages (from requests->-r /content/programmingbitcoin/requirements.txt (line 2)) (2.3.0)\n",
            "Requirement already satisfied: certifi>=2017.4.17 in /usr/local/lib/python3.11/dist-packages (from requests->-r /content/programmingbitcoin/requirements.txt (line 2)) (2025.1.31)\n",
            "Requirement already satisfied: debugpy>=1.0 in /usr/local/lib/python3.11/dist-packages (from ipykernel->jupyter->-r /content/programmingbitcoin/requirements.txt (line 1)) (1.8.0)\n",
            "Requirement already satisfied: ipython>=7.23.1 in /usr/local/lib/python3.11/dist-packages (from ipykernel->jupyter->-r /content/programmingbitcoin/requirements.txt (line 1)) (7.34.0)\n",
            "Requirement already satisfied: jupyter-client>=6.1.12 in /usr/local/lib/python3.11/dist-packages (from ipykernel->jupyter->-r /content/programmingbitcoin/requirements.txt (line 1)) (7.4.9)\n",
            "Requirement already satisfied: matplotlib-inline>=0.1 in /usr/local/lib/python3.11/dist-packages (from ipykernel->jupyter->-r /content/programmingbitcoin/requirements.txt (line 1)) (0.1.7)\n",
            "Requirement already satisfied: nest-asyncio in /usr/local/lib/python3.11/dist-packages (from ipykernel->jupyter->-r /content/programmingbitcoin/requirements.txt (line 1)) (1.6.0)\n",
            "Requirement already satisfied: packaging in /usr/local/lib/python3.11/dist-packages (from ipykernel->jupyter->-r /content/programmingbitcoin/requirements.txt (line 1)) (24.2)\n",
            "Requirement already satisfied: psutil in /usr/local/lib/python3.11/dist-packages (from ipykernel->jupyter->-r /content/programmingbitcoin/requirements.txt (line 1)) (5.9.5)\n",
            "Requirement already satisfied: pyzmq>=17 in /usr/local/lib/python3.11/dist-packages (from ipykernel->jupyter->-r /content/programmingbitcoin/requirements.txt (line 1)) (24.0.1)\n",
            "Requirement already satisfied: tornado>=6.1 in /usr/local/lib/python3.11/dist-packages (from ipykernel->jupyter->-r /content/programmingbitcoin/requirements.txt (line 1)) (6.4.2)\n",
            "Requirement already satisfied: traitlets>=5.1.0 in /usr/local/lib/python3.11/dist-packages (from ipykernel->jupyter->-r /content/programmingbitcoin/requirements.txt (line 1)) (5.7.1)\n",
            "Requirement already satisfied: ipython-genutils~=0.2.0 in /usr/local/lib/python3.11/dist-packages (from ipywidgets->jupyter->-r /content/programmingbitcoin/requirements.txt (line 1)) (0.2.0)\n",
            "Requirement already satisfied: widgetsnbextension~=3.6.0 in /usr/local/lib/python3.11/dist-packages (from ipywidgets->jupyter->-r /content/programmingbitcoin/requirements.txt (line 1)) (3.6.10)\n",
            "Requirement already satisfied: jupyterlab-widgets>=1.0.0 in /usr/local/lib/python3.11/dist-packages (from ipywidgets->jupyter->-r /content/programmingbitcoin/requirements.txt (line 1)) (3.0.13)\n",
            "Requirement already satisfied: prompt-toolkit!=3.0.0,!=3.0.1,<3.1.0,>=2.0.0 in /usr/local/lib/python3.11/dist-packages (from jupyter-console->jupyter->-r /content/programmingbitcoin/requirements.txt (line 1)) (3.0.50)\n",
            "Requirement already satisfied: pygments in /usr/local/lib/python3.11/dist-packages (from jupyter-console->jupyter->-r /content/programmingbitcoin/requirements.txt (line 1)) (2.18.0)\n",
            "Requirement already satisfied: async-lru>=1.0.0 in /usr/local/lib/python3.11/dist-packages (from jupyterlab->jupyter->-r /content/programmingbitcoin/requirements.txt (line 1)) (2.0.4)\n",
            "Requirement already satisfied: httpx>=0.25.0 in /usr/local/lib/python3.11/dist-packages (from jupyterlab->jupyter->-r /content/programmingbitcoin/requirements.txt (line 1)) (0.28.1)\n",
            "Requirement already satisfied: jinja2>=3.0.3 in /usr/local/lib/python3.11/dist-packages (from jupyterlab->jupyter->-r /content/programmingbitcoin/requirements.txt (line 1)) (3.1.5)\n",
            "Requirement already satisfied: jupyter-core in /usr/local/lib/python3.11/dist-packages (from jupyterlab->jupyter->-r /content/programmingbitcoin/requirements.txt (line 1)) (5.7.2)\n",
            "Requirement already satisfied: jupyter-lsp>=2.0.0 in /usr/local/lib/python3.11/dist-packages (from jupyterlab->jupyter->-r /content/programmingbitcoin/requirements.txt (line 1)) (2.2.5)\n",
            "Requirement already satisfied: jupyter-server<3,>=2.4.0 in /usr/local/lib/python3.11/dist-packages (from jupyterlab->jupyter->-r /content/programmingbitcoin/requirements.txt (line 1)) (2.15.0)\n",
            "Requirement already satisfied: jupyterlab-server<3,>=2.27.1 in /usr/local/lib/python3.11/dist-packages (from jupyterlab->jupyter->-r /content/programmingbitcoin/requirements.txt (line 1)) (2.27.3)\n",
            "Requirement already satisfied: notebook-shim>=0.2 in /usr/local/lib/python3.11/dist-packages (from jupyterlab->jupyter->-r /content/programmingbitcoin/requirements.txt (line 1)) (0.2.4)\n",
            "Requirement already satisfied: setuptools>=40.8.0 in /usr/local/lib/python3.11/dist-packages (from jupyterlab->jupyter->-r /content/programmingbitcoin/requirements.txt (line 1)) (75.1.0)\n",
            "Requirement already satisfied: beautifulsoup4 in /usr/local/lib/python3.11/dist-packages (from nbconvert->jupyter->-r /content/programmingbitcoin/requirements.txt (line 1)) (4.13.3)\n",
            "Requirement already satisfied: bleach!=5.0.0 in /usr/local/lib/python3.11/dist-packages (from bleach[css]!=5.0.0->nbconvert->jupyter->-r /content/programmingbitcoin/requirements.txt (line 1)) (6.2.0)\n",
            "Requirement already satisfied: defusedxml in /usr/local/lib/python3.11/dist-packages (from nbconvert->jupyter->-r /content/programmingbitcoin/requirements.txt (line 1)) (0.7.1)\n",
            "Requirement already satisfied: jupyterlab-pygments in /usr/local/lib/python3.11/dist-packages (from nbconvert->jupyter->-r /content/programmingbitcoin/requirements.txt (line 1)) (0.3.0)\n",
            "Requirement already satisfied: markupsafe>=2.0 in /usr/local/lib/python3.11/dist-packages (from nbconvert->jupyter->-r /content/programmingbitcoin/requirements.txt (line 1)) (3.0.2)\n",
            "Requirement already satisfied: mistune<4,>=2.0.3 in /usr/local/lib/python3.11/dist-packages (from nbconvert->jupyter->-r /content/programmingbitcoin/requirements.txt (line 1)) (3.1.1)\n",
            "Requirement already satisfied: nbclient>=0.5.0 in /usr/local/lib/python3.11/dist-packages (from nbconvert->jupyter->-r /content/programmingbitcoin/requirements.txt (line 1)) (0.10.2)\n",
            "Requirement already satisfied: nbformat>=5.7 in /usr/local/lib/python3.11/dist-packages (from nbconvert->jupyter->-r /content/programmingbitcoin/requirements.txt (line 1)) (5.10.4)\n",
            "Requirement already satisfied: pandocfilters>=1.4.1 in /usr/local/lib/python3.11/dist-packages (from nbconvert->jupyter->-r /content/programmingbitcoin/requirements.txt (line 1)) (1.5.1)\n",
            "Requirement already satisfied: argon2-cffi in /usr/local/lib/python3.11/dist-packages (from notebook->jupyter->-r /content/programmingbitcoin/requirements.txt (line 1)) (23.1.0)\n",
            "Requirement already satisfied: Send2Trash>=1.8.0 in /usr/local/lib/python3.11/dist-packages (from notebook->jupyter->-r /content/programmingbitcoin/requirements.txt (line 1)) (1.8.3)\n",
            "Requirement already satisfied: terminado>=0.8.3 in /usr/local/lib/python3.11/dist-packages (from notebook->jupyter->-r /content/programmingbitcoin/requirements.txt (line 1)) (0.18.1)\n",
            "Requirement already satisfied: prometheus-client in /usr/local/lib/python3.11/dist-packages (from notebook->jupyter->-r /content/programmingbitcoin/requirements.txt (line 1)) (0.21.1)\n",
            "Requirement already satisfied: nbclassic>=0.4.7 in /usr/local/lib/python3.11/dist-packages (from notebook->jupyter->-r /content/programmingbitcoin/requirements.txt (line 1)) (1.2.0)\n",
            "Requirement already satisfied: webencodings in /usr/local/lib/python3.11/dist-packages (from bleach!=5.0.0->bleach[css]!=5.0.0->nbconvert->jupyter->-r /content/programmingbitcoin/requirements.txt (line 1)) (0.5.1)\n",
            "Requirement already satisfied: tinycss2<1.5,>=1.1.0 in /usr/local/lib/python3.11/dist-packages (from bleach[css]!=5.0.0->nbconvert->jupyter->-r /content/programmingbitcoin/requirements.txt (line 1)) (1.4.0)\n",
            "Requirement already satisfied: anyio in /usr/local/lib/python3.11/dist-packages (from httpx>=0.25.0->jupyterlab->jupyter->-r /content/programmingbitcoin/requirements.txt (line 1)) (3.7.1)\n",
            "Requirement already satisfied: httpcore==1.* in /usr/local/lib/python3.11/dist-packages (from httpx>=0.25.0->jupyterlab->jupyter->-r /content/programmingbitcoin/requirements.txt (line 1)) (1.0.7)\n",
            "Requirement already satisfied: h11<0.15,>=0.13 in /usr/local/lib/python3.11/dist-packages (from httpcore==1.*->httpx>=0.25.0->jupyterlab->jupyter->-r /content/programmingbitcoin/requirements.txt (line 1)) (0.14.0)\n",
            "Requirement already satisfied: jedi>=0.16 in /usr/local/lib/python3.11/dist-packages (from ipython>=7.23.1->ipykernel->jupyter->-r /content/programmingbitcoin/requirements.txt (line 1)) (0.19.2)\n",
            "Requirement already satisfied: decorator in /usr/local/lib/python3.11/dist-packages (from ipython>=7.23.1->ipykernel->jupyter->-r /content/programmingbitcoin/requirements.txt (line 1)) (4.4.2)\n",
            "Requirement already satisfied: pickleshare in /usr/local/lib/python3.11/dist-packages (from ipython>=7.23.1->ipykernel->jupyter->-r /content/programmingbitcoin/requirements.txt (line 1)) (0.7.5)\n",
            "Requirement already satisfied: backcall in /usr/local/lib/python3.11/dist-packages (from ipython>=7.23.1->ipykernel->jupyter->-r /content/programmingbitcoin/requirements.txt (line 1)) (0.2.0)\n",
            "Requirement already satisfied: pexpect>4.3 in /usr/local/lib/python3.11/dist-packages (from ipython>=7.23.1->ipykernel->jupyter->-r /content/programmingbitcoin/requirements.txt (line 1)) (4.9.0)\n",
            "Requirement already satisfied: entrypoints in /usr/local/lib/python3.11/dist-packages (from jupyter-client>=6.1.12->ipykernel->jupyter->-r /content/programmingbitcoin/requirements.txt (line 1)) (0.4)\n",
            "Requirement already satisfied: python-dateutil>=2.8.2 in /usr/local/lib/python3.11/dist-packages (from jupyter-client>=6.1.12->ipykernel->jupyter->-r /content/programmingbitcoin/requirements.txt (line 1)) (2.8.2)\n",
            "Requirement already satisfied: platformdirs>=2.5 in /usr/local/lib/python3.11/dist-packages (from jupyter-core->jupyterlab->jupyter->-r /content/programmingbitcoin/requirements.txt (line 1)) (2.6.2)\n",
            "Requirement already satisfied: jupyter-events>=0.11.0 in /usr/local/lib/python3.11/dist-packages (from jupyter-server<3,>=2.4.0->jupyterlab->jupyter->-r /content/programmingbitcoin/requirements.txt (line 1)) (0.12.0)\n",
            "Requirement already satisfied: jupyter-server-terminals>=0.4.4 in /usr/local/lib/python3.11/dist-packages (from jupyter-server<3,>=2.4.0->jupyterlab->jupyter->-r /content/programmingbitcoin/requirements.txt (line 1)) (0.5.3)\n",
            "Requirement already satisfied: overrides>=5.0 in /usr/local/lib/python3.11/dist-packages (from jupyter-server<3,>=2.4.0->jupyterlab->jupyter->-r /content/programmingbitcoin/requirements.txt (line 1)) (7.7.0)\n",
            "Requirement already satisfied: websocket-client>=1.7 in /usr/local/lib/python3.11/dist-packages (from jupyter-server<3,>=2.4.0->jupyterlab->jupyter->-r /content/programmingbitcoin/requirements.txt (line 1)) (1.8.0)\n",
            "Requirement already satisfied: argon2-cffi-bindings in /usr/local/lib/python3.11/dist-packages (from argon2-cffi->notebook->jupyter->-r /content/programmingbitcoin/requirements.txt (line 1)) (21.2.0)\n",
            "Requirement already satisfied: babel>=2.10 in /usr/local/lib/python3.11/dist-packages (from jupyterlab-server<3,>=2.27.1->jupyterlab->jupyter->-r /content/programmingbitcoin/requirements.txt (line 1)) (2.17.0)\n",
            "Requirement already satisfied: json5>=0.9.0 in /usr/local/lib/python3.11/dist-packages (from jupyterlab-server<3,>=2.27.1->jupyterlab->jupyter->-r /content/programmingbitcoin/requirements.txt (line 1)) (0.10.0)\n",
            "Requirement already satisfied: jsonschema>=4.18.0 in /usr/local/lib/python3.11/dist-packages (from jupyterlab-server<3,>=2.27.1->jupyterlab->jupyter->-r /content/programmingbitcoin/requirements.txt (line 1)) (4.23.0)\n",
            "Requirement already satisfied: fastjsonschema>=2.15 in /usr/local/lib/python3.11/dist-packages (from nbformat>=5.7->nbconvert->jupyter->-r /content/programmingbitcoin/requirements.txt (line 1)) (2.21.1)\n",
            "Requirement already satisfied: wcwidth in /usr/local/lib/python3.11/dist-packages (from prompt-toolkit!=3.0.0,!=3.0.1,<3.1.0,>=2.0.0->jupyter-console->jupyter->-r /content/programmingbitcoin/requirements.txt (line 1)) (0.2.13)\n",
            "Requirement already satisfied: ptyprocess in /usr/local/lib/python3.11/dist-packages (from terminado>=0.8.3->notebook->jupyter->-r /content/programmingbitcoin/requirements.txt (line 1)) (0.7.0)\n",
            "Requirement already satisfied: soupsieve>1.2 in /usr/local/lib/python3.11/dist-packages (from beautifulsoup4->nbconvert->jupyter->-r /content/programmingbitcoin/requirements.txt (line 1)) (2.6)\n",
            "Requirement already satisfied: typing-extensions>=4.0.0 in /usr/local/lib/python3.11/dist-packages (from beautifulsoup4->nbconvert->jupyter->-r /content/programmingbitcoin/requirements.txt (line 1)) (4.12.2)\n",
            "Requirement already satisfied: sniffio>=1.1 in /usr/local/lib/python3.11/dist-packages (from anyio->httpx>=0.25.0->jupyterlab->jupyter->-r /content/programmingbitcoin/requirements.txt (line 1)) (1.3.1)\n",
            "Requirement already satisfied: parso<0.9.0,>=0.8.4 in /usr/local/lib/python3.11/dist-packages (from jedi>=0.16->ipython>=7.23.1->ipykernel->jupyter->-r /content/programmingbitcoin/requirements.txt (line 1)) (0.8.4)\n",
            "Requirement already satisfied: attrs>=22.2.0 in /usr/local/lib/python3.11/dist-packages (from jsonschema>=4.18.0->jupyterlab-server<3,>=2.27.1->jupyterlab->jupyter->-r /content/programmingbitcoin/requirements.txt (line 1)) (25.1.0)\n",
            "Requirement already satisfied: jsonschema-specifications>=2023.03.6 in /usr/local/lib/python3.11/dist-packages (from jsonschema>=4.18.0->jupyterlab-server<3,>=2.27.1->jupyterlab->jupyter->-r /content/programmingbitcoin/requirements.txt (line 1)) (2024.10.1)\n",
            "Requirement already satisfied: referencing>=0.28.4 in /usr/local/lib/python3.11/dist-packages (from jsonschema>=4.18.0->jupyterlab-server<3,>=2.27.1->jupyterlab->jupyter->-r /content/programmingbitcoin/requirements.txt (line 1)) (0.36.2)\n",
            "Requirement already satisfied: rpds-py>=0.7.1 in /usr/local/lib/python3.11/dist-packages (from jsonschema>=4.18.0->jupyterlab-server<3,>=2.27.1->jupyterlab->jupyter->-r /content/programmingbitcoin/requirements.txt (line 1)) (0.22.3)\n",
            "Requirement already satisfied: python-json-logger>=2.0.4 in /usr/local/lib/python3.11/dist-packages (from jupyter-events>=0.11.0->jupyter-server<3,>=2.4.0->jupyterlab->jupyter->-r /content/programmingbitcoin/requirements.txt (line 1)) (3.2.1)\n",
            "Requirement already satisfied: pyyaml>=5.3 in /usr/local/lib/python3.11/dist-packages (from jupyter-events>=0.11.0->jupyter-server<3,>=2.4.0->jupyterlab->jupyter->-r /content/programmingbitcoin/requirements.txt (line 1)) (6.0.2)\n",
            "Requirement already satisfied: rfc3339-validator in /usr/local/lib/python3.11/dist-packages (from jupyter-events>=0.11.0->jupyter-server<3,>=2.4.0->jupyterlab->jupyter->-r /content/programmingbitcoin/requirements.txt (line 1)) (0.1.4)\n",
            "Requirement already satisfied: rfc3986-validator>=0.1.1 in /usr/local/lib/python3.11/dist-packages (from jupyter-events>=0.11.0->jupyter-server<3,>=2.4.0->jupyterlab->jupyter->-r /content/programmingbitcoin/requirements.txt (line 1)) (0.1.1)\n",
            "Requirement already satisfied: six>=1.5 in /usr/local/lib/python3.11/dist-packages (from python-dateutil>=2.8.2->jupyter-client>=6.1.12->ipykernel->jupyter->-r /content/programmingbitcoin/requirements.txt (line 1)) (1.17.0)\n",
            "Requirement already satisfied: cffi>=1.0.1 in /usr/local/lib/python3.11/dist-packages (from argon2-cffi-bindings->argon2-cffi->notebook->jupyter->-r /content/programmingbitcoin/requirements.txt (line 1)) (1.17.1)\n",
            "Requirement already satisfied: pycparser in /usr/local/lib/python3.11/dist-packages (from cffi>=1.0.1->argon2-cffi-bindings->argon2-cffi->notebook->jupyter->-r /content/programmingbitcoin/requirements.txt (line 1)) (2.22)\n",
            "Requirement already satisfied: fqdn in /usr/local/lib/python3.11/dist-packages (from jsonschema[format-nongpl]>=4.18.0->jupyter-events>=0.11.0->jupyter-server<3,>=2.4.0->jupyterlab->jupyter->-r /content/programmingbitcoin/requirements.txt (line 1)) (1.5.1)\n",
            "Requirement already satisfied: isoduration in /usr/local/lib/python3.11/dist-packages (from jsonschema[format-nongpl]>=4.18.0->jupyter-events>=0.11.0->jupyter-server<3,>=2.4.0->jupyterlab->jupyter->-r /content/programmingbitcoin/requirements.txt (line 1)) (20.11.0)\n",
            "Requirement already satisfied: jsonpointer>1.13 in /usr/local/lib/python3.11/dist-packages (from jsonschema[format-nongpl]>=4.18.0->jupyter-events>=0.11.0->jupyter-server<3,>=2.4.0->jupyterlab->jupyter->-r /content/programmingbitcoin/requirements.txt (line 1)) (3.0.0)\n",
            "Requirement already satisfied: uri-template in /usr/local/lib/python3.11/dist-packages (from jsonschema[format-nongpl]>=4.18.0->jupyter-events>=0.11.0->jupyter-server<3,>=2.4.0->jupyterlab->jupyter->-r /content/programmingbitcoin/requirements.txt (line 1)) (1.3.0)\n",
            "Requirement already satisfied: webcolors>=24.6.0 in /usr/local/lib/python3.11/dist-packages (from jsonschema[format-nongpl]>=4.18.0->jupyter-events>=0.11.0->jupyter-server<3,>=2.4.0->jupyterlab->jupyter->-r /content/programmingbitcoin/requirements.txt (line 1)) (24.11.1)\n",
            "Requirement already satisfied: arrow>=0.15.0 in /usr/local/lib/python3.11/dist-packages (from isoduration->jsonschema[format-nongpl]>=4.18.0->jupyter-events>=0.11.0->jupyter-server<3,>=2.4.0->jupyterlab->jupyter->-r /content/programmingbitcoin/requirements.txt (line 1)) (1.3.0)\n",
            "Requirement already satisfied: types-python-dateutil>=2.8.10 in /usr/local/lib/python3.11/dist-packages (from arrow>=0.15.0->isoduration->jsonschema[format-nongpl]>=4.18.0->jupyter-events>=0.11.0->jupyter-server<3,>=2.4.0->jupyterlab->jupyter->-r /content/programmingbitcoin/requirements.txt (line 1)) (2.9.0.20241206)\n"
          ]
        }
      ]
    },
    {
      "cell_type": "markdown",
      "source": [
        "Need to change directory to ch1 to access all packages within in, specifically, colab is struggling to find run form the 'helper' package."
      ],
      "metadata": {
        "id": "Vmp-JIRhutvf"
      }
    },
    {
      "cell_type": "code",
      "source": [
        "ls"
      ],
      "metadata": {
        "colab": {
          "base_uri": "https://localhost:8080/"
        },
        "id": "qtIFd07Gfm35",
        "outputId": "060a6073-ca81-4c9f-9ef2-bb0e0653db13"
      },
      "execution_count": 65,
      "outputs": [
        {
          "output_type": "stream",
          "name": "stdout",
          "text": [
            "answers.py      ecc.py       helper.py    \u001b[0m\u001b[01;34mprogrammingbitcoin\u001b[0m/\n",
            "Chapter1.ipynb  examples.py  jupyter.txt  \u001b[01;34m__pycache__\u001b[0m/\n"
          ]
        }
      ]
    },
    {
      "cell_type": "markdown",
      "source": [
        "Need to change `from helper.py import run` to `from helper import run`.\n",
        "\n",
        "This is due to the difference between running a google colab notebook and a jupyter notebook.\n",
        "\n",
        "After restarting the kernel and running everything with the updated import code, I was getting another advising that it cannot be imported. Instead, I'm trying to just `import helper`.\n",
        "\n",
        "The difference in using `from ... import` and just using `import` is the latter requires a prefix from the module. i.e.:\n",
        "\n",
        "`run(ecc.FieldElementTest(\"test_ne\"))`\n",
        "\n",
        "vs\n",
        "\n",
        "`helper.run(ecc.FieldElementTest(\"test_ne\"))`\n",
        "\n",
        "---\n",
        "\n",
        "The issue was the `helper` function was not installed in this instance. I'm unsure whether the ``!pip install helper` is the same module as in the directory."
      ],
      "metadata": {
        "id": "fz8ZWcRdwD2m"
      }
    },
    {
      "cell_type": "code",
      "source": [
        "!pip install helper"
      ],
      "metadata": {
        "id": "ptFr7-oBvzzb",
        "colab": {
          "base_uri": "https://localhost:8080/"
        },
        "outputId": "95b61686-6fec-4d4d-b788-598ba404d185"
      },
      "execution_count": 66,
      "outputs": [
        {
          "output_type": "stream",
          "name": "stdout",
          "text": [
            "Requirement already satisfied: helper in /usr/local/lib/python3.11/dist-packages (2.5.0)\n",
            "Requirement already satisfied: pyyaml in /usr/local/lib/python3.11/dist-packages (from helper) (6.0.2)\n"
          ]
        }
      ]
    },
    {
      "cell_type": "markdown",
      "source": [
        "### Imports"
      ],
      "metadata": {
        "id": "3C-rNwRFR-9S"
      }
    },
    {
      "cell_type": "code",
      "execution_count": 67,
      "metadata": {
        "id": "fgmImaoMmnY3"
      },
      "outputs": [],
      "source": [
        "############## PLEASE RUN THIS CELL FIRST! ###################\n",
        "\n",
        "# import everything and define a test runner function\n",
        "from importlib import reload\n",
        "import ecc\n",
        "import helper\n",
        "from helper import run\n",
        "\n",
        "from ecc import FieldElement"
      ]
    },
    {
      "cell_type": "markdown",
      "source": [
        "Seems like the main issue is the arrangement of the import codes. Importing all of `Helper` then specifying the `run` function seems to have solved the issue."
      ],
      "metadata": {
        "id": "MnTknfEqhGdn"
      }
    },
    {
      "cell_type": "code",
      "execution_count": 68,
      "metadata": {
        "id": "PHnJYpftmnY4",
        "colab": {
          "base_uri": "https://localhost:8080/"
        },
        "outputId": "7106abd8-58da-4669-bece-5c07d5cdb796"
      },
      "outputs": [
        {
          "output_type": "stream",
          "name": "stdout",
          "text": [
            "False\n",
            "True\n"
          ]
        }
      ],
      "source": [
        "a = FieldElement(7, 13)\n",
        "b = FieldElement(6, 13)\n",
        "print(a == b)\n",
        "print(a == a)"
      ]
    },
    {
      "cell_type": "markdown",
      "metadata": {
        "id": "yMKBgEIumnY5"
      },
      "source": [
        "### Exercise 1"
      ]
    },
    {
      "cell_type": "markdown",
      "source": [
        "\n",
        "Write the corresponding method `__ne__` which checks if two `FieldElement` objects are _not equal_ to each other.\n",
        "\n",
        "Make [this test](/edit/code-ch01/ecc.py) pass: `ecc.py:FieldElementTest:test_ne`"
      ],
      "metadata": {
        "id": "4MKcsg-1g6Ra"
      }
    },
    {
      "cell_type": "markdown",
      "source": [
        "---\n",
        "What this exercise is asking you to do is to modify the `__ne__` method such that is passes the `test_ne` test."
      ],
      "metadata": {
        "id": "a4G3hbzUxIuQ"
      }
    },
    {
      "cell_type": "markdown",
      "source": [
        "Running the below will cause the test to fail as the method is 'raising' a 'notImplementedError'."
      ],
      "metadata": {
        "id": "bst3gsoaxZl1"
      }
    },
    {
      "cell_type": "code",
      "execution_count": 90,
      "metadata": {
        "id": "R60At6SDmnY5",
        "colab": {
          "base_uri": "https://localhost:8080/"
        },
        "outputId": "00f88f76-9827-494c-9509-25d747e25066"
      },
      "outputs": [
        {
          "output_type": "stream",
          "name": "stderr",
          "text": [
            ".\n",
            "----------------------------------------------------------------------\n",
            "Ran 1 test in 0.003s\n",
            "\n",
            "OK\n"
          ]
        }
      ],
      "source": [
        "# Exercise 1\n",
        "from helper import run\n",
        "reload(ecc)\n",
        "run(ecc.FieldElementTest(\"test_ne\"))"
      ]
    },
    {
      "cell_type": "markdown",
      "source": [
        "Now we must go into the `ecc.py` to modify the method `__ne__`"
      ],
      "metadata": {
        "id": "8wFd5kSVxnaV"
      }
    },
    {
      "cell_type": "markdown",
      "source": [
        "The test ran 3 assertions, being the following:\n",
        "\n",
        "`self.assertEqual(a, b)`\n",
        "\n",
        "\n",
        "`self.assertTrue(a != c)`\n",
        "\n",
        "`self.assertFalse(a != b)`\n",
        "\n",
        "These are the conditions for finite field elements."
      ],
      "metadata": {
        "id": "pKzfK3lr0XBb"
      }
    },
    {
      "cell_type": "markdown",
      "source": [
        "### Modulo arithmetic"
      ],
      "metadata": {
        "id": "mrRkJbta1mDB"
      }
    },
    {
      "cell_type": "markdown",
      "source": [
        "The `%` operator is called the modulo operator. It determines the remainder of the division operation. The remainder repesents how many decimal points there are before repetition."
      ],
      "metadata": {
        "id": "xb9idrlY1ww1"
      }
    },
    {
      "cell_type": "code",
      "execution_count": 71,
      "metadata": {
        "id": "BttcUS9xmnY6",
        "colab": {
          "base_uri": "https://localhost:8080/"
        },
        "outputId": "0362c76b-00d6-4e6d-c5af-86aa8ace6693"
      },
      "outputs": [
        {
          "output_type": "stream",
          "name": "stdout",
          "text": [
            "1\n"
          ]
        }
      ],
      "source": [
        "print(7 % 3)"
      ]
    },
    {
      "cell_type": "code",
      "execution_count": 72,
      "metadata": {
        "id": "pNpsTH4wmnY6",
        "colab": {
          "base_uri": "https://localhost:8080/"
        },
        "outputId": "4d429f17-447a-4abc-81f1-30e559a97034"
      },
      "outputs": [
        {
          "output_type": "stream",
          "name": "stdout",
          "text": [
            "12\n"
          ]
        }
      ],
      "source": [
        "print(-27 % 13)"
      ]
    },
    {
      "cell_type": "markdown",
      "metadata": {
        "id": "fqAiXhnPmnY6"
      },
      "source": [
        "### Exercise 2\n"
      ]
    },
    {
      "cell_type": "markdown",
      "source": [
        "\n",
        "Solve these problems in \\\\(F_{57}\\\\)(finite field of order 57)  (assume all +'s here are \\\\(+_{f}\\\\) and -`s here are \\\\(-_{f}\\\\)).\n",
        "\n",
        "\n",
        "\n",
        "* 44+33\n",
        "* 9-29\n",
        "* 17+42+49\n",
        "* 52-30-38\n",
        "\n",
        "a\\\\(+_{f}\\\\)b = (a+b)%p"
      ],
      "metadata": {
        "id": "xtAhdCn-Sd_T"
      }
    },
    {
      "cell_type": "code",
      "execution_count": 73,
      "metadata": {
        "id": "vb5Cty7ImnY6",
        "colab": {
          "base_uri": "https://localhost:8080/"
        },
        "outputId": "07e2d921-bcf7-406f-ed46-f2094fd0b50f"
      },
      "outputs": [
        {
          "output_type": "stream",
          "name": "stdout",
          "text": [
            "20\n",
            "37\n",
            "51\n",
            "41\n"
          ]
        }
      ],
      "source": [
        "# Exercise 2\n",
        "\n",
        "# remember that % is the modulo operator\n",
        "prime = 57\n",
        "# 44+33\n",
        "print((44+33)%prime)\n",
        "# 9-29\n",
        "print((9-29)%prime)\n",
        "# 17+42+49\n",
        "print((17+42+49)%prime)\n",
        "# 52-30-38\n",
        "print((52-30-38)%prime)"
      ]
    },
    {
      "cell_type": "markdown",
      "source": [
        "Testing the FieldElement class, using the `prime` number (finite field order) from above"
      ],
      "metadata": {
        "id": "z7PQ-eIEI8Kx"
      }
    },
    {
      "cell_type": "markdown",
      "source": [
        "This will return an error as 58 is not an element of prime\n",
        "\n",
        "`FieldElement(58, prime)`\n",
        "\n",
        "The output format for this class is essentially letting you know the number is an element of the finite element with order prime."
      ],
      "metadata": {
        "id": "Bc2-ogcoIqfN"
      }
    },
    {
      "cell_type": "code",
      "source": [
        "print(((17+42)+49)%57)\n",
        "a = 17+42\n",
        "b = 49\n",
        "number = (a+b)%prime\n",
        "FieldElement(number, prime)"
      ],
      "metadata": {
        "id": "2a2gRASZKGRS",
        "colab": {
          "base_uri": "https://localhost:8080/"
        },
        "outputId": "6211cff8-b43d-432c-cf17-6f5a08efe07b"
      },
      "execution_count": 74,
      "outputs": [
        {
          "output_type": "stream",
          "name": "stdout",
          "text": [
            "51\n"
          ]
        },
        {
          "output_type": "execute_result",
          "data": {
            "text/plain": [
              "FieldElement_57(51)"
            ]
          },
          "metadata": {},
          "execution_count": 74
        }
      ]
    },
    {
      "cell_type": "markdown",
      "source": [
        "51 is the remainder and it is an element of the field."
      ],
      "metadata": {
        "id": "4RYRzt9gKwlV"
      }
    },
    {
      "cell_type": "markdown",
      "source": [
        "### Coding addition and subtraction"
      ],
      "metadata": {
        "id": "LhnD85PJMdSt"
      }
    },
    {
      "cell_type": "code",
      "execution_count": 75,
      "metadata": {
        "id": "cYUunTs7mnY6",
        "colab": {
          "base_uri": "https://localhost:8080/"
        },
        "outputId": "175005ba-7cf4-4c8e-ab20-c7f6fb83b02e"
      },
      "outputs": [
        {
          "output_type": "stream",
          "name": "stdout",
          "text": [
            "True\n"
          ]
        }
      ],
      "source": [
        "from ecc import FieldElement\n",
        "prime = 13\n",
        "a = FieldElement(7, prime)\n",
        "b = FieldElement(12, prime)\n",
        "c = FieldElement(6, prime)\n",
        "print(a+b==c)"
      ]
    },
    {
      "cell_type": "markdown",
      "source": [
        "Looking at a+b==c"
      ],
      "metadata": {
        "id": "YJ7H89U4Mw-Q"
      }
    },
    {
      "cell_type": "code",
      "source": [
        "(7+12)%prime"
      ],
      "metadata": {
        "id": "zQ9aVZqMNn9Z",
        "colab": {
          "base_uri": "https://localhost:8080/"
        },
        "outputId": "cab9ad52-72ea-493b-fc07-cd9dd64ff693"
      },
      "execution_count": 76,
      "outputs": [
        {
          "output_type": "execute_result",
          "data": {
            "text/plain": [
              "6"
            ]
          },
          "metadata": {},
          "execution_count": 76
        }
      ]
    },
    {
      "cell_type": "code",
      "source": [
        "FieldElement((7+12)%prime,prime)"
      ],
      "metadata": {
        "id": "73m5HhQBMzAU",
        "colab": {
          "base_uri": "https://localhost:8080/"
        },
        "outputId": "e2a13d71-109f-42d6-f001-987a519998f4"
      },
      "execution_count": 77,
      "outputs": [
        {
          "output_type": "execute_result",
          "data": {
            "text/plain": [
              "FieldElement_13(6)"
            ]
          },
          "metadata": {},
          "execution_count": 77
        }
      ]
    },
    {
      "cell_type": "markdown",
      "metadata": {
        "id": "dTk868XdmnY6"
      },
      "source": [
        "### Exercise 3"
      ]
    },
    {
      "cell_type": "markdown",
      "source": [
        "\n",
        "Write the corresponding `__sub__` method which defines the subtraction of two `FieldElement` objects.\n",
        "\n",
        "Make [this test](/edit/code-ch01/ecc.py) pass: `ecc.py:FieldElementTest:test_sub`"
      ],
      "metadata": {
        "id": "oZ6GFK4DSoKS"
      }
    },
    {
      "cell_type": "markdown",
      "source": [
        "very simply done, just change the definition of the `__sub__` method such that it contains the rules for finite field subtraction."
      ],
      "metadata": {
        "id": "C2wV3egHSrFE"
      }
    },
    {
      "cell_type": "code",
      "execution_count": 94,
      "metadata": {
        "id": "_UiIMaR_mnY7",
        "colab": {
          "base_uri": "https://localhost:8080/"
        },
        "outputId": "7cfd5cc8-676e-48c1-f683-211f45867b76"
      },
      "outputs": [
        {
          "output_type": "stream",
          "name": "stderr",
          "text": [
            ".\n",
            "----------------------------------------------------------------------\n",
            "Ran 1 test in 0.001s\n",
            "\n",
            "OK\n"
          ]
        }
      ],
      "source": [
        "# Exercise 3\n",
        "\n",
        "reload(ecc)\n",
        "run(ecc.FieldElementTest(\"test_sub\"))"
      ]
    },
    {
      "cell_type": "markdown",
      "metadata": {
        "id": "82_qR6kDmnY7"
      },
      "source": [
        "### Exercise 4"
      ]
    },
    {
      "cell_type": "markdown",
      "source": [
        "Solve the following equations in \\\\(F_{97}\\\\) (again, assume ⋅ and exponentiation are field versions):\n",
        "\n",
        "* 95⋅45⋅31\n",
        "* 17⋅13⋅19⋅44\n",
        "* \\\\(12^{7}\\\\)⋅\\\\(77^{49}\\\\)"
      ],
      "metadata": {
        "id": "E9rJOB-8UhzM"
      }
    },
    {
      "cell_type": "code",
      "execution_count": 79,
      "metadata": {
        "id": "6gLisjvrmnY7",
        "colab": {
          "base_uri": "https://localhost:8080/"
        },
        "outputId": "22aa0df2-d9c1-4924-c557-35ee7d800339"
      },
      "outputs": [
        {
          "output_type": "stream",
          "name": "stdout",
          "text": [
            "23\n",
            "68\n",
            "63\n"
          ]
        }
      ],
      "source": [
        "# Exercise 4\n",
        "\n",
        "prime = 97\n",
        "\n",
        "# 95*45*31\n",
        "print((95*45*31)%prime)\n",
        "# 17*13*19*44\n",
        "print((17*13*19*44)%prime)\n",
        "# 12**7*77**49\n",
        "print((12**7*77**49)%prime)"
      ]
    },
    {
      "cell_type": "markdown",
      "source": [
        "Using the `FieldElement` class to determine if the modulo is an element of the finite field."
      ],
      "metadata": {
        "id": "apU09FKzVquI"
      }
    },
    {
      "cell_type": "code",
      "source": [
        "FieldElement((95*45*31)%prime, prime)"
      ],
      "metadata": {
        "id": "u4jOOdGQVMlj",
        "colab": {
          "base_uri": "https://localhost:8080/"
        },
        "outputId": "de465f42-0bd3-4a50-c8ab-571d16fa09a0"
      },
      "execution_count": 80,
      "outputs": [
        {
          "output_type": "execute_result",
          "data": {
            "text/plain": [
              "FieldElement_97(23)"
            ]
          },
          "metadata": {},
          "execution_count": 80
        }
      ]
    },
    {
      "cell_type": "code",
      "source": [
        "FieldElement((17*13*19*44)%prime, prime)"
      ],
      "metadata": {
        "id": "9shADlp_VfUY",
        "colab": {
          "base_uri": "https://localhost:8080/"
        },
        "outputId": "c22ac4fe-811d-4109-a4b9-94d45e670550"
      },
      "execution_count": 81,
      "outputs": [
        {
          "output_type": "execute_result",
          "data": {
            "text/plain": [
              "FieldElement_97(68)"
            ]
          },
          "metadata": {},
          "execution_count": 81
        }
      ]
    },
    {
      "cell_type": "code",
      "source": [
        "FieldElement((12**7*77**49)%prime, prime)"
      ],
      "metadata": {
        "id": "oGso97wmVYWH",
        "colab": {
          "base_uri": "https://localhost:8080/"
        },
        "outputId": "4acc6d4f-6cd4-41d3-c370-fb1dbb0e6d34"
      },
      "execution_count": 82,
      "outputs": [
        {
          "output_type": "execute_result",
          "data": {
            "text/plain": [
              "FieldElement_97(63)"
            ]
          },
          "metadata": {},
          "execution_count": 82
        }
      ]
    },
    {
      "cell_type": "code",
      "source": [
        "FieldElement((12**7*77**99)%prime, prime)"
      ],
      "metadata": {
        "id": "ClSKJ5lbWJ8L",
        "colab": {
          "base_uri": "https://localhost:8080/"
        },
        "outputId": "1c21a02b-64c5-4fce-e9b8-0276764e572c"
      },
      "execution_count": 83,
      "outputs": [
        {
          "output_type": "execute_result",
          "data": {
            "text/plain": [
              "FieldElement_97(20)"
            ]
          },
          "metadata": {},
          "execution_count": 83
        }
      ]
    },
    {
      "cell_type": "markdown",
      "metadata": {
        "id": "poSXQ-WxmnY7"
      },
      "source": [
        "### Exercise 5\n",
        "\n"
      ]
    },
    {
      "cell_type": "markdown",
      "source": [
        "For k = 1, 3, 7, 13, 18, what is this set in \\\\(F_{19}\\\\)?\n",
        "\n",
        "{k⋅0, k⋅1, k⋅2, k⋅3, ... k⋅18}\n",
        "\n",
        "Do you notice anything about these sets?"
      ],
      "metadata": {
        "id": "GN91kE_FW8yj"
      }
    },
    {
      "cell_type": "code",
      "source": [
        "for k in range(0,19):\n",
        "  print(k)"
      ],
      "metadata": {
        "id": "k4JCQ4CgX3nG",
        "colab": {
          "base_uri": "https://localhost:8080/"
        },
        "outputId": "bcaf2a75-07b9-4227-d4b9-6d14dd3a6056"
      },
      "execution_count": 84,
      "outputs": [
        {
          "output_type": "stream",
          "name": "stdout",
          "text": [
            "0\n",
            "1\n",
            "2\n",
            "3\n",
            "4\n",
            "5\n",
            "6\n",
            "7\n",
            "8\n",
            "9\n",
            "10\n",
            "11\n",
            "12\n",
            "13\n",
            "14\n",
            "15\n",
            "16\n",
            "17\n",
            "18\n"
          ]
        }
      ]
    },
    {
      "cell_type": "code",
      "execution_count": 85,
      "metadata": {
        "id": "E0SYrgkfmnY7",
        "colab": {
          "base_uri": "https://localhost:8080/"
        },
        "outputId": "27cf0b79-44df-4f78-8096-c7684b244d58"
      },
      "outputs": [
        {
          "output_type": "stream",
          "name": "stdout",
          "text": [
            "[0, 1, 2, 3, 4, 5, 6, 7, 8, 9, 10, 11, 12, 13, 14, 15, 16, 17, 18, 0, 3, 6, 9, 12, 15, 18, 2, 5, 8, 11, 14, 17, 1, 4, 7, 10, 13, 16, 0, 7, 14, 2, 9, 16, 4, 11, 18, 6, 13, 1, 8, 15, 3, 10, 17, 5, 12, 0, 13, 7, 1, 14, 8, 2, 15, 9, 3, 16, 10, 4, 17, 11, 5, 18, 12, 6, 0, 18, 17, 16, 15, 14, 13, 12, 11, 10, 9, 8, 7, 6, 5, 4, 3, 2, 1]\n"
          ]
        }
      ],
      "source": [
        "# Exercise 5\n",
        "\n",
        "prime = 19\n",
        "k = [1, 3, 7, 13, 18]\n",
        "mySet = []\n",
        "# loop through all possible k's 0 up to prime-1\n",
        "# calculate k*iterator % prime\n",
        "for k in k:\n",
        "  for num in range(0,19):\n",
        "    mySet.append((k*num)%prime)\n",
        "print(mySet)"
      ]
    },
    {
      "cell_type": "markdown",
      "source": [
        "Using a dictionary to better display the results"
      ],
      "metadata": {
        "id": "r6H-rJPyZIJ6"
      }
    },
    {
      "cell_type": "code",
      "source": [
        "prime = 19\n",
        "k_values = [1, 3, 7, 13, 18]\n",
        "results = {}  # Initialize an empty dictionary\n",
        "\n",
        "for k in k_values:\n",
        "    results[k] = [(k * num) % prime for num in range(0, 19)]\n",
        "\n",
        "# Print results vertically with horizontal elements for each k\n",
        "for k in results:\n",
        "    print(f\"k = {k}:\", ' '.join(map(str, results[k])))"
      ],
      "metadata": {
        "id": "fAzsz2gaYsdg",
        "colab": {
          "base_uri": "https://localhost:8080/"
        },
        "outputId": "3741c254-f0cb-407f-aa2a-e8525b46b921"
      },
      "execution_count": 86,
      "outputs": [
        {
          "output_type": "stream",
          "name": "stdout",
          "text": [
            "k = 1: 0 1 2 3 4 5 6 7 8 9 10 11 12 13 14 15 16 17 18\n",
            "k = 3: 0 3 6 9 12 15 18 2 5 8 11 14 17 1 4 7 10 13 16\n",
            "k = 7: 0 7 14 2 9 16 4 11 18 6 13 1 8 15 3 10 17 5 12\n",
            "k = 13: 0 13 7 1 14 8 2 15 9 3 16 10 4 17 11 5 18 12 6\n",
            "k = 18: 0 18 17 16 15 14 13 12 11 10 9 8 7 6 5 4 3 2 1\n"
          ]
        }
      ]
    },
    {
      "cell_type": "markdown",
      "source": [
        "Since the `prime` value is that of the range we're interested in, we can use that for the `num` range."
      ],
      "metadata": {
        "id": "hFOj258CZk6Q"
      }
    },
    {
      "cell_type": "code",
      "source": [
        "prime = 19\n",
        "k_values = [1, 3, 7, 13, 18]\n",
        "results = {}  # Initialize an empty dictionary\n",
        "\n",
        "for k in k_values:\n",
        "    results[k] = [(k * num) % prime for num in range(prime)] # prime is the size of the range.\n",
        "\n",
        "# Print results vertically with horizontal elements for each k\n",
        "for k in results:\n",
        "    print(f\"k = {k}:\", ' '.join(map(str, results[k])))"
      ],
      "metadata": {
        "id": "U-DbC_05ZrQC",
        "colab": {
          "base_uri": "https://localhost:8080/"
        },
        "outputId": "443594c6-b60a-4850-d517-0f6019d34315"
      },
      "execution_count": 87,
      "outputs": [
        {
          "output_type": "stream",
          "name": "stdout",
          "text": [
            "k = 1: 0 1 2 3 4 5 6 7 8 9 10 11 12 13 14 15 16 17 18\n",
            "k = 3: 0 3 6 9 12 15 18 2 5 8 11 14 17 1 4 7 10 13 16\n",
            "k = 7: 0 7 14 2 9 16 4 11 18 6 13 1 8 15 3 10 17 5 12\n",
            "k = 13: 0 13 7 1 14 8 2 15 9 3 16 10 4 17 11 5 18 12 6\n",
            "k = 18: 0 18 17 16 15 14 13 12 11 10 9 8 7 6 5 4 3 2 1\n"
          ]
        }
      ]
    },
    {
      "cell_type": "markdown",
      "source": [
        "Do you notice anything about these sets?\n",
        "\n",
        "If we analyse the set, starting with sorting them, we may notice something."
      ],
      "metadata": {
        "id": "-JN7uRqnZ6xI"
      }
    },
    {
      "cell_type": "code",
      "source": [
        "prime = 19\n",
        "k_values = [1, 3, 7, 13, 18]\n",
        "results = {}  # Initialize an empty dictionary\n",
        "\n",
        "for k in k_values:\n",
        "    results[k] = sorted([(k * num) % prime for num in range(prime)]) # prime is the size of the range.\n",
        "\n",
        "# Print results vertically with horizontal elements for each k\n",
        "for k in results:\n",
        "    print(f\"k = {k}:\", ' '.join(map(str, results[k])))"
      ],
      "metadata": {
        "id": "_JbJaFEfZ8cR",
        "colab": {
          "base_uri": "https://localhost:8080/"
        },
        "outputId": "1379f58b-ccb1-46ed-88ea-0ab1825c025c"
      },
      "execution_count": 88,
      "outputs": [
        {
          "output_type": "stream",
          "name": "stdout",
          "text": [
            "k = 1: 0 1 2 3 4 5 6 7 8 9 10 11 12 13 14 15 16 17 18\n",
            "k = 3: 0 1 2 3 4 5 6 7 8 9 10 11 12 13 14 15 16 17 18\n",
            "k = 7: 0 1 2 3 4 5 6 7 8 9 10 11 12 13 14 15 16 17 18\n",
            "k = 13: 0 1 2 3 4 5 6 7 8 9 10 11 12 13 14 15 16 17 18\n",
            "k = 18: 0 1 2 3 4 5 6 7 8 9 10 11 12 13 14 15 16 17 18\n"
          ]
        }
      ]
    },
    {
      "cell_type": "markdown",
      "source": [
        "When sorted we see the results are all contained within the set.\n",
        "\n",
        "That's because the values in *k* are all elements of the finite field.\n",
        "\n",
        "Therefore, any number within a finite field, multiplied by a number within the same finite field, produces an element within the finite field."
      ],
      "metadata": {
        "id": "MARfo71Bac9s"
      }
    },
    {
      "cell_type": "markdown",
      "metadata": {
        "id": "uxNdoP9TmnY8"
      },
      "source": [
        "### Exercise 6"
      ]
    },
    {
      "cell_type": "markdown",
      "source": [
        "Write the corresponding `__mul__` method which defines the multiplication of two Finite Field elements.\n",
        "\n",
        "Make [this test](/edit/code-ch01/ecc.py) pass: `ecc.py:FieldElementTest:test_mul`"
      ],
      "metadata": {
        "id": "G6SjoWNwc1yY"
      }
    },
    {
      "cell_type": "code",
      "execution_count": 104,
      "metadata": {
        "id": "QUH2G-nrmnY8",
        "colab": {
          "base_uri": "https://localhost:8080/"
        },
        "outputId": "89eb46f6-cdc0-464a-f21c-cb0383d85b8b"
      },
      "outputs": [
        {
          "output_type": "stream",
          "name": "stderr",
          "text": [
            ".\n",
            "----------------------------------------------------------------------\n",
            "Ran 1 test in 0.001s\n",
            "\n",
            "OK\n"
          ]
        }
      ],
      "source": [
        "# Exercise 6\n",
        "\n",
        "reload(ecc)\n",
        "run(ecc.FieldElementTest(\"test_mul\"))"
      ]
    },
    {
      "cell_type": "code",
      "source": [
        "a = FieldElement(3, 13)\n",
        "b = FieldElement(12, 13)\n",
        "c = FieldElement(10, 13)\n",
        "print(a*b==c)"
      ],
      "metadata": {
        "colab": {
          "base_uri": "https://localhost:8080/"
        },
        "id": "xtHdW3tzBW_c",
        "outputId": "b03d8dbb-4849-4720-8aca-d09dbe29a10e"
      },
      "execution_count": 107,
      "outputs": [
        {
          "output_type": "stream",
          "name": "stdout",
          "text": [
            "True\n"
          ]
        }
      ]
    },
    {
      "cell_type": "code",
      "execution_count": 105,
      "metadata": {
        "id": "G6fJRW90mnY8",
        "colab": {
          "base_uri": "https://localhost:8080/"
        },
        "outputId": "c1875e90-539e-4c90-fe9d-b1cb128076f4"
      },
      "outputs": [
        {
          "output_type": "stream",
          "name": "stdout",
          "text": [
            "True\n"
          ]
        }
      ],
      "source": [
        "from ecc import FieldElement\n",
        "a = FieldElement(3, 13)\n",
        "b = FieldElement(1, 13)\n",
        "print(a**3==b)"
      ]
    },
    {
      "cell_type": "markdown",
      "metadata": {
        "id": "CCeJyUm9mnY8"
      },
      "source": [
        "### Exercise 7"
      ]
    },
    {
      "cell_type": "markdown",
      "source": [
        "For p = 7, 11, 17, 31, what is this set in \\\\(F_{p}\\\\)?\n",
        "\n",
        "{\\\\(1^{(p-1)}\\\\), \\\\(2^{(p-1)}\\\\), \\\\(3^{(p-1)}\\\\), \\\\(4^{(p-1)}\\\\), ... \\\\((p-1)^{(p-1)}\\\\)}"
      ],
      "metadata": {
        "id": "cxMCggVyc4tq"
      }
    },
    {
      "cell_type": "code",
      "source": [
        "for num in range(7):\n",
        "  print(num)"
      ],
      "metadata": {
        "id": "oJnq3OUfmkWZ",
        "colab": {
          "base_uri": "https://localhost:8080/"
        },
        "outputId": "6ba6fe17-8569-441e-a985-0c42de1b71d1"
      },
      "execution_count": 108,
      "outputs": [
        {
          "output_type": "stream",
          "name": "stdout",
          "text": [
            "0\n",
            "1\n",
            "2\n",
            "3\n",
            "4\n",
            "5\n",
            "6\n"
          ]
        }
      ]
    },
    {
      "cell_type": "markdown",
      "source": [
        "Because the lowest number of the first element is always 1 after inserting p, we must include this in the ranges of the powers. That is, if the order is 7, normally, the set would contain {0,1,2,3,4,5,6}, however, the provided set always starts at 1."
      ],
      "metadata": {
        "id": "vjT5J_WjnbUk"
      }
    },
    {
      "cell_type": "code",
      "source": [
        "(6**6)%6"
      ],
      "metadata": {
        "id": "NcvcLjILomjr",
        "colab": {
          "base_uri": "https://localhost:8080/"
        },
        "outputId": "dea4cce8-d566-4689-e887-2c44d9ec8f65"
      },
      "execution_count": 109,
      "outputs": [
        {
          "output_type": "execute_result",
          "data": {
            "text/plain": [
              "0"
            ]
          },
          "metadata": {},
          "execution_count": 109
        }
      ]
    },
    {
      "cell_type": "code",
      "execution_count": 111,
      "metadata": {
        "id": "3uY8qYP2mnY8",
        "colab": {
          "base_uri": "https://localhost:8080/"
        },
        "outputId": "437cac40-abcb-4edd-8e4d-847b9ff821a5"
      },
      "outputs": [
        {
          "output_type": "stream",
          "name": "stdout",
          "text": [
            "p = 7: 0 1 1 1 1 1\n",
            "p = 11: 0 1 1 1 1 1 1 1 1 1\n",
            "p = 17: 0 1 1 1 1 1 1 1 1 1 1 1 1 1 1 1\n",
            "p = 31: 0 1 1 1 1 1 1 1 1 1 1 1 1 1 1 1 1 1 1 1 1 1 1 1 1 1 1 1 1 1\n",
            "p = 43: 0 1 1 1 1 1 1 1 1 1 1 1 1 1 1 1 1 1 1 1 1 1 1 1 1 1 1 1 1 1 1 1 1 1 1 1 1 1 1 1 1 1\n"
          ]
        }
      ],
      "source": [
        "# Exercise 7\n",
        "\n",
        "primes = [7, 11, 17, 31, 43]\n",
        "\n",
        "\n",
        "results = {}  # Initialize an empty dictionary\n",
        "\n",
        "for p in primes:\n",
        "  results[p] = [(num - 1)**(p-1) % p for num in range(1, p)]\n",
        "\n",
        "# Print results vertically with horizontal elements for each k\n",
        "for p in results:\n",
        "    print(f\"p = {p}:\", ' '.join(map(str, results[p])))"
      ]
    },
    {
      "cell_type": "code",
      "source": [
        "(6**6)%6"
      ],
      "metadata": {
        "colab": {
          "base_uri": "https://localhost:8080/"
        },
        "id": "iy-jxpsHCXnC",
        "outputId": "4921e2d7-770f-466c-e184-d1ff6ae5db8b"
      },
      "execution_count": 115,
      "outputs": [
        {
          "output_type": "execute_result",
          "data": {
            "text/plain": [
              "0"
            ]
          },
          "metadata": {},
          "execution_count": 115
        }
      ]
    },
    {
      "cell_type": "code",
      "source": [
        "results = {}  # Initialize an empty dictionary\n",
        "\n",
        "for p in primes:\n",
        "  results[p] = [(num - 1)**(num-1) % p for num in range(p)]\n",
        "\n",
        "\n",
        "# Print results vertically with horizontal elements for each k\n",
        "for p in results:\n",
        "    print(f\"p = {p}:\", ' '.join(map(str, results[p])))"
      ],
      "metadata": {
        "id": "-EzIs2a9pVIT"
      },
      "execution_count": null,
      "outputs": []
    },
    {
      "cell_type": "code",
      "source": [
        "prime = 19\n",
        "k_values = [1, 3, 7, 13, 18]\n",
        "results = {}  # Initialize an empty dictionary\n",
        "\n",
        "for k in k_values:\n",
        "    results[k] = sorted([(k * num) % prime for num in range(prime)]) # prime is the size of the range.\n",
        "\n",
        "# Print results vertically with horizontal elements for each k\n",
        "for k in results:\n",
        "    print(f\"k = {k}:\", ' '.join(map(str, results[k])))"
      ],
      "metadata": {
        "id": "PoKHouaijjW7"
      },
      "execution_count": null,
      "outputs": []
    },
    {
      "cell_type": "code",
      "source": [
        "results[]"
      ],
      "metadata": {
        "id": "rmJ6_Oh5jSlh"
      },
      "execution_count": null,
      "outputs": []
    },
    {
      "cell_type": "code",
      "source": [
        "prime = 19\n",
        "k_values = [1, 3, 7, 13, 18]\n",
        "results = {}  # Initialize an empty dictionary\n",
        "\n",
        "for k in k_values:\n",
        "    results[k] = sorted([(k * num) % prime for num in range(prime)]) # prime is the size of the range.\n",
        "\n",
        "# Print results vertically with horizontal elements for each k\n",
        "for k in results:\n",
        "    print(f\"k = {k}:\", ' '.join(map(str, results[k])))"
      ],
      "metadata": {
        "id": "JzZwJiBfi5E6"
      },
      "execution_count": null,
      "outputs": []
    },
    {
      "cell_type": "markdown",
      "metadata": {
        "id": "2qSKoWkEmnY8"
      },
      "source": [
        "### Exercise 8"
      ]
    },
    {
      "cell_type": "markdown",
      "source": [
        "Solve the following equations in \\\\(F_{31}\\\\):\n",
        "\n",
        "* 3 / 24\n",
        "* \\\\(17^{-3}\\\\)\n",
        "* \\\\(4^{-4}\\\\)⋅11"
      ],
      "metadata": {
        "id": "L8QH2fU_c7f7"
      }
    },
    {
      "cell_type": "code",
      "execution_count": null,
      "metadata": {
        "id": "3V3OkKi6mnY8"
      },
      "outputs": [],
      "source": [
        "# Exercise 8\n",
        "\n",
        "# 3/24\n",
        "# 17**-3\n",
        "# 4**-4*11"
      ]
    },
    {
      "cell_type": "markdown",
      "metadata": {
        "id": "cmkvNEbtmnY8"
      },
      "source": [
        "### Exercise 9"
      ]
    },
    {
      "cell_type": "markdown",
      "source": [
        "Write the corresponding `__truediv__` method which defines the division of two field elements.\n",
        "\n",
        "Note that in Python3, division is separated into `__truediv__` and `__floordiv__`. The first does normal division, the second does integer division.\n",
        "\n",
        "Make [this test](/edit/code-ch01/ecc.py) pass: `ecc.py:FieldElementTest:test_div`"
      ],
      "metadata": {
        "id": "ga6Y1_4Dc914"
      }
    },
    {
      "cell_type": "code",
      "execution_count": null,
      "metadata": {
        "id": "sRI_pI3UmnY8"
      },
      "outputs": [],
      "source": [
        "# Exercise 9\n",
        "\n",
        "reload(ecc)\n",
        "run(ecc.FieldElementTest(\"test_div\"))"
      ]
    },
    {
      "cell_type": "code",
      "execution_count": null,
      "metadata": {
        "id": "LtLqIKJImnY9"
      },
      "outputs": [],
      "source": [
        "from ecc import FieldElement\n",
        "a = FieldElement(7, 13)\n",
        "b = FieldElement(8, 13)\n",
        "print(a**-3==b)"
      ]
    }
  ],
  "metadata": {
    "colab": {
      "provenance": [],
      "collapsed_sections": [
        "8c6c4fEER6hx",
        "3C-rNwRFR-9S"
      ],
      "include_colab_link": true
    },
    "language_info": {
      "name": "python"
    },
    "kernelspec": {
      "name": "python3",
      "display_name": "Python 3"
    }
  },
  "nbformat": 4,
  "nbformat_minor": 0
}