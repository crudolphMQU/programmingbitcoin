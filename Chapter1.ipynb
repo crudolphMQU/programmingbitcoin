{
  "cells": [
    {
      "cell_type": "markdown",
      "metadata": {
        "id": "view-in-github",
        "colab_type": "text"
      },
      "source": [
        "<a href=\"https://colab.research.google.com/github/crudolphMQU/programmingbitcoin/blob/master/Chapter1.ipynb\" target=\"_parent\"><img src=\"https://colab.research.google.com/assets/colab-badge.svg\" alt=\"Open In Colab\"/></a>"
      ]
    },
    {
      "cell_type": "code",
      "source": [
        "!git clone https://github.com/crudolphMQU/programmingbitcoin"
      ],
      "metadata": {
        "colab": {
          "base_uri": "https://localhost:8080/"
        },
        "id": "tlCz66Lkn7dF",
        "outputId": "1d23bb8b-59f7-4dbb-efa7-2780ffe7f472"
      },
      "execution_count": 1,
      "outputs": [
        {
          "output_type": "stream",
          "name": "stdout",
          "text": [
            "Cloning into 'programmingbitcoin'...\n",
            "remote: Enumerating objects: 6420, done.\u001b[K\n",
            "remote: Counting objects: 100% (43/43), done.\u001b[K\n",
            "remote: Compressing objects: 100% (43/43), done.\u001b[K\n",
            "remote: Total 6420 (delta 27), reused 0 (delta 0), pack-reused 6377 (from 1)\u001b[K\n",
            "Receiving objects: 100% (6420/6420), 38.89 MiB | 14.06 MiB/s, done.\n",
            "Resolving deltas: 100% (4263/4263), done.\n"
          ]
        }
      ]
    },
    {
      "cell_type": "markdown",
      "source": [
        "### Set up\n",
        "\n",
        "Need to run these cells carefully, as it can change your directories which means you won't be accessing the correct files. An example is cloning another github repo within the same github repo. I decided to comment out htese cells as my modified `ecc.py` file essentially was getting buried, not allowing me to continue."
      ],
      "metadata": {
        "id": "8c6c4fEER6hx"
      }
    },
    {
      "cell_type": "markdown",
      "source": [
        "Check whether you're in the correct directory."
      ],
      "metadata": {
        "id": "ClNw23jLRw3d"
      }
    },
    {
      "cell_type": "code",
      "source": [
        "ls"
      ],
      "metadata": {
        "colab": {
          "base_uri": "https://localhost:8080/"
        },
        "id": "GTJCwvQRPpKo",
        "outputId": "0de4e6a3-7053-479e-c920-2883e91903ca"
      },
      "execution_count": 2,
      "outputs": [
        {
          "output_type": "stream",
          "name": "stdout",
          "text": [
            "\u001b[0m\u001b[01;34mprogrammingbitcoin\u001b[0m/  \u001b[01;34msample_data\u001b[0m/\n"
          ]
        }
      ]
    },
    {
      "cell_type": "code",
      "source": [
        "cd programmingbitcoin/code-ch01"
      ],
      "metadata": {
        "id": "T9YEUvkRn657",
        "colab": {
          "base_uri": "https://localhost:8080/"
        },
        "outputId": "8d3f0d18-46f3-4448-8926-116a858a9cfc"
      },
      "execution_count": 3,
      "outputs": [
        {
          "output_type": "stream",
          "name": "stdout",
          "text": [
            "/content/programmingbitcoin/code-ch01\n"
          ]
        }
      ]
    },
    {
      "cell_type": "code",
      "source": [
        "ls"
      ],
      "metadata": {
        "colab": {
          "base_uri": "https://localhost:8080/"
        },
        "id": "bs7WHwTO4mc8",
        "outputId": "4ac59eeb-528a-4cf6-f631-391221b7633c"
      },
      "execution_count": 4,
      "outputs": [
        {
          "output_type": "stream",
          "name": "stdout",
          "text": [
            "answers.py  crudolph_Chapter1.ipynb  ecc.py  examples.py  helper.py  jupyter.txt\n"
          ]
        }
      ]
    },
    {
      "cell_type": "markdown",
      "source": [
        "No need to pip install virtualenv as it's already installed in colab. However, we do need to upgdate it."
      ],
      "metadata": {
        "id": "ACaZNjQPq1bD"
      }
    },
    {
      "cell_type": "code",
      "source": [
        "!pip install virtualenv==20.17.1"
      ],
      "metadata": {
        "id": "OWidbatJrp8A",
        "colab": {
          "base_uri": "https://localhost:8080/"
        },
        "outputId": "2e3ffe38-b933-41d0-dda7-6200a7755af0"
      },
      "execution_count": 5,
      "outputs": [
        {
          "output_type": "stream",
          "name": "stdout",
          "text": [
            "Collecting virtualenv==20.17.1\n",
            "  Downloading virtualenv-20.17.1-py3-none-any.whl.metadata (4.1 kB)\n",
            "Collecting distlib<1,>=0.3.6 (from virtualenv==20.17.1)\n",
            "  Downloading distlib-0.3.9-py2.py3-none-any.whl.metadata (5.2 kB)\n",
            "Requirement already satisfied: filelock<4,>=3.4.1 in /usr/local/lib/python3.11/dist-packages (from virtualenv==20.17.1) (3.17.0)\n",
            "Collecting platformdirs<3,>=2.4 (from virtualenv==20.17.1)\n",
            "  Downloading platformdirs-2.6.2-py3-none-any.whl.metadata (9.5 kB)\n",
            "Downloading virtualenv-20.17.1-py3-none-any.whl (8.8 MB)\n",
            "\u001b[2K   \u001b[90m━━━━━━━━━━━━━━━━━━━━━━━━━━━━━━━━━━━━━━━━\u001b[0m \u001b[32m8.8/8.8 MB\u001b[0m \u001b[31m27.8 MB/s\u001b[0m eta \u001b[36m0:00:00\u001b[0m\n",
            "\u001b[?25hDownloading distlib-0.3.9-py2.py3-none-any.whl (468 kB)\n",
            "\u001b[2K   \u001b[90m━━━━━━━━━━━━━━━━━━━━━━━━━━━━━━━━━━━━━━━━\u001b[0m \u001b[32m469.0/469.0 kB\u001b[0m \u001b[31m20.9 MB/s\u001b[0m eta \u001b[36m0:00:00\u001b[0m\n",
            "\u001b[?25hDownloading platformdirs-2.6.2-py3-none-any.whl (14 kB)\n",
            "Installing collected packages: distlib, platformdirs, virtualenv\n",
            "  Attempting uninstall: platformdirs\n",
            "    Found existing installation: platformdirs 4.3.6\n",
            "    Uninstalling platformdirs-4.3.6:\n",
            "      Successfully uninstalled platformdirs-4.3.6\n",
            "Successfully installed distlib-0.3.9 platformdirs-2.6.2 virtualenv-20.17.1\n"
          ]
        }
      ]
    },
    {
      "cell_type": "markdown",
      "source": [
        "!virtualenv -p python3 .venv  # Create a virtual environment named '.venv'\n",
        "!source .venv/bin/activate  # Activate the virtual environment"
      ],
      "metadata": {
        "id": "qZxCCuTJqtTZ"
      }
    },
    {
      "cell_type": "code",
      "source": [
        "!pip install -r /content/programmingbitcoin/requirements.txt"
      ],
      "metadata": {
        "id": "T4Mhb7BsqiGM",
        "colab": {
          "base_uri": "https://localhost:8080/"
        },
        "outputId": "85c80278-bacc-4309-b6c0-8314b17135c0"
      },
      "execution_count": 6,
      "outputs": [
        {
          "output_type": "stream",
          "name": "stdout",
          "text": [
            "Collecting jupyter (from -r /content/programmingbitcoin/requirements.txt (line 1))\n",
            "  Downloading jupyter-1.1.1-py2.py3-none-any.whl.metadata (2.0 kB)\n",
            "Requirement already satisfied: requests in /usr/local/lib/python3.11/dist-packages (from -r /content/programmingbitcoin/requirements.txt (line 2)) (2.32.3)\n",
            "Requirement already satisfied: notebook in /usr/local/lib/python3.11/dist-packages (from jupyter->-r /content/programmingbitcoin/requirements.txt (line 1)) (6.5.5)\n",
            "Requirement already satisfied: jupyter-console in /usr/local/lib/python3.11/dist-packages (from jupyter->-r /content/programmingbitcoin/requirements.txt (line 1)) (6.1.0)\n",
            "Requirement already satisfied: nbconvert in /usr/local/lib/python3.11/dist-packages (from jupyter->-r /content/programmingbitcoin/requirements.txt (line 1)) (7.16.6)\n",
            "Requirement already satisfied: ipykernel in /usr/local/lib/python3.11/dist-packages (from jupyter->-r /content/programmingbitcoin/requirements.txt (line 1)) (6.17.1)\n",
            "Requirement already satisfied: ipywidgets in /usr/local/lib/python3.11/dist-packages (from jupyter->-r /content/programmingbitcoin/requirements.txt (line 1)) (7.7.1)\n",
            "Collecting jupyterlab (from jupyter->-r /content/programmingbitcoin/requirements.txt (line 1))\n",
            "  Downloading jupyterlab-4.3.5-py3-none-any.whl.metadata (16 kB)\n",
            "Requirement already satisfied: charset-normalizer<4,>=2 in /usr/local/lib/python3.11/dist-packages (from requests->-r /content/programmingbitcoin/requirements.txt (line 2)) (3.4.1)\n",
            "Requirement already satisfied: idna<4,>=2.5 in /usr/local/lib/python3.11/dist-packages (from requests->-r /content/programmingbitcoin/requirements.txt (line 2)) (3.10)\n",
            "Requirement already satisfied: urllib3<3,>=1.21.1 in /usr/local/lib/python3.11/dist-packages (from requests->-r /content/programmingbitcoin/requirements.txt (line 2)) (2.3.0)\n",
            "Requirement already satisfied: certifi>=2017.4.17 in /usr/local/lib/python3.11/dist-packages (from requests->-r /content/programmingbitcoin/requirements.txt (line 2)) (2025.1.31)\n",
            "Requirement already satisfied: debugpy>=1.0 in /usr/local/lib/python3.11/dist-packages (from ipykernel->jupyter->-r /content/programmingbitcoin/requirements.txt (line 1)) (1.8.0)\n",
            "Requirement already satisfied: ipython>=7.23.1 in /usr/local/lib/python3.11/dist-packages (from ipykernel->jupyter->-r /content/programmingbitcoin/requirements.txt (line 1)) (7.34.0)\n",
            "Requirement already satisfied: jupyter-client>=6.1.12 in /usr/local/lib/python3.11/dist-packages (from ipykernel->jupyter->-r /content/programmingbitcoin/requirements.txt (line 1)) (6.1.12)\n",
            "Requirement already satisfied: matplotlib-inline>=0.1 in /usr/local/lib/python3.11/dist-packages (from ipykernel->jupyter->-r /content/programmingbitcoin/requirements.txt (line 1)) (0.1.7)\n",
            "Requirement already satisfied: nest-asyncio in /usr/local/lib/python3.11/dist-packages (from ipykernel->jupyter->-r /content/programmingbitcoin/requirements.txt (line 1)) (1.6.0)\n",
            "Requirement already satisfied: packaging in /usr/local/lib/python3.11/dist-packages (from ipykernel->jupyter->-r /content/programmingbitcoin/requirements.txt (line 1)) (24.2)\n",
            "Requirement already satisfied: psutil in /usr/local/lib/python3.11/dist-packages (from ipykernel->jupyter->-r /content/programmingbitcoin/requirements.txt (line 1)) (5.9.5)\n",
            "Requirement already satisfied: pyzmq>=17 in /usr/local/lib/python3.11/dist-packages (from ipykernel->jupyter->-r /content/programmingbitcoin/requirements.txt (line 1)) (24.0.1)\n",
            "Requirement already satisfied: tornado>=6.1 in /usr/local/lib/python3.11/dist-packages (from ipykernel->jupyter->-r /content/programmingbitcoin/requirements.txt (line 1)) (6.4.2)\n",
            "Requirement already satisfied: traitlets>=5.1.0 in /usr/local/lib/python3.11/dist-packages (from ipykernel->jupyter->-r /content/programmingbitcoin/requirements.txt (line 1)) (5.7.1)\n",
            "Requirement already satisfied: ipython-genutils~=0.2.0 in /usr/local/lib/python3.11/dist-packages (from ipywidgets->jupyter->-r /content/programmingbitcoin/requirements.txt (line 1)) (0.2.0)\n",
            "Requirement already satisfied: widgetsnbextension~=3.6.0 in /usr/local/lib/python3.11/dist-packages (from ipywidgets->jupyter->-r /content/programmingbitcoin/requirements.txt (line 1)) (3.6.10)\n",
            "Requirement already satisfied: jupyterlab-widgets>=1.0.0 in /usr/local/lib/python3.11/dist-packages (from ipywidgets->jupyter->-r /content/programmingbitcoin/requirements.txt (line 1)) (3.0.13)\n",
            "Requirement already satisfied: prompt-toolkit!=3.0.0,!=3.0.1,<3.1.0,>=2.0.0 in /usr/local/lib/python3.11/dist-packages (from jupyter-console->jupyter->-r /content/programmingbitcoin/requirements.txt (line 1)) (3.0.50)\n",
            "Requirement already satisfied: pygments in /usr/local/lib/python3.11/dist-packages (from jupyter-console->jupyter->-r /content/programmingbitcoin/requirements.txt (line 1)) (2.18.0)\n",
            "Collecting async-lru>=1.0.0 (from jupyterlab->jupyter->-r /content/programmingbitcoin/requirements.txt (line 1))\n",
            "  Downloading async_lru-2.0.4-py3-none-any.whl.metadata (4.5 kB)\n",
            "Requirement already satisfied: httpx>=0.25.0 in /usr/local/lib/python3.11/dist-packages (from jupyterlab->jupyter->-r /content/programmingbitcoin/requirements.txt (line 1)) (0.28.1)\n",
            "Requirement already satisfied: jinja2>=3.0.3 in /usr/local/lib/python3.11/dist-packages (from jupyterlab->jupyter->-r /content/programmingbitcoin/requirements.txt (line 1)) (3.1.5)\n",
            "Requirement already satisfied: jupyter-core in /usr/local/lib/python3.11/dist-packages (from jupyterlab->jupyter->-r /content/programmingbitcoin/requirements.txt (line 1)) (5.7.2)\n",
            "Collecting jupyter-lsp>=2.0.0 (from jupyterlab->jupyter->-r /content/programmingbitcoin/requirements.txt (line 1))\n",
            "  Downloading jupyter_lsp-2.2.5-py3-none-any.whl.metadata (1.8 kB)\n",
            "Collecting jupyter-server<3,>=2.4.0 (from jupyterlab->jupyter->-r /content/programmingbitcoin/requirements.txt (line 1))\n",
            "  Downloading jupyter_server-2.15.0-py3-none-any.whl.metadata (8.4 kB)\n",
            "Collecting jupyterlab-server<3,>=2.27.1 (from jupyterlab->jupyter->-r /content/programmingbitcoin/requirements.txt (line 1))\n",
            "  Downloading jupyterlab_server-2.27.3-py3-none-any.whl.metadata (5.9 kB)\n",
            "Requirement already satisfied: notebook-shim>=0.2 in /usr/local/lib/python3.11/dist-packages (from jupyterlab->jupyter->-r /content/programmingbitcoin/requirements.txt (line 1)) (0.2.4)\n",
            "Requirement already satisfied: setuptools>=40.8.0 in /usr/local/lib/python3.11/dist-packages (from jupyterlab->jupyter->-r /content/programmingbitcoin/requirements.txt (line 1)) (75.1.0)\n",
            "Requirement already satisfied: beautifulsoup4 in /usr/local/lib/python3.11/dist-packages (from nbconvert->jupyter->-r /content/programmingbitcoin/requirements.txt (line 1)) (4.13.3)\n",
            "Requirement already satisfied: bleach!=5.0.0 in /usr/local/lib/python3.11/dist-packages (from bleach[css]!=5.0.0->nbconvert->jupyter->-r /content/programmingbitcoin/requirements.txt (line 1)) (6.2.0)\n",
            "Requirement already satisfied: defusedxml in /usr/local/lib/python3.11/dist-packages (from nbconvert->jupyter->-r /content/programmingbitcoin/requirements.txt (line 1)) (0.7.1)\n",
            "Requirement already satisfied: jupyterlab-pygments in /usr/local/lib/python3.11/dist-packages (from nbconvert->jupyter->-r /content/programmingbitcoin/requirements.txt (line 1)) (0.3.0)\n",
            "Requirement already satisfied: markupsafe>=2.0 in /usr/local/lib/python3.11/dist-packages (from nbconvert->jupyter->-r /content/programmingbitcoin/requirements.txt (line 1)) (3.0.2)\n",
            "Requirement already satisfied: mistune<4,>=2.0.3 in /usr/local/lib/python3.11/dist-packages (from nbconvert->jupyter->-r /content/programmingbitcoin/requirements.txt (line 1)) (3.1.2)\n",
            "Requirement already satisfied: nbclient>=0.5.0 in /usr/local/lib/python3.11/dist-packages (from nbconvert->jupyter->-r /content/programmingbitcoin/requirements.txt (line 1)) (0.10.2)\n",
            "Requirement already satisfied: nbformat>=5.7 in /usr/local/lib/python3.11/dist-packages (from nbconvert->jupyter->-r /content/programmingbitcoin/requirements.txt (line 1)) (5.10.4)\n",
            "Requirement already satisfied: pandocfilters>=1.4.1 in /usr/local/lib/python3.11/dist-packages (from nbconvert->jupyter->-r /content/programmingbitcoin/requirements.txt (line 1)) (1.5.1)\n",
            "Requirement already satisfied: argon2-cffi in /usr/local/lib/python3.11/dist-packages (from notebook->jupyter->-r /content/programmingbitcoin/requirements.txt (line 1)) (23.1.0)\n",
            "Requirement already satisfied: Send2Trash>=1.8.0 in /usr/local/lib/python3.11/dist-packages (from notebook->jupyter->-r /content/programmingbitcoin/requirements.txt (line 1)) (1.8.3)\n",
            "Requirement already satisfied: terminado>=0.8.3 in /usr/local/lib/python3.11/dist-packages (from notebook->jupyter->-r /content/programmingbitcoin/requirements.txt (line 1)) (0.18.1)\n",
            "Requirement already satisfied: prometheus-client in /usr/local/lib/python3.11/dist-packages (from notebook->jupyter->-r /content/programmingbitcoin/requirements.txt (line 1)) (0.21.1)\n",
            "Requirement already satisfied: nbclassic>=0.4.7 in /usr/local/lib/python3.11/dist-packages (from notebook->jupyter->-r /content/programmingbitcoin/requirements.txt (line 1)) (1.2.0)\n",
            "Requirement already satisfied: webencodings in /usr/local/lib/python3.11/dist-packages (from bleach!=5.0.0->bleach[css]!=5.0.0->nbconvert->jupyter->-r /content/programmingbitcoin/requirements.txt (line 1)) (0.5.1)\n",
            "Requirement already satisfied: tinycss2<1.5,>=1.1.0 in /usr/local/lib/python3.11/dist-packages (from bleach[css]!=5.0.0->nbconvert->jupyter->-r /content/programmingbitcoin/requirements.txt (line 1)) (1.4.0)\n",
            "Requirement already satisfied: anyio in /usr/local/lib/python3.11/dist-packages (from httpx>=0.25.0->jupyterlab->jupyter->-r /content/programmingbitcoin/requirements.txt (line 1)) (3.7.1)\n",
            "Requirement already satisfied: httpcore==1.* in /usr/local/lib/python3.11/dist-packages (from httpx>=0.25.0->jupyterlab->jupyter->-r /content/programmingbitcoin/requirements.txt (line 1)) (1.0.7)\n",
            "Requirement already satisfied: h11<0.15,>=0.13 in /usr/local/lib/python3.11/dist-packages (from httpcore==1.*->httpx>=0.25.0->jupyterlab->jupyter->-r /content/programmingbitcoin/requirements.txt (line 1)) (0.14.0)\n",
            "Collecting jedi>=0.16 (from ipython>=7.23.1->ipykernel->jupyter->-r /content/programmingbitcoin/requirements.txt (line 1))\n",
            "  Downloading jedi-0.19.2-py2.py3-none-any.whl.metadata (22 kB)\n",
            "Requirement already satisfied: decorator in /usr/local/lib/python3.11/dist-packages (from ipython>=7.23.1->ipykernel->jupyter->-r /content/programmingbitcoin/requirements.txt (line 1)) (4.4.2)\n",
            "Requirement already satisfied: pickleshare in /usr/local/lib/python3.11/dist-packages (from ipython>=7.23.1->ipykernel->jupyter->-r /content/programmingbitcoin/requirements.txt (line 1)) (0.7.5)\n",
            "Requirement already satisfied: backcall in /usr/local/lib/python3.11/dist-packages (from ipython>=7.23.1->ipykernel->jupyter->-r /content/programmingbitcoin/requirements.txt (line 1)) (0.2.0)\n",
            "Requirement already satisfied: pexpect>4.3 in /usr/local/lib/python3.11/dist-packages (from ipython>=7.23.1->ipykernel->jupyter->-r /content/programmingbitcoin/requirements.txt (line 1)) (4.9.0)\n",
            "Requirement already satisfied: python-dateutil>=2.1 in /usr/local/lib/python3.11/dist-packages (from jupyter-client>=6.1.12->ipykernel->jupyter->-r /content/programmingbitcoin/requirements.txt (line 1)) (2.8.2)\n",
            "Requirement already satisfied: platformdirs>=2.5 in /usr/local/lib/python3.11/dist-packages (from jupyter-core->jupyterlab->jupyter->-r /content/programmingbitcoin/requirements.txt (line 1)) (2.6.2)\n",
            "Collecting jupyter-client>=6.1.12 (from ipykernel->jupyter->-r /content/programmingbitcoin/requirements.txt (line 1))\n",
            "  Downloading jupyter_client-7.4.9-py3-none-any.whl.metadata (8.5 kB)\n",
            "Collecting jupyter-events>=0.11.0 (from jupyter-server<3,>=2.4.0->jupyterlab->jupyter->-r /content/programmingbitcoin/requirements.txt (line 1))\n",
            "  Downloading jupyter_events-0.12.0-py3-none-any.whl.metadata (5.8 kB)\n",
            "Collecting jupyter-server-terminals>=0.4.4 (from jupyter-server<3,>=2.4.0->jupyterlab->jupyter->-r /content/programmingbitcoin/requirements.txt (line 1))\n",
            "  Downloading jupyter_server_terminals-0.5.3-py3-none-any.whl.metadata (5.6 kB)\n",
            "Collecting overrides>=5.0 (from jupyter-server<3,>=2.4.0->jupyterlab->jupyter->-r /content/programmingbitcoin/requirements.txt (line 1))\n",
            "  Downloading overrides-7.7.0-py3-none-any.whl.metadata (5.8 kB)\n",
            "Requirement already satisfied: websocket-client>=1.7 in /usr/local/lib/python3.11/dist-packages (from jupyter-server<3,>=2.4.0->jupyterlab->jupyter->-r /content/programmingbitcoin/requirements.txt (line 1)) (1.8.0)\n",
            "Requirement already satisfied: argon2-cffi-bindings in /usr/local/lib/python3.11/dist-packages (from argon2-cffi->notebook->jupyter->-r /content/programmingbitcoin/requirements.txt (line 1)) (21.2.0)\n",
            "Requirement already satisfied: entrypoints in /usr/local/lib/python3.11/dist-packages (from jupyter-client>=6.1.12->ipykernel->jupyter->-r /content/programmingbitcoin/requirements.txt (line 1)) (0.4)\n",
            "Requirement already satisfied: babel>=2.10 in /usr/local/lib/python3.11/dist-packages (from jupyterlab-server<3,>=2.27.1->jupyterlab->jupyter->-r /content/programmingbitcoin/requirements.txt (line 1)) (2.17.0)\n",
            "Collecting json5>=0.9.0 (from jupyterlab-server<3,>=2.27.1->jupyterlab->jupyter->-r /content/programmingbitcoin/requirements.txt (line 1))\n",
            "  Downloading json5-0.10.0-py3-none-any.whl.metadata (34 kB)\n",
            "Requirement already satisfied: jsonschema>=4.18.0 in /usr/local/lib/python3.11/dist-packages (from jupyterlab-server<3,>=2.27.1->jupyterlab->jupyter->-r /content/programmingbitcoin/requirements.txt (line 1)) (4.23.0)\n",
            "Requirement already satisfied: fastjsonschema>=2.15 in /usr/local/lib/python3.11/dist-packages (from nbformat>=5.7->nbconvert->jupyter->-r /content/programmingbitcoin/requirements.txt (line 1)) (2.21.1)\n",
            "Requirement already satisfied: wcwidth in /usr/local/lib/python3.11/dist-packages (from prompt-toolkit!=3.0.0,!=3.0.1,<3.1.0,>=2.0.0->jupyter-console->jupyter->-r /content/programmingbitcoin/requirements.txt (line 1)) (0.2.13)\n",
            "Requirement already satisfied: ptyprocess in /usr/local/lib/python3.11/dist-packages (from terminado>=0.8.3->notebook->jupyter->-r /content/programmingbitcoin/requirements.txt (line 1)) (0.7.0)\n",
            "Requirement already satisfied: soupsieve>1.2 in /usr/local/lib/python3.11/dist-packages (from beautifulsoup4->nbconvert->jupyter->-r /content/programmingbitcoin/requirements.txt (line 1)) (2.6)\n",
            "Requirement already satisfied: typing-extensions>=4.0.0 in /usr/local/lib/python3.11/dist-packages (from beautifulsoup4->nbconvert->jupyter->-r /content/programmingbitcoin/requirements.txt (line 1)) (4.12.2)\n",
            "Requirement already satisfied: sniffio>=1.1 in /usr/local/lib/python3.11/dist-packages (from anyio->httpx>=0.25.0->jupyterlab->jupyter->-r /content/programmingbitcoin/requirements.txt (line 1)) (1.3.1)\n",
            "Requirement already satisfied: parso<0.9.0,>=0.8.4 in /usr/local/lib/python3.11/dist-packages (from jedi>=0.16->ipython>=7.23.1->ipykernel->jupyter->-r /content/programmingbitcoin/requirements.txt (line 1)) (0.8.4)\n",
            "Requirement already satisfied: attrs>=22.2.0 in /usr/local/lib/python3.11/dist-packages (from jsonschema>=4.18.0->jupyterlab-server<3,>=2.27.1->jupyterlab->jupyter->-r /content/programmingbitcoin/requirements.txt (line 1)) (25.1.0)\n",
            "Requirement already satisfied: jsonschema-specifications>=2023.03.6 in /usr/local/lib/python3.11/dist-packages (from jsonschema>=4.18.0->jupyterlab-server<3,>=2.27.1->jupyterlab->jupyter->-r /content/programmingbitcoin/requirements.txt (line 1)) (2024.10.1)\n",
            "Requirement already satisfied: referencing>=0.28.4 in /usr/local/lib/python3.11/dist-packages (from jsonschema>=4.18.0->jupyterlab-server<3,>=2.27.1->jupyterlab->jupyter->-r /content/programmingbitcoin/requirements.txt (line 1)) (0.36.2)\n",
            "Requirement already satisfied: rpds-py>=0.7.1 in /usr/local/lib/python3.11/dist-packages (from jsonschema>=4.18.0->jupyterlab-server<3,>=2.27.1->jupyterlab->jupyter->-r /content/programmingbitcoin/requirements.txt (line 1)) (0.23.0)\n",
            "Collecting python-json-logger>=2.0.4 (from jupyter-events>=0.11.0->jupyter-server<3,>=2.4.0->jupyterlab->jupyter->-r /content/programmingbitcoin/requirements.txt (line 1))\n",
            "  Downloading python_json_logger-3.2.1-py3-none-any.whl.metadata (4.1 kB)\n",
            "Requirement already satisfied: pyyaml>=5.3 in /usr/local/lib/python3.11/dist-packages (from jupyter-events>=0.11.0->jupyter-server<3,>=2.4.0->jupyterlab->jupyter->-r /content/programmingbitcoin/requirements.txt (line 1)) (6.0.2)\n",
            "Collecting rfc3339-validator (from jupyter-events>=0.11.0->jupyter-server<3,>=2.4.0->jupyterlab->jupyter->-r /content/programmingbitcoin/requirements.txt (line 1))\n",
            "  Downloading rfc3339_validator-0.1.4-py2.py3-none-any.whl.metadata (1.5 kB)\n",
            "Collecting rfc3986-validator>=0.1.1 (from jupyter-events>=0.11.0->jupyter-server<3,>=2.4.0->jupyterlab->jupyter->-r /content/programmingbitcoin/requirements.txt (line 1))\n",
            "  Downloading rfc3986_validator-0.1.1-py2.py3-none-any.whl.metadata (1.7 kB)\n",
            "Requirement already satisfied: six>=1.5 in /usr/local/lib/python3.11/dist-packages (from python-dateutil>=2.1->jupyter-client>=6.1.12->ipykernel->jupyter->-r /content/programmingbitcoin/requirements.txt (line 1)) (1.17.0)\n",
            "Requirement already satisfied: cffi>=1.0.1 in /usr/local/lib/python3.11/dist-packages (from argon2-cffi-bindings->argon2-cffi->notebook->jupyter->-r /content/programmingbitcoin/requirements.txt (line 1)) (1.17.1)\n",
            "Requirement already satisfied: pycparser in /usr/local/lib/python3.11/dist-packages (from cffi>=1.0.1->argon2-cffi-bindings->argon2-cffi->notebook->jupyter->-r /content/programmingbitcoin/requirements.txt (line 1)) (2.22)\n",
            "Collecting fqdn (from jsonschema[format-nongpl]>=4.18.0->jupyter-events>=0.11.0->jupyter-server<3,>=2.4.0->jupyterlab->jupyter->-r /content/programmingbitcoin/requirements.txt (line 1))\n",
            "  Downloading fqdn-1.5.1-py3-none-any.whl.metadata (1.4 kB)\n",
            "Collecting isoduration (from jsonschema[format-nongpl]>=4.18.0->jupyter-events>=0.11.0->jupyter-server<3,>=2.4.0->jupyterlab->jupyter->-r /content/programmingbitcoin/requirements.txt (line 1))\n",
            "  Downloading isoduration-20.11.0-py3-none-any.whl.metadata (5.7 kB)\n",
            "Requirement already satisfied: jsonpointer>1.13 in /usr/local/lib/python3.11/dist-packages (from jsonschema[format-nongpl]>=4.18.0->jupyter-events>=0.11.0->jupyter-server<3,>=2.4.0->jupyterlab->jupyter->-r /content/programmingbitcoin/requirements.txt (line 1)) (3.0.0)\n",
            "Collecting uri-template (from jsonschema[format-nongpl]>=4.18.0->jupyter-events>=0.11.0->jupyter-server<3,>=2.4.0->jupyterlab->jupyter->-r /content/programmingbitcoin/requirements.txt (line 1))\n",
            "  Downloading uri_template-1.3.0-py3-none-any.whl.metadata (8.8 kB)\n",
            "Requirement already satisfied: webcolors>=24.6.0 in /usr/local/lib/python3.11/dist-packages (from jsonschema[format-nongpl]>=4.18.0->jupyter-events>=0.11.0->jupyter-server<3,>=2.4.0->jupyterlab->jupyter->-r /content/programmingbitcoin/requirements.txt (line 1)) (24.11.1)\n",
            "Collecting arrow>=0.15.0 (from isoduration->jsonschema[format-nongpl]>=4.18.0->jupyter-events>=0.11.0->jupyter-server<3,>=2.4.0->jupyterlab->jupyter->-r /content/programmingbitcoin/requirements.txt (line 1))\n",
            "  Downloading arrow-1.3.0-py3-none-any.whl.metadata (7.5 kB)\n",
            "Collecting types-python-dateutil>=2.8.10 (from arrow>=0.15.0->isoduration->jsonschema[format-nongpl]>=4.18.0->jupyter-events>=0.11.0->jupyter-server<3,>=2.4.0->jupyterlab->jupyter->-r /content/programmingbitcoin/requirements.txt (line 1))\n",
            "  Downloading types_python_dateutil-2.9.0.20241206-py3-none-any.whl.metadata (2.1 kB)\n",
            "Downloading jupyter-1.1.1-py2.py3-none-any.whl (2.7 kB)\n",
            "Downloading jupyterlab-4.3.5-py3-none-any.whl (11.7 MB)\n",
            "\u001b[2K   \u001b[90m━━━━━━━━━━━━━━━━━━━━━━━━━━━━━━━━━━━━━━━━\u001b[0m \u001b[32m11.7/11.7 MB\u001b[0m \u001b[31m9.3 MB/s\u001b[0m eta \u001b[36m0:00:00\u001b[0m\n",
            "\u001b[?25hDownloading async_lru-2.0.4-py3-none-any.whl (6.1 kB)\n",
            "Downloading jupyter_lsp-2.2.5-py3-none-any.whl (69 kB)\n",
            "\u001b[2K   \u001b[90m━━━━━━━━━━━━━━━━━━━━━━━━━━━━━━━━━━━━━━━━\u001b[0m \u001b[32m69.1/69.1 kB\u001b[0m \u001b[31m4.3 MB/s\u001b[0m eta \u001b[36m0:00:00\u001b[0m\n",
            "\u001b[?25hDownloading jupyter_server-2.15.0-py3-none-any.whl (385 kB)\n",
            "\u001b[2K   \u001b[90m━━━━━━━━━━━━━━━━━━━━━━━━━━━━━━━━━━━━━━━━\u001b[0m \u001b[32m385.8/385.8 kB\u001b[0m \u001b[31m8.3 MB/s\u001b[0m eta \u001b[36m0:00:00\u001b[0m\n",
            "\u001b[?25hDownloading jupyter_client-7.4.9-py3-none-any.whl (133 kB)\n",
            "\u001b[2K   \u001b[90m━━━━━━━━━━━━━━━━━━━━━━━━━━━━━━━━━━━━━━━━\u001b[0m \u001b[32m133.5/133.5 kB\u001b[0m \u001b[31m8.4 MB/s\u001b[0m eta \u001b[36m0:00:00\u001b[0m\n",
            "\u001b[?25hDownloading jupyterlab_server-2.27.3-py3-none-any.whl (59 kB)\n",
            "\u001b[2K   \u001b[90m━━━━━━━━━━━━━━━━━━━━━━━━━━━━━━━━━━━━━━━━\u001b[0m \u001b[32m59.7/59.7 kB\u001b[0m \u001b[31m4.5 MB/s\u001b[0m eta \u001b[36m0:00:00\u001b[0m\n",
            "\u001b[?25hDownloading jedi-0.19.2-py2.py3-none-any.whl (1.6 MB)\n",
            "\u001b[2K   \u001b[90m━━━━━━━━━━━━━━━━━━━━━━━━━━━━━━━━━━━━━━━━\u001b[0m \u001b[32m1.6/1.6 MB\u001b[0m \u001b[31m11.6 MB/s\u001b[0m eta \u001b[36m0:00:00\u001b[0m\n",
            "\u001b[?25hDownloading json5-0.10.0-py3-none-any.whl (34 kB)\n",
            "Downloading jupyter_events-0.12.0-py3-none-any.whl (19 kB)\n",
            "Downloading jupyter_server_terminals-0.5.3-py3-none-any.whl (13 kB)\n",
            "Downloading overrides-7.7.0-py3-none-any.whl (17 kB)\n",
            "Downloading python_json_logger-3.2.1-py3-none-any.whl (14 kB)\n",
            "Downloading rfc3986_validator-0.1.1-py2.py3-none-any.whl (4.2 kB)\n",
            "Downloading rfc3339_validator-0.1.4-py2.py3-none-any.whl (3.5 kB)\n",
            "Downloading fqdn-1.5.1-py3-none-any.whl (9.1 kB)\n",
            "Downloading isoduration-20.11.0-py3-none-any.whl (11 kB)\n",
            "Downloading uri_template-1.3.0-py3-none-any.whl (11 kB)\n",
            "Downloading arrow-1.3.0-py3-none-any.whl (66 kB)\n",
            "\u001b[2K   \u001b[90m━━━━━━━━━━━━━━━━━━━━━━━━━━━━━━━━━━━━━━━━\u001b[0m \u001b[32m66.4/66.4 kB\u001b[0m \u001b[31m3.7 MB/s\u001b[0m eta \u001b[36m0:00:00\u001b[0m\n",
            "\u001b[?25hDownloading types_python_dateutil-2.9.0.20241206-py3-none-any.whl (14 kB)\n",
            "Installing collected packages: uri-template, types-python-dateutil, rfc3986-validator, rfc3339-validator, python-json-logger, overrides, json5, jedi, fqdn, async-lru, jupyter-server-terminals, jupyter-client, arrow, isoduration, jupyter-events, jupyter-server, jupyterlab-server, jupyter-lsp, jupyterlab, jupyter\n",
            "  Attempting uninstall: jupyter-client\n",
            "    Found existing installation: jupyter-client 6.1.12\n",
            "    Uninstalling jupyter-client-6.1.12:\n",
            "      Successfully uninstalled jupyter-client-6.1.12\n",
            "  Attempting uninstall: jupyter-server\n",
            "    Found existing installation: jupyter-server 1.24.0\n",
            "    Uninstalling jupyter-server-1.24.0:\n",
            "      Successfully uninstalled jupyter-server-1.24.0\n",
            "Successfully installed arrow-1.3.0 async-lru-2.0.4 fqdn-1.5.1 isoduration-20.11.0 jedi-0.19.2 json5-0.10.0 jupyter-1.1.1 jupyter-client-7.4.9 jupyter-events-0.12.0 jupyter-lsp-2.2.5 jupyter-server-2.15.0 jupyter-server-terminals-0.5.3 jupyterlab-4.3.5 jupyterlab-server-2.27.3 overrides-7.7.0 python-json-logger-3.2.1 rfc3339-validator-0.1.4 rfc3986-validator-0.1.1 types-python-dateutil-2.9.0.20241206 uri-template-1.3.0\n"
          ]
        }
      ]
    },
    {
      "cell_type": "markdown",
      "source": [
        "Need to change directory to ch1 to access all packages within in, specifically, colab is struggling to find run form the 'helper' package."
      ],
      "metadata": {
        "id": "Vmp-JIRhutvf"
      }
    },
    {
      "cell_type": "code",
      "source": [
        "ls"
      ],
      "metadata": {
        "colab": {
          "base_uri": "https://localhost:8080/"
        },
        "id": "qtIFd07Gfm35",
        "outputId": "ad15ace8-b239-4c66-a511-1a6bc1c0efd7"
      },
      "execution_count": 7,
      "outputs": [
        {
          "output_type": "stream",
          "name": "stdout",
          "text": [
            "answers.py  crudolph_Chapter1.ipynb  ecc.py  examples.py  helper.py  jupyter.txt\n"
          ]
        }
      ]
    },
    {
      "cell_type": "markdown",
      "source": [
        "Need to change `from helper.py import run` to `from helper import run`.\n",
        "\n",
        "This is due to the difference between running a google colab notebook and a jupyter notebook.\n",
        "\n",
        "After restarting the kernel and running everything with the updated import code, I was getting another advising that it cannot be imported. Instead, I'm trying to just `import helper`.\n",
        "\n",
        "The difference in using `from ... import` and just using `import` is the latter requires a prefix from the module. i.e.:\n",
        "\n",
        "`run(ecc.FieldElementTest(\"test_ne\"))`\n",
        "\n",
        "vs\n",
        "\n",
        "`helper.run(ecc.FieldElementTest(\"test_ne\"))`\n",
        "\n",
        "---\n",
        "\n",
        "The issue was the `helper` function was not installed in this instance. I'm unsure whether the ``!pip install helper` is the same module as in the directory."
      ],
      "metadata": {
        "id": "fz8ZWcRdwD2m"
      }
    },
    {
      "cell_type": "code",
      "source": [
        "!pip install helper"
      ],
      "metadata": {
        "id": "ptFr7-oBvzzb",
        "colab": {
          "base_uri": "https://localhost:8080/"
        },
        "outputId": "a004c2ea-81c7-44d6-c9aa-3bbc74b51399"
      },
      "execution_count": 8,
      "outputs": [
        {
          "output_type": "stream",
          "name": "stdout",
          "text": [
            "Collecting helper\n",
            "  Downloading helper-2.5.0.tar.gz (18 kB)\n",
            "  Preparing metadata (setup.py) ... \u001b[?25l\u001b[?25hdone\n",
            "Requirement already satisfied: pyyaml in /usr/local/lib/python3.11/dist-packages (from helper) (6.0.2)\n",
            "Building wheels for collected packages: helper\n",
            "  Building wheel for helper (setup.py) ... \u001b[?25l\u001b[?25hdone\n",
            "  Created wheel for helper: filename=helper-2.5.0-py2.py3-none-any.whl size=19168 sha256=9494500456e08f56ebed265f0cd1e870498940b09aa9f54909f99a0941f2a721\n",
            "  Stored in directory: /root/.cache/pip/wheels/8b/ab/a7/06bcd4f2d89113bb7b0caaf5562aa209a27863d8cccb07a1bc\n",
            "Successfully built helper\n",
            "Installing collected packages: helper\n",
            "Successfully installed helper-2.5.0\n"
          ]
        }
      ]
    },
    {
      "cell_type": "code",
      "source": [
        "ls"
      ],
      "metadata": {
        "colab": {
          "base_uri": "https://localhost:8080/"
        },
        "id": "Y8fmXZWqfunH",
        "outputId": "2fdc6bad-4381-4439-df5f-4aca6a6bc0e6"
      },
      "execution_count": 9,
      "outputs": [
        {
          "output_type": "stream",
          "name": "stdout",
          "text": [
            "answers.py  crudolph_Chapter1.ipynb  ecc.py  examples.py  helper.py  jupyter.txt\n"
          ]
        }
      ]
    },
    {
      "cell_type": "markdown",
      "source": [
        "### Imports"
      ],
      "metadata": {
        "id": "3C-rNwRFR-9S"
      }
    },
    {
      "cell_type": "code",
      "execution_count": 10,
      "metadata": {
        "id": "fgmImaoMmnY3"
      },
      "outputs": [],
      "source": [
        "############## PLEASE RUN THIS CELL FIRST! ###################\n",
        "\n",
        "# import everything and define a test runner function\n",
        "from importlib import reload\n",
        "import ecc\n",
        "import helper\n",
        "from helper import run\n",
        "\n",
        "from ecc import FieldElement"
      ]
    },
    {
      "cell_type": "markdown",
      "source": [
        "Seems like the main issue is the arrangement of the import codes. Importing all of `Helper` then specifying the `run` function seems to have solved the issue."
      ],
      "metadata": {
        "id": "MnTknfEqhGdn"
      }
    },
    {
      "cell_type": "code",
      "execution_count": 11,
      "metadata": {
        "id": "PHnJYpftmnY4",
        "colab": {
          "base_uri": "https://localhost:8080/"
        },
        "outputId": "edd3ce73-f68b-4058-8f2c-d79bd8ea289f"
      },
      "outputs": [
        {
          "output_type": "stream",
          "name": "stdout",
          "text": [
            "False\n",
            "True\n"
          ]
        }
      ],
      "source": [
        "a = FieldElement(7, 13)\n",
        "b = FieldElement(6, 13)\n",
        "print(a == b)\n",
        "print(a == a)"
      ]
    },
    {
      "cell_type": "markdown",
      "metadata": {
        "id": "yMKBgEIumnY5"
      },
      "source": [
        "### Exercise 1"
      ]
    },
    {
      "cell_type": "markdown",
      "source": [
        "\n",
        "Write the corresponding method `__ne__` which checks if two `FieldElement` objects are _not equal_ to each other.\n",
        "\n",
        "Make [this test](/edit/code-ch01/ecc.py) pass: `ecc.py:FieldElementTest:test_ne`"
      ],
      "metadata": {
        "id": "4MKcsg-1g6Ra"
      }
    },
    {
      "cell_type": "markdown",
      "source": [
        "---\n",
        "What this exercise is asking you to do is to modify the `__ne__` method such that is passes the `test_ne` test."
      ],
      "metadata": {
        "id": "a4G3hbzUxIuQ"
      }
    },
    {
      "cell_type": "markdown",
      "source": [
        "Running the below will cause the test to fail as the method is 'raising' a 'notImplementedError'."
      ],
      "metadata": {
        "id": "bst3gsoaxZl1"
      }
    },
    {
      "cell_type": "code",
      "execution_count": 12,
      "metadata": {
        "id": "R60At6SDmnY5",
        "colab": {
          "base_uri": "https://localhost:8080/"
        },
        "outputId": "afdef5f3-5d3f-4163-cfa5-ffa8f7e29a74"
      },
      "outputs": [
        {
          "output_type": "stream",
          "name": "stderr",
          "text": [
            ".\n",
            "----------------------------------------------------------------------\n",
            "Ran 1 test in 0.001s\n",
            "\n",
            "OK\n"
          ]
        }
      ],
      "source": [
        "# Exercise 1\n",
        "from helper import run\n",
        "reload(ecc)\n",
        "run(ecc.FieldElementTest(\"test_ne\"))"
      ]
    },
    {
      "cell_type": "markdown",
      "source": [
        "Now we must go into the `ecc.py` to modify the method `__ne__`"
      ],
      "metadata": {
        "id": "8wFd5kSVxnaV"
      }
    },
    {
      "cell_type": "markdown",
      "source": [
        "The test ran 3 assertions, being the following:\n",
        "\n",
        "`self.assertEqual(a, b)`\n",
        "\n",
        "\n",
        "`self.assertTrue(a != c)`\n",
        "\n",
        "`self.assertFalse(a != b)`\n",
        "\n",
        "These are the conditions for finite field elements."
      ],
      "metadata": {
        "id": "pKzfK3lr0XBb"
      }
    },
    {
      "cell_type": "markdown",
      "source": [
        "### Modulo arithmetic"
      ],
      "metadata": {
        "id": "mrRkJbta1mDB"
      }
    },
    {
      "cell_type": "markdown",
      "source": [
        "The `%` operator is called the modulo operator. It determines the remainder of the division operation. The remainder repesents how many decimal points there are before repetition."
      ],
      "metadata": {
        "id": "xb9idrlY1ww1"
      }
    },
    {
      "cell_type": "code",
      "execution_count": 13,
      "metadata": {
        "id": "BttcUS9xmnY6",
        "colab": {
          "base_uri": "https://localhost:8080/"
        },
        "outputId": "18d56743-8051-4070-d586-ec892c94b22d"
      },
      "outputs": [
        {
          "output_type": "stream",
          "name": "stdout",
          "text": [
            "1\n"
          ]
        }
      ],
      "source": [
        "print(7 % 3)"
      ]
    },
    {
      "cell_type": "code",
      "execution_count": 14,
      "metadata": {
        "id": "pNpsTH4wmnY6",
        "colab": {
          "base_uri": "https://localhost:8080/"
        },
        "outputId": "079d033f-32a9-4e98-dcc8-71b605b940b0"
      },
      "outputs": [
        {
          "output_type": "stream",
          "name": "stdout",
          "text": [
            "12\n"
          ]
        }
      ],
      "source": [
        "print(-27 % 13)"
      ]
    },
    {
      "cell_type": "markdown",
      "metadata": {
        "id": "fqAiXhnPmnY6"
      },
      "source": [
        "### Exercise 2\n"
      ]
    },
    {
      "cell_type": "markdown",
      "source": [
        "\n",
        "Solve these problems in \\\\(F_{57}\\\\)(finite field of order 57)  (assume all +'s here are \\\\(+_{f}\\\\) and -`s here are \\\\(-_{f}\\\\)).\n",
        "\n",
        "\n",
        "\n",
        "* 44+33\n",
        "* 9-29\n",
        "* 17+42+49\n",
        "* 52-30-38\n",
        "\n",
        "a\\\\(+_{f}\\\\)b = (a+b)%p"
      ],
      "metadata": {
        "id": "xtAhdCn-Sd_T"
      }
    },
    {
      "cell_type": "code",
      "execution_count": 15,
      "metadata": {
        "id": "vb5Cty7ImnY6",
        "colab": {
          "base_uri": "https://localhost:8080/"
        },
        "outputId": "7d807ebd-0aab-4b79-abc9-7f2b152634bb"
      },
      "outputs": [
        {
          "output_type": "stream",
          "name": "stdout",
          "text": [
            "20\n",
            "37\n",
            "51\n",
            "41\n"
          ]
        }
      ],
      "source": [
        "# Exercise 2\n",
        "\n",
        "# remember that % is the modulo operator\n",
        "prime = 57\n",
        "# 44+33\n",
        "print((44+33)%prime)\n",
        "# 9-29\n",
        "print((9-29)%prime)\n",
        "# 17+42+49\n",
        "print((17+42+49)%prime)\n",
        "# 52-30-38\n",
        "print((52-30-38)%prime)"
      ]
    },
    {
      "cell_type": "markdown",
      "source": [
        "Testing the FieldElement class, using the `prime` number (finite field order) from above"
      ],
      "metadata": {
        "id": "z7PQ-eIEI8Kx"
      }
    },
    {
      "cell_type": "markdown",
      "source": [
        "This will return an error as 58 is not an element of prime\n",
        "\n",
        "`FieldElement(58, prime)`\n",
        "\n",
        "The output format for this class is essentially letting you know the number is an element of the finite element with order prime."
      ],
      "metadata": {
        "id": "Bc2-ogcoIqfN"
      }
    },
    {
      "cell_type": "code",
      "source": [
        "print(((17+42)+49)%57)\n",
        "a = 17+42\n",
        "b = 49\n",
        "number = (a+b)%prime\n",
        "FieldElement(number, prime)"
      ],
      "metadata": {
        "id": "2a2gRASZKGRS",
        "colab": {
          "base_uri": "https://localhost:8080/"
        },
        "outputId": "72187204-6105-4631-c86c-497e2639904e"
      },
      "execution_count": 16,
      "outputs": [
        {
          "output_type": "stream",
          "name": "stdout",
          "text": [
            "51\n"
          ]
        },
        {
          "output_type": "execute_result",
          "data": {
            "text/plain": [
              "FieldElement_57(51)"
            ]
          },
          "metadata": {},
          "execution_count": 16
        }
      ]
    },
    {
      "cell_type": "markdown",
      "source": [
        "51 is the remainder and it is an element of the field."
      ],
      "metadata": {
        "id": "4RYRzt9gKwlV"
      }
    },
    {
      "cell_type": "markdown",
      "source": [
        "### Coding addition and subtraction"
      ],
      "metadata": {
        "id": "LhnD85PJMdSt"
      }
    },
    {
      "cell_type": "markdown",
      "source": [
        "Using the `FieldElement()` function to showcase addition, subtraction and equivalence."
      ],
      "metadata": {
        "id": "7VEZ4f5813_K"
      }
    },
    {
      "cell_type": "code",
      "execution_count": 17,
      "metadata": {
        "id": "cYUunTs7mnY6",
        "colab": {
          "base_uri": "https://localhost:8080/"
        },
        "outputId": "288e0719-3c7a-42e6-db65-85faa417de6c"
      },
      "outputs": [
        {
          "output_type": "stream",
          "name": "stdout",
          "text": [
            "True\n"
          ]
        }
      ],
      "source": [
        "from ecc import FieldElement\n",
        "prime = 13\n",
        "a = FieldElement(7, prime)\n",
        "b = FieldElement(12, prime)\n",
        "c = FieldElement(6, prime)\n",
        "print(a+b==c)"
      ]
    },
    {
      "cell_type": "markdown",
      "source": [
        "Looking at a+b==c"
      ],
      "metadata": {
        "id": "YJ7H89U4Mw-Q"
      }
    },
    {
      "cell_type": "code",
      "source": [
        "(7+12)%prime"
      ],
      "metadata": {
        "id": "zQ9aVZqMNn9Z",
        "colab": {
          "base_uri": "https://localhost:8080/"
        },
        "outputId": "47b7d05d-acc3-4879-a4a4-c6565a03cf18"
      },
      "execution_count": 18,
      "outputs": [
        {
          "output_type": "execute_result",
          "data": {
            "text/plain": [
              "6"
            ]
          },
          "metadata": {},
          "execution_count": 18
        }
      ]
    },
    {
      "cell_type": "markdown",
      "source": [
        "The above demontrates the modulo of an addition is contained in a finite field of order 13."
      ],
      "metadata": {
        "id": "C7knGBjv2FI_"
      }
    },
    {
      "cell_type": "markdown",
      "source": [
        "We can do addition with the `__add__` method, rather than the conventional `+` symbol."
      ],
      "metadata": {
        "id": "XP1wR0qP2lWz"
      }
    },
    {
      "cell_type": "markdown",
      "metadata": {
        "id": "dTk868XdmnY6"
      },
      "source": [
        "### Exercise 3"
      ]
    },
    {
      "cell_type": "markdown",
      "source": [
        "\n",
        "Write the corresponding `__sub__` method which defines the subtraction of two `FieldElement` objects.\n",
        "\n",
        "Make [this test](/edit/code-ch01/ecc.py) pass: `ecc.py:FieldElementTest:test_sub`"
      ],
      "metadata": {
        "id": "oZ6GFK4DSoKS"
      }
    },
    {
      "cell_type": "markdown",
      "source": [
        "very simply done, just change the definition of the `__sub__` method such that it contains the rules for finite field subtraction."
      ],
      "metadata": {
        "id": "C2wV3egHSrFE"
      }
    },
    {
      "cell_type": "code",
      "execution_count": 19,
      "metadata": {
        "id": "_UiIMaR_mnY7",
        "colab": {
          "base_uri": "https://localhost:8080/"
        },
        "outputId": "32c6e563-25f9-4bbe-998c-176620412b64"
      },
      "outputs": [
        {
          "output_type": "stream",
          "name": "stderr",
          "text": [
            ".\n",
            "----------------------------------------------------------------------\n",
            "Ran 1 test in 0.001s\n",
            "\n",
            "OK\n"
          ]
        }
      ],
      "source": [
        "# Exercise 3\n",
        "\n",
        "reload(ecc)\n",
        "run(ecc.FieldElementTest(\"test_sub\"))"
      ]
    },
    {
      "cell_type": "markdown",
      "metadata": {
        "id": "82_qR6kDmnY7"
      },
      "source": [
        "### Exercise 4"
      ]
    },
    {
      "cell_type": "markdown",
      "source": [
        "Solve the following equations in \\\\(F_{97}\\\\) (again, assume ⋅ and exponentiation are field versions):\n",
        "\n",
        "* 95⋅45⋅31\n",
        "* 17⋅13⋅19⋅44\n",
        "* \\\\(12^{7}\\\\)⋅\\\\(77^{49}\\\\)"
      ],
      "metadata": {
        "id": "E9rJOB-8UhzM"
      }
    },
    {
      "cell_type": "code",
      "execution_count": 20,
      "metadata": {
        "id": "6gLisjvrmnY7",
        "colab": {
          "base_uri": "https://localhost:8080/"
        },
        "outputId": "570f71e1-0dfc-44a8-eb05-5b8c46307609"
      },
      "outputs": [
        {
          "output_type": "stream",
          "name": "stdout",
          "text": [
            "23\n",
            "68\n",
            "63\n"
          ]
        }
      ],
      "source": [
        "# Exercise 4\n",
        "\n",
        "prime = 97\n",
        "\n",
        "# 95*45*31\n",
        "print((95*45*31)%prime)\n",
        "# 17*13*19*44\n",
        "print((17*13*19*44)%prime)\n",
        "# 12**7*77**49\n",
        "print((12**7*77**49)%prime)"
      ]
    },
    {
      "cell_type": "markdown",
      "source": [
        "Using the `FieldElement` class to determine if the modulo is an element of the finite field."
      ],
      "metadata": {
        "id": "apU09FKzVquI"
      }
    },
    {
      "cell_type": "code",
      "source": [
        "FieldElement((95*45*31)%prime, prime)"
      ],
      "metadata": {
        "id": "u4jOOdGQVMlj",
        "colab": {
          "base_uri": "https://localhost:8080/"
        },
        "outputId": "5fd77afd-f3e8-4909-b251-3c08ca81fc2a"
      },
      "execution_count": 21,
      "outputs": [
        {
          "output_type": "execute_result",
          "data": {
            "text/plain": [
              "FieldElement_97(23)"
            ]
          },
          "metadata": {},
          "execution_count": 21
        }
      ]
    },
    {
      "cell_type": "code",
      "source": [
        "FieldElement((17*13*19*44)%prime, prime)"
      ],
      "metadata": {
        "id": "9shADlp_VfUY",
        "colab": {
          "base_uri": "https://localhost:8080/"
        },
        "outputId": "13d8e9d7-dd8c-4bbb-a064-f2b754bc44ef"
      },
      "execution_count": 22,
      "outputs": [
        {
          "output_type": "execute_result",
          "data": {
            "text/plain": [
              "FieldElement_97(68)"
            ]
          },
          "metadata": {},
          "execution_count": 22
        }
      ]
    },
    {
      "cell_type": "code",
      "source": [
        "FieldElement((12**7*77**49)%prime, prime)"
      ],
      "metadata": {
        "id": "oGso97wmVYWH",
        "colab": {
          "base_uri": "https://localhost:8080/"
        },
        "outputId": "5bc76362-fa57-4c83-f7ef-e8102a005526"
      },
      "execution_count": 23,
      "outputs": [
        {
          "output_type": "execute_result",
          "data": {
            "text/plain": [
              "FieldElement_97(63)"
            ]
          },
          "metadata": {},
          "execution_count": 23
        }
      ]
    },
    {
      "cell_type": "code",
      "source": [
        "FieldElement((12**7*77**99)%prime, prime)"
      ],
      "metadata": {
        "id": "ClSKJ5lbWJ8L",
        "colab": {
          "base_uri": "https://localhost:8080/"
        },
        "outputId": "e14c900a-efa0-4828-acae-cd01d11000fa"
      },
      "execution_count": 24,
      "outputs": [
        {
          "output_type": "execute_result",
          "data": {
            "text/plain": [
              "FieldElement_97(20)"
            ]
          },
          "metadata": {},
          "execution_count": 24
        }
      ]
    },
    {
      "cell_type": "markdown",
      "metadata": {
        "id": "poSXQ-WxmnY7"
      },
      "source": [
        "### Exercise 5\n",
        "\n"
      ]
    },
    {
      "cell_type": "markdown",
      "source": [
        "For k = 1, 3, 7, 13, 18, what is this set in \\\\(F_{19}\\\\)?\n",
        "\n",
        "{k⋅0, k⋅1, k⋅2, k⋅3, ... k⋅18}\n",
        "\n",
        "Do you notice anything about these sets?"
      ],
      "metadata": {
        "id": "GN91kE_FW8yj"
      }
    },
    {
      "cell_type": "code",
      "source": [
        "for k in range(0,19):\n",
        "  print(k)"
      ],
      "metadata": {
        "id": "k4JCQ4CgX3nG",
        "colab": {
          "base_uri": "https://localhost:8080/"
        },
        "outputId": "6f1dfa7d-0480-4c94-fa9e-1ccc09d48e0c"
      },
      "execution_count": 25,
      "outputs": [
        {
          "output_type": "stream",
          "name": "stdout",
          "text": [
            "0\n",
            "1\n",
            "2\n",
            "3\n",
            "4\n",
            "5\n",
            "6\n",
            "7\n",
            "8\n",
            "9\n",
            "10\n",
            "11\n",
            "12\n",
            "13\n",
            "14\n",
            "15\n",
            "16\n",
            "17\n",
            "18\n"
          ]
        }
      ]
    },
    {
      "cell_type": "code",
      "execution_count": 26,
      "metadata": {
        "id": "E0SYrgkfmnY7",
        "colab": {
          "base_uri": "https://localhost:8080/"
        },
        "outputId": "04102908-db2a-4c50-a39f-792fabc5be20"
      },
      "outputs": [
        {
          "output_type": "stream",
          "name": "stdout",
          "text": [
            "[0, 1, 2, 3, 4, 5, 6, 7, 8, 9, 10, 11, 12, 13, 14, 15, 16, 17, 18, 0, 3, 6, 9, 12, 15, 18, 2, 5, 8, 11, 14, 17, 1, 4, 7, 10, 13, 16, 0, 7, 14, 2, 9, 16, 4, 11, 18, 6, 13, 1, 8, 15, 3, 10, 17, 5, 12, 0, 13, 7, 1, 14, 8, 2, 15, 9, 3, 16, 10, 4, 17, 11, 5, 18, 12, 6, 0, 18, 17, 16, 15, 14, 13, 12, 11, 10, 9, 8, 7, 6, 5, 4, 3, 2, 1]\n"
          ]
        }
      ],
      "source": [
        "# Exercise 5\n",
        "\n",
        "prime = 19\n",
        "k = [1, 3, 7, 13, 18]\n",
        "mySet = []\n",
        "# loop through all possible k's 0 up to prime-1\n",
        "# calculate k*iterator % prime\n",
        "for k in k:\n",
        "  for num in range(0,19):\n",
        "    mySet.append((k*num)%prime)\n",
        "print(mySet)"
      ]
    },
    {
      "cell_type": "markdown",
      "source": [
        "Using a dictionary to better display the results"
      ],
      "metadata": {
        "id": "r6H-rJPyZIJ6"
      }
    },
    {
      "cell_type": "code",
      "source": [
        "prime = 19\n",
        "k_values = [1, 3, 7, 13, 18]\n",
        "results = {}  # Initialize an empty dictionary\n",
        "\n",
        "for k in k_values:\n",
        "    results[k] = [(k * num) % prime for num in range(0, 19)]\n",
        "\n",
        "# Print results vertically with horizontal elements for each k\n",
        "for k in results:\n",
        "    print(f\"k = {k}:\", ' '.join(map(str, results[k])))"
      ],
      "metadata": {
        "id": "fAzsz2gaYsdg",
        "colab": {
          "base_uri": "https://localhost:8080/"
        },
        "outputId": "3590ce8d-fecf-4545-ca66-e33499cdd8e6"
      },
      "execution_count": 27,
      "outputs": [
        {
          "output_type": "stream",
          "name": "stdout",
          "text": [
            "k = 1: 0 1 2 3 4 5 6 7 8 9 10 11 12 13 14 15 16 17 18\n",
            "k = 3: 0 3 6 9 12 15 18 2 5 8 11 14 17 1 4 7 10 13 16\n",
            "k = 7: 0 7 14 2 9 16 4 11 18 6 13 1 8 15 3 10 17 5 12\n",
            "k = 13: 0 13 7 1 14 8 2 15 9 3 16 10 4 17 11 5 18 12 6\n",
            "k = 18: 0 18 17 16 15 14 13 12 11 10 9 8 7 6 5 4 3 2 1\n"
          ]
        }
      ]
    },
    {
      "cell_type": "markdown",
      "source": [
        "Since the `prime` value is that of the range we're interested in, we can use that for the `num` range."
      ],
      "metadata": {
        "id": "hFOj258CZk6Q"
      }
    },
    {
      "cell_type": "code",
      "source": [
        "prime = 19\n",
        "k_values = [1, 3, 7, 13, 18]\n",
        "results = {}  # Initialize an empty dictionary\n",
        "\n",
        "for k in k_values:\n",
        "    results[k] = [(k * num) % prime for num in range(prime)] # prime is the size of the range.\n",
        "\n",
        "# Print results vertically with horizontal elements for each k\n",
        "for k in results:\n",
        "    print(f\"k = {k}:\", ' '.join(map(str, results[k])))"
      ],
      "metadata": {
        "id": "U-DbC_05ZrQC",
        "colab": {
          "base_uri": "https://localhost:8080/"
        },
        "outputId": "c89f2227-336c-446d-edfe-c763b6ecea80"
      },
      "execution_count": 28,
      "outputs": [
        {
          "output_type": "stream",
          "name": "stdout",
          "text": [
            "k = 1: 0 1 2 3 4 5 6 7 8 9 10 11 12 13 14 15 16 17 18\n",
            "k = 3: 0 3 6 9 12 15 18 2 5 8 11 14 17 1 4 7 10 13 16\n",
            "k = 7: 0 7 14 2 9 16 4 11 18 6 13 1 8 15 3 10 17 5 12\n",
            "k = 13: 0 13 7 1 14 8 2 15 9 3 16 10 4 17 11 5 18 12 6\n",
            "k = 18: 0 18 17 16 15 14 13 12 11 10 9 8 7 6 5 4 3 2 1\n"
          ]
        }
      ]
    },
    {
      "cell_type": "markdown",
      "source": [
        "Do you notice anything about these sets?\n",
        "\n",
        "If we analyse the set, starting with sorting them, we may notice something."
      ],
      "metadata": {
        "id": "-JN7uRqnZ6xI"
      }
    },
    {
      "cell_type": "code",
      "source": [
        "prime = 19\n",
        "k_values = [1, 3, 7, 13, 18]\n",
        "results = {}  # Initialize an empty dictionary\n",
        "\n",
        "for k in k_values:\n",
        "    results[k] = sorted([(k * num) % prime for num in range(prime)]) # prime is the size of the range.\n",
        "\n",
        "# Print results vertically with horizontal elements for each k\n",
        "for k in results:\n",
        "    print(f\"k = {k}:\", ' '.join(map(str, results[k])))"
      ],
      "metadata": {
        "id": "_JbJaFEfZ8cR",
        "colab": {
          "base_uri": "https://localhost:8080/"
        },
        "outputId": "14b4c8ed-c489-4d34-ac90-61f21deec0bb"
      },
      "execution_count": 29,
      "outputs": [
        {
          "output_type": "stream",
          "name": "stdout",
          "text": [
            "k = 1: 0 1 2 3 4 5 6 7 8 9 10 11 12 13 14 15 16 17 18\n",
            "k = 3: 0 1 2 3 4 5 6 7 8 9 10 11 12 13 14 15 16 17 18\n",
            "k = 7: 0 1 2 3 4 5 6 7 8 9 10 11 12 13 14 15 16 17 18\n",
            "k = 13: 0 1 2 3 4 5 6 7 8 9 10 11 12 13 14 15 16 17 18\n",
            "k = 18: 0 1 2 3 4 5 6 7 8 9 10 11 12 13 14 15 16 17 18\n"
          ]
        }
      ]
    },
    {
      "cell_type": "markdown",
      "source": [
        "When sorted we see the results are all contained within the set.\n",
        "\n",
        "That's because the values in *k* are all elements of the finite field.\n",
        "\n",
        "Therefore, any number within a finite field, multiplied by a number within the same finite field, produces an element within the finite field."
      ],
      "metadata": {
        "id": "MARfo71Bac9s"
      }
    },
    {
      "cell_type": "markdown",
      "metadata": {
        "id": "uxNdoP9TmnY8"
      },
      "source": [
        "### Exercise 6"
      ]
    },
    {
      "cell_type": "markdown",
      "source": [
        "Write the corresponding `__mul__` method which defines the multiplication of two Finite Field elements.\n",
        "\n",
        "Make [this test](/edit/code-ch01/ecc.py) pass: `ecc.py:FieldElementTest:test_mul`"
      ],
      "metadata": {
        "id": "G6SjoWNwc1yY"
      }
    },
    {
      "cell_type": "code",
      "execution_count": 30,
      "metadata": {
        "id": "QUH2G-nrmnY8",
        "colab": {
          "base_uri": "https://localhost:8080/"
        },
        "outputId": "75c82948-55a3-4d55-8171-04c01ad23da5"
      },
      "outputs": [
        {
          "output_type": "stream",
          "name": "stderr",
          "text": [
            ".\n",
            "----------------------------------------------------------------------\n",
            "Ran 1 test in 0.002s\n",
            "\n",
            "OK\n"
          ]
        }
      ],
      "source": [
        "# Exercise 6\n",
        "\n",
        "reload(ecc)\n",
        "run(ecc.FieldElementTest(\"test_mul\"))"
      ]
    },
    {
      "cell_type": "code",
      "source": [
        "reload(ecc)"
      ],
      "metadata": {
        "colab": {
          "base_uri": "https://localhost:8080/"
        },
        "id": "qe_3QUdtpqGL",
        "outputId": "a66cda0f-a14c-497a-8a79-7bcbfd24049e"
      },
      "execution_count": 31,
      "outputs": [
        {
          "output_type": "execute_result",
          "data": {
            "text/plain": [
              "<module 'ecc' from '/content/programmingbitcoin/code-ch01/ecc.py'>"
            ]
          },
          "metadata": {},
          "execution_count": 31
        }
      ]
    },
    {
      "cell_type": "code",
      "source": [
        "from ecc import FieldElement"
      ],
      "metadata": {
        "id": "0WundtVLptOK"
      },
      "execution_count": 32,
      "outputs": []
    },
    {
      "cell_type": "code",
      "source": [
        "a2 = FieldElement(3, 13)\n",
        "b2 = FieldElement(12, 13)\n",
        "c2 = FieldElement(10, 13)\n",
        "print(a2*b2==c2)"
      ],
      "metadata": {
        "colab": {
          "base_uri": "https://localhost:8080/"
        },
        "id": "xtHdW3tzBW_c",
        "outputId": "e91c8f08-30ea-4f9f-a224-f2adc3dcc925"
      },
      "execution_count": 33,
      "outputs": [
        {
          "output_type": "stream",
          "name": "stdout",
          "text": [
            "True\n"
          ]
        }
      ]
    },
    {
      "cell_type": "code",
      "execution_count": 34,
      "metadata": {
        "id": "G6fJRW90mnY8",
        "colab": {
          "base_uri": "https://localhost:8080/"
        },
        "outputId": "f1e8c1fb-8ace-49ea-d338-c02051b00010"
      },
      "outputs": [
        {
          "output_type": "stream",
          "name": "stdout",
          "text": [
            "True\n"
          ]
        }
      ],
      "source": [
        "from ecc import FieldElement\n",
        "a = FieldElement(3, 13)\n",
        "b = FieldElement(1, 13)\n",
        "print(a**3==b)"
      ]
    },
    {
      "cell_type": "markdown",
      "metadata": {
        "id": "CCeJyUm9mnY8"
      },
      "source": [
        "### Exercise 7"
      ]
    },
    {
      "cell_type": "markdown",
      "source": [
        "For p = 7, 11, 17, 31, what is this set in \\\\(F_{p}\\\\)?\n",
        "\n",
        "{\\\\(1^{(p-1)}\\\\), \\\\(2^{(p-1)}\\\\), \\\\(3^{(p-1)}\\\\), \\\\(4^{(p-1)}\\\\), ... \\\\((p-1)^{(p-1)}\\\\)}"
      ],
      "metadata": {
        "id": "cxMCggVyc4tq"
      }
    },
    {
      "cell_type": "code",
      "source": [
        "for num in range(1,7):\n",
        "  print(num)"
      ],
      "metadata": {
        "id": "oJnq3OUfmkWZ",
        "colab": {
          "base_uri": "https://localhost:8080/"
        },
        "outputId": "13bbff21-ef72-45ab-a316-e7e5969f35b9"
      },
      "execution_count": 35,
      "outputs": [
        {
          "output_type": "stream",
          "name": "stdout",
          "text": [
            "1\n",
            "2\n",
            "3\n",
            "4\n",
            "5\n",
            "6\n"
          ]
        }
      ]
    },
    {
      "cell_type": "markdown",
      "source": [
        "Because the lowest number of the first element is always 1 after inserting p, we must include this in the ranges of the powers. That is, if the order is 7, normally, the set would contain {0,1,2,3,4,5,6}, however, the provided set always starts at 1."
      ],
      "metadata": {
        "id": "vjT5J_WjnbUk"
      }
    },
    {
      "cell_type": "code",
      "source": [
        "(0**6)%7"
      ],
      "metadata": {
        "id": "NcvcLjILomjr",
        "colab": {
          "base_uri": "https://localhost:8080/"
        },
        "outputId": "f096d622-66bf-40bc-82d1-297851f68c55"
      },
      "execution_count": 36,
      "outputs": [
        {
          "output_type": "execute_result",
          "data": {
            "text/plain": [
              "0"
            ]
          },
          "metadata": {},
          "execution_count": 36
        }
      ]
    },
    {
      "cell_type": "code",
      "execution_count": 37,
      "metadata": {
        "id": "3uY8qYP2mnY8",
        "colab": {
          "base_uri": "https://localhost:8080/"
        },
        "outputId": "45a305e3-2d8b-4bd3-ed65-5bfc496710f5"
      },
      "outputs": [
        {
          "output_type": "stream",
          "name": "stdout",
          "text": [
            "p = 7: 1 1 1 1 1 1\n",
            "p = 11: 1 1 1 1 1 1 1 1 1 1\n",
            "p = 17: 1 1 1 1 1 1 1 1 1 1 1 1 1 1 1 1\n",
            "p = 31: 1 1 1 1 1 1 1 1 1 1 1 1 1 1 1 1 1 1 1 1 1 1 1 1 1 1 1 1 1 1\n"
          ]
        }
      ],
      "source": [
        "# Exercise 7\n",
        "\n",
        "primes = [7, 11, 17, 31]\n",
        "\n",
        "\n",
        "results = {}  # Initialize an empty dictionary\n",
        "\n",
        "for p in primes:\n",
        "  results[p] = [(num)**(p-1) % p for num in range(1, p)]\n",
        "\n",
        "# Print results vertically with horizontal elements for each k\n",
        "for p in results:\n",
        "    print(f\"p = {p}:\", ' '.join(map(str, results[p])))"
      ]
    },
    {
      "cell_type": "markdown",
      "source": [
        "answer: using the `pow()` method. This method is separate to the 'dunder' method in the `ecc.py` file. `pow()` is a built-in python function. `__pow()__` is a user defined function called a 'dunder method' The dunder method is customising how the expoentiation (**) works."
      ],
      "metadata": {
        "id": "IVlmJc_sAnVQ"
      }
    },
    {
      "cell_type": "code",
      "source": [
        "for prime in (7, 11, 17, 31):\n",
        "  print([pow(i, prime-1, prime) for i in range(1, prime)])"
      ],
      "metadata": {
        "colab": {
          "base_uri": "https://localhost:8080/"
        },
        "id": "lBM6nma4_6I1",
        "outputId": "9d49548d-c5ff-469b-92ed-cd9b79c7c873"
      },
      "execution_count": 38,
      "outputs": [
        {
          "output_type": "stream",
          "name": "stdout",
          "text": [
            "[1, 1, 1, 1, 1, 1]\n",
            "[1, 1, 1, 1, 1, 1, 1, 1, 1, 1]\n",
            "[1, 1, 1, 1, 1, 1, 1, 1, 1, 1, 1, 1, 1, 1, 1, 1]\n",
            "[1, 1, 1, 1, 1, 1, 1, 1, 1, 1, 1, 1, 1, 1, 1, 1, 1, 1, 1, 1, 1, 1, 1, 1, 1, 1, 1, 1, 1, 1]\n"
          ]
        }
      ]
    },
    {
      "cell_type": "markdown",
      "source": [
        "Note, all of the exponents are prime numbers and all the bases are greater than zero. This showcases Fermat's Little Theorem"
      ],
      "metadata": {
        "id": "GGyj3r-W4tlg"
      }
    },
    {
      "cell_type": "markdown",
      "metadata": {
        "id": "2qSKoWkEmnY8"
      },
      "source": [
        "### Exercise 8"
      ]
    },
    {
      "cell_type": "markdown",
      "source": [
        "From Fermat's Little Theorem, we know\n",
        "\n",
        "$n^{(p-1)} \\mathbin{\\%} p = 1$\n",
        "\n",
        "where $n$ > 0 and $p$ is a prime number.\n",
        "\n",
        "If we have\n",
        "\n",
        "$ n^{-1} ≡  n^{-1} ⋅_{f}1 ≡ n^{-1} ⋅_{f}n^{(p-1)} $\n",
        "\n",
        "so\n",
        "\n",
        "$ n^{-1} ≡ n^{p-2} $\n",
        "\n",
        "In order to use Fermat's Little theorem, we simply must be able to identify when the modulo equation can be manipulated to have the form $n^{-1} $"
      ],
      "metadata": {
        "id": "toolIe06EBhr"
      }
    },
    {
      "cell_type": "markdown",
      "source": [
        "Solve the following equations in \\\\(F_{31}\\\\):\n",
        "\n",
        "* 3 / 24\n",
        "\n",
        "$ 3 \\cdot_{f} 24^{-1} ≡ 3 \\cdot_{f} 24^{p-2} = 3 \\cdot_{f} 24^{31-2} $\n",
        "* \\\\(17^{-3}\\\\)\n",
        "\n",
        "$ 17^{-1} \\cdot_{f}17^{3} \\equiv 17^{(31-2)\\cdot 3} \\mathbin{\\%} 31$\n",
        "\n",
        "* \\\\(4^{-4}\\\\)⋅11\n",
        "\n",
        "$  (4^{-1})^{4} \\cdot_{f} 11 \\equiv 4^{(31-2)\\cdot 4}\\cdot _{f}11$\n",
        "\n",
        "**N.B.** Exponential rules: $4^{-4} ≡ (4^{-1})^4 = 4^{-1 \\times 4} $"
      ],
      "metadata": {
        "id": "L8QH2fU_c7f7"
      }
    },
    {
      "cell_type": "code",
      "execution_count": 39,
      "metadata": {
        "id": "3V3OkKi6mnY8",
        "colab": {
          "base_uri": "https://localhost:8080/"
        },
        "outputId": "a0f8d62b-6cbe-412c-c36d-590dc0f21e9e"
      },
      "outputs": [
        {
          "output_type": "stream",
          "name": "stdout",
          "text": [
            "4\n",
            "29\n",
            "13\n"
          ]
        }
      ],
      "source": [
        "# Exercise 8\n",
        "\n",
        "# 3/24\n",
        "print((3*24**(31-2)) % 31)\n",
        "# 17**-3\n",
        "print((17**(29*3)) % 31 )\n",
        "# 4**-4*11\n",
        "print((11 * (4**(29*4))) % 31)"
      ]
    },
    {
      "cell_type": "markdown",
      "source": [
        "Using the `pow()` method.\n",
        "\n",
        "`pow(num, exponent, p)`\n",
        "\n",
        "Where `n` is the base number of the exponent."
      ],
      "metadata": {
        "id": "LyQ4jcXxD99K"
      }
    },
    {
      "cell_type": "code",
      "source": [
        "p = 31\n",
        "\n",
        "print(3 * pow(24, p-2 , p ) % p)\n",
        "print(pow(17, (p-2)*3,p) % p)\n",
        "print(11*pow(4, (p-2)*4, p) % p)"
      ],
      "metadata": {
        "colab": {
          "base_uri": "https://localhost:8080/"
        },
        "id": "Ghra-LA2HezZ",
        "outputId": "daed936a-347d-4fa3-9007-ae86c51eaf7d"
      },
      "execution_count": 40,
      "outputs": [
        {
          "output_type": "stream",
          "name": "stdout",
          "text": [
            "4\n",
            "29\n",
            "13\n"
          ]
        }
      ]
    },
    {
      "cell_type": "markdown",
      "source": [
        "We can see a modulo done after a modulo in the last equation. `pow()` computes a modulo, however we still have the 11 to multiply and include in the modulo. In other words, modular multiplication is associative.\n",
        "\n",
        "Associative: $((a \\times b) \\times c) \\mathbin{\\%} n = (a \\times (b \\times c)) \\mathbin{\\%} n $."
      ],
      "metadata": {
        "id": "eZIZ-KJmAl8g"
      }
    },
    {
      "cell_type": "markdown",
      "metadata": {
        "id": "cmkvNEbtmnY8"
      },
      "source": [
        "### Exercise 9"
      ]
    },
    {
      "cell_type": "markdown",
      "source": [
        "Write the corresponding `__truediv__` method which defines the division of two field elements.\n",
        "\n",
        "Note that in Python3, division is separated into `__truediv__` and `__floordiv__`. The first does normal division, the second does integer division.\n",
        "\n",
        "Make [this test](/edit/code-ch01/ecc.py) pass: `ecc.py:FieldElementTest:test_div`"
      ],
      "metadata": {
        "id": "ga6Y1_4Dc914"
      }
    },
    {
      "cell_type": "code",
      "source": [
        "(3/24)%31"
      ],
      "metadata": {
        "colab": {
          "base_uri": "https://localhost:8080/"
        },
        "id": "sgqj4HnF7EOL",
        "outputId": "562c552c-6d7c-4929-f304-1632f92fa4e5"
      },
      "execution_count": 41,
      "outputs": [
        {
          "output_type": "execute_result",
          "data": {
            "text/plain": [
              "0.125"
            ]
          },
          "metadata": {},
          "execution_count": 41
        }
      ]
    },
    {
      "cell_type": "code",
      "source": [
        "4%31"
      ],
      "metadata": {
        "colab": {
          "base_uri": "https://localhost:8080/"
        },
        "id": "u5A9yFoU7bXr",
        "outputId": "000614ca-23a7-4eef-d90d-79c8db04ba19"
      },
      "execution_count": 42,
      "outputs": [
        {
          "output_type": "execute_result",
          "data": {
            "text/plain": [
              "4"
            ]
          },
          "metadata": {},
          "execution_count": 42
        }
      ]
    },
    {
      "cell_type": "markdown",
      "source": [
        "$ 17^{-3} = 17^{-1 \\times 3} ≡ 17^{(31-2) \\times 3}$"
      ],
      "metadata": {
        "id": "DAjm68hq-s-B"
      }
    },
    {
      "cell_type": "code",
      "source": [
        "(17**((31-2) * 3))%31"
      ],
      "metadata": {
        "colab": {
          "base_uri": "https://localhost:8080/"
        },
        "id": "7e0a4V8o7Han",
        "outputId": "9e2340ea-2876-4af6-9bae-8428a217f210"
      },
      "execution_count": 43,
      "outputs": [
        {
          "output_type": "execute_result",
          "data": {
            "text/plain": [
              "29"
            ]
          },
          "metadata": {},
          "execution_count": 43
        }
      ]
    },
    {
      "cell_type": "code",
      "source": [
        "29%31"
      ],
      "metadata": {
        "colab": {
          "base_uri": "https://localhost:8080/"
        },
        "id": "7AgU27D77cb4",
        "outputId": "944b03cd-f38a-4a48-db4b-b52bfddd7c84"
      },
      "execution_count": 44,
      "outputs": [
        {
          "output_type": "execute_result",
          "data": {
            "text/plain": [
              "29"
            ]
          },
          "metadata": {},
          "execution_count": 44
        }
      ]
    },
    {
      "cell_type": "markdown",
      "source": [
        "Modular associative multiplication:"
      ],
      "metadata": {
        "id": "Rjs87L-HCyR1"
      }
    },
    {
      "cell_type": "code",
      "source": [
        "(((4**((31-2)*4)) % 31) * 11) % 31 == (4**((31-2)*4) * 11) % 31"
      ],
      "metadata": {
        "colab": {
          "base_uri": "https://localhost:8080/"
        },
        "id": "cJ_aXcAE_LcZ",
        "outputId": "acfedc16-fd35-4b78-df5c-f315aff4d1b9"
      },
      "execution_count": 45,
      "outputs": [
        {
          "output_type": "execute_result",
          "data": {
            "text/plain": [
              "True"
            ]
          },
          "metadata": {},
          "execution_count": 45
        }
      ]
    },
    {
      "cell_type": "code",
      "source": [
        "prime = 31\n",
        "n = 4\n",
        "exponent = 4"
      ],
      "metadata": {
        "id": "Yk4pOWik_trp"
      },
      "execution_count": 46,
      "outputs": []
    },
    {
      "cell_type": "code",
      "source": [
        "(pow(n, (prime - 2)*4, prime)* 11) % prime"
      ],
      "metadata": {
        "colab": {
          "base_uri": "https://localhost:8080/"
        },
        "id": "yuwQ_L9x_yg4",
        "outputId": "15f1912d-6ab4-4451-e4a8-432d8176b338"
      },
      "execution_count": 47,
      "outputs": [
        {
          "output_type": "execute_result",
          "data": {
            "text/plain": [
              "13"
            ]
          },
          "metadata": {},
          "execution_count": 47
        }
      ]
    },
    {
      "cell_type": "code",
      "source": [
        "# Exercise 9\n",
        "\n",
        "reload(ecc)\n",
        "run(ecc.FieldElementTest(\"test_div\"))"
      ],
      "metadata": {
        "colab": {
          "base_uri": "https://localhost:8080/"
        },
        "id": "NAepYor9CWHq",
        "outputId": "ae10138e-2741-4ae1-c845-21247a31e97c"
      },
      "execution_count": 48,
      "outputs": [
        {
          "output_type": "stream",
          "name": "stderr",
          "text": [
            "E\n",
            "======================================================================\n",
            "ERROR: test_div (ecc.FieldElementTest.test_div)\n",
            "----------------------------------------------------------------------\n",
            "Traceback (most recent call last):\n",
            "  File \"/content/programmingbitcoin/code-ch01/ecc.py\", line 118, in test_div\n",
            "    self.assertEqual(a / b, FieldElement(4, 31))\n",
            "                     ~~^~~\n",
            "  File \"/content/programmingbitcoin/code-ch01/ecc.py\", line 74, in __truediv__\n",
            "    return self.__class__(num. self.prime)\n",
            "                          ^^^^^^^^^\n",
            "AttributeError: 'int' object has no attribute 'self'\n",
            "\n",
            "----------------------------------------------------------------------\n",
            "Ran 1 test in 0.002s\n",
            "\n",
            "FAILED (errors=1)\n"
          ]
        }
      ]
    },
    {
      "cell_type": "code",
      "source": [
        "from ecc import FieldElement\n",
        "a = FieldElement(7, 13)\n",
        "b = FieldElement(8, 13)\n",
        "print(a**-3==b)"
      ],
      "metadata": {
        "colab": {
          "base_uri": "https://localhost:8080/"
        },
        "id": "gvVpzTMcCVy3",
        "outputId": "4414dbea-5c8a-44fd-c787-3aabad8b0210"
      },
      "execution_count": 49,
      "outputs": [
        {
          "output_type": "stream",
          "name": "stdout",
          "text": [
            "True\n"
          ]
        }
      ]
    },
    {
      "cell_type": "markdown",
      "source": [
        "Demonstrating long form for the `__Truedive__` method:\n"
      ],
      "metadata": {
        "id": "rEh7hKjkE214"
      }
    },
    {
      "cell_type": "code",
      "source": [
        "a = FieldElement(3, 31)\n",
        "b = FieldElement(24, 31)\n",
        "a / b == FieldElement(4, 31)"
      ],
      "metadata": {
        "colab": {
          "base_uri": "https://localhost:8080/",
          "height": 297
        },
        "id": "aFOpErQyGAJY",
        "outputId": "2ebe28a8-bd80-43cc-b2d2-0d7e34eccd9a"
      },
      "execution_count": 50,
      "outputs": [
        {
          "output_type": "error",
          "ename": "AttributeError",
          "evalue": "'int' object has no attribute 'self'",
          "traceback": [
            "\u001b[0;31m---------------------------------------------------------------------------\u001b[0m",
            "\u001b[0;31mAttributeError\u001b[0m                            Traceback (most recent call last)",
            "\u001b[0;32m<ipython-input-50-2930ecbefa4b>\u001b[0m in \u001b[0;36m<cell line: 0>\u001b[0;34m()\u001b[0m\n\u001b[1;32m      1\u001b[0m \u001b[0ma\u001b[0m \u001b[0;34m=\u001b[0m \u001b[0mFieldElement\u001b[0m\u001b[0;34m(\u001b[0m\u001b[0;36m3\u001b[0m\u001b[0;34m,\u001b[0m \u001b[0;36m31\u001b[0m\u001b[0;34m)\u001b[0m\u001b[0;34m\u001b[0m\u001b[0;34m\u001b[0m\u001b[0m\n\u001b[1;32m      2\u001b[0m \u001b[0mb\u001b[0m \u001b[0;34m=\u001b[0m \u001b[0mFieldElement\u001b[0m\u001b[0;34m(\u001b[0m\u001b[0;36m24\u001b[0m\u001b[0;34m,\u001b[0m \u001b[0;36m31\u001b[0m\u001b[0;34m)\u001b[0m\u001b[0;34m\u001b[0m\u001b[0;34m\u001b[0m\u001b[0m\n\u001b[0;32m----> 3\u001b[0;31m \u001b[0ma\u001b[0m \u001b[0;34m/\u001b[0m \u001b[0mb\u001b[0m \u001b[0;34m==\u001b[0m \u001b[0mFieldElement\u001b[0m\u001b[0;34m(\u001b[0m\u001b[0;36m4\u001b[0m\u001b[0;34m,\u001b[0m \u001b[0;36m31\u001b[0m\u001b[0;34m)\u001b[0m\u001b[0;34m\u001b[0m\u001b[0;34m\u001b[0m\u001b[0m\n\u001b[0m",
            "\u001b[0;32m/content/programmingbitcoin/code-ch01/ecc.py\u001b[0m in \u001b[0;36m__truediv__\u001b[0;34m(self, other)\u001b[0m\n\u001b[1;32m     72\u001b[0m         \u001b[0;31m# raise NotImplementedError\u001b[0m\u001b[0;34m\u001b[0m\u001b[0;34m\u001b[0m\u001b[0m\n\u001b[1;32m     73\u001b[0m         \u001b[0mnum\u001b[0m \u001b[0;34m=\u001b[0m \u001b[0mself\u001b[0m\u001b[0;34m.\u001b[0m\u001b[0mnum\u001b[0m \u001b[0;34m*\u001b[0m \u001b[0mpow\u001b[0m\u001b[0;34m(\u001b[0m\u001b[0mother\u001b[0m\u001b[0;34m.\u001b[0m\u001b[0mnum\u001b[0m\u001b[0;34m,\u001b[0m \u001b[0;34m(\u001b[0m\u001b[0mself\u001b[0m\u001b[0;34m.\u001b[0m\u001b[0mprime\u001b[0m \u001b[0;34m-\u001b[0m \u001b[0;36m2\u001b[0m\u001b[0;34m)\u001b[0m\u001b[0;34m,\u001b[0m \u001b[0mself\u001b[0m\u001b[0;34m.\u001b[0m\u001b[0mprime\u001b[0m\u001b[0;34m)\u001b[0m\u001b[0;34m\u001b[0m\u001b[0;34m\u001b[0m\u001b[0m\n\u001b[0;32m---> 74\u001b[0;31m         \u001b[0;32mreturn\u001b[0m \u001b[0mself\u001b[0m\u001b[0;34m.\u001b[0m\u001b[0m__class__\u001b[0m\u001b[0;34m(\u001b[0m\u001b[0mnum\u001b[0m\u001b[0;34m.\u001b[0m \u001b[0mself\u001b[0m\u001b[0;34m.\u001b[0m\u001b[0mprime\u001b[0m\u001b[0;34m)\u001b[0m\u001b[0;34m\u001b[0m\u001b[0;34m\u001b[0m\u001b[0m\n\u001b[0m\u001b[1;32m     75\u001b[0m \u001b[0;34m\u001b[0m\u001b[0m\n\u001b[1;32m     76\u001b[0m \u001b[0;34m\u001b[0m\u001b[0m\n",
            "\u001b[0;31mAttributeError\u001b[0m: 'int' object has no attribute 'self'"
          ]
        }
      ]
    },
    {
      "cell_type": "code",
      "source": [
        "(3*(24**(31-2)))%31"
      ],
      "metadata": {
        "id": "JTF2DhJuGWbv"
      },
      "execution_count": null,
      "outputs": []
    },
    {
      "cell_type": "markdown",
      "source": [
        "$ 3 / _{f} 24 \\mathbin{\\%} 31 ≡ 3\\cdot 24^{-1} $\n",
        "\n",
        "From the `ecc.py` file, `self.num = 3, other.num = b`.\n",
        "\n",
        "What happens when the exponent of `b` is not 1?\n",
        "\n",
        "Using the dunder method for writing the equation:"
      ],
      "metadata": {
        "id": "oP9-xmOsILpi"
      }
    },
    {
      "cell_type": "code",
      "source": [
        "3 * pow(24, 31 - 2 , 31) % 31"
      ],
      "metadata": {
        "id": "W4MOVYtDHl8I"
      },
      "execution_count": null,
      "outputs": []
    },
    {
      "cell_type": "markdown",
      "source": [
        "Accounting for higher order negative exponentials, the following methods are equivalent:\n",
        "\n",
        "$ a ^{-3} ≡ a^{-3} \\cdot a^{p-1} = a^{p-4}$\n",
        "\n",
        "$ a^{-3} = (a^{-1})^{3} ≡ a^{(p-2)3}$\n",
        "\n",
        "And so,"
      ],
      "metadata": {
        "id": "WsR7HIoAJyOm"
      }
    },
    {
      "cell_type": "code",
      "source": [
        "pow(7, (13-4), 13) == pow(7,(13-2)* 3, 13)"
      ],
      "metadata": {
        "id": "jBJ2lUKMMWd_"
      },
      "execution_count": null,
      "outputs": []
    },
    {
      "cell_type": "markdown",
      "source": [
        "In general terms, If $n<0$,\n",
        "\n",
        "$ a^{n} = a^{n} \\cdot a^{p-1} = a^{p-1 +n}$"
      ],
      "metadata": {
        "id": "JjYw4MAhPEYU"
      }
    },
    {
      "cell_type": "code",
      "source": [
        "a = 7\n",
        "n = -3\n",
        "prime = 13"
      ],
      "metadata": {
        "id": "dxExgRrNRNLn"
      },
      "execution_count": null,
      "outputs": []
    },
    {
      "cell_type": "code",
      "source": [
        "pow(7, -3, 13)"
      ],
      "metadata": {
        "id": "SkC9GdG9RRpd"
      },
      "execution_count": null,
      "outputs": []
    },
    {
      "cell_type": "code",
      "source": [
        "pow(7, (13-4), 13)"
      ],
      "metadata": {
        "id": "Mgp34WG6RdHa"
      },
      "execution_count": null,
      "outputs": []
    },
    {
      "cell_type": "code",
      "source": [
        "pow(7,(13-2)* 3, 13)"
      ],
      "metadata": {
        "id": "_noX4JwpRfBM"
      },
      "execution_count": null,
      "outputs": []
    },
    {
      "cell_type": "markdown",
      "source": [
        "If we have any exponent `n` and we add or subtract multiples of (p-1) from it, the result modulo `p` won't change."
      ],
      "metadata": {
        "id": "Qmeo2qRVSoeJ"
      }
    },
    {
      "cell_type": "code",
      "source": [
        "pow(7, n % (prime - 1), prime)"
      ],
      "metadata": {
        "id": "dvYQF-53Ru-V"
      },
      "execution_count": null,
      "outputs": []
    }
  ],
  "metadata": {
    "colab": {
      "provenance": [],
      "include_colab_link": true
    },
    "language_info": {
      "name": "python"
    },
    "kernelspec": {
      "name": "python3",
      "display_name": "Python 3"
    }
  },
  "nbformat": 4,
  "nbformat_minor": 0
}